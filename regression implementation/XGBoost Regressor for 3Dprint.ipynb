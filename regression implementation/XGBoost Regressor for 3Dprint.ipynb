{
 "cells": [
  {
   "cell_type": "markdown",
   "metadata": {
    "colab_type": "text",
    "id": "OiL2s7Cg2fm6"
   },
   "source": [
    "\n",
    "Title: XGBoost Regressor for Property Prediction\n",
    "=======\n",
    "- Created: 2019.11.06\n",
    "- Updated: 2019.11.22\n",
    "- Author: Kyung Min, Lee\n",
    "\n",
    "Learned from \n",
    "- \"Chapter 2 of Hands-on Machine Learning Book\"\n",
    "- xgboost documentation: https://xgboost.readthedocs.io/en/latest/index.html\n",
    "- https://zzsza.github.io/data/2018/07/03/xgboost/\n",
    "- paper: \"XGBoost: A Scalable Tree Boosting System\", - Tianqi Chen(University of Washington\n",
    "- https://brunch.co.kr/@snobberys/137\n",
    "- https://bcho.tistory.com/1354\n"
   ]
  },
  {
   "cell_type": "markdown",
   "metadata": {
    "colab_type": "text",
    "id": "IYPwYFXs2fm7"
   },
   "source": []
  },
  {
   "cell_type": "markdown",
   "metadata": {
    "colab_type": "text",
    "id": "1l9UyA182fm8"
   },
   "source": [
    "## XGBoost is an optimized distributed gradient boosting library designed to be highly efficient, flexible and portable. It implements machine learning algorithms under the Gradient Boosting framework. XGBoost provides a parallel tree boosting (also known as GBDT, GBM) that solve many data science problems in a fast and accurate way. The same code runs on major distributed environment (Hadoop, SGE, MPI) and can solve problems beyond billions of examples.\n",
    "\n",
    "> class xgboost.XGBRegressor(max_depth=3, learning_rate=0.1, n_estimators=100,\n",
    "                     silent=True, objective='reg:linear', booster='gbtree',\n",
    "                     n_jobs=1, nthread=None, gamma=0, min_child_weight=1,\n",
    "                     max_delta_step=0, subsample=1, colsample_bytree=1,\n",
    "                     colsample_bylevel=1, reg_alpha=0, reg_lambda=1,\n",
    "                     scale_pos_weight=1, base_score=0.5, random_state=0,\n",
    "                     seed=None, missing=None, **kwargs)\n",
    "\n",
    "- \n"
   ]
  },
  {
   "cell_type": "markdown",
   "metadata": {
    "colab_type": "text",
    "id": "p5Wxx9hQBctm"
   },
   "source": [
    "### Extreme Gradient Boost\n",
    "- - -\n",
    "- Boosting 알고리즘 사용: greedy algorithm을 사용하여 분류기를 발견하고, 분산처리를 사용하여 빠른(Extreme) 속도로 적합한 비중 파라메터를 찾는 알고리즘이다. 분류기는 Regression Score를 사용하여 정확도를 측정하고, 각 순서에 따라 강한 분류기부터 약한 분류기까지 랜덤하게 생성된다. 이렇게 만들어진 분류기를 tree라고 하며, 분류기를 조합한 최종 알고리즘을 forest라고 한다.\n",
    "\n",
    "- xgboost는 트리를 만들때 CART(Classification And Regression Trees)라는 앙상블 모델을 사용한다. 이후 트리 부스팅을 사용하여, 각 분류기간 weight를 최적화한다. \n",
    "\n",
    "- CART 모델은 일반적인 Decision Tree(leaf node 하나에 대해서만 decision value를 가짐)와는 달리 모든 leaf들이 모델의 최종 스코어에 연관되어 있다. 따라서 Decision tree가 분류를 제대로 했는지에 대해서만 초점을 맞추는 반면, CART는 같은 분류를 갖는 모델끼리도 모델의 우위를 비교할 수 있다(스코어 비교). 모든 trainig data를 forest에 넣고 결과값으로 나오는 점수의 절데값을 더한다.\n",
    "\n",
    "  \n"
   ]
  },
  {
   "cell_type": "markdown",
   "metadata": {
    "colab_type": "text",
    "id": "OFQby6zIBctn"
   },
   "source": [
    "# Algorithm"
   ]
  },
  {
   "cell_type": "markdown",
   "metadata": {
    "colab_type": "text",
    "id": "43z2euxqBcto"
   },
   "source": [
    "- Model: assuming we have K tres\n",
    "$$ \\widehat y_i  = \\sum^K_{k=1} f_k(x_i), \\qquad f_k \\in F$$\n",
    "- Objective = Training loss + Complexity of the Trees(모델의 복잡도, Bias-variance tradeoff 맞춰\n",
    "$$ Obj = \\sum^n_{i=1} l(y_i, \\widehat y_i) + \\sum^K_{k=1} \\Omega(f_k) $$\n",
    "\n",
    "  - Complexity of the Trees: 모델의 복잡도, Bias-variance tradeoff 맞춰주는 함수. CART와 분산처리로 수 없이 많은 트리가 만들어 질텐데, 그 중에서 엑기스만 뽑아 숲을 만든다\n",
    "  \n",
    "- The prediction at rount t is $ \\widehat y^{(t)}_i = \\widehat y^{(t-1)}_i + f_t(x_i) $. $f_t(x_i)$ is what we need to decide in round t.\n",
    "$$ Obj = \\sum^n_{i=1} l(y_i, \\widehat y_i) + \\sum^K_{k=1} \\Omega(f_i) =  \\sum^n_{i=1} l(y_i, \\widehat y_i + f_t(x_i)) + \\sum^K_{k=1} \\Omega(f_t) + constant $$ \n",
    "  - Goal: find $f_t$ to minimize $ \\sum^n_{i=1} l(y_i, \\widehat y_i + f_t(x_i)) + \\sum^K_{k=1} \\Omega(f_t)$\n",
    "  \n",
    "- Consider square loss for smooth understanding\n",
    "$$ Obj^{(t)} = \\sum^n_{i=1} [y_i - (\\widehat y_i^{(t-1)} +f_t(x_i))]^2 + \\Omega (f_t) + const = \\sum^n_{i=1} [2(\\widehat y_i^{(t-1)} - y_i)f_t(x_i) + f_t(x_i)]^2 + \\Omega (f_t) + const $$\n",
    "  - $ 2(\\widehat y_i^{(t-1)} - y_i) $ becomes the loss of round (t-1).\n",
    "  \n",
    "- Turn loss of round (t-1) to Taylor Expansion. Theoretically, it converges without big diffrence from the original function and, engineerically it is well-structured to implement calculation for computer\n",
    "\n",
    "  - Take Taylor expansion of the objective\n",
    "    - Recall $f(x+\\triangle x) \\cong f(x) + f'(x) \\triangle x + \\frac{1}{2} f''(x) \\triangle x^2$\n",
    "    - Define $ g_i = \\partial_{\\widehat y^{(t-1)}} l(y_i, \\widehat y^{(t-1)}), \\quad h_i = \\partial^2_{\\widehat y^{(t-1)}} l(y_i, \\widehat y^{(t-1)})$\n",
    "    $$ Obj^{(t)} \\cong \\sum^n_{i=1}[l(y_i, \\widehat y_i^{(t-1)} + g_i f_t(x_i) + \\frac{1}{2} h_i f_t^2(x_i)] + \\Omega(f_t) + constant$$\n",
    "\n",
    "- Now the probelm is described with g(first-order gradient) and h(second-order gradient). Disregarding the constant form results.\n",
    "$$ \\sum^n_{i=1}[g_i f_t(x_i) + \\frac{1}{2} h_i f^2_t(x_i)] + \\Omega(f_t) $$\n",
    "where  $ g_i = \\partial_{\\widehat y^{(t-1)}} l(y_i, \\widehat y^{(t-1)}), \\quad h_i = \\partial^2_{\\widehat y^{(t-1)}} l(y_i, \\widehat y^{(t-1)})$\n",
    "  - This is the re-definition of loss-function. Since g,h is derivation at (t-1), we can fine convergence form when it is expanded infinitely. *xgboost* lets users define approximation function manually and uses Linear Taylor Expansion equation at default so that divides functions into the form that can be easily executed in parallel processing\n",
    "  \n",
    "- $\\Omega$ is adjusting the weight of tree. Xgboost defines $\\Omega$ as...\n",
    "$$ \\Omega(f_t) = \\gamma T + \\frac{1}{2} \\lambda \\sum^T_{j=1} \\omega^2_j = Number of leaves + L2 norm of leaf scores $$\n",
    "  - Thus, leaf score and number of leaves($\\gamma$) determines model($f_t$)'s complexity\n",
    "  \n",
    "- Applying all ideas into the objective function and sort them with respct to weights\n",
    "  - Define the instance set in leaf j as $I_j = {i|q(x_i) = j}$\n",
    "  - Regroup the objective by each leaf\n",
    "  $$ Obj^{(t)} \\cong \\sum^n_{i=1} [g_i f_t(x_i) + \\frac{1}{2} h_i f^2_t(x_i)] + \\Omega(f_t)  $$\n",
    "   $$= \\sum^n_{i=1} [g_i f_t(x_i) + \\frac{1}{2} h_i f^2_t(x_i)] + \\gamma T + \\lambda 1/2 sum^T_{j=1}\\omega^2+j   $$ $$= \\sum^T_{j=1} [(\\sum_{i\\in I_j}g_i)\\omega_j + \\frac{1}{2}(\\sum_{i\\in I_j}h_i+\\lambda)\\omega^2_j] + \\gamma T$$\n",
    "   - This is sum of T independent quadratic functions\n",
    "   \n",
    " - Objective function can be expanded of T addition of quadratic function of the weight. Solving of x which is the mininum point with respect to g, h and the minimum point are...\n",
    " $$ argmin_x Gx + \\frac{1}{2}Hx^2 = - G/H, \\quad H>0, \\qquad min_x /: G_x + \\frac{1}{2} Hx^2 = -1/2 \\frac{G^2}{H} $$\n",
    " \n",
    "- Concise the function: sum of g as G & sum of h as H. Then the most optimized weight with respect to the objective function $w^*$ and the optimized value are\n",
    " $$ w^*_j = -\\frac{G_j}{H_j + \\lambda} \\qquad Obj = -\\frac{1}{2} \\sum^T_{j=1} \\frac{G^2_j}{H_j + \\lambda} + \\lambda T$$\n",
    "   - We got objective function that has optimized score and weight when given T tree.\n",
    " \n",
    "- We can calculate information gain as we prone the twig with the confidence for the above procedures which expand the objective function easily and get to the optimized convergence. Therefore, we just add the twig of the tree infinitely and greedy: Split Finding. We sequentially divide binary twig and calculate information gain, and prone when the score is negative value.\n",
    "\n",
    "- L: Left side children score & R: Right side children score. Given we prone the twig at specific depth, $$information \\: gain = \\frac{G^2_L}{H_L + \\lambda} + \\frac{G^2_R}{H_R + \\lambda} - \\frac{(G^2_L + G_R)^2}{(H_L + H_R + \\lambda)} - \\gamma$$\n",
    "\n",
    "- Now get the standard randomly, and create the tree which prones the twig until it contains maximum information gain. And iterate the procedures. Finally boosting with the combination of such trees which have high scores(positive real value)\n",
    "\n",
    "- Thus, the result is optimized model which mixes T trees\n"
   ]
  },
  {
   "cell_type": "markdown",
   "metadata": {
    "colab_type": "text",
    "id": "fNSi9g-xS5zU"
   },
   "source": [
    "# General parameters\n",
    "---\n",
    "\n",
    "- relate to which booster we are using to do boosting, commonly tree or linear model"
   ]
  },
  {
   "cell_type": "markdown",
   "metadata": {
    "colab_type": "text",
    "id": "Wll2pusgS5zU"
   },
   "source": [
    "- **booster** [default= gbtree ]Which booster to use.\n",
    "  - Can be gbtree, gblinear or dart; gbtree and dart use tree based models while gblinear uses linear functions.\n",
    "\n",
    "- **nthread**[default to maximum number of threads available if not set]: Number of parallel threads used to run XGBoost\n",
    "\n",
    "- **num_feature**[set automatically by XGBoost, no need to be set by user]: Feature dimension used in boosting, set to maximum dimension of the feature\n",
    "\n",
    "- - -\n",
    "- **disable_default_eval_metric**[default=0]: Flag to disable default metric. Set to >0 to disable.\n",
    "\n",
    "- **num_pbuffer**[set automatically by XGBoost, no need to be set by user]: Size of prediction buffer, normally set to number of training instances. \n",
    "  - The buffers are used to save the prediction results of last boosting step.\n",
    "\n",
    "- **verbosity** [default=1]: Verbosity of printing messages. \n",
    "  - Valid values are 0 (silent), 1 (warning), 2 (info), 3 (debug). Sometimes XGBoost tries to change configurations based on heuristics, which is displayed as warning message. If there’s unexpected behaviour, please try to increase value of verbosity.\n"
   ]
  },
  {
   "cell_type": "markdown",
   "metadata": {
    "colab_type": "text",
    "id": "PLgoa0MGS5zV"
   },
   "source": [
    "Booster parameters \n",
    "---\n",
    "- depend on which booster you have chosen"
   ]
  },
  {
   "cell_type": "markdown",
   "metadata": {
    "colab_type": "text",
    "id": "vqbNheIhS5zV"
   },
   "source": [
    "## Additional parameters for Dart Booster (booster=dart)\n",
    "\n",
    "- If the booster object is DART type, predict() will perform **dropouts**, i.e. only some of the trees will be evaluated. This will produce incorrect results if data is not the training data. To obtain correct results on test sets, set ntree_limit to a nonzero value,"
   ]
  },
  {
   "cell_type": "markdown",
   "metadata": {
    "colab_type": "text",
    "id": "kYjr0raHS5zW"
   },
   "source": [
    "- **sample_type** [default= uniform]: Type of sampling algorithm.\n",
    "  - *uniform*: dropped trees are selected uniformly.\n",
    "  - *weighted*: dropped trees are selected in proportion to weight.\n",
    "\n",
    "- **normalize_type**[default= tree]: Type of normalization algorithm.\n",
    "  - *tree*: new trees have the same weight of each of dropped trees.\n",
    "    - Weight of new trees are 1 / (k + learning_rate).\n",
    "    - Dropped trees are scaled by a factor of k / (k + learning_rate).\n",
    "  - *forest*: new trees have the same weight of sum of dropped trees (forest).\n",
    "    - Weight of new trees are 1 / (1 + learning_rate).\n",
    "    - Dropped trees are scaled by a factor of 1 / (1 + learning_rate).\n",
    "\n",
    "- **rate_drop**[default=0.0]: Dropout rate (a fraction of previous trees to drop during the dropout).\n",
    "  - range: [0.0, 1.0]\n",
    "\n",
    "- **one_drop**[default=0]: When this flag is enabled, at least one tree is always dropped during the dropout (allows Binomial-plus-one or epsilon-dropout from the original DART paper).\n",
    "\n",
    "- **skip_drop** [default=0.0]: Probability of skipping the dropout procedure during a boosting iteration.\n",
    "  - If a dropout is skipped, new trees are added in the same manner as gbtree.\n",
    "  - Note that non-zero skip_drop has higher priority than rate_drop or one_drop.\n",
    "\n",
    "  - range: [0.0, 1.0]"
   ]
  },
  {
   "cell_type": "markdown",
   "metadata": {
    "colab_type": "text",
    "id": "Kcgq8IkMS5zX"
   },
   "source": [
    "## Parameters for Linear Booster (booster=gblinear)"
   ]
  },
  {
   "cell_type": "markdown",
   "metadata": {
    "colab_type": "text",
    "id": "6tKV_Z3bS5zX"
   },
   "source": [
    "- **lambda** [default=0, alias: reg_lambda]: L2 regularization term on weights.\n",
    "  - Increasing this value will make model more conservative. Normalised to number of training examples.\n",
    "\n",
    "- **alpha**[default=0, alias: reg_alpha]: L1 regularization term on weights. \n",
    "  - Increasing this value will make model more conservative. Normalised to number of training examples.\n",
    "  \n",
    "  - - -\n",
    "\n",
    "- **updater** [default= shotgun]: Choice of algorithm to fit linear model\n",
    "  - *shotgun*: Parallel coordinate descent algorithm based on shotgun algorithm. Uses ‘hogwild’ parallelism and therefore produces a nondeterministic solution on each run.\n",
    "  - *coord_descent*: Ordinary coordinate descent algorithm. Also multithreaded but still produces a deterministic solution.\n",
    "\n",
    "- **feature_selector** [default= cyclic] : Feature selection and ordering method\n",
    "  - *cyclic*: Deterministic selection by cycling through features one at a time.\n",
    "  - *shuffle*: Similar to cyclic but with random feature shuffling prior to each update.\n",
    "  - *random*: A random (with replacement) coordinate selector.\n",
    "  - *greedy*: Select coordinate with the greatest gradient magnitude. It has O(num_feature^2) complexity. It is fully deterministic. It allows restricting the selection to top_k features per group with the largest magnitude of univariate weight change, by setting the top_k parameter. Doing so would reduce the complexity to O(num_feature*top_k).\n",
    "  - *thrifty*: Thrifty, approximately-greedy feature selector. Prior to cyclic updates, reorders features in descending magnitude of their univariate weight changes. This operation is multithreaded and is a linear complexity approximation of the quadratic greedy selection. It allows restricting the selection to top_k features per group with the largest magnitude of univariate weight change, by setting the top_k parameter.\n",
    "\n",
    "- **top_k** [default=0]: The number of top features to select in greedy and thrifty feature selector. The value of 0 means using all the features."
   ]
  },
  {
   "cell_type": "markdown",
   "metadata": {
    "colab_type": "text",
    "id": "d8EFroFDS5zY"
   },
   "source": [
    "## Parameters for Tweedie Regression (objective=reg:tweedie)"
   ]
  },
  {
   "cell_type": "markdown",
   "metadata": {
    "colab_type": "text",
    "id": "FvY8oVXBS5zZ"
   },
   "source": [
    "- **tweedie_variance_power**[default=1.5]: \n",
    "  - Parameter that controls the variance of the Tweedie distribution \n",
    "    - var(y) ~ E(y)^tweedie_variance_power\n",
    "  - range: (1,2)\n",
    "  - Set closer to 2 to shift towards a gamma distribution\n",
    "  - Set closer to 1 to shift towards a Poisson distribution."
   ]
  },
  {
   "cell_type": "markdown",
   "metadata": {
    "colab_type": "text",
    "id": "hzwzoeJHS5za"
   },
   "source": [
    "## Parameters for Tree Booster"
   ]
  },
  {
   "cell_type": "markdown",
   "metadata": {
    "colab_type": "text",
    "id": "0vFtmA7yS5za"
   },
   "source": [
    "- **lambda** [default=1, alias: reg_lambda]: L2 regularization term on weights. Increasing this value will make model more conservative.\n",
    "\n",
    "- **alpha** [default=0, alias: reg_alpha]: L1 regularization term on weights. Increasing this value will make model more conservative.\n",
    "\n",
    "- **eta** [default=0.3, alias: learning_rate]: Step size shrinkage used in update to prevents overfitting. After each boosting step, we can directly get the weights of new features, and eta shrinks the feature weights to make the boosting process more conservative.\n",
    "  - range: [0,1]\n",
    "\n",
    "- **gamma** [default=0, alias: min_split_loss]: Minimum loss reduction required to make a further partition on a leaf node of the tree. The larger gamma is, the more conservative the algorithm will be.\n",
    "  - described as -r in the Information Gain\n",
    "  - range: [0,∞]\n",
    "\n",
    "- **max_depth** [default=6]: Maximum depth of a tree. \n",
    "  - Increasing this value will make the model more complex and more likely to overfit. 0 is only accepted in lossguided growing policy when tree_method is set as hist and it indicates no limit on depth. Beware that XGBoost aggressively consumes memory when training a deep tree.\n",
    "\n",
    "  - range: [0,∞] (0 is only accepted in lossguided growing policy when tree_method is set as hist)\n",
    "\n",
    "- **min_child_weight** [default=1]: Minimum sum of instance weight (hessian) needed in a child. \n",
    "  - If the tree partition step results in a leaf node with the sum of instance weight less than min_child_weight, then the building process will give up further partitioning. In linear regression task, this simply corresponds to minimum number of instances needed to be in each node. The larger min_child_weight is, the more conservative the algorithm will be.\n",
    "  - range: [0,∞]\n",
    "\n",
    " - - -\n",
    " \n",
    "- **max_delta_step** [default=0]: Maximum delta step we allow each leaf output to be. \n",
    "  - If the value is set to 0, it means there is no constraint. If it is set to a positive value, it can help making the update step more conservative. Usually this parameter is not needed, but it might help in logistic regression when class is extremely imbalanced. Set it to value of 1-10 might help control the update.\n",
    "  - range: [0,∞]\n",
    "\n",
    "- **subsample** [default=1]: Subsample ratio of the training instances. \n",
    "  - Setting it to 0.5 means that XGBoost would randomly sample half of the training data prior to growing trees. and this will prevent overfitting. Subsampling will occur once in every boosting iteration.\n",
    "  - range: (0,1]\n",
    "\n",
    "- **colsample_bytree**, **colsample_bylevel**, **colsample_bynode** [default=1]\n",
    "  - This is a family of parameters for subsampling of columns.\n",
    "\n",
    "  - All colsample_by* parameters have a range of (0, 1], the default value of 1, and specify the fraction of columns to be subsampled.\n",
    "\n",
    "  - *colsample_bytree* is the subsample ratio of columns when constructing each tree. Subsampling occurs once for every tree constructed.\n",
    "\n",
    "  - *colsample_bylevel* is the subsample ratio of columns for each level. Subsampling occurs once for every new depth level reached in a tree. Columns are subsampled from the set of columns chosen for the current tree.\n",
    "\n",
    "  - *colsample_bynode* is the subsample ratio of columns for each node (split). Subsampling occurs once every time a new split is evaluated. Columns are subsampled from the set of columns chosen for the current level.\n",
    "\n",
    "  - *colsample_by* parameters work cumulatively. For instance, the combination {'colsample_bytree':0.5, 'colsample_bylevel':0.5, 'colsample_bynode':0.5} with 64 features will leave 8 features to choose from at each split.\n",
    "\n",
    "\n",
    "- **tree_method** string [default= auto]: \n",
    "  - The tree construction algorithm used in XGBoost. See description in the reference paper.\n",
    "  - XGBoost supports hist and approx for distributed training and only support approx for external memory version.\n",
    "  - Choices: auto, exact, approx, hist, gpu_hist\n",
    "    - *auto*: Use heuristic to choose the fastest method.\n",
    "      - For small to medium dataset, exact greedy (exact) will be used.\n",
    "      - For very large dataset, approximate algorithm (approx) will be chosen.\n",
    "      - Because old behavior is always use exact greedy in single machine, user will get a message when approximate algorithm is chosen to notify this choice.\n",
    "\n",
    "    - *exact*: Exact greedy algorithm.\n",
    "    - *approx*: Approximate greedy algorithm using quantile sketch and gradient histogram.\n",
    "    - *hist*: Fast histogram optimized approximate greedy algorithm. It uses some performance improvements such as bins caching.\n",
    "    - *gpu_hist*: GPU implementation of hist algorithm.\n",
    "\n",
    "- **sketch_eps** [default=0.03]\n",
    "  - Only used for tree_method=approx.\n",
    "  - This roughly translates into O(1 / sketch_eps) number of bins. Compared to directly select number of bins, this comes with theoretical guarantee with sketch accuracy.\n",
    "  - Usually user does not have to tune this. But consider setting to a lower number for more accurate enumeration of split candidates.\n",
    "  - range: (0, 1)\n",
    "\n",
    "- **scale_pos_weight** [default=1]\n",
    "  - Control the balance of positive and negative weights, useful for unbalanced classes. A typical value to consider: sum(negative instances) / sum(positive instances). See Parameters Tuning for more discussion. Also, see Higgs Kaggle competition demo for examples: R, py1, py2, py3.\n",
    "\n",
    "- **updater** [default= grow_colmaker,prune]\n",
    "  - A comma separated string defining the sequence of tree updaters to run, providing a modular way to construct and to modify the trees. This is an advanced parameter that is usually set automatically, depending on some other parameters. However, it could be also set explicitly by a user. The following updaters exist:\n",
    "    - *grow_colmaker*: non-distributed column-based construction of trees.\n",
    "    - *distcol*: distributed tree construction with column-based data splitting mode.\n",
    "    - *grow_histmaker*: distributed tree construction with row-based data splitting based on global proposal of histogram counting.\n",
    "    - *grow_local_histmaker*: based on local histogram counting.\n",
    "    - *grow_skmaker*: uses the approximate sketching algorithm.\n",
    "    - *sync*: synchronizes trees in all distributed nodes.\n",
    "    - *refresh*: refreshes tree’s statistics and/or leaf values based on the current data. Note that no random subsampling of data rows is performed.\n",
    "    - *prune*: prunes the splits where loss < min_split_loss (or gamma).\n",
    "  - In a distributed setting, the implicit updater sequence value would be adjusted to grow_histmaker,prune by default, and you can set tree_method as hist to use grow_histmaker.\n",
    "\n",
    "- **refresh_leaf** [default=1]: This is a parameter of the refresh updater.\n",
    "  - When this flag is 1, tree leafs as well as tree nodes’ stats are updated. When it is 0, only node stats are updated.\n",
    "\n",
    "- **process_type** [default= default]: A type of boosting process to run.\n",
    "  - Choices: default, update\n",
    "    - *default*: The normal boosting process which creates new trees.\n",
    "    - *update*: Starts from an existing model and only updates its trees. In each boosting iteration, a tree from the initial model is taken, a specified sequence of updaters is run for that tree, and a modified tree is added to the new model. The new model would have either the same or smaller number of trees, depending on the number of boosting iteratons performed. Currently, the following built-in updaters could be meaningfully used with this process type: refresh, prune. With process_type=update, one cannot use updaters that create new trees.\n",
    "\n",
    "- **grow_policy** [default= depthwise]: Controls a way new nodes are added to the tree.\n",
    "  - Currently supported only if tree_method is set to hist.\n",
    "  - Choices: depthwise, lossguide\n",
    "    - *depthwise*: split at nodes closest to the root.\n",
    "    - *lossguide*: split at nodes with highest loss change.\n",
    "\n",
    "- **max_leaves** [default=0]: Maximum number of nodes to be added. Only relevant when grow_policy=lossguide is set.\n",
    "\n",
    "- **max_bin** [default=256]: Only used if tree_method is set to hist.\n",
    "  - Maximum number of discrete bins to bucket continuous features.\n",
    "  - Increasing this number improves the optimality of splits at the cost of higher computation time.\n",
    "\n",
    "- **predictor** [default=``cpu_predictor``]The type of predictor algorithm to use. \n",
    "  - Provides the same results but allows the use of GPU or CPU.\n",
    "    - *cpu_predictor*: Multicore CPU prediction algorithm.\n",
    "    - *gpu_predictor*: Prediction using GPU. Default when tree_method is gpu_hist.\n",
    "\n",
    "- **num_parallel_tree** [default=1] - Number of parallel trees constructed during each iteration. \n",
    "  - This option is used to support boosted random forest."
   ]
  },
  {
   "cell_type": "markdown",
   "metadata": {
    "colab_type": "text",
    "id": "01au-B2oS5zb"
   },
   "source": [
    "Learning task parameters\n",
    "---\n",
    "- decide on the learning scenario. For example, regression tasks may use different parameters with ranking tasks."
   ]
  },
  {
   "cell_type": "markdown",
   "metadata": {
    "colab_type": "text",
    "id": "Y7FELR57S5zb"
   },
   "source": [
    "- **objective** [default=reg:squarederror]: 목적함수\n",
    "  - *reg:squarederror*: regression with squared loss.\n",
    "  - *reg:squaredlogerror*: regression with squared log loss $\\frac{1}{2}[log(pred+1)−log(label+1)]^2$. All input labels are required to be greater than -1. Also, see metric rmsle for possible issue with this objective.\n",
    "  - *reg:logistic*: logistic regression\n",
    "  - *binary:logistic*: logistic regression for binary classification, output probability\n",
    "  - *binary:logitraw*: logistic regression for binary classification, output score before logistic transformation\n",
    "  - *binary:hinge*: hinge loss for binary classification. This makes predictions of 0 or 1, rather than producing probabilities.\n",
    "  - *count:poisson* –poisson regression for count data, output mean of poisson distribution\n",
    "    - *max_delta_step* is set to 0.7 by default in poisson regression (used to safeguard optimization)\n",
    "  - *survival:cox*: Cox regression for right censored survival time data (negative values are considered right censored). Note that predictions are returned on the hazard ratio scale (i.e., as HR = exp(marginal_prediction) in the proportional hazard function h(t) = h0(t) * HR).\n",
    "  - *multi:softmax*: set XGBoost to do multiclass classification using the softmax objective, you also need to set num_class(number of classes)\n",
    "  - *multi:softprob*: same as softmax, but output a vector of ndata * nclass, which can be further reshaped to ndata * nclass matrix. The result contains predicted probability of each data point belonging to each class.\n",
    "  - *rank:pairwise*: Use LambdaMART to perform pairwise ranking where the pairwise loss is minimized\n",
    "  - *rank:ndcg*: Use LambdaMART to perform list-wise ranking where Normalized Discounted Cumulative Gain (NDCG) is maximized\n",
    "  - *rank:map*: Use LambdaMART to perform list-wise ranking where Mean Average Precision (MAP) is maximized\n",
    "  - *reg:gamma*: gamma regression with log-link. Output is a mean of gamma distribution. It might be useful, e.g., for modeling insurance claims severity, or for any outcome that might be gamma-distributed.\n",
    "  - *reg:tweedie*: Tweedie regression with log-link. It might be useful, e.g., for modeling total loss in insurance, or for any outcome that might be Tweedie-distributed.\n",
    "  \n",
    "- **eval_metric** [default according to objective]: 데이터의 특성에 맞게 평가함수 조정\n",
    "  - Evaluation metrics for validation data, a default metric will be assigned according to objective (rmse for regression, and error for classification, mean average precision for ranking)\n",
    "  - User can add multiple evaluation metrics. Python users: remember to pass the metrics in as list of parameters pairs instead of map, so that latter eval_metric won’t override previous one\n",
    "  - The choices are listed below:\n",
    "    - *rmse*: root mean square error\n",
    "    - *rmsle*: root mean square log error: $\\sqrt \\frac{1}{N}[log(pred+1)−log(label+1)]^2$. Default metric of *reg:squaredlogerror* objective. This metric reduces errors generated by outliers in dataset. But because log function is employed, *rmsle* might output nan when prediction value is less than -1. See *reg:squaredlogerror* for other requirements.\n",
    "    - *mae*: mean absolute error\n",
    "    - *logloss*: negative log-likelihood\n",
    "    - *error*: Binary classification error rate. It is calculated as $\\frac{\\#(wrong cases)}{\\#(all cases)}$. For the predictions, the evaluation will regard the instances with prediction value larger than 0.5 as positive instances, and the others as negative instances.\n",
    "    - *error@t*: a different than 0.5 binary classification threshold value could be specified by providing a numerical value through ‘t’.\n",
    "    - *merror*: Multiclass classification error rate. It is calculated as #(wrong cases)/#(all cases).\n",
    "    - *mlogloss*: Multiclass logloss.\n",
    "    - *auc*: Area under the curve\n",
    "    - *aucpr*: Area under the PR curve\n",
    "    - *ndcg*: Normalized Discounted Cumulative Gain\n",
    "    - *map*: Mean Average Precision\n",
    "    - *ndcg@n*, *map@n*: ‘n’ can be assigned as an integer to cut off the top positions in the lists for evaluation.\n",
    "    - *ndcg-*, *map-*, *ndcg@n-*, *map@n-*: In XGBoost, NDCG and MAP will evaluate the score of a list without any positive samples as 1. By adding “-” in the evaluation metric XGBoost will evaluate these score as 0 to be consistent under some conditions.\n",
    "    - *poisson-nloglik*: negative log-likelihood for Poisson regression\n",
    "    - *gamma-nloglik*: negative log-likelihood for gamma regression\n",
    "    - *cox-nloglik*: negative partial log-likelihood for Cox proportional hazards regression\n",
    "    - *gamma-deviance*: residual deviance for gamma regression\n",
    "    - *tweedie-nloglik*: negative log-likelihood for Tweedie regression (at a specified value of the *tweedie_variance_power* parameter)\n",
    "\n",
    "- **seed** [default=0]: Random number seed.\n",
    " - - - \n",
    "  \n",
    "- **base_score** [default=0.5]\n",
    "  - The initial prediction score of all instances, global bias\n",
    "  - For sufficient number of iterations, changing this value will not have too much effect.\n",
    "\n"
   ]
  },
  {
   "cell_type": "markdown",
   "metadata": {
    "colab_type": "text",
    "id": "nURJnbtYS5zc"
   },
   "source": [
    "Command line parameters \n",
    "---\n",
    "- relate to behavior of CLI version of XGBoost."
   ]
  },
  {
   "cell_type": "markdown",
   "metadata": {
    "colab_type": "text",
    "id": "bW64x4itS5zd"
   },
   "source": [
    "- **num_round**: boosting round 결정, 랜덤하게 생성되는 모델이므로 이 수가 적당히 커야한다. epoch\n",
    "\n",
    "- - -\n",
    "- **data**: The path of training data\n",
    "\n",
    "- **test:data**: The path of test data to do prediction\n",
    "\n",
    "- **save_period** [default=0]The period to save the model. \n",
    "  - Setting save_period=10 means that for every 10 rounds XGBoost will save the model. Setting it to 0 means not saving any model during the training.\n",
    "  \n",
    "- **task** [default= train] options: *train*, *pred*, *eval*, *dump*\n",
    "  - *train*: training using data\n",
    "  - *pred*: making prediction for test:data\n",
    "  - *eval*: for evaluating statistics specified by eval[name]=filename\n",
    "  - *dump*: for dump the learned model into text format\n",
    "\n",
    "- **model_in** [default=NULL]: Path to input model, needed for test, eval, dump tasks. If it is specified in training, XGBoost will continue training from the input model.\n",
    "\n",
    "- **model_out** [default=NULL]: Path to output model after training finishes. \n",
    "  - If not specified, XGBoost will output files with such names as 0003.model where 0003 is number of boosting rounds.\n",
    "\n",
    "- **model_dir** [default= models/]: The output directory of the saved models during training\n",
    "\n",
    "- **fmap**: Feature map, used for dumping model\n",
    "\n",
    "- **dump_format** [default= text] options: *text*, *json*: Format of model dump file\n",
    "\n",
    "- **name_dump** [default= dump.txt]: Name of model dump file\n",
    "\n",
    "- **name_pred** [default= pred.txt]: Name of prediction file, used in pred mode\n",
    "\n",
    "- **pred_margin** [default=0]: Predict margin instead of transformed probability"
   ]
  },
  {
   "cell_type": "markdown",
   "metadata": {
    "colab_type": "text",
    "id": "moLlyRJb2fm8"
   },
   "source": [
    "# Scikit API for XGBRegressor\n",
    "\n",
    "- Bases: xgboost.sklearn.XGBModel, object"
   ]
  },
  {
   "cell_type": "markdown",
   "metadata": {
    "colab_type": "text",
    "id": "86OQ4bP82fm9"
   },
   "source": [
    "## Parameters\n",
    "- **max_depth** (int) – Maximum tree depth for base learners.\n",
    "\n",
    "- **learning_rate** (float) – Boosting learning rate (xgb’s “eta”)\n",
    "\n",
    "- **n_estimators** (int) – Number of trees to fit.\n",
    "\n",
    "- **objective** (string or callable) – Specify the learning task and the corresponding learning objective or a custom objective function to be used (see note below).\n",
    "\n",
    "- **booster** (string) – Specify which booster to use: gbtree, gblinear or dart.\n",
    "\n",
    "- **n_jobs** (int) – Number of parallel threads used to run xgboost.\n",
    "\n",
    "- **gamma** (float) – Minimum loss reduction required to make a further partition on a leaf node of the tree.\n",
    "\n",
    "- **reg_alpha** (float (xgb's alpha)) – L1 regularization term on weights\n",
    "\n",
    "- **reg_lambda** (float (xgb's lambda)) – L2 regularization term on weights\n",
    "\n",
    "- - -\n",
    "- **verbosity** (int) – The degree of verbosity. Valid values are 0 (silent) - 3 (debug).\n",
    "\n",
    "- **tree_method** (string) – Specify which tree method to use. Default to auto. If this parameter is set to default, XGBoost will choose the most conservative option available. It’s recommended to study this option from parameters document.\n",
    "\n",
    "- **min_child_weight** (int) – Minimum sum of instance weight(hessian) needed in a child.\n",
    "\n",
    "- **max_delta_step** (int) – Maximum delta step we allow each tree’s weight estimation to be.\n",
    "\n",
    "- **subsample** (float) – Subsample ratio of the training instance.\n",
    "\n",
    "- **colsample_bytree** (float) – Subsample ratio of columns when constructing each tree.\n",
    "\n",
    "- **colsample_bylevel** (float) – Subsample ratio of columns for each level.\n",
    "\n",
    "- **colsample_bynode** (float) – Subsample ratio of columns for each split.\n",
    "\n",
    "- **scale_pos_weight** (float) – Balancing of positive and negative weights.\n",
    "\n",
    "- **base_score** – The initial prediction score of all instances, global bias.\n",
    "\n",
    "- **random_state** (int) – Random number seed.\n",
    "\n",
    "  - Note: Using gblinear booster with shotgun updater is nondeterministic as it uses Hogwild algorithm.\n",
    "\n",
    "- **missing** (float, optional) – Value in the data which needs to be present as a missing value. If None, defaults to np.nan.\n",
    "\n",
    "- **num_parallel_tree** (int) – Used for boosting random forest.\n",
    "\n",
    "- **importance_type** (string, default \"gain\") – The feature importance type for the feature_importances_ property: either “gain”, “weight”, “cover”, “total_gain” or “total_cover”.\n",
    "\n",
    "- **\\*\\*kwargs** (dict, optional) – unsupported by scikit-learn\n"
   ]
  },
  {
   "cell_type": "markdown",
   "metadata": {
    "colab_type": "text",
    "id": "fhrj2WPkS5zg"
   },
   "source": [
    "# Parameter Tuning\n",
    "- - - \n",
    "## Control Overfitting\n",
    "- There are in general two ways that you can control overfitting in XGBoost:\n",
    "  - The first way is to directly control model complexity.\n",
    "    - This includes max_depth, min_child_weight and gamma.\n",
    "  - The second way is to add randomness to make training robust to noise.\n",
    "    - This includes subsample and colsample_bytree.\n",
    "    - You can also reduce stepsize eta. Remember to increase num_round when you do so.\n",
    "    \n",
    "## Handle Imbalanced Dataset\n",
    "- For common cases such as ads clickthrough log, the dataset is extremely imbalanced. This can affect the training of XGBoost model, and there are two ways to improve it.\n",
    "  - If you care only about the overall performance metric (AUC) of your prediction\n",
    "    - Balance the positive and negative weights via scale_pos_weight\n",
    "    - Use AUC for evaluation\n",
    "  - If you care about predicting the right probability\n",
    "    - In such a case, you cannot re-balance the dataset\n",
    "    - set parameter max_delta_step to a finite number (say 1) to help convergence\n",
    " "
   ]
  },
  {
   "cell_type": "markdown",
   "metadata": {
    "colab_type": "text",
    "id": "cKkTJWOq2fm_"
   },
   "source": [
    "Attributes\n",
    "---"
   ]
  },
  {
   "cell_type": "markdown",
   "metadata": {
    "colab_type": "text",
    "id": "Oo1M_ImV2fm_"
   },
   "source": [
    "- **feature_importances_**[array, shape (n_features,)]: Return the feature importances (the higher, the more important the feature).\n",
    "  - defined only fore tree boosters or decision tree is choosed as base learner\n",
    "\n",
    "- **evals_result()**[dict]: Return the evaluation results.\n",
    "  - If eval_set is passed to the fit function, you can call evals_result() to get evaluation results for all passed eval_sets. When eval_metric is also passed to the fit function, the evals_result will contain the eval_metrics passed to the fit function.\n",
    "\n",
    "- **coef_**[array, shape (n_features) or (n_classes, n_features)]: Coefficients property\n",
    "  - Coefficients are defined only for linear learners. Coefficients are only defined when the linear model is chosen as base learner (booster=gblinear).\n",
    "\n"
   ]
  },
  {
   "cell_type": "markdown",
   "metadata": {
    "colab_type": "text",
    "id": "YkGzIcsd2fnA"
   },
   "source": [
    "Method\n",
    "---\n"
   ]
  },
  {
   "cell_type": "markdown",
   "metadata": {
    "colab_type": "text",
    "id": "K1P1aIzd2fnB"
   },
   "source": [
    "- **apply(X,ntree_limit=0)**[array, shape=[n_samples, n_trees]: Return the predicted leaf every tree for each sample\n",
    "  - Parameters\n",
    "    - X (array_like, shape=[n_samples, n_features]) – Input features matrix.\n",
    "    - ntree_limit (int) – Limit number of trees in the prediction; defaults to 0 (use all trees).\n",
    "  - Returns\n",
    "    - X_leaves – For each datapoint x in X and for each tree, return the index of the leaf x ends up in. Leaves are numbered within [0; 2**(self.max_depth+1)), possibly with gaps in the numbering.\n",
    "\n",
    "- **fit(X, y, sample_weight=None, eval_set=None, eval_metric=None, early_stopping_rounds=None, verbose=True, xgb_model=None, sample_weight_eval_set=None, callbacks=None)**:Fit the gradient boosting model.\n",
    "  - Parameters\n",
    "    - X (array_like) – Feature matrix\n",
    "    - y (array_like) – Labels\n",
    "    - sample_weight (array_like) – instance weights\n",
    "    - eval_set (list, optional) – A list of (X, y) tuple pairs to use as validation sets, for which metrics will be computed. Validation metrics will help us track the performance of the model.\n",
    "    - sample_weight_eval_set (list, optional) – A list of the form [L_1, L_2, …, L_n], where each L_i is a list of instance weights on the i-th validation set.\n",
    "    - eval_metric (str, list of str, or callable, optional) – If a str, should be a built-in evaluation metric to use. See doc/parameter.rst. If a list of str, should be the list of multiple built-in evaluation metrics to use. If callable, a custom evaluation metric. The call signature is func(y_predicted, y_true) where y_true will be a DMatrix object such that you may need to call the get_label method. It must return a str, value pair where the str is a name for the evaluation and value is the value of the evaluation function. The callable custom objective is always minimized.\n",
    "    - early_stopping_rounds (int) – Activates early stopping. Validation metric needs to improve at least once in every early_stopping_rounds round(s) to continue training. Requires at least one item in eval_set. The method returns the model from the last iteration (not the best one). If there’s more than one item in eval_set, the last entry will be used for early stopping. If there’s more than one metric in eval_metric, the last metric will be used for early stopping. If early stopping occurs, the model will have three additional fields: clf.best_score, clf.best_iteration and clf.best_ntree_limit.\n",
    "    - verbose (bool) – If verbose and an evaluation set is used, writes the evaluation metric measured on the validation set to stderr.\n",
    "    - xgb_model (str) – file name of stored XGBoost model or ‘Booster’ instance XGBoost model to be loaded before training (allows training continuation).\n",
    "    - callbacks (list of callback functions) – List of callback functions that are applied at end of each iteration. It is possible to use predefined callbacks by using Callback API. \n",
    "      - Example:[xgb.callback.reset_learning_rate(custom_rates)]\n",
    "      \n",
    "- **get_booster()**: Get the underlying xgboost Booster of this model.This will raise an exception when fit was not called\n",
    "  - Returns: booster(type: a xgboost booster of underlying model)\n",
    "  \n",
    "- **get_num_boosting_rounds()** : Gets the number of xgboost boosting rounds.\n",
    "- **get_params**(deep=False): Get Parameters\n",
    "- **get_xgb_params()**: Get xgboost type parameters.\n",
    "- property **intercept_**: Intercept (bias) property\n",
    "  - Intercept is defined only for linear learners. Intercept (bias) is only defined when the linear model is chosen as base learner (booster=gblinear). It is not defined for other base learner types, such as tree learners (booster=gbtree).\n",
    "  - Returns: intercept_(type: array of shape (1,) or [n_classes])\n",
    "  \n",
    "- **load_model**(filename): Load the model from a file.\n",
    "  - The model is loaded from an XGBoost internal binary format which is universal among the various XGBoost interfaces. Auxiliary attributes of the Python Booster object (such as feature names) will not be loaded. Label encodings (text labels to numeric labels) will be also lost. If you are using only the Python interface, we recommend pickling the model object for best results.\n",
    "  - Parameters: fname (string or a memory buffer) – Input file name or memory buffer(see also save_raw)\n",
    "\n",
    "- **predict**(data, output_margin=False, ntree_limit=None, validate_features=True): Predict with data.\n",
    "  - This function is not thread safe. For each booster object, predict can only be called from one thread. If you want to run prediction using multiple thread, call xgb.copy() to make copies of model object and then call predict().\n",
    "  - Parameters \n",
    "    - data (numpy.array/scipy.sparse) – Data to predict with\n",
    "    - output_margin (bool) – Whether to output the raw untransformed margin value.\n",
    "    - ntree_limit (int) – Limit number of trees in the prediction; defaults to best_ntree_limit if defined (i.e. it has been trained with early stopping), otherwise 0 (use all trees).\n",
    "    - validate_features (bool) – When this is True, validate that the Booster’s and data’s feature_names are identical. Otherwise, it is assumed that the feature_names are the same.\n",
    "  - Returns: prediction(type: np.array)\n",
    "  \n",
    "- **save_model**(fname): Save the model to a file.\n",
    "  - The model is saved in an XGBoost internal binary format which is universal among the various XGBoost interfaces. Auxiliary attributes of the Python Booster object (such as feature names) will not be loaded. Label encodings (text labels to numeric labels) will be also lost. If you are using only the Python interface, we recommend pickling the model object for best results.\n",
    "  - Parameters: fname (string) – Output file name\n",
    "  \n",
    "- **set_params**(\\*\\*params)\n",
    "  - Set the parameters of this estimator. Modification of the sklearn method to allow unknown kwargs. This allows using the full range of xgboost parameters that are not defined as member variables in sklearn grid search. :returns: :rtype: self\n",
    "  \n",
    "\n",
    "  \n",
    "  \n",
    "  \n",
    "  "
   ]
  },
  {
   "cell_type": "markdown",
   "metadata": {
    "colab_type": "text",
    "id": "Lo5SHm-42fnB"
   },
   "source": [
    "Setup\n",
    "---"
   ]
  },
  {
   "cell_type": "code",
   "execution_count": 1,
   "metadata": {
    "colab": {},
    "colab_type": "code",
    "id": "Z9F6OGdF2fnC"
   },
   "outputs": [],
   "source": [
    "# Python ≥3.5 is required\n",
    "import sys\n",
    "assert sys.version_info >= (3, 5)\n",
    "\n",
    "# Scikit-Learn ≥0.20 is required\n",
    "import sklearn\n",
    "\n",
    "# import xgboost\n",
    "import xgboost as xgb\n",
    "\n",
    "# Common imports\n",
    "import numpy as np\n",
    "import os\n",
    "\n",
    "# to make this notebook's output stable across runs\n",
    "np.random.seed(42)\n",
    "\n",
    "# To plot pretty figures\n",
    "%matplotlib inline\n",
    "import matplotlib as mpl\n",
    "import matplotlib.pyplot as plt\n",
    "mpl.rc('axes', labelsize=14)\n",
    "mpl.rc('xtick', labelsize=12)\n",
    "mpl.rc('ytick', labelsize=12)\n",
    "\n",
    "\n",
    "def save_fig(fig_id, tight_layout=True, fig_extension=\"png\", resolution=300):\n",
    "    path = os.path.join(IMAGES_PATH, fig_id + \".\" + fig_extension)\n",
    "    print(\"Saving figure\", fig_id)\n",
    "    if tight_layout:\n",
    "        plt.tight_layout()\n",
    "    plt.savefig(path, format=fig_extension, dpi=resolution)\n",
    "\n",
    "# Ignore useless warnings (see SciPy issue #5998)\n",
    "import warnings\n",
    "warnings.filterwarnings(action=\"ignore\", message=\"^internal gelsd\")"
   ]
  },
  {
   "cell_type": "code",
   "execution_count": 2,
   "metadata": {
    "colab": {
     "base_uri": "https://localhost:8080/",
     "height": 35
    },
    "colab_type": "code",
    "executionInfo": {
     "elapsed": 981,
     "status": "ok",
     "timestamp": 1571661068516,
     "user": {
      "displayName": "Kyung Min Lee",
      "photoUrl": "",
      "userId": "04331676426637755655"
     },
     "user_tz": -540
    },
    "id": "_YUvaD6a2fnE",
    "outputId": "b3928164-45be-40a8-8ccb-185792ba4523"
   },
   "outputs": [
    {
     "data": {
      "text/plain": [
       "'0.21.1'"
      ]
     },
     "execution_count": 2,
     "metadata": {},
     "output_type": "execute_result"
    }
   ],
   "source": [
    "sklearn.__version__"
   ]
  },
  {
   "cell_type": "markdown",
   "metadata": {
    "colab_type": "text",
    "id": "qkylTibC2fnG"
   },
   "source": [
    "Get the data\n",
    "============"
   ]
  },
  {
   "cell_type": "code",
   "execution_count": 240,
   "metadata": {
    "colab": {
     "base_uri": "https://localhost:8080/",
     "height": 95,
     "resources": {
      "http://localhost:8080/nbextensions/google.colab/files.js": {
       "data": "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",
       "headers": [
        [
         "content-type",
         "application/javascript"
        ]
       ],
       "ok": true,
       "status": 200,
       "status_text": ""
      }
     }
    },
    "colab_type": "code",
    "executionInfo": {
     "elapsed": 6248,
     "status": "ok",
     "timestamp": 1571661104262,
     "user": {
      "displayName": "Kyung Min Lee",
      "photoUrl": "",
      "userId": "04331676426637755655"
     },
     "user_tz": -540
    },
    "id": "ezN_wUIQ3NTH",
    "outputId": "aef4f434-c5a7-4e5d-dd24-5a324244d5d3"
   },
   "outputs": [
    {
     "ename": "ModuleNotFoundError",
     "evalue": "No module named 'google.colab'",
     "output_type": "error",
     "traceback": [
      "\u001b[1;31m---------------------------------------------------------------------------\u001b[0m",
      "\u001b[1;31mModuleNotFoundError\u001b[0m                       Traceback (most recent call last)",
      "\u001b[1;32m<ipython-input-240-b427c5459857>\u001b[0m in \u001b[0;36m<module>\u001b[1;34m\u001b[0m\n\u001b[1;32m----> 1\u001b[1;33m \u001b[1;32mfrom\u001b[0m \u001b[0mgoogle\u001b[0m\u001b[1;33m.\u001b[0m\u001b[0mcolab\u001b[0m \u001b[1;32mimport\u001b[0m \u001b[0mfiles\u001b[0m\u001b[1;33m\u001b[0m\u001b[1;33m\u001b[0m\u001b[0m\n\u001b[0m\u001b[0;32m      2\u001b[0m \u001b[0muploaded\u001b[0m\u001b[1;33m=\u001b[0m\u001b[0mfiles\u001b[0m\u001b[1;33m.\u001b[0m\u001b[0mupload\u001b[0m\u001b[1;33m(\u001b[0m\u001b[1;33m)\u001b[0m\u001b[1;33m\u001b[0m\u001b[1;33m\u001b[0m\u001b[0m\n\u001b[0;32m      3\u001b[0m \u001b[1;33m\u001b[0m\u001b[0m\n\u001b[0;32m      4\u001b[0m \u001b[1;32mfor\u001b[0m \u001b[0mfn\u001b[0m \u001b[1;32min\u001b[0m \u001b[0muploaded\u001b[0m\u001b[1;33m.\u001b[0m\u001b[0mkeys\u001b[0m\u001b[1;33m(\u001b[0m\u001b[1;33m)\u001b[0m\u001b[1;33m:\u001b[0m\u001b[1;33m\u001b[0m\u001b[1;33m\u001b[0m\u001b[0m\n\u001b[0;32m      5\u001b[0m   print('User uploaded file\"{name}\" with length{length} bytes'.format(\n",
      "\u001b[1;31mModuleNotFoundError\u001b[0m: No module named 'google.colab'"
     ]
    }
   ],
   "source": [
    "from google.colab import files\n",
    "uploaded=files.upload()\n",
    "\n",
    "for fn in uploaded.keys():\n",
    "  print('User uploaded file\"{name}\" with length{length} bytes'.format(\n",
    "      name = fn, length=len(uploaded[fn])\n",
    "  ))"
   ]
  },
  {
   "cell_type": "code",
   "execution_count": 241,
   "metadata": {
    "colab": {
     "base_uri": "https://localhost:8080/",
     "height": 127
    },
    "colab_type": "code",
    "executionInfo": {
     "elapsed": 29667,
     "status": "ok",
     "timestamp": 1571661135285,
     "user": {
      "displayName": "Kyung Min Lee",
      "photoUrl": "",
      "userId": "04331676426637755655"
     },
     "user_tz": -540
    },
    "id": "CeqfH74wS5zs",
    "outputId": "917357d3-6f73-4c88-84a0-a8be39051a64"
   },
   "outputs": [
    {
     "ename": "ModuleNotFoundError",
     "evalue": "No module named 'google.colab'",
     "output_type": "error",
     "traceback": [
      "\u001b[1;31m---------------------------------------------------------------------------\u001b[0m",
      "\u001b[1;31mModuleNotFoundError\u001b[0m                       Traceback (most recent call last)",
      "\u001b[1;32m<ipython-input-241-7fb58867ae0b>\u001b[0m in \u001b[0;36m<module>\u001b[1;34m\u001b[0m\n\u001b[1;32m----> 1\u001b[1;33m \u001b[1;32mfrom\u001b[0m \u001b[0mgoogle\u001b[0m\u001b[1;33m.\u001b[0m\u001b[0mcolab\u001b[0m \u001b[1;32mimport\u001b[0m \u001b[0mdrive\u001b[0m\u001b[1;33m\u001b[0m\u001b[1;33m\u001b[0m\u001b[0m\n\u001b[0m\u001b[0;32m      2\u001b[0m \u001b[1;33m\u001b[0m\u001b[0m\n\u001b[0;32m      3\u001b[0m \u001b[0mdrive\u001b[0m\u001b[1;33m.\u001b[0m\u001b[0mmount\u001b[0m\u001b[1;33m(\u001b[0m\u001b[1;34m'/content/gdrive'\u001b[0m\u001b[1;33m,\u001b[0m \u001b[0mforce_remount\u001b[0m\u001b[1;33m=\u001b[0m\u001b[1;32mTrue\u001b[0m\u001b[1;33m)\u001b[0m\u001b[1;33m\u001b[0m\u001b[1;33m\u001b[0m\u001b[0m\n",
      "\u001b[1;31mModuleNotFoundError\u001b[0m: No module named 'google.colab'"
     ]
    }
   ],
   "source": [
    "from google.colab import drive\n",
    "\n",
    "drive.mount('/content/gdrive', force_remount=True)"
   ]
  },
  {
   "cell_type": "code",
   "execution_count": 4,
   "metadata": {
    "colab": {
     "base_uri": "https://localhost:8080/",
     "height": 204
    },
    "colab_type": "code",
    "executionInfo": {
     "elapsed": 982,
     "status": "ok",
     "timestamp": 1571661137792,
     "user": {
      "displayName": "Kyung Min Lee",
      "photoUrl": "",
      "userId": "04331676426637755655"
     },
     "user_tz": -540
    },
    "id": "sssWHMVC2fnH",
    "outputId": "d7c1a03e-1b60-49c2-d7d7-fafeac38bacc"
   },
   "outputs": [
    {
     "data": {
      "text/html": [
       "<div>\n",
       "<style scoped>\n",
       "    .dataframe tbody tr th:only-of-type {\n",
       "        vertical-align: middle;\n",
       "    }\n",
       "\n",
       "    .dataframe tbody tr th {\n",
       "        vertical-align: top;\n",
       "    }\n",
       "\n",
       "    .dataframe thead th {\n",
       "        text-align: right;\n",
       "    }\n",
       "</style>\n",
       "<table border=\"1\" class=\"dataframe\">\n",
       "  <thead>\n",
       "    <tr style=\"text-align: right;\">\n",
       "      <th></th>\n",
       "      <th>layer_height</th>\n",
       "      <th>wall_thickness</th>\n",
       "      <th>infill_density</th>\n",
       "      <th>infill_pattern</th>\n",
       "      <th>nozzle_temperature</th>\n",
       "      <th>bed_temperature</th>\n",
       "      <th>print_speed</th>\n",
       "      <th>material</th>\n",
       "      <th>fan_speed</th>\n",
       "      <th>roughness</th>\n",
       "      <th>tension_strength</th>\n",
       "      <th>elongation</th>\n",
       "    </tr>\n",
       "  </thead>\n",
       "  <tbody>\n",
       "    <tr>\n",
       "      <th>0</th>\n",
       "      <td>0.02</td>\n",
       "      <td>8</td>\n",
       "      <td>90</td>\n",
       "      <td>grid</td>\n",
       "      <td>220</td>\n",
       "      <td>60</td>\n",
       "      <td>40</td>\n",
       "      <td>abs</td>\n",
       "      <td>0</td>\n",
       "      <td>25</td>\n",
       "      <td>1800</td>\n",
       "      <td>1.2</td>\n",
       "    </tr>\n",
       "    <tr>\n",
       "      <th>1</th>\n",
       "      <td>0.02</td>\n",
       "      <td>7</td>\n",
       "      <td>90</td>\n",
       "      <td>honeycomb</td>\n",
       "      <td>225</td>\n",
       "      <td>65</td>\n",
       "      <td>40</td>\n",
       "      <td>abs</td>\n",
       "      <td>25</td>\n",
       "      <td>32</td>\n",
       "      <td>1600</td>\n",
       "      <td>1.4</td>\n",
       "    </tr>\n",
       "    <tr>\n",
       "      <th>2</th>\n",
       "      <td>0.02</td>\n",
       "      <td>1</td>\n",
       "      <td>80</td>\n",
       "      <td>grid</td>\n",
       "      <td>230</td>\n",
       "      <td>70</td>\n",
       "      <td>40</td>\n",
       "      <td>abs</td>\n",
       "      <td>50</td>\n",
       "      <td>40</td>\n",
       "      <td>800</td>\n",
       "      <td>0.8</td>\n",
       "    </tr>\n",
       "    <tr>\n",
       "      <th>3</th>\n",
       "      <td>0.02</td>\n",
       "      <td>4</td>\n",
       "      <td>70</td>\n",
       "      <td>honeycomb</td>\n",
       "      <td>240</td>\n",
       "      <td>75</td>\n",
       "      <td>40</td>\n",
       "      <td>abs</td>\n",
       "      <td>75</td>\n",
       "      <td>68</td>\n",
       "      <td>1000</td>\n",
       "      <td>0.5</td>\n",
       "    </tr>\n",
       "    <tr>\n",
       "      <th>4</th>\n",
       "      <td>0.02</td>\n",
       "      <td>6</td>\n",
       "      <td>90</td>\n",
       "      <td>grid</td>\n",
       "      <td>250</td>\n",
       "      <td>80</td>\n",
       "      <td>40</td>\n",
       "      <td>abs</td>\n",
       "      <td>100</td>\n",
       "      <td>92</td>\n",
       "      <td>500</td>\n",
       "      <td>0.7</td>\n",
       "    </tr>\n",
       "  </tbody>\n",
       "</table>\n",
       "</div>"
      ],
      "text/plain": [
       "   layer_height  wall_thickness  infill_density infill_pattern  \\\n",
       "0          0.02               8              90           grid   \n",
       "1          0.02               7              90      honeycomb   \n",
       "2          0.02               1              80           grid   \n",
       "3          0.02               4              70      honeycomb   \n",
       "4          0.02               6              90           grid   \n",
       "\n",
       "   nozzle_temperature  bed_temperature  print_speed material  fan_speed  \\\n",
       "0                 220               60           40      abs          0   \n",
       "1                 225               65           40      abs         25   \n",
       "2                 230               70           40      abs         50   \n",
       "3                 240               75           40      abs         75   \n",
       "4                 250               80           40      abs        100   \n",
       "\n",
       "   roughness  tension_strength  elongation  \n",
       "0         25              1800         1.2  \n",
       "1         32              1600         1.4  \n",
       "2         40               800         0.8  \n",
       "3         68              1000         0.5  \n",
       "4         92               500         0.7  "
      ]
     },
     "execution_count": 4,
     "metadata": {},
     "output_type": "execute_result"
    }
   ],
   "source": [
    "import pandas as pd\n",
    "\n",
    "df = pd.read_csv(\"data.csv\")\n",
    "df.head()\n"
   ]
  },
  {
   "cell_type": "code",
   "execution_count": 5,
   "metadata": {
    "colab": {
     "base_uri": "https://localhost:8080/",
     "height": 287
    },
    "colab_type": "code",
    "executionInfo": {
     "elapsed": 967,
     "status": "ok",
     "timestamp": 1571661140165,
     "user": {
      "displayName": "Kyung Min Lee",
      "photoUrl": "",
      "userId": "04331676426637755655"
     },
     "user_tz": -540
    },
    "id": "WgNtqzwF2fnJ",
    "outputId": "8452002a-72bc-4e69-dfeb-d21294b71150"
   },
   "outputs": [
    {
     "name": "stdout",
     "output_type": "stream",
     "text": [
      "<class 'pandas.core.frame.DataFrame'>\n",
      "RangeIndex: 118 entries, 0 to 117\n",
      "Data columns (total 12 columns):\n",
      "layer_height          118 non-null float64\n",
      "wall_thickness        118 non-null int64\n",
      "infill_density        118 non-null int64\n",
      "infill_pattern        118 non-null object\n",
      "nozzle_temperature    118 non-null int64\n",
      "bed_temperature       118 non-null int64\n",
      "print_speed           118 non-null int64\n",
      "material              118 non-null object\n",
      "fan_speed             118 non-null int64\n",
      "roughness             118 non-null int64\n",
      "tension_strength      118 non-null int64\n",
      "elongation            118 non-null float64\n",
      "dtypes: float64(2), int64(8), object(2)\n",
      "memory usage: 11.1+ KB\n"
     ]
    }
   ],
   "source": [
    "df.info()"
   ]
  },
  {
   "cell_type": "markdown",
   "metadata": {
    "colab_type": "text",
    "id": "sKZtB0rB2fnL"
   },
   "source": [
    "4 Variable (layer_height & wall_thickness & infill_density & nozzle temperature) data\n",
    "---"
   ]
  },
  {
   "cell_type": "code",
   "execution_count": 6,
   "metadata": {},
   "outputs": [
    {
     "name": "stdout",
     "output_type": "stream",
     "text": [
      "<class 'pandas.core.frame.DataFrame'>\n",
      "RangeIndex: 118 entries, 0 to 117\n",
      "Data columns (total 5 columns):\n",
      "layer_height          118 non-null float64\n",
      "wall_thickness        118 non-null int64\n",
      "nozzle_temperature    118 non-null int64\n",
      "tension_strength      118 non-null int64\n",
      "elongation            118 non-null float64\n",
      "dtypes: float64(2), int64(3)\n",
      "memory usage: 4.7 KB\n"
     ]
    }
   ],
   "source": [
    "df = df.loc[:,[\"layer_height\",\"wall_thickness\",\"nozzle_temperature\", \"tension_strength\", \"elongation\"]]\n",
    "df.info()"
   ]
  },
  {
   "cell_type": "code",
   "execution_count": 17,
   "metadata": {
    "colab": {
     "base_uri": "https://localhost:8080/",
     "height": 179
    },
    "colab_type": "code",
    "executionInfo": {
     "elapsed": 32424,
     "status": "ok",
     "timestamp": 1570515172659,
     "user": {
      "displayName": "Kyung Min Lee",
      "photoUrl": "",
      "userId": "04331676426637755655"
     },
     "user_tz": -540
    },
    "id": "B9RGAUeX2fnM",
    "outputId": "0f88339a-4f6c-40b2-dc17-af82a0376363"
   },
   "outputs": [
    {
     "name": "stdout",
     "output_type": "stream",
     "text": [
      "<class 'pandas.core.frame.DataFrame'>\n",
      "RangeIndex: 118 entries, 0 to 117\n",
      "Data columns (total 6 columns):\n",
      "layer_height          118 non-null float64\n",
      "wall_thickness        118 non-null int64\n",
      "infill_density        0 non-null float64\n",
      "nozzle_temperature    118 non-null int64\n",
      "tension_strength      118 non-null int64\n",
      "elongation            118 non-null float64\n",
      "dtypes: float64(3), int64(3)\n",
      "memory usage: 5.6 KB\n"
     ]
    },
    {
     "name": "stderr",
     "output_type": "stream",
     "text": [
      "C:\\ProgramData\\Anaconda3\\lib\\site-packages\\pandas\\core\\indexing.py:1494: FutureWarning: \n",
      "Passing list-likes to .loc or [] with any missing label will raise\n",
      "KeyError in the future, you can use .reindex() as an alternative.\n",
      "\n",
      "See the documentation here:\n",
      "https://pandas.pydata.org/pandas-docs/stable/indexing.html#deprecate-loc-reindex-listlike\n",
      "  return self._getitem_tuple(key)\n"
     ]
    }
   ],
   "source": [
    "df = df.loc[:,[\"layer_height\",\"wall_thickness\",\"infill_density\",\"nozzle_temperature\", \"tension_strength\", \"elongation\"]]\n",
    "df.info()"
   ]
  },
  {
   "cell_type": "code",
   "execution_count": 7,
   "metadata": {
    "colab": {
     "base_uri": "https://localhost:8080/",
     "height": 297
    },
    "colab_type": "code",
    "executionInfo": {
     "elapsed": 1029,
     "status": "ok",
     "timestamp": 1571661152133,
     "user": {
      "displayName": "Kyung Min Lee",
      "photoUrl": "",
      "userId": "04331676426637755655"
     },
     "user_tz": -540
    },
    "id": "CRU1Idp_2fnN",
    "outputId": "ea813def-92ff-4f07-c06a-38fb17e9d298"
   },
   "outputs": [
    {
     "data": {
      "text/html": [
       "<div>\n",
       "<style scoped>\n",
       "    .dataframe tbody tr th:only-of-type {\n",
       "        vertical-align: middle;\n",
       "    }\n",
       "\n",
       "    .dataframe tbody tr th {\n",
       "        vertical-align: top;\n",
       "    }\n",
       "\n",
       "    .dataframe thead th {\n",
       "        text-align: right;\n",
       "    }\n",
       "</style>\n",
       "<table border=\"1\" class=\"dataframe\">\n",
       "  <thead>\n",
       "    <tr style=\"text-align: right;\">\n",
       "      <th></th>\n",
       "      <th>layer_height</th>\n",
       "      <th>wall_thickness</th>\n",
       "      <th>nozzle_temperature</th>\n",
       "      <th>tension_strength</th>\n",
       "      <th>elongation</th>\n",
       "    </tr>\n",
       "  </thead>\n",
       "  <tbody>\n",
       "    <tr>\n",
       "      <th>count</th>\n",
       "      <td>118.000000</td>\n",
       "      <td>118.000000</td>\n",
       "      <td>118.000000</td>\n",
       "      <td>118.000000</td>\n",
       "      <td>118.000000</td>\n",
       "    </tr>\n",
       "    <tr>\n",
       "      <th>mean</th>\n",
       "      <td>0.102458</td>\n",
       "      <td>5.313559</td>\n",
       "      <td>221.822034</td>\n",
       "      <td>2006.779661</td>\n",
       "      <td>1.658475</td>\n",
       "    </tr>\n",
       "    <tr>\n",
       "      <th>std</th>\n",
       "      <td>0.062278</td>\n",
       "      <td>2.925570</td>\n",
       "      <td>14.641955</td>\n",
       "      <td>879.853214</td>\n",
       "      <td>0.759591</td>\n",
       "    </tr>\n",
       "    <tr>\n",
       "      <th>min</th>\n",
       "      <td>0.020000</td>\n",
       "      <td>1.000000</td>\n",
       "      <td>200.000000</td>\n",
       "      <td>400.000000</td>\n",
       "      <td>0.400000</td>\n",
       "    </tr>\n",
       "    <tr>\n",
       "      <th>25%</th>\n",
       "      <td>0.060000</td>\n",
       "      <td>3.000000</td>\n",
       "      <td>210.000000</td>\n",
       "      <td>1200.000000</td>\n",
       "      <td>1.100000</td>\n",
       "    </tr>\n",
       "    <tr>\n",
       "      <th>50%</th>\n",
       "      <td>0.100000</td>\n",
       "      <td>5.000000</td>\n",
       "      <td>220.000000</td>\n",
       "      <td>1900.000000</td>\n",
       "      <td>1.500000</td>\n",
       "    </tr>\n",
       "    <tr>\n",
       "      <th>75%</th>\n",
       "      <td>0.150000</td>\n",
       "      <td>7.750000</td>\n",
       "      <td>230.000000</td>\n",
       "      <td>2700.000000</td>\n",
       "      <td>2.175000</td>\n",
       "    </tr>\n",
       "    <tr>\n",
       "      <th>max</th>\n",
       "      <td>0.200000</td>\n",
       "      <td>10.000000</td>\n",
       "      <td>250.000000</td>\n",
       "      <td>3700.000000</td>\n",
       "      <td>3.300000</td>\n",
       "    </tr>\n",
       "  </tbody>\n",
       "</table>\n",
       "</div>"
      ],
      "text/plain": [
       "       layer_height  wall_thickness  nozzle_temperature  tension_strength  \\\n",
       "count    118.000000      118.000000          118.000000        118.000000   \n",
       "mean       0.102458        5.313559          221.822034       2006.779661   \n",
       "std        0.062278        2.925570           14.641955        879.853214   \n",
       "min        0.020000        1.000000          200.000000        400.000000   \n",
       "25%        0.060000        3.000000          210.000000       1200.000000   \n",
       "50%        0.100000        5.000000          220.000000       1900.000000   \n",
       "75%        0.150000        7.750000          230.000000       2700.000000   \n",
       "max        0.200000       10.000000          250.000000       3700.000000   \n",
       "\n",
       "       elongation  \n",
       "count  118.000000  \n",
       "mean     1.658475  \n",
       "std      0.759591  \n",
       "min      0.400000  \n",
       "25%      1.100000  \n",
       "50%      1.500000  \n",
       "75%      2.175000  \n",
       "max      3.300000  "
      ]
     },
     "execution_count": 7,
     "metadata": {},
     "output_type": "execute_result"
    }
   ],
   "source": [
    "df.describe()"
   ]
  },
  {
   "cell_type": "code",
   "execution_count": 8,
   "metadata": {
    "colab": {
     "base_uri": "https://localhost:8080/",
     "height": 1000
    },
    "colab_type": "code",
    "executionInfo": {
     "elapsed": 4180,
     "status": "ok",
     "timestamp": 1571661156929,
     "user": {
      "displayName": "Kyung Min Lee",
      "photoUrl": "",
      "userId": "04331676426637755655"
     },
     "user_tz": -540
    },
    "id": "d63656h52fnP",
    "outputId": "2fc0ff2a-890b-4af7-aed1-c519e033e412"
   },
   "outputs": [
    {
     "data": {
      "text/plain": [
       "array([[<matplotlib.axes._subplots.AxesSubplot object at 0x000001FD21967D30>,\n",
       "        <matplotlib.axes._subplots.AxesSubplot object at 0x000001FD231EEEB8>],\n",
       "       [<matplotlib.axes._subplots.AxesSubplot object at 0x000001FD2321F438>,\n",
       "        <matplotlib.axes._subplots.AxesSubplot object at 0x000001FD232469B0>],\n",
       "       [<matplotlib.axes._subplots.AxesSubplot object at 0x000001FD23270F28>,\n",
       "        <matplotlib.axes._subplots.AxesSubplot object at 0x000001FD2329E4E0>]],\n",
       "      dtype=object)"
      ]
     },
     "execution_count": 8,
     "metadata": {},
     "output_type": "execute_result"
    },
    {
     "data": {
      "image/png": "[encoded data removed]",
      "text/plain": [
       "<Figure size 1440x1080 with 6 Axes>"
      ]
     },
     "metadata": {
      "needs_background": "light"
     },
     "output_type": "display_data"
    }
   ],
   "source": [
    "%matplotlib inline\n",
    "import matplotlib.pyplot as plt\n",
    "df.hist(bins=50, figsize=(20,15))"
   ]
  },
  {
   "cell_type": "code",
   "execution_count": 9,
   "metadata": {
    "colab": {},
    "colab_type": "code",
    "id": "iMguloiq2fnR"
   },
   "outputs": [],
   "source": [
    "# to make this notebook's output identical at every run\n",
    "np.random.seed(42)"
   ]
  },
  {
   "cell_type": "code",
   "execution_count": 10,
   "metadata": {
    "colab": {
     "base_uri": "https://localhost:8080/",
     "height": 35
    },
    "colab_type": "code",
    "executionInfo": {
     "elapsed": 985,
     "status": "ok",
     "timestamp": 1571661160696,
     "user": {
      "displayName": "Kyung Min Lee",
      "photoUrl": "",
      "userId": "04331676426637755655"
     },
     "user_tz": -540
    },
    "id": "PKlb54c72fnT",
    "outputId": "78e23523-8e98-4494-ccd2-fad1e764b6d9"
   },
   "outputs": [
    {
     "data": {
      "text/plain": [
       "82"
      ]
     },
     "execution_count": 10,
     "metadata": {},
     "output_type": "execute_result"
    }
   ],
   "source": [
    "# train, test data split\n",
    "from sklearn.model_selection import train_test_split\n",
    "\n",
    "X = df.loc[:,[\"layer_height\", \"wall_thickness\",\"nozzle_temperature\"]]\n",
    "ts = df.loc[:, \"tension_strength\"]\n",
    "elong = df.loc[:,\"elongation\"]\n",
    "\n",
    "X_train, X_test, ts_train, ts_test = train_test_split(X, ts, test_size=0.3, random_state=42)\n",
    "X_train, X_test, el_train, el_test = train_test_split(X, elong, test_size=0.3, random_state=42)\n",
    "len(X_train)"
   ]
  },
  {
   "cell_type": "code",
   "execution_count": 20,
   "metadata": {
    "colab": {
     "base_uri": "https://localhost:8080/",
     "height": 35
    },
    "colab_type": "code",
    "executionInfo": {
     "elapsed": 1412,
     "status": "ok",
     "timestamp": 1571661162598,
     "user": {
      "displayName": "Kyung Min Lee",
      "photoUrl": "",
      "userId": "04331676426637755655"
     },
     "user_tz": -540
    },
    "id": "oRtbiMg52fnV",
    "outputId": "678483de-3264-4e25-b7e5-bb2fad9e8bff"
   },
   "outputs": [
    {
     "data": {
      "text/plain": [
       "36"
      ]
     },
     "execution_count": 20,
     "metadata": {},
     "output_type": "execute_result"
    }
   ],
   "source": [
    "len(X_test)"
   ]
  },
  {
   "cell_type": "markdown",
   "metadata": {
    "colab_type": "text",
    "id": "f_mbkied2fnY"
   },
   "source": [
    "Discover and visualize the data to gain insights\n",
    "==="
   ]
  },
  {
   "cell_type": "code",
   "execution_count": 21,
   "metadata": {
    "colab": {
     "base_uri": "https://localhost:8080/",
     "height": 251
    },
    "colab_type": "code",
    "executionInfo": {
     "elapsed": 627,
     "status": "ok",
     "timestamp": 1571661164275,
     "user": {
      "displayName": "Kyung Min Lee",
      "photoUrl": "",
      "userId": "04331676426637755655"
     },
     "user_tz": -540
    },
    "id": "tVkpha6L2fnZ",
    "outputId": "088193e7-cf32-4b1f-b102-15c54b613040"
   },
   "outputs": [
    {
     "name": "stdout",
     "output_type": "stream",
     "text": [
      "<class 'pandas.core.frame.DataFrame'>\n",
      "RangeIndex: 118 entries, 0 to 117\n",
      "Data columns (total 5 columns):\n",
      "layer_height          118 non-null float64\n",
      "wall_thickness        118 non-null int64\n",
      "nozzle_temperature    118 non-null int64\n",
      "tension_strength      118 non-null int64\n",
      "elongation            118 non-null float64\n",
      "dtypes: float64(2), int64(3)\n",
      "memory usage: 4.7 KB\n"
     ]
    }
   ],
   "source": [
    "# Copy the dataset in order not to harm train set\n",
    "df_copy = df.copy()\n",
    "df_copy.info()"
   ]
  },
  {
   "cell_type": "code",
   "execution_count": 22,
   "metadata": {
    "colab": {
     "base_uri": "https://localhost:8080/",
     "height": 215
    },
    "colab_type": "code",
    "executionInfo": {
     "elapsed": 1001,
     "status": "ok",
     "timestamp": 1571661171043,
     "user": {
      "displayName": "Kyung Min Lee",
      "photoUrl": "",
      "userId": "04331676426637755655"
     },
     "user_tz": -540
    },
    "id": "sBzcS78h2fnb",
    "outputId": "181583f2-340d-4245-d2b9-c3cf79393d76"
   },
   "outputs": [
    {
     "name": "stdout",
     "output_type": "stream",
     "text": [
      "<class 'pandas.core.frame.DataFrame'>\n",
      "Int64Index: 82 entries, 62 to 102\n",
      "Data columns (total 3 columns):\n",
      "layer_height          82 non-null float64\n",
      "wall_thickness        82 non-null int64\n",
      "nozzle_temperature    82 non-null int64\n",
      "dtypes: float64(1), int64(2)\n",
      "memory usage: 2.6 KB\n"
     ]
    }
   ],
   "source": [
    "X_train.info()"
   ]
  },
  {
   "cell_type": "code",
   "execution_count": 252,
   "metadata": {
    "colab": {
     "base_uri": "https://localhost:8080/",
     "height": 308
    },
    "colab_type": "code",
    "executionInfo": {
     "elapsed": 1118,
     "status": "ok",
     "timestamp": 1571661174232,
     "user": {
      "displayName": "Kyung Min Lee",
      "photoUrl": "",
      "userId": "04331676426637755655"
     },
     "user_tz": -540
    },
    "id": "pd2otQ4j2fnd",
    "outputId": "f6c01972-718b-41f3-ffd8-9653e6b72214"
   },
   "outputs": [
    {
     "data": {
      "text/plain": [
       "<matplotlib.axes._subplots.AxesSubplot at 0x1ec84e66688>"
      ]
     },
     "execution_count": 252,
     "metadata": {},
     "output_type": "execute_result"
    },
    {
     "data": {
      "image/png": "[encoded data removed]",
      "text/plain": [
       "<Figure size 432x288 with 1 Axes>"
      ]
     },
     "metadata": {
      "needs_background": "light"
     },
     "output_type": "display_data"
    }
   ],
   "source": [
    "df_copy.plot(kind=\"scatter\", x=\"layer_height\", y=\"tension_strength\")"
   ]
  },
  {
   "cell_type": "code",
   "execution_count": 253,
   "metadata": {
    "colab": {
     "base_uri": "https://localhost:8080/",
     "height": 308
    },
    "colab_type": "code",
    "executionInfo": {
     "elapsed": 970,
     "status": "ok",
     "timestamp": 1571661174767,
     "user": {
      "displayName": "Kyung Min Lee",
      "photoUrl": "",
      "userId": "04331676426637755655"
     },
     "user_tz": -540
    },
    "id": "T6mPn_3f2fnf",
    "outputId": "5561bbfd-e03b-4af2-9e89-663d05805f03"
   },
   "outputs": [
    {
     "data": {
      "text/plain": [
       "<matplotlib.axes._subplots.AxesSubplot at 0x1ec8541cec8>"
      ]
     },
     "execution_count": 253,
     "metadata": {},
     "output_type": "execute_result"
    },
    {
     "data": {
      "image/png": "[encoded data removed]",
      "text/plain": [
       "<Figure size 432x288 with 1 Axes>"
      ]
     },
     "metadata": {
      "needs_background": "light"
     },
     "output_type": "display_data"
    }
   ],
   "source": [
    "df_copy.plot(kind=\"scatter\", x=\"wall_thickness\", y=\"tension_strength\")"
   ]
  },
  {
   "cell_type": "code",
   "execution_count": 254,
   "metadata": {
    "colab": {
     "base_uri": "https://localhost:8080/",
     "height": 297
    },
    "colab_type": "code",
    "executionInfo": {
     "elapsed": 970,
     "status": "ok",
     "timestamp": 1571661181108,
     "user": {
      "displayName": "Kyung Min Lee",
      "photoUrl": "",
      "userId": "04331676426637755655"
     },
     "user_tz": -540
    },
    "id": "XNFfr7412fnh",
    "outputId": "15f22339-e07a-4d79-b0d4-48ba1a8977c6"
   },
   "outputs": [
    {
     "data": {
      "text/html": [
       "<div>\n",
       "<style scoped>\n",
       "    .dataframe tbody tr th:only-of-type {\n",
       "        vertical-align: middle;\n",
       "    }\n",
       "\n",
       "    .dataframe tbody tr th {\n",
       "        vertical-align: top;\n",
       "    }\n",
       "\n",
       "    .dataframe thead th {\n",
       "        text-align: right;\n",
       "    }\n",
       "</style>\n",
       "<table border=\"1\" class=\"dataframe\">\n",
       "  <thead>\n",
       "    <tr style=\"text-align: right;\">\n",
       "      <th></th>\n",
       "      <th>layer_height</th>\n",
       "      <th>wall_thickness</th>\n",
       "      <th>infill_density</th>\n",
       "      <th>nozzle_temperature</th>\n",
       "      <th>tension_strength</th>\n",
       "      <th>elongation</th>\n",
       "    </tr>\n",
       "  </thead>\n",
       "  <tbody>\n",
       "    <tr>\n",
       "      <td>layer_height</td>\n",
       "      <td>1.000000</td>\n",
       "      <td>-0.224745</td>\n",
       "      <td>0.026929</td>\n",
       "      <td>0.037695</td>\n",
       "      <td>0.279211</td>\n",
       "      <td>0.455312</td>\n",
       "    </tr>\n",
       "    <tr>\n",
       "      <td>wall_thickness</td>\n",
       "      <td>-0.224745</td>\n",
       "      <td>1.000000</td>\n",
       "      <td>0.096443</td>\n",
       "      <td>-0.141149</td>\n",
       "      <td>0.378691</td>\n",
       "      <td>0.160139</td>\n",
       "    </tr>\n",
       "    <tr>\n",
       "      <td>infill_density</td>\n",
       "      <td>0.026929</td>\n",
       "      <td>0.096443</td>\n",
       "      <td>1.000000</td>\n",
       "      <td>0.187668</td>\n",
       "      <td>0.386783</td>\n",
       "      <td>0.185950</td>\n",
       "    </tr>\n",
       "    <tr>\n",
       "      <td>nozzle_temperature</td>\n",
       "      <td>0.037695</td>\n",
       "      <td>-0.141149</td>\n",
       "      <td>0.187668</td>\n",
       "      <td>1.000000</td>\n",
       "      <td>-0.438509</td>\n",
       "      <td>-0.547601</td>\n",
       "    </tr>\n",
       "    <tr>\n",
       "      <td>tension_strength</td>\n",
       "      <td>0.279211</td>\n",
       "      <td>0.378691</td>\n",
       "      <td>0.386783</td>\n",
       "      <td>-0.438509</td>\n",
       "      <td>1.000000</td>\n",
       "      <td>0.838719</td>\n",
       "    </tr>\n",
       "    <tr>\n",
       "      <td>elongation</td>\n",
       "      <td>0.455312</td>\n",
       "      <td>0.160139</td>\n",
       "      <td>0.185950</td>\n",
       "      <td>-0.547601</td>\n",
       "      <td>0.838719</td>\n",
       "      <td>1.000000</td>\n",
       "    </tr>\n",
       "  </tbody>\n",
       "</table>\n",
       "</div>"
      ],
      "text/plain": [
       "                    layer_height  wall_thickness  infill_density  \\\n",
       "layer_height            1.000000       -0.224745        0.026929   \n",
       "wall_thickness         -0.224745        1.000000        0.096443   \n",
       "infill_density          0.026929        0.096443        1.000000   \n",
       "nozzle_temperature      0.037695       -0.141149        0.187668   \n",
       "tension_strength        0.279211        0.378691        0.386783   \n",
       "elongation              0.455312        0.160139        0.185950   \n",
       "\n",
       "                    nozzle_temperature  tension_strength  elongation  \n",
       "layer_height                  0.037695          0.279211    0.455312  \n",
       "wall_thickness               -0.141149          0.378691    0.160139  \n",
       "infill_density                0.187668          0.386783    0.185950  \n",
       "nozzle_temperature            1.000000         -0.438509   -0.547601  \n",
       "tension_strength             -0.438509          1.000000    0.838719  \n",
       "elongation                   -0.547601          0.838719    1.000000  "
      ]
     },
     "execution_count": 254,
     "metadata": {},
     "output_type": "execute_result"
    }
   ],
   "source": [
    "# Analysis of Standard correlation coefficient\n",
    "corr_matrix = df_copy.corr()\n",
    "corr_matrix"
   ]
  },
  {
   "cell_type": "code",
   "execution_count": 255,
   "metadata": {
    "colab": {
     "base_uri": "https://localhost:8080/",
     "height": 179
    },
    "colab_type": "code",
    "executionInfo": {
     "elapsed": 969,
     "status": "ok",
     "timestamp": 1571661190137,
     "user": {
      "displayName": "Kyung Min Lee",
      "photoUrl": "",
      "userId": "04331676426637755655"
     },
     "user_tz": -540
    },
    "id": "TVN0ILp92fnk",
    "outputId": "8b09e716-0e8f-4cf1-ebd5-a8b8ad6b6d79"
   },
   "outputs": [
    {
     "data": {
      "text/plain": [
       "tension_strength      1.000000\n",
       "elongation            0.838719\n",
       "infill_density        0.386783\n",
       "wall_thickness        0.378691\n",
       "layer_height          0.279211\n",
       "nozzle_temperature   -0.438509\n",
       "Name: tension_strength, dtype: float64"
      ]
     },
     "execution_count": 255,
     "metadata": {},
     "output_type": "execute_result"
    }
   ],
   "source": [
    "# Check what affects the most for the yield stress\n",
    "corr_matrix[\"tension_strength\"].sort_values(ascending=False)\n",
    "\n",
    "\n",
    "# 1kHz_voltage > 1k_RE > 1k_IM\n"
   ]
  },
  {
   "cell_type": "code",
   "execution_count": 256,
   "metadata": {
    "colab": {
     "base_uri": "https://localhost:8080/",
     "height": 179
    },
    "colab_type": "code",
    "executionInfo": {
     "elapsed": 934,
     "status": "ok",
     "timestamp": 1571661198454,
     "user": {
      "displayName": "Kyung Min Lee",
      "photoUrl": "",
      "userId": "04331676426637755655"
     },
     "user_tz": -540
    },
    "id": "KFcK3rx12fno",
    "outputId": "bbd86a37-8c3d-44e3-9204-25eaa0eb33f8"
   },
   "outputs": [
    {
     "data": {
      "text/plain": [
       "elongation            1.000000\n",
       "tension_strength      0.838719\n",
       "layer_height          0.455312\n",
       "infill_density        0.185950\n",
       "wall_thickness        0.160139\n",
       "nozzle_temperature   -0.547601\n",
       "Name: elongation, dtype: float64"
      ]
     },
     "execution_count": 256,
     "metadata": {},
     "output_type": "execute_result"
    }
   ],
   "source": [
    "corr_matrix[\"elongation\"].sort_values(ascending=False)"
   ]
  },
  {
   "cell_type": "markdown",
   "metadata": {
    "colab_type": "text",
    "id": "rkffz3qjS50T"
   },
   "source": [
    "## Feature Scaling"
   ]
  },
  {
   "cell_type": "code",
   "execution_count": 11,
   "metadata": {
    "colab": {
     "base_uri": "https://localhost:8080/",
     "height": 701
    },
    "colab_type": "code",
    "executionInfo": {
     "elapsed": 991,
     "status": "ok",
     "timestamp": 1571661206329,
     "user": {
      "displayName": "Kyung Min Lee",
      "photoUrl": "",
      "userId": "04331676426637755655"
     },
     "user_tz": -540
    },
    "id": "V7qKqGzC2fnr",
    "outputId": "222cac9d-1ada-4be6-d479-68f846c7aae8"
   },
   "outputs": [
    {
     "data": {
      "text/plain": [
       "array([[-0.94414257],\n",
       "       [-1.85967475],\n",
       "       [-1.74523323],\n",
       "       [ 0.8869218 ],\n",
       "       [-0.94414257],\n",
       "       [ 0.31471419],\n",
       "       [ 1.00136333],\n",
       "       [ 1.91689551],\n",
       "       [ 1.68801247],\n",
       "       [-0.1430519 ],\n",
       "       [ 1.45912942],\n",
       "       [-0.94414257],\n",
       "       [-0.94414257],\n",
       "       [-0.71525952],\n",
       "       [ 0.8869218 ],\n",
       "       [-0.1430519 ],\n",
       "       [ 0.20027267],\n",
       "       [-0.25749343],\n",
       "       [ 1.11580485],\n",
       "       [ 0.54359723],\n",
       "       [-1.17302561],\n",
       "       [ 1.68801247],\n",
       "       [ 0.8869218 ],\n",
       "       [-1.17302561],\n",
       "       [ 0.08583114],\n",
       "       [-0.48637647],\n",
       "       [ 0.77248028],\n",
       "       [-0.48637647],\n",
       "       [-0.71525952],\n",
       "       [-1.40190866],\n",
       "       [ 0.31471419],\n",
       "       [-1.17302561],\n",
       "       [ 0.42915571],\n",
       "       [ 0.42915571],\n",
       "       [-0.1430519 ],\n",
       "       [ 0.77248028]])"
      ]
     },
     "execution_count": 11,
     "metadata": {},
     "output_type": "execute_result"
    }
   ],
   "source": [
    "# Feature Scaling => Standardization\n",
    "from sklearn.pipeline import Pipeline\n",
    "from sklearn.impute import SimpleImputer\n",
    "from sklearn.preprocessing import StandardScaler\n",
    "\n",
    "data_pipeline = Pipeline([\n",
    "    ('imputer', SimpleImputer(strategy=\"median\")),\n",
    "    ('std_scaler', StandardScaler()),\n",
    "])\n",
    "imputer = SimpleImputer(strategy=\"median\")\n",
    "\n",
    "X_train = imputer.fit_transform(X_train)\n",
    "X_train_std = data_pipeline.fit_transform(X_train)\n",
    "\n",
    "ts_train = np.array(ts_train)\n",
    "ts_train = ts_train.reshape(-1, 1)\n",
    "ts_train = imputer.fit_transform(ts_train)\n",
    "ts_train_std = data_pipeline.fit_transform(ts_train)\n",
    "\n",
    "el_train = np.array(el_train)\n",
    "el_train =el_train.reshape(-1, 1)\n",
    "el_train = imputer.fit_transform(el_train)\n",
    "el_train_std = data_pipeline.fit_transform(el_train)\n",
    "\n",
    "X_test = imputer.fit_transform(X_test)\n",
    "X_test_std =data_pipeline.fit_transform(X_test)\n",
    "\n",
    "ts_test = np.array(ts_test)\n",
    "ts_test = ts_test.reshape(-1, 1)\n",
    "ts_test = imputer.fit_transform(ts_test)\n",
    "ts_test_std = data_pipeline.fit_transform(ts_test)\n",
    "\n",
    "el_test = np.array(el_test)\n",
    "el_test = el_test.reshape(-1, 1)\n",
    "el_test = imputer.fit_transform(el_test)\n",
    "el_test_std = data_pipeline.fit_transform(el_test)\n",
    "\n",
    "\n",
    "#print(X_train_std)\n",
    "\n",
    "ts_test_std\n"
   ]
  },
  {
   "cell_type": "code",
   "execution_count": 258,
   "metadata": {
    "colab": {
     "base_uri": "https://localhost:8080/",
     "height": 35
    },
    "colab_type": "code",
    "executionInfo": {
     "elapsed": 1116,
     "status": "ok",
     "timestamp": 1571661209334,
     "user": {
      "displayName": "Kyung Min Lee",
      "photoUrl": "",
      "userId": "04331676426637755655"
     },
     "user_tz": -540
    },
    "id": "nHQ09zEH2fny",
    "outputId": "d194b165-96bd-422c-e4d9-a4863e78b48b"
   },
   "outputs": [
    {
     "data": {
      "text/plain": [
       "(82, 4)"
      ]
     },
     "execution_count": 258,
     "metadata": {},
     "output_type": "execute_result"
    }
   ],
   "source": [
    "X_train_std.shape"
   ]
  },
  {
   "cell_type": "code",
   "execution_count": 259,
   "metadata": {
    "colab": {
     "base_uri": "https://localhost:8080/",
     "height": 35
    },
    "colab_type": "code",
    "executionInfo": {
     "elapsed": 926,
     "status": "ok",
     "timestamp": 1571661209661,
     "user": {
      "displayName": "Kyung Min Lee",
      "photoUrl": "",
      "userId": "04331676426637755655"
     },
     "user_tz": -540
    },
    "id": "QDBgEb8N2fn0",
    "outputId": "5fbd422b-6984-4bb9-bee2-0c33aa113ffc"
   },
   "outputs": [
    {
     "data": {
      "text/plain": [
       "(82, 1)"
      ]
     },
     "execution_count": 259,
     "metadata": {},
     "output_type": "execute_result"
    }
   ],
   "source": [
    "ts_train.shape"
   ]
  },
  {
   "cell_type": "markdown",
   "metadata": {
    "colab_type": "text",
    "id": "-4lJofKu2fn6"
   },
   "source": [
    "Select and train a extreme gradient boosting regression model\n",
    "==="
   ]
  },
  {
   "cell_type": "markdown",
   "metadata": {
    "colab_type": "text",
    "id": "X5Fa6kIaS50h"
   },
   "source": [
    "> class xgboost.XGBRegressor(max_depth=3, learning_rate=0.1, n_estimators=100, verbosity=1, objective='reg:squarederror', booster='gbtree', tree_method='auto', n_jobs=1, gamma=0, min_child_weight=1, max_delta_step=0, subsample=1, colsample_bytree=1, colsample_bylevel=1, colsample_bynode=1, reg_alpha=0, reg_lambda=1, scale_pos_weight=1, base_score=0.5, random_state=0, missing=None, num_parallel_tree=1, importance_type='gain', **kwargs)"
   ]
  },
  {
   "cell_type": "code",
   "execution_count": 12,
   "metadata": {
    "colab": {
     "base_uri": "https://localhost:8080/",
     "height": 53
    },
    "colab_type": "code",
    "executionInfo": {
     "elapsed": 1284,
     "status": "ok",
     "timestamp": 1571661216430,
     "user": {
      "displayName": "Kyung Min Lee",
      "photoUrl": "",
      "userId": "04331676426637755655"
     },
     "user_tz": -540
    },
    "id": "ExwthNkl2fn8",
    "outputId": "ee302738-5cb8-4e8d-8e68-a575435528cc"
   },
   "outputs": [
    {
     "name": "stdout",
     "output_type": "stream",
     "text": [
      "[15:25:41] WARNING: C:/Jenkins/workspace/xgboost-win64_release_0.90/src/objective/regression_obj.cu:152: reg:linear is now deprecated in favor of reg:squarederror.\n"
     ]
    },
    {
     "data": {
      "text/plain": [
       "172.91732385277317"
      ]
     },
     "execution_count": 12,
     "metadata": {},
     "output_type": "execute_result"
    }
   ],
   "source": [
    "# XGBRegressor\n",
    "from sklearn.metrics import mean_squared_error\n",
    "\n",
    "xgb_reg = xgb.XGBRegressor(random_state=42)\n",
    "xgb_reg.fit(X_train_std, ts_train_std)\n",
    "ts_predictions_xgb= xgb_reg.predict(X_train_std) * np.std(ts_train) + np.mean(ts_train)\n",
    "xgb_mse = mean_squared_error(ts_train, ts_predictions_xgb)\n",
    "xgb_rmse = np.sqrt(xgb_mse)\n",
    "xgb_rmse\n"
   ]
  },
  {
   "cell_type": "markdown",
   "metadata": {
    "colab_type": "text",
    "id": "G9z-SpS42fn-"
   },
   "source": [
    "Hyper Parameters Tuning: GridSearch CV function\n",
    "---"
   ]
  },
  {
   "cell_type": "markdown",
   "metadata": {
    "colab_type": "text",
    "id": "yCWcPqx52fn-"
   },
   "source": [
    "GridSearchCV implements a “fit” and a “score” method. It also implements “predict”, “predict_proba”, “decision_function”, “transform” and “inverse_transform” if they are implemented in the estimator used.\n",
    "\n",
    "The parameters of the estimator used to apply these methods are optimized by cross-validated grid-search over a parameter grid."
   ]
  },
  {
   "cell_type": "code",
   "execution_count": 261,
   "metadata": {},
   "outputs": [
    {
     "name": "stdout",
     "output_type": "stream",
     "text": [
      "[1e-10, 1e-05, 0.1, 10, 100000, 10000000000]\n"
     ]
    }
   ],
   "source": [
    "range_1 = [-10, -5, -1, 1, 5, 10]\n",
    "for i in range(len(range_1)):\n",
    "    range_1[i] = 10 ** range_1[i]\n",
    "    \n",
    "print(range_1)"
   ]
  },
  {
   "cell_type": "code",
   "execution_count": 262,
   "metadata": {},
   "outputs": [
    {
     "name": "stdout",
     "output_type": "stream",
     "text": [
      "[1e-10, 1e-07, 1e-05, 0.001, 0.1, 1]\n"
     ]
    }
   ],
   "source": [
    "range_2 = [-10, -7,-5, -3, -1, 0]\n",
    "for i in range(len(range_2)):\n",
    "    range_2[i] = 10 ** range_2[i]\n",
    "    \n",
    "print(range_2)"
   ]
  },
  {
   "cell_type": "code",
   "execution_count": 263,
   "metadata": {},
   "outputs": [
    {
     "name": "stdout",
     "output_type": "stream",
     "text": [
      "[1, 10, 1000, 100000]\n"
     ]
    }
   ],
   "source": [
    "range_3 = [0, 1, 3, 5]\n",
    "for i in range(len(range_3)):\n",
    "    range_3[i] = 10 ** range_3[i]\n",
    "    \n",
    "print(range_3)"
   ]
  },
  {
   "cell_type": "code",
   "execution_count": 25,
   "metadata": {},
   "outputs": [],
   "source": [
    "range_1 =  [1e-15,1e-13, 1e-11]"
   ]
  },
  {
   "cell_type": "code",
   "execution_count": 26,
   "metadata": {},
   "outputs": [],
   "source": [
    "range_2 =  [1e-15,1e-13, 1e-11]"
   ]
  },
  {
   "cell_type": "code",
   "execution_count": 27,
   "metadata": {},
   "outputs": [],
   "source": [
    "range_3 = [6,7,8]"
   ]
  },
  {
   "cell_type": "code",
   "execution_count": 28,
   "metadata": {},
   "outputs": [],
   "source": [
    "range_4 = [0.3, 0.5, 0.7, 1]"
   ]
  },
  {
   "cell_type": "code",
   "execution_count": 29,
   "metadata": {},
   "outputs": [
    {
     "data": {
      "text/plain": [
       "GridSearchCV(cv=2, error_score='raise-deprecating',\n",
       "             estimator=XGBRegressor(base_score=0.5, booster='gbtree',\n",
       "                                    colsample_bylevel=1, colsample_bynode=1,\n",
       "                                    colsample_bytree=1, gamma=0,\n",
       "                                    importance_type='gain', learning_rate=0.1,\n",
       "                                    max_delta_step=0, max_depth=3,\n",
       "                                    min_child_weight=1, missing=None,\n",
       "                                    n_estimators=100, n_jobs=1, nthread=None,\n",
       "                                    objective='reg:linear', random_state=0,...\n",
       "             iid='warn', n_jobs=None,\n",
       "             param_grid=[{'alpha': [1e-15, 1e-13, 1e-11], 'booster': ['gbtree'],\n",
       "                          'eta': [1e-15, 1e-13, 1e-11],\n",
       "                          'gamma': [1e-15, 1e-13, 1e-11],\n",
       "                          'lambda': [1e-15, 1e-13, 1e-11],\n",
       "                          'max_depth': [6, 7, 8],\n",
       "                          'min_child_weight': [1e-15, 1e-13, 1e-11],\n",
       "                          'objective': ['reg:squarederror']}],\n",
       "             pre_dispatch='2*n_jobs', refit=True, return_train_score=True,\n",
       "             scoring='neg_mean_squared_error', verbose=0)"
      ]
     },
     "execution_count": 29,
     "metadata": {},
     "output_type": "execute_result"
    }
   ],
   "source": [
    "from sklearn.model_selection import GridSearchCV\n",
    "\n",
    "param_grid = [\n",
    "# tree-base model    \n",
    " {'booster': ['gbtree'], 'lambda': range_1, 'eta': range_2, 'gamma': range_1 , \n",
    "  'min_child_weight': range_1, 'alpha': range_1, 'max_depth': range_3, 'objective': ['reg:squarederror'],\n",
    " },\n",
    "  \n",
    "    \n",
    "]\n",
    "    \n",
    "xgb_reg = xgb.XGBRegressor()\n",
    "\n",
    "grid_search = GridSearchCV(xgb_reg, param_grid, cv=2,\n",
    "                           scoring='neg_mean_squared_error',\n",
    "                           return_train_score=True)\n",
    "grid_search.fit(X_train_std, ts_train_std)"
   ]
  },
  {
   "cell_type": "code",
   "execution_count": 30,
   "metadata": {},
   "outputs": [
    {
     "data": {
      "text/plain": [
       "{'alpha': 1e-15,\n",
       " 'booster': 'gbtree',\n",
       " 'eta': 1e-15,\n",
       " 'gamma': 1e-15,\n",
       " 'lambda': 1e-15,\n",
       " 'max_depth': 7,\n",
       " 'min_child_weight': 1e-15,\n",
       " 'objective': 'reg:squarederror'}"
      ]
     },
     "execution_count": 30,
     "metadata": {},
     "output_type": "execute_result"
    }
   ],
   "source": [
    "grid_search.best_params_"
   ]
  },
  {
   "cell_type": "code",
   "execution_count": 31,
   "metadata": {
    "colab": {
     "base_uri": "https://localhost:8080/",
     "height": 161
    },
    "colab_type": "code",
    "executionInfo": {
     "elapsed": 619304,
     "status": "ok",
     "timestamp": 1571661846985,
     "user": {
      "displayName": "Kyung Min Lee",
      "photoUrl": "",
      "userId": "04331676426637755655"
     },
     "user_tz": -540
    },
    "id": "y26AX5d8S50r",
    "outputId": "ae15076e-a828-4bb2-aa3d-722eb76840f3"
   },
   "outputs": [
    {
     "data": {
      "text/plain": [
       "XGBRegressor(alpha=1e-15, base_score=0.5, booster='gbtree', colsample_bylevel=1,\n",
       "             colsample_bynode=1, colsample_bytree=1, eta=1e-15, gamma=1e-15,\n",
       "             importance_type='gain', lambda=1e-15, learning_rate=0.1,\n",
       "             max_delta_step=0, max_depth=7, min_child_weight=1e-15,\n",
       "             missing=None, n_estimators=100, n_jobs=1, nthread=None,\n",
       "             objective='reg:squarederror', random_state=0, reg_alpha=0,\n",
       "             reg_lambda=1, scale_pos_weight=1, seed=None, silent=None,\n",
       "             subsample=1, verbosity=1)"
      ]
     },
     "execution_count": 31,
     "metadata": {},
     "output_type": "execute_result"
    }
   ],
   "source": [
    "grid_search.best_estimator_"
   ]
  },
  {
   "cell_type": "code",
   "execution_count": 32,
   "metadata": {
    "colab": {
     "base_uri": "https://localhost:8080/",
     "height": 1000
    },
    "colab_type": "code",
    "executionInfo": {
     "elapsed": 621672,
     "status": "ok",
     "timestamp": 1571661849881,
     "user": {
      "displayName": "Kyung Min Lee",
      "photoUrl": "",
      "userId": "04331676426637755655"
     },
     "user_tz": -540
    },
    "id": "NSoz4_do2foa",
    "outputId": "d69dd44c-adb7-4f23-f4e5-15063faff8f6"
   },
   "outputs": [
    {
     "name": "stdout",
     "output_type": "stream",
     "text": [
      "0.723207921612296 {'alpha': 1e-15, 'booster': 'gbtree', 'eta': 1e-15, 'gamma': 1e-15, 'lambda': 1e-15, 'max_depth': 6, 'min_child_weight': 1e-15, 'objective': 'reg:squarederror'}\n",
      "0.723207921612296 {'alpha': 1e-15, 'booster': 'gbtree', 'eta': 1e-15, 'gamma': 1e-15, 'lambda': 1e-15, 'max_depth': 6, 'min_child_weight': 1e-13, 'objective': 'reg:squarederror'}\n",
      "0.723207921612296 {'alpha': 1e-15, 'booster': 'gbtree', 'eta': 1e-15, 'gamma': 1e-15, 'lambda': 1e-15, 'max_depth': 6, 'min_child_weight': 1e-11, 'objective': 'reg:squarederror'}\n",
      "0.7078875852783633 {'alpha': 1e-15, 'booster': 'gbtree', 'eta': 1e-15, 'gamma': 1e-15, 'lambda': 1e-15, 'max_depth': 7, 'min_child_weight': 1e-15, 'objective': 'reg:squarederror'}\n",
      "0.7078875852783633 {'alpha': 1e-15, 'booster': 'gbtree', 'eta': 1e-15, 'gamma': 1e-15, 'lambda': 1e-15, 'max_depth': 7, 'min_child_weight': 1e-13, 'objective': 'reg:squarederror'}\n",
      "0.7078875852783633 {'alpha': 1e-15, 'booster': 'gbtree', 'eta': 1e-15, 'gamma': 1e-15, 'lambda': 1e-15, 'max_depth': 7, 'min_child_weight': 1e-11, 'objective': 'reg:squarederror'}\n",
      "0.7171411017018149 {'alpha': 1e-15, 'booster': 'gbtree', 'eta': 1e-15, 'gamma': 1e-15, 'lambda': 1e-15, 'max_depth': 8, 'min_child_weight': 1e-15, 'objective': 'reg:squarederror'}\n",
      "0.7171411017018149 {'alpha': 1e-15, 'booster': 'gbtree', 'eta': 1e-15, 'gamma': 1e-15, 'lambda': 1e-15, 'max_depth': 8, 'min_child_weight': 1e-13, 'objective': 'reg:squarederror'}\n",
      "0.7171411017018149 {'alpha': 1e-15, 'booster': 'gbtree', 'eta': 1e-15, 'gamma': 1e-15, 'lambda': 1e-15, 'max_depth': 8, 'min_child_weight': 1e-11, 'objective': 'reg:squarederror'}\n",
      "0.723207921612296 {'alpha': 1e-15, 'booster': 'gbtree', 'eta': 1e-15, 'gamma': 1e-15, 'lambda': 1e-13, 'max_depth': 6, 'min_child_weight': 1e-15, 'objective': 'reg:squarederror'}\n",
      "0.723207921612296 {'alpha': 1e-15, 'booster': 'gbtree', 'eta': 1e-15, 'gamma': 1e-15, 'lambda': 1e-13, 'max_depth': 6, 'min_child_weight': 1e-13, 'objective': 'reg:squarederror'}\n",
      "0.723207921612296 {'alpha': 1e-15, 'booster': 'gbtree', 'eta': 1e-15, 'gamma': 1e-15, 'lambda': 1e-13, 'max_depth': 6, 'min_child_weight': 1e-11, 'objective': 'reg:squarederror'}\n",
      "0.7078875852783633 {'alpha': 1e-15, 'booster': 'gbtree', 'eta': 1e-15, 'gamma': 1e-15, 'lambda': 1e-13, 'max_depth': 7, 'min_child_weight': 1e-15, 'objective': 'reg:squarederror'}\n",
      "0.7078875852783633 {'alpha': 1e-15, 'booster': 'gbtree', 'eta': 1e-15, 'gamma': 1e-15, 'lambda': 1e-13, 'max_depth': 7, 'min_child_weight': 1e-13, 'objective': 'reg:squarederror'}\n",
      "0.7078875852783633 {'alpha': 1e-15, 'booster': 'gbtree', 'eta': 1e-15, 'gamma': 1e-15, 'lambda': 1e-13, 'max_depth': 7, 'min_child_weight': 1e-11, 'objective': 'reg:squarederror'}\n",
      "0.7171411017018149 {'alpha': 1e-15, 'booster': 'gbtree', 'eta': 1e-15, 'gamma': 1e-15, 'lambda': 1e-13, 'max_depth': 8, 'min_child_weight': 1e-15, 'objective': 'reg:squarederror'}\n",
      "0.7171411017018149 {'alpha': 1e-15, 'booster': 'gbtree', 'eta': 1e-15, 'gamma': 1e-15, 'lambda': 1e-13, 'max_depth': 8, 'min_child_weight': 1e-13, 'objective': 'reg:squarederror'}\n",
      "0.7171411017018149 {'alpha': 1e-15, 'booster': 'gbtree', 'eta': 1e-15, 'gamma': 1e-15, 'lambda': 1e-13, 'max_depth': 8, 'min_child_weight': 1e-11, 'objective': 'reg:squarederror'}\n",
      "0.723207921612296 {'alpha': 1e-15, 'booster': 'gbtree', 'eta': 1e-15, 'gamma': 1e-15, 'lambda': 1e-11, 'max_depth': 6, 'min_child_weight': 1e-15, 'objective': 'reg:squarederror'}\n",
      "0.723207921612296 {'alpha': 1e-15, 'booster': 'gbtree', 'eta': 1e-15, 'gamma': 1e-15, 'lambda': 1e-11, 'max_depth': 6, 'min_child_weight': 1e-13, 'objective': 'reg:squarederror'}\n",
      "0.723207921612296 {'alpha': 1e-15, 'booster': 'gbtree', 'eta': 1e-15, 'gamma': 1e-15, 'lambda': 1e-11, 'max_depth': 6, 'min_child_weight': 1e-11, 'objective': 'reg:squarederror'}\n",
      "0.7078875852783633 {'alpha': 1e-15, 'booster': 'gbtree', 'eta': 1e-15, 'gamma': 1e-15, 'lambda': 1e-11, 'max_depth': 7, 'min_child_weight': 1e-15, 'objective': 'reg:squarederror'}\n",
      "0.7078875852783633 {'alpha': 1e-15, 'booster': 'gbtree', 'eta': 1e-15, 'gamma': 1e-15, 'lambda': 1e-11, 'max_depth': 7, 'min_child_weight': 1e-13, 'objective': 'reg:squarederror'}\n",
      "0.7078875852783633 {'alpha': 1e-15, 'booster': 'gbtree', 'eta': 1e-15, 'gamma': 1e-15, 'lambda': 1e-11, 'max_depth': 7, 'min_child_weight': 1e-11, 'objective': 'reg:squarederror'}\n",
      "0.7171411017018149 {'alpha': 1e-15, 'booster': 'gbtree', 'eta': 1e-15, 'gamma': 1e-15, 'lambda': 1e-11, 'max_depth': 8, 'min_child_weight': 1e-15, 'objective': 'reg:squarederror'}\n",
      "0.7171411017018149 {'alpha': 1e-15, 'booster': 'gbtree', 'eta': 1e-15, 'gamma': 1e-15, 'lambda': 1e-11, 'max_depth': 8, 'min_child_weight': 1e-13, 'objective': 'reg:squarederror'}\n",
      "0.7171411017018149 {'alpha': 1e-15, 'booster': 'gbtree', 'eta': 1e-15, 'gamma': 1e-15, 'lambda': 1e-11, 'max_depth': 8, 'min_child_weight': 1e-11, 'objective': 'reg:squarederror'}\n",
      "0.723207921612296 {'alpha': 1e-15, 'booster': 'gbtree', 'eta': 1e-15, 'gamma': 1e-13, 'lambda': 1e-15, 'max_depth': 6, 'min_child_weight': 1e-15, 'objective': 'reg:squarederror'}\n",
      "0.723207921612296 {'alpha': 1e-15, 'booster': 'gbtree', 'eta': 1e-15, 'gamma': 1e-13, 'lambda': 1e-15, 'max_depth': 6, 'min_child_weight': 1e-13, 'objective': 'reg:squarederror'}\n",
      "0.723207921612296 {'alpha': 1e-15, 'booster': 'gbtree', 'eta': 1e-15, 'gamma': 1e-13, 'lambda': 1e-15, 'max_depth': 6, 'min_child_weight': 1e-11, 'objective': 'reg:squarederror'}\n",
      "0.7078875852783633 {'alpha': 1e-15, 'booster': 'gbtree', 'eta': 1e-15, 'gamma': 1e-13, 'lambda': 1e-15, 'max_depth': 7, 'min_child_weight': 1e-15, 'objective': 'reg:squarederror'}\n",
      "0.7078875852783633 {'alpha': 1e-15, 'booster': 'gbtree', 'eta': 1e-15, 'gamma': 1e-13, 'lambda': 1e-15, 'max_depth': 7, 'min_child_weight': 1e-13, 'objective': 'reg:squarederror'}\n",
      "0.7078875852783633 {'alpha': 1e-15, 'booster': 'gbtree', 'eta': 1e-15, 'gamma': 1e-13, 'lambda': 1e-15, 'max_depth': 7, 'min_child_weight': 1e-11, 'objective': 'reg:squarederror'}\n",
      "0.7171411017018149 {'alpha': 1e-15, 'booster': 'gbtree', 'eta': 1e-15, 'gamma': 1e-13, 'lambda': 1e-15, 'max_depth': 8, 'min_child_weight': 1e-15, 'objective': 'reg:squarederror'}\n",
      "0.7171411017018149 {'alpha': 1e-15, 'booster': 'gbtree', 'eta': 1e-15, 'gamma': 1e-13, 'lambda': 1e-15, 'max_depth': 8, 'min_child_weight': 1e-13, 'objective': 'reg:squarederror'}\n",
      "0.7171411017018149 {'alpha': 1e-15, 'booster': 'gbtree', 'eta': 1e-15, 'gamma': 1e-13, 'lambda': 1e-15, 'max_depth': 8, 'min_child_weight': 1e-11, 'objective': 'reg:squarederror'}\n",
      "0.723207921612296 {'alpha': 1e-15, 'booster': 'gbtree', 'eta': 1e-15, 'gamma': 1e-13, 'lambda': 1e-13, 'max_depth': 6, 'min_child_weight': 1e-15, 'objective': 'reg:squarederror'}\n",
      "0.723207921612296 {'alpha': 1e-15, 'booster': 'gbtree', 'eta': 1e-15, 'gamma': 1e-13, 'lambda': 1e-13, 'max_depth': 6, 'min_child_weight': 1e-13, 'objective': 'reg:squarederror'}\n",
      "0.723207921612296 {'alpha': 1e-15, 'booster': 'gbtree', 'eta': 1e-15, 'gamma': 1e-13, 'lambda': 1e-13, 'max_depth': 6, 'min_child_weight': 1e-11, 'objective': 'reg:squarederror'}\n",
      "0.7078875852783633 {'alpha': 1e-15, 'booster': 'gbtree', 'eta': 1e-15, 'gamma': 1e-13, 'lambda': 1e-13, 'max_depth': 7, 'min_child_weight': 1e-15, 'objective': 'reg:squarederror'}\n",
      "0.7078875852783633 {'alpha': 1e-15, 'booster': 'gbtree', 'eta': 1e-15, 'gamma': 1e-13, 'lambda': 1e-13, 'max_depth': 7, 'min_child_weight': 1e-13, 'objective': 'reg:squarederror'}\n",
      "0.7078875852783633 {'alpha': 1e-15, 'booster': 'gbtree', 'eta': 1e-15, 'gamma': 1e-13, 'lambda': 1e-13, 'max_depth': 7, 'min_child_weight': 1e-11, 'objective': 'reg:squarederror'}\n",
      "0.7171411017018149 {'alpha': 1e-15, 'booster': 'gbtree', 'eta': 1e-15, 'gamma': 1e-13, 'lambda': 1e-13, 'max_depth': 8, 'min_child_weight': 1e-15, 'objective': 'reg:squarederror'}\n",
      "0.7171411017018149 {'alpha': 1e-15, 'booster': 'gbtree', 'eta': 1e-15, 'gamma': 1e-13, 'lambda': 1e-13, 'max_depth': 8, 'min_child_weight': 1e-13, 'objective': 'reg:squarederror'}\n",
      "0.7171411017018149 {'alpha': 1e-15, 'booster': 'gbtree', 'eta': 1e-15, 'gamma': 1e-13, 'lambda': 1e-13, 'max_depth': 8, 'min_child_weight': 1e-11, 'objective': 'reg:squarederror'}\n",
      "0.723207921612296 {'alpha': 1e-15, 'booster': 'gbtree', 'eta': 1e-15, 'gamma': 1e-13, 'lambda': 1e-11, 'max_depth': 6, 'min_child_weight': 1e-15, 'objective': 'reg:squarederror'}\n",
      "0.723207921612296 {'alpha': 1e-15, 'booster': 'gbtree', 'eta': 1e-15, 'gamma': 1e-13, 'lambda': 1e-11, 'max_depth': 6, 'min_child_weight': 1e-13, 'objective': 'reg:squarederror'}\n",
      "0.723207921612296 {'alpha': 1e-15, 'booster': 'gbtree', 'eta': 1e-15, 'gamma': 1e-13, 'lambda': 1e-11, 'max_depth': 6, 'min_child_weight': 1e-11, 'objective': 'reg:squarederror'}\n",
      "0.7078875852783633 {'alpha': 1e-15, 'booster': 'gbtree', 'eta': 1e-15, 'gamma': 1e-13, 'lambda': 1e-11, 'max_depth': 7, 'min_child_weight': 1e-15, 'objective': 'reg:squarederror'}\n",
      "0.7078875852783633 {'alpha': 1e-15, 'booster': 'gbtree', 'eta': 1e-15, 'gamma': 1e-13, 'lambda': 1e-11, 'max_depth': 7, 'min_child_weight': 1e-13, 'objective': 'reg:squarederror'}\n",
      "0.7078875852783633 {'alpha': 1e-15, 'booster': 'gbtree', 'eta': 1e-15, 'gamma': 1e-13, 'lambda': 1e-11, 'max_depth': 7, 'min_child_weight': 1e-11, 'objective': 'reg:squarederror'}\n",
      "0.7171411017018149 {'alpha': 1e-15, 'booster': 'gbtree', 'eta': 1e-15, 'gamma': 1e-13, 'lambda': 1e-11, 'max_depth': 8, 'min_child_weight': 1e-15, 'objective': 'reg:squarederror'}\n",
      "0.7171411017018149 {'alpha': 1e-15, 'booster': 'gbtree', 'eta': 1e-15, 'gamma': 1e-13, 'lambda': 1e-11, 'max_depth': 8, 'min_child_weight': 1e-13, 'objective': 'reg:squarederror'}\n",
      "0.7171411017018149 {'alpha': 1e-15, 'booster': 'gbtree', 'eta': 1e-15, 'gamma': 1e-13, 'lambda': 1e-11, 'max_depth': 8, 'min_child_weight': 1e-11, 'objective': 'reg:squarederror'}\n",
      "0.723207921612296 {'alpha': 1e-15, 'booster': 'gbtree', 'eta': 1e-15, 'gamma': 1e-11, 'lambda': 1e-15, 'max_depth': 6, 'min_child_weight': 1e-15, 'objective': 'reg:squarederror'}\n",
      "0.723207921612296 {'alpha': 1e-15, 'booster': 'gbtree', 'eta': 1e-15, 'gamma': 1e-11, 'lambda': 1e-15, 'max_depth': 6, 'min_child_weight': 1e-13, 'objective': 'reg:squarederror'}\n",
      "0.723207921612296 {'alpha': 1e-15, 'booster': 'gbtree', 'eta': 1e-15, 'gamma': 1e-11, 'lambda': 1e-15, 'max_depth': 6, 'min_child_weight': 1e-11, 'objective': 'reg:squarederror'}\n",
      "0.7078875852783633 {'alpha': 1e-15, 'booster': 'gbtree', 'eta': 1e-15, 'gamma': 1e-11, 'lambda': 1e-15, 'max_depth': 7, 'min_child_weight': 1e-15, 'objective': 'reg:squarederror'}\n",
      "0.7078875852783633 {'alpha': 1e-15, 'booster': 'gbtree', 'eta': 1e-15, 'gamma': 1e-11, 'lambda': 1e-15, 'max_depth': 7, 'min_child_weight': 1e-13, 'objective': 'reg:squarederror'}\n",
      "0.7078875852783633 {'alpha': 1e-15, 'booster': 'gbtree', 'eta': 1e-15, 'gamma': 1e-11, 'lambda': 1e-15, 'max_depth': 7, 'min_child_weight': 1e-11, 'objective': 'reg:squarederror'}\n",
      "0.7171411017018149 {'alpha': 1e-15, 'booster': 'gbtree', 'eta': 1e-15, 'gamma': 1e-11, 'lambda': 1e-15, 'max_depth': 8, 'min_child_weight': 1e-15, 'objective': 'reg:squarederror'}\n",
      "0.7171411017018149 {'alpha': 1e-15, 'booster': 'gbtree', 'eta': 1e-15, 'gamma': 1e-11, 'lambda': 1e-15, 'max_depth': 8, 'min_child_weight': 1e-13, 'objective': 'reg:squarederror'}\n",
      "0.7171411017018149 {'alpha': 1e-15, 'booster': 'gbtree', 'eta': 1e-15, 'gamma': 1e-11, 'lambda': 1e-15, 'max_depth': 8, 'min_child_weight': 1e-11, 'objective': 'reg:squarederror'}\n",
      "0.723207921612296 {'alpha': 1e-15, 'booster': 'gbtree', 'eta': 1e-15, 'gamma': 1e-11, 'lambda': 1e-13, 'max_depth': 6, 'min_child_weight': 1e-15, 'objective': 'reg:squarederror'}\n",
      "0.723207921612296 {'alpha': 1e-15, 'booster': 'gbtree', 'eta': 1e-15, 'gamma': 1e-11, 'lambda': 1e-13, 'max_depth': 6, 'min_child_weight': 1e-13, 'objective': 'reg:squarederror'}\n",
      "0.723207921612296 {'alpha': 1e-15, 'booster': 'gbtree', 'eta': 1e-15, 'gamma': 1e-11, 'lambda': 1e-13, 'max_depth': 6, 'min_child_weight': 1e-11, 'objective': 'reg:squarederror'}\n",
      "0.7078875852783633 {'alpha': 1e-15, 'booster': 'gbtree', 'eta': 1e-15, 'gamma': 1e-11, 'lambda': 1e-13, 'max_depth': 7, 'min_child_weight': 1e-15, 'objective': 'reg:squarederror'}\n",
      "0.7078875852783633 {'alpha': 1e-15, 'booster': 'gbtree', 'eta': 1e-15, 'gamma': 1e-11, 'lambda': 1e-13, 'max_depth': 7, 'min_child_weight': 1e-13, 'objective': 'reg:squarederror'}\n",
      "0.7078875852783633 {'alpha': 1e-15, 'booster': 'gbtree', 'eta': 1e-15, 'gamma': 1e-11, 'lambda': 1e-13, 'max_depth': 7, 'min_child_weight': 1e-11, 'objective': 'reg:squarederror'}\n",
      "0.7171411017018149 {'alpha': 1e-15, 'booster': 'gbtree', 'eta': 1e-15, 'gamma': 1e-11, 'lambda': 1e-13, 'max_depth': 8, 'min_child_weight': 1e-15, 'objective': 'reg:squarederror'}\n",
      "0.7171411017018149 {'alpha': 1e-15, 'booster': 'gbtree', 'eta': 1e-15, 'gamma': 1e-11, 'lambda': 1e-13, 'max_depth': 8, 'min_child_weight': 1e-13, 'objective': 'reg:squarederror'}\n",
      "0.7171411017018149 {'alpha': 1e-15, 'booster': 'gbtree', 'eta': 1e-15, 'gamma': 1e-11, 'lambda': 1e-13, 'max_depth': 8, 'min_child_weight': 1e-11, 'objective': 'reg:squarederror'}\n",
      "0.723207921612296 {'alpha': 1e-15, 'booster': 'gbtree', 'eta': 1e-15, 'gamma': 1e-11, 'lambda': 1e-11, 'max_depth': 6, 'min_child_weight': 1e-15, 'objective': 'reg:squarederror'}\n",
      "0.723207921612296 {'alpha': 1e-15, 'booster': 'gbtree', 'eta': 1e-15, 'gamma': 1e-11, 'lambda': 1e-11, 'max_depth': 6, 'min_child_weight': 1e-13, 'objective': 'reg:squarederror'}\n",
      "0.723207921612296 {'alpha': 1e-15, 'booster': 'gbtree', 'eta': 1e-15, 'gamma': 1e-11, 'lambda': 1e-11, 'max_depth': 6, 'min_child_weight': 1e-11, 'objective': 'reg:squarederror'}\n",
      "0.7078875852783633 {'alpha': 1e-15, 'booster': 'gbtree', 'eta': 1e-15, 'gamma': 1e-11, 'lambda': 1e-11, 'max_depth': 7, 'min_child_weight': 1e-15, 'objective': 'reg:squarederror'}\n",
      "0.7078875852783633 {'alpha': 1e-15, 'booster': 'gbtree', 'eta': 1e-15, 'gamma': 1e-11, 'lambda': 1e-11, 'max_depth': 7, 'min_child_weight': 1e-13, 'objective': 'reg:squarederror'}\n",
      "0.7078875852783633 {'alpha': 1e-15, 'booster': 'gbtree', 'eta': 1e-15, 'gamma': 1e-11, 'lambda': 1e-11, 'max_depth': 7, 'min_child_weight': 1e-11, 'objective': 'reg:squarederror'}\n",
      "0.7171411017018149 {'alpha': 1e-15, 'booster': 'gbtree', 'eta': 1e-15, 'gamma': 1e-11, 'lambda': 1e-11, 'max_depth': 8, 'min_child_weight': 1e-15, 'objective': 'reg:squarederror'}\n",
      "0.7171411017018149 {'alpha': 1e-15, 'booster': 'gbtree', 'eta': 1e-15, 'gamma': 1e-11, 'lambda': 1e-11, 'max_depth': 8, 'min_child_weight': 1e-13, 'objective': 'reg:squarederror'}\n",
      "0.7171411017018149 {'alpha': 1e-15, 'booster': 'gbtree', 'eta': 1e-15, 'gamma': 1e-11, 'lambda': 1e-11, 'max_depth': 8, 'min_child_weight': 1e-11, 'objective': 'reg:squarederror'}\n",
      "0.723207921612296 {'alpha': 1e-15, 'booster': 'gbtree', 'eta': 1e-13, 'gamma': 1e-15, 'lambda': 1e-15, 'max_depth': 6, 'min_child_weight': 1e-15, 'objective': 'reg:squarederror'}\n",
      "0.723207921612296 {'alpha': 1e-15, 'booster': 'gbtree', 'eta': 1e-13, 'gamma': 1e-15, 'lambda': 1e-15, 'max_depth': 6, 'min_child_weight': 1e-13, 'objective': 'reg:squarederror'}\n",
      "0.723207921612296 {'alpha': 1e-15, 'booster': 'gbtree', 'eta': 1e-13, 'gamma': 1e-15, 'lambda': 1e-15, 'max_depth': 6, 'min_child_weight': 1e-11, 'objective': 'reg:squarederror'}\n",
      "0.7078875852783633 {'alpha': 1e-15, 'booster': 'gbtree', 'eta': 1e-13, 'gamma': 1e-15, 'lambda': 1e-15, 'max_depth': 7, 'min_child_weight': 1e-15, 'objective': 'reg:squarederror'}\n",
      "0.7078875852783633 {'alpha': 1e-15, 'booster': 'gbtree', 'eta': 1e-13, 'gamma': 1e-15, 'lambda': 1e-15, 'max_depth': 7, 'min_child_weight': 1e-13, 'objective': 'reg:squarederror'}\n",
      "0.7078875852783633 {'alpha': 1e-15, 'booster': 'gbtree', 'eta': 1e-13, 'gamma': 1e-15, 'lambda': 1e-15, 'max_depth': 7, 'min_child_weight': 1e-11, 'objective': 'reg:squarederror'}\n",
      "0.7171411017018149 {'alpha': 1e-15, 'booster': 'gbtree', 'eta': 1e-13, 'gamma': 1e-15, 'lambda': 1e-15, 'max_depth': 8, 'min_child_weight': 1e-15, 'objective': 'reg:squarederror'}\n",
      "0.7171411017018149 {'alpha': 1e-15, 'booster': 'gbtree', 'eta': 1e-13, 'gamma': 1e-15, 'lambda': 1e-15, 'max_depth': 8, 'min_child_weight': 1e-13, 'objective': 'reg:squarederror'}\n",
      "0.7171411017018149 {'alpha': 1e-15, 'booster': 'gbtree', 'eta': 1e-13, 'gamma': 1e-15, 'lambda': 1e-15, 'max_depth': 8, 'min_child_weight': 1e-11, 'objective': 'reg:squarederror'}\n",
      "0.723207921612296 {'alpha': 1e-15, 'booster': 'gbtree', 'eta': 1e-13, 'gamma': 1e-15, 'lambda': 1e-13, 'max_depth': 6, 'min_child_weight': 1e-15, 'objective': 'reg:squarederror'}\n",
      "0.723207921612296 {'alpha': 1e-15, 'booster': 'gbtree', 'eta': 1e-13, 'gamma': 1e-15, 'lambda': 1e-13, 'max_depth': 6, 'min_child_weight': 1e-13, 'objective': 'reg:squarederror'}\n",
      "0.723207921612296 {'alpha': 1e-15, 'booster': 'gbtree', 'eta': 1e-13, 'gamma': 1e-15, 'lambda': 1e-13, 'max_depth': 6, 'min_child_weight': 1e-11, 'objective': 'reg:squarederror'}\n",
      "0.7078875852783633 {'alpha': 1e-15, 'booster': 'gbtree', 'eta': 1e-13, 'gamma': 1e-15, 'lambda': 1e-13, 'max_depth': 7, 'min_child_weight': 1e-15, 'objective': 'reg:squarederror'}\n",
      "0.7078875852783633 {'alpha': 1e-15, 'booster': 'gbtree', 'eta': 1e-13, 'gamma': 1e-15, 'lambda': 1e-13, 'max_depth': 7, 'min_child_weight': 1e-13, 'objective': 'reg:squarederror'}\n",
      "0.7078875852783633 {'alpha': 1e-15, 'booster': 'gbtree', 'eta': 1e-13, 'gamma': 1e-15, 'lambda': 1e-13, 'max_depth': 7, 'min_child_weight': 1e-11, 'objective': 'reg:squarederror'}\n",
      "0.7171411017018149 {'alpha': 1e-15, 'booster': 'gbtree', 'eta': 1e-13, 'gamma': 1e-15, 'lambda': 1e-13, 'max_depth': 8, 'min_child_weight': 1e-15, 'objective': 'reg:squarederror'}\n",
      "0.7171411017018149 {'alpha': 1e-15, 'booster': 'gbtree', 'eta': 1e-13, 'gamma': 1e-15, 'lambda': 1e-13, 'max_depth': 8, 'min_child_weight': 1e-13, 'objective': 'reg:squarederror'}\n",
      "0.7171411017018149 {'alpha': 1e-15, 'booster': 'gbtree', 'eta': 1e-13, 'gamma': 1e-15, 'lambda': 1e-13, 'max_depth': 8, 'min_child_weight': 1e-11, 'objective': 'reg:squarederror'}\n",
      "0.723207921612296 {'alpha': 1e-15, 'booster': 'gbtree', 'eta': 1e-13, 'gamma': 1e-15, 'lambda': 1e-11, 'max_depth': 6, 'min_child_weight': 1e-15, 'objective': 'reg:squarederror'}\n",
      "0.723207921612296 {'alpha': 1e-15, 'booster': 'gbtree', 'eta': 1e-13, 'gamma': 1e-15, 'lambda': 1e-11, 'max_depth': 6, 'min_child_weight': 1e-13, 'objective': 'reg:squarederror'}\n",
      "0.723207921612296 {'alpha': 1e-15, 'booster': 'gbtree', 'eta': 1e-13, 'gamma': 1e-15, 'lambda': 1e-11, 'max_depth': 6, 'min_child_weight': 1e-11, 'objective': 'reg:squarederror'}\n",
      "0.7078875852783633 {'alpha': 1e-15, 'booster': 'gbtree', 'eta': 1e-13, 'gamma': 1e-15, 'lambda': 1e-11, 'max_depth': 7, 'min_child_weight': 1e-15, 'objective': 'reg:squarederror'}\n",
      "0.7078875852783633 {'alpha': 1e-15, 'booster': 'gbtree', 'eta': 1e-13, 'gamma': 1e-15, 'lambda': 1e-11, 'max_depth': 7, 'min_child_weight': 1e-13, 'objective': 'reg:squarederror'}\n",
      "0.7078875852783633 {'alpha': 1e-15, 'booster': 'gbtree', 'eta': 1e-13, 'gamma': 1e-15, 'lambda': 1e-11, 'max_depth': 7, 'min_child_weight': 1e-11, 'objective': 'reg:squarederror'}\n",
      "0.7171411017018149 {'alpha': 1e-15, 'booster': 'gbtree', 'eta': 1e-13, 'gamma': 1e-15, 'lambda': 1e-11, 'max_depth': 8, 'min_child_weight': 1e-15, 'objective': 'reg:squarederror'}\n",
      "0.7171411017018149 {'alpha': 1e-15, 'booster': 'gbtree', 'eta': 1e-13, 'gamma': 1e-15, 'lambda': 1e-11, 'max_depth': 8, 'min_child_weight': 1e-13, 'objective': 'reg:squarederror'}\n",
      "0.7171411017018149 {'alpha': 1e-15, 'booster': 'gbtree', 'eta': 1e-13, 'gamma': 1e-15, 'lambda': 1e-11, 'max_depth': 8, 'min_child_weight': 1e-11, 'objective': 'reg:squarederror'}\n",
      "0.723207921612296 {'alpha': 1e-15, 'booster': 'gbtree', 'eta': 1e-13, 'gamma': 1e-13, 'lambda': 1e-15, 'max_depth': 6, 'min_child_weight': 1e-15, 'objective': 'reg:squarederror'}\n",
      "0.723207921612296 {'alpha': 1e-15, 'booster': 'gbtree', 'eta': 1e-13, 'gamma': 1e-13, 'lambda': 1e-15, 'max_depth': 6, 'min_child_weight': 1e-13, 'objective': 'reg:squarederror'}\n",
      "0.723207921612296 {'alpha': 1e-15, 'booster': 'gbtree', 'eta': 1e-13, 'gamma': 1e-13, 'lambda': 1e-15, 'max_depth': 6, 'min_child_weight': 1e-11, 'objective': 'reg:squarederror'}\n",
      "0.7078875852783633 {'alpha': 1e-15, 'booster': 'gbtree', 'eta': 1e-13, 'gamma': 1e-13, 'lambda': 1e-15, 'max_depth': 7, 'min_child_weight': 1e-15, 'objective': 'reg:squarederror'}\n",
      "0.7078875852783633 {'alpha': 1e-15, 'booster': 'gbtree', 'eta': 1e-13, 'gamma': 1e-13, 'lambda': 1e-15, 'max_depth': 7, 'min_child_weight': 1e-13, 'objective': 'reg:squarederror'}\n",
      "0.7078875852783633 {'alpha': 1e-15, 'booster': 'gbtree', 'eta': 1e-13, 'gamma': 1e-13, 'lambda': 1e-15, 'max_depth': 7, 'min_child_weight': 1e-11, 'objective': 'reg:squarederror'}\n",
      "0.7171411017018149 {'alpha': 1e-15, 'booster': 'gbtree', 'eta': 1e-13, 'gamma': 1e-13, 'lambda': 1e-15, 'max_depth': 8, 'min_child_weight': 1e-15, 'objective': 'reg:squarederror'}\n",
      "0.7171411017018149 {'alpha': 1e-15, 'booster': 'gbtree', 'eta': 1e-13, 'gamma': 1e-13, 'lambda': 1e-15, 'max_depth': 8, 'min_child_weight': 1e-13, 'objective': 'reg:squarederror'}\n",
      "0.7171411017018149 {'alpha': 1e-15, 'booster': 'gbtree', 'eta': 1e-13, 'gamma': 1e-13, 'lambda': 1e-15, 'max_depth': 8, 'min_child_weight': 1e-11, 'objective': 'reg:squarederror'}\n",
      "0.723207921612296 {'alpha': 1e-15, 'booster': 'gbtree', 'eta': 1e-13, 'gamma': 1e-13, 'lambda': 1e-13, 'max_depth': 6, 'min_child_weight': 1e-15, 'objective': 'reg:squarederror'}\n",
      "0.723207921612296 {'alpha': 1e-15, 'booster': 'gbtree', 'eta': 1e-13, 'gamma': 1e-13, 'lambda': 1e-13, 'max_depth': 6, 'min_child_weight': 1e-13, 'objective': 'reg:squarederror'}\n",
      "0.723207921612296 {'alpha': 1e-15, 'booster': 'gbtree', 'eta': 1e-13, 'gamma': 1e-13, 'lambda': 1e-13, 'max_depth': 6, 'min_child_weight': 1e-11, 'objective': 'reg:squarederror'}\n",
      "0.7078875852783633 {'alpha': 1e-15, 'booster': 'gbtree', 'eta': 1e-13, 'gamma': 1e-13, 'lambda': 1e-13, 'max_depth': 7, 'min_child_weight': 1e-15, 'objective': 'reg:squarederror'}\n",
      "0.7078875852783633 {'alpha': 1e-15, 'booster': 'gbtree', 'eta': 1e-13, 'gamma': 1e-13, 'lambda': 1e-13, 'max_depth': 7, 'min_child_weight': 1e-13, 'objective': 'reg:squarederror'}\n",
      "0.7078875852783633 {'alpha': 1e-15, 'booster': 'gbtree', 'eta': 1e-13, 'gamma': 1e-13, 'lambda': 1e-13, 'max_depth': 7, 'min_child_weight': 1e-11, 'objective': 'reg:squarederror'}\n",
      "0.7171411017018149 {'alpha': 1e-15, 'booster': 'gbtree', 'eta': 1e-13, 'gamma': 1e-13, 'lambda': 1e-13, 'max_depth': 8, 'min_child_weight': 1e-15, 'objective': 'reg:squarederror'}\n",
      "0.7171411017018149 {'alpha': 1e-15, 'booster': 'gbtree', 'eta': 1e-13, 'gamma': 1e-13, 'lambda': 1e-13, 'max_depth': 8, 'min_child_weight': 1e-13, 'objective': 'reg:squarederror'}\n",
      "0.7171411017018149 {'alpha': 1e-15, 'booster': 'gbtree', 'eta': 1e-13, 'gamma': 1e-13, 'lambda': 1e-13, 'max_depth': 8, 'min_child_weight': 1e-11, 'objective': 'reg:squarederror'}\n",
      "0.723207921612296 {'alpha': 1e-15, 'booster': 'gbtree', 'eta': 1e-13, 'gamma': 1e-13, 'lambda': 1e-11, 'max_depth': 6, 'min_child_weight': 1e-15, 'objective': 'reg:squarederror'}\n",
      "0.723207921612296 {'alpha': 1e-15, 'booster': 'gbtree', 'eta': 1e-13, 'gamma': 1e-13, 'lambda': 1e-11, 'max_depth': 6, 'min_child_weight': 1e-13, 'objective': 'reg:squarederror'}\n",
      "0.723207921612296 {'alpha': 1e-15, 'booster': 'gbtree', 'eta': 1e-13, 'gamma': 1e-13, 'lambda': 1e-11, 'max_depth': 6, 'min_child_weight': 1e-11, 'objective': 'reg:squarederror'}\n",
      "0.7078875852783633 {'alpha': 1e-15, 'booster': 'gbtree', 'eta': 1e-13, 'gamma': 1e-13, 'lambda': 1e-11, 'max_depth': 7, 'min_child_weight': 1e-15, 'objective': 'reg:squarederror'}\n",
      "0.7078875852783633 {'alpha': 1e-15, 'booster': 'gbtree', 'eta': 1e-13, 'gamma': 1e-13, 'lambda': 1e-11, 'max_depth': 7, 'min_child_weight': 1e-13, 'objective': 'reg:squarederror'}\n",
      "0.7078875852783633 {'alpha': 1e-15, 'booster': 'gbtree', 'eta': 1e-13, 'gamma': 1e-13, 'lambda': 1e-11, 'max_depth': 7, 'min_child_weight': 1e-11, 'objective': 'reg:squarederror'}\n",
      "0.7171411017018149 {'alpha': 1e-15, 'booster': 'gbtree', 'eta': 1e-13, 'gamma': 1e-13, 'lambda': 1e-11, 'max_depth': 8, 'min_child_weight': 1e-15, 'objective': 'reg:squarederror'}\n",
      "0.7171411017018149 {'alpha': 1e-15, 'booster': 'gbtree', 'eta': 1e-13, 'gamma': 1e-13, 'lambda': 1e-11, 'max_depth': 8, 'min_child_weight': 1e-13, 'objective': 'reg:squarederror'}\n",
      "0.7171411017018149 {'alpha': 1e-15, 'booster': 'gbtree', 'eta': 1e-13, 'gamma': 1e-13, 'lambda': 1e-11, 'max_depth': 8, 'min_child_weight': 1e-11, 'objective': 'reg:squarederror'}\n",
      "0.723207921612296 {'alpha': 1e-15, 'booster': 'gbtree', 'eta': 1e-13, 'gamma': 1e-11, 'lambda': 1e-15, 'max_depth': 6, 'min_child_weight': 1e-15, 'objective': 'reg:squarederror'}\n",
      "0.723207921612296 {'alpha': 1e-15, 'booster': 'gbtree', 'eta': 1e-13, 'gamma': 1e-11, 'lambda': 1e-15, 'max_depth': 6, 'min_child_weight': 1e-13, 'objective': 'reg:squarederror'}\n",
      "0.723207921612296 {'alpha': 1e-15, 'booster': 'gbtree', 'eta': 1e-13, 'gamma': 1e-11, 'lambda': 1e-15, 'max_depth': 6, 'min_child_weight': 1e-11, 'objective': 'reg:squarederror'}\n",
      "0.7078875852783633 {'alpha': 1e-15, 'booster': 'gbtree', 'eta': 1e-13, 'gamma': 1e-11, 'lambda': 1e-15, 'max_depth': 7, 'min_child_weight': 1e-15, 'objective': 'reg:squarederror'}\n",
      "0.7078875852783633 {'alpha': 1e-15, 'booster': 'gbtree', 'eta': 1e-13, 'gamma': 1e-11, 'lambda': 1e-15, 'max_depth': 7, 'min_child_weight': 1e-13, 'objective': 'reg:squarederror'}\n",
      "0.7078875852783633 {'alpha': 1e-15, 'booster': 'gbtree', 'eta': 1e-13, 'gamma': 1e-11, 'lambda': 1e-15, 'max_depth': 7, 'min_child_weight': 1e-11, 'objective': 'reg:squarederror'}\n",
      "0.7171411017018149 {'alpha': 1e-15, 'booster': 'gbtree', 'eta': 1e-13, 'gamma': 1e-11, 'lambda': 1e-15, 'max_depth': 8, 'min_child_weight': 1e-15, 'objective': 'reg:squarederror'}\n",
      "0.7171411017018149 {'alpha': 1e-15, 'booster': 'gbtree', 'eta': 1e-13, 'gamma': 1e-11, 'lambda': 1e-15, 'max_depth': 8, 'min_child_weight': 1e-13, 'objective': 'reg:squarederror'}\n",
      "0.7171411017018149 {'alpha': 1e-15, 'booster': 'gbtree', 'eta': 1e-13, 'gamma': 1e-11, 'lambda': 1e-15, 'max_depth': 8, 'min_child_weight': 1e-11, 'objective': 'reg:squarederror'}\n",
      "0.723207921612296 {'alpha': 1e-15, 'booster': 'gbtree', 'eta': 1e-13, 'gamma': 1e-11, 'lambda': 1e-13, 'max_depth': 6, 'min_child_weight': 1e-15, 'objective': 'reg:squarederror'}\n",
      "0.723207921612296 {'alpha': 1e-15, 'booster': 'gbtree', 'eta': 1e-13, 'gamma': 1e-11, 'lambda': 1e-13, 'max_depth': 6, 'min_child_weight': 1e-13, 'objective': 'reg:squarederror'}\n",
      "0.723207921612296 {'alpha': 1e-15, 'booster': 'gbtree', 'eta': 1e-13, 'gamma': 1e-11, 'lambda': 1e-13, 'max_depth': 6, 'min_child_weight': 1e-11, 'objective': 'reg:squarederror'}\n",
      "0.7078875852783633 {'alpha': 1e-15, 'booster': 'gbtree', 'eta': 1e-13, 'gamma': 1e-11, 'lambda': 1e-13, 'max_depth': 7, 'min_child_weight': 1e-15, 'objective': 'reg:squarederror'}\n",
      "0.7078875852783633 {'alpha': 1e-15, 'booster': 'gbtree', 'eta': 1e-13, 'gamma': 1e-11, 'lambda': 1e-13, 'max_depth': 7, 'min_child_weight': 1e-13, 'objective': 'reg:squarederror'}\n",
      "0.7078875852783633 {'alpha': 1e-15, 'booster': 'gbtree', 'eta': 1e-13, 'gamma': 1e-11, 'lambda': 1e-13, 'max_depth': 7, 'min_child_weight': 1e-11, 'objective': 'reg:squarederror'}\n",
      "0.7171411017018149 {'alpha': 1e-15, 'booster': 'gbtree', 'eta': 1e-13, 'gamma': 1e-11, 'lambda': 1e-13, 'max_depth': 8, 'min_child_weight': 1e-15, 'objective': 'reg:squarederror'}\n",
      "0.7171411017018149 {'alpha': 1e-15, 'booster': 'gbtree', 'eta': 1e-13, 'gamma': 1e-11, 'lambda': 1e-13, 'max_depth': 8, 'min_child_weight': 1e-13, 'objective': 'reg:squarederror'}\n",
      "0.7171411017018149 {'alpha': 1e-15, 'booster': 'gbtree', 'eta': 1e-13, 'gamma': 1e-11, 'lambda': 1e-13, 'max_depth': 8, 'min_child_weight': 1e-11, 'objective': 'reg:squarederror'}\n",
      "0.723207921612296 {'alpha': 1e-15, 'booster': 'gbtree', 'eta': 1e-13, 'gamma': 1e-11, 'lambda': 1e-11, 'max_depth': 6, 'min_child_weight': 1e-15, 'objective': 'reg:squarederror'}\n",
      "0.723207921612296 {'alpha': 1e-15, 'booster': 'gbtree', 'eta': 1e-13, 'gamma': 1e-11, 'lambda': 1e-11, 'max_depth': 6, 'min_child_weight': 1e-13, 'objective': 'reg:squarederror'}\n",
      "0.723207921612296 {'alpha': 1e-15, 'booster': 'gbtree', 'eta': 1e-13, 'gamma': 1e-11, 'lambda': 1e-11, 'max_depth': 6, 'min_child_weight': 1e-11, 'objective': 'reg:squarederror'}\n",
      "0.7078875852783633 {'alpha': 1e-15, 'booster': 'gbtree', 'eta': 1e-13, 'gamma': 1e-11, 'lambda': 1e-11, 'max_depth': 7, 'min_child_weight': 1e-15, 'objective': 'reg:squarederror'}\n",
      "0.7078875852783633 {'alpha': 1e-15, 'booster': 'gbtree', 'eta': 1e-13, 'gamma': 1e-11, 'lambda': 1e-11, 'max_depth': 7, 'min_child_weight': 1e-13, 'objective': 'reg:squarederror'}\n",
      "0.7078875852783633 {'alpha': 1e-15, 'booster': 'gbtree', 'eta': 1e-13, 'gamma': 1e-11, 'lambda': 1e-11, 'max_depth': 7, 'min_child_weight': 1e-11, 'objective': 'reg:squarederror'}\n",
      "0.7171411017018149 {'alpha': 1e-15, 'booster': 'gbtree', 'eta': 1e-13, 'gamma': 1e-11, 'lambda': 1e-11, 'max_depth': 8, 'min_child_weight': 1e-15, 'objective': 'reg:squarederror'}\n",
      "0.7171411017018149 {'alpha': 1e-15, 'booster': 'gbtree', 'eta': 1e-13, 'gamma': 1e-11, 'lambda': 1e-11, 'max_depth': 8, 'min_child_weight': 1e-13, 'objective': 'reg:squarederror'}\n",
      "0.7171411017018149 {'alpha': 1e-15, 'booster': 'gbtree', 'eta': 1e-13, 'gamma': 1e-11, 'lambda': 1e-11, 'max_depth': 8, 'min_child_weight': 1e-11, 'objective': 'reg:squarederror'}\n",
      "0.723207921612296 {'alpha': 1e-15, 'booster': 'gbtree', 'eta': 1e-11, 'gamma': 1e-15, 'lambda': 1e-15, 'max_depth': 6, 'min_child_weight': 1e-15, 'objective': 'reg:squarederror'}\n",
      "0.723207921612296 {'alpha': 1e-15, 'booster': 'gbtree', 'eta': 1e-11, 'gamma': 1e-15, 'lambda': 1e-15, 'max_depth': 6, 'min_child_weight': 1e-13, 'objective': 'reg:squarederror'}\n",
      "0.723207921612296 {'alpha': 1e-15, 'booster': 'gbtree', 'eta': 1e-11, 'gamma': 1e-15, 'lambda': 1e-15, 'max_depth': 6, 'min_child_weight': 1e-11, 'objective': 'reg:squarederror'}\n",
      "0.7078875852783633 {'alpha': 1e-15, 'booster': 'gbtree', 'eta': 1e-11, 'gamma': 1e-15, 'lambda': 1e-15, 'max_depth': 7, 'min_child_weight': 1e-15, 'objective': 'reg:squarederror'}\n",
      "0.7078875852783633 {'alpha': 1e-15, 'booster': 'gbtree', 'eta': 1e-11, 'gamma': 1e-15, 'lambda': 1e-15, 'max_depth': 7, 'min_child_weight': 1e-13, 'objective': 'reg:squarederror'}\n",
      "0.7078875852783633 {'alpha': 1e-15, 'booster': 'gbtree', 'eta': 1e-11, 'gamma': 1e-15, 'lambda': 1e-15, 'max_depth': 7, 'min_child_weight': 1e-11, 'objective': 'reg:squarederror'}\n",
      "0.7171411017018149 {'alpha': 1e-15, 'booster': 'gbtree', 'eta': 1e-11, 'gamma': 1e-15, 'lambda': 1e-15, 'max_depth': 8, 'min_child_weight': 1e-15, 'objective': 'reg:squarederror'}\n",
      "0.7171411017018149 {'alpha': 1e-15, 'booster': 'gbtree', 'eta': 1e-11, 'gamma': 1e-15, 'lambda': 1e-15, 'max_depth': 8, 'min_child_weight': 1e-13, 'objective': 'reg:squarederror'}\n",
      "0.7171411017018149 {'alpha': 1e-15, 'booster': 'gbtree', 'eta': 1e-11, 'gamma': 1e-15, 'lambda': 1e-15, 'max_depth': 8, 'min_child_weight': 1e-11, 'objective': 'reg:squarederror'}\n",
      "0.723207921612296 {'alpha': 1e-15, 'booster': 'gbtree', 'eta': 1e-11, 'gamma': 1e-15, 'lambda': 1e-13, 'max_depth': 6, 'min_child_weight': 1e-15, 'objective': 'reg:squarederror'}\n",
      "0.723207921612296 {'alpha': 1e-15, 'booster': 'gbtree', 'eta': 1e-11, 'gamma': 1e-15, 'lambda': 1e-13, 'max_depth': 6, 'min_child_weight': 1e-13, 'objective': 'reg:squarederror'}\n",
      "0.723207921612296 {'alpha': 1e-15, 'booster': 'gbtree', 'eta': 1e-11, 'gamma': 1e-15, 'lambda': 1e-13, 'max_depth': 6, 'min_child_weight': 1e-11, 'objective': 'reg:squarederror'}\n",
      "0.7078875852783633 {'alpha': 1e-15, 'booster': 'gbtree', 'eta': 1e-11, 'gamma': 1e-15, 'lambda': 1e-13, 'max_depth': 7, 'min_child_weight': 1e-15, 'objective': 'reg:squarederror'}\n",
      "0.7078875852783633 {'alpha': 1e-15, 'booster': 'gbtree', 'eta': 1e-11, 'gamma': 1e-15, 'lambda': 1e-13, 'max_depth': 7, 'min_child_weight': 1e-13, 'objective': 'reg:squarederror'}\n",
      "0.7078875852783633 {'alpha': 1e-15, 'booster': 'gbtree', 'eta': 1e-11, 'gamma': 1e-15, 'lambda': 1e-13, 'max_depth': 7, 'min_child_weight': 1e-11, 'objective': 'reg:squarederror'}\n",
      "0.7171411017018149 {'alpha': 1e-15, 'booster': 'gbtree', 'eta': 1e-11, 'gamma': 1e-15, 'lambda': 1e-13, 'max_depth': 8, 'min_child_weight': 1e-15, 'objective': 'reg:squarederror'}\n",
      "0.7171411017018149 {'alpha': 1e-15, 'booster': 'gbtree', 'eta': 1e-11, 'gamma': 1e-15, 'lambda': 1e-13, 'max_depth': 8, 'min_child_weight': 1e-13, 'objective': 'reg:squarederror'}\n",
      "0.7171411017018149 {'alpha': 1e-15, 'booster': 'gbtree', 'eta': 1e-11, 'gamma': 1e-15, 'lambda': 1e-13, 'max_depth': 8, 'min_child_weight': 1e-11, 'objective': 'reg:squarederror'}\n",
      "0.723207921612296 {'alpha': 1e-15, 'booster': 'gbtree', 'eta': 1e-11, 'gamma': 1e-15, 'lambda': 1e-11, 'max_depth': 6, 'min_child_weight': 1e-15, 'objective': 'reg:squarederror'}\n",
      "0.723207921612296 {'alpha': 1e-15, 'booster': 'gbtree', 'eta': 1e-11, 'gamma': 1e-15, 'lambda': 1e-11, 'max_depth': 6, 'min_child_weight': 1e-13, 'objective': 'reg:squarederror'}\n",
      "0.723207921612296 {'alpha': 1e-15, 'booster': 'gbtree', 'eta': 1e-11, 'gamma': 1e-15, 'lambda': 1e-11, 'max_depth': 6, 'min_child_weight': 1e-11, 'objective': 'reg:squarederror'}\n",
      "0.7078875852783633 {'alpha': 1e-15, 'booster': 'gbtree', 'eta': 1e-11, 'gamma': 1e-15, 'lambda': 1e-11, 'max_depth': 7, 'min_child_weight': 1e-15, 'objective': 'reg:squarederror'}\n",
      "0.7078875852783633 {'alpha': 1e-15, 'booster': 'gbtree', 'eta': 1e-11, 'gamma': 1e-15, 'lambda': 1e-11, 'max_depth': 7, 'min_child_weight': 1e-13, 'objective': 'reg:squarederror'}\n",
      "0.7078875852783633 {'alpha': 1e-15, 'booster': 'gbtree', 'eta': 1e-11, 'gamma': 1e-15, 'lambda': 1e-11, 'max_depth': 7, 'min_child_weight': 1e-11, 'objective': 'reg:squarederror'}\n",
      "0.7171411017018149 {'alpha': 1e-15, 'booster': 'gbtree', 'eta': 1e-11, 'gamma': 1e-15, 'lambda': 1e-11, 'max_depth': 8, 'min_child_weight': 1e-15, 'objective': 'reg:squarederror'}\n",
      "0.7171411017018149 {'alpha': 1e-15, 'booster': 'gbtree', 'eta': 1e-11, 'gamma': 1e-15, 'lambda': 1e-11, 'max_depth': 8, 'min_child_weight': 1e-13, 'objective': 'reg:squarederror'}\n",
      "0.7171411017018149 {'alpha': 1e-15, 'booster': 'gbtree', 'eta': 1e-11, 'gamma': 1e-15, 'lambda': 1e-11, 'max_depth': 8, 'min_child_weight': 1e-11, 'objective': 'reg:squarederror'}\n",
      "0.723207921612296 {'alpha': 1e-15, 'booster': 'gbtree', 'eta': 1e-11, 'gamma': 1e-13, 'lambda': 1e-15, 'max_depth': 6, 'min_child_weight': 1e-15, 'objective': 'reg:squarederror'}\n",
      "0.723207921612296 {'alpha': 1e-15, 'booster': 'gbtree', 'eta': 1e-11, 'gamma': 1e-13, 'lambda': 1e-15, 'max_depth': 6, 'min_child_weight': 1e-13, 'objective': 'reg:squarederror'}\n",
      "0.723207921612296 {'alpha': 1e-15, 'booster': 'gbtree', 'eta': 1e-11, 'gamma': 1e-13, 'lambda': 1e-15, 'max_depth': 6, 'min_child_weight': 1e-11, 'objective': 'reg:squarederror'}\n",
      "0.7078875852783633 {'alpha': 1e-15, 'booster': 'gbtree', 'eta': 1e-11, 'gamma': 1e-13, 'lambda': 1e-15, 'max_depth': 7, 'min_child_weight': 1e-15, 'objective': 'reg:squarederror'}\n",
      "0.7078875852783633 {'alpha': 1e-15, 'booster': 'gbtree', 'eta': 1e-11, 'gamma': 1e-13, 'lambda': 1e-15, 'max_depth': 7, 'min_child_weight': 1e-13, 'objective': 'reg:squarederror'}\n",
      "0.7078875852783633 {'alpha': 1e-15, 'booster': 'gbtree', 'eta': 1e-11, 'gamma': 1e-13, 'lambda': 1e-15, 'max_depth': 7, 'min_child_weight': 1e-11, 'objective': 'reg:squarederror'}\n",
      "0.7171411017018149 {'alpha': 1e-15, 'booster': 'gbtree', 'eta': 1e-11, 'gamma': 1e-13, 'lambda': 1e-15, 'max_depth': 8, 'min_child_weight': 1e-15, 'objective': 'reg:squarederror'}\n",
      "0.7171411017018149 {'alpha': 1e-15, 'booster': 'gbtree', 'eta': 1e-11, 'gamma': 1e-13, 'lambda': 1e-15, 'max_depth': 8, 'min_child_weight': 1e-13, 'objective': 'reg:squarederror'}\n",
      "0.7171411017018149 {'alpha': 1e-15, 'booster': 'gbtree', 'eta': 1e-11, 'gamma': 1e-13, 'lambda': 1e-15, 'max_depth': 8, 'min_child_weight': 1e-11, 'objective': 'reg:squarederror'}\n",
      "0.723207921612296 {'alpha': 1e-15, 'booster': 'gbtree', 'eta': 1e-11, 'gamma': 1e-13, 'lambda': 1e-13, 'max_depth': 6, 'min_child_weight': 1e-15, 'objective': 'reg:squarederror'}\n",
      "0.723207921612296 {'alpha': 1e-15, 'booster': 'gbtree', 'eta': 1e-11, 'gamma': 1e-13, 'lambda': 1e-13, 'max_depth': 6, 'min_child_weight': 1e-13, 'objective': 'reg:squarederror'}\n",
      "0.723207921612296 {'alpha': 1e-15, 'booster': 'gbtree', 'eta': 1e-11, 'gamma': 1e-13, 'lambda': 1e-13, 'max_depth': 6, 'min_child_weight': 1e-11, 'objective': 'reg:squarederror'}\n",
      "0.7078875852783633 {'alpha': 1e-15, 'booster': 'gbtree', 'eta': 1e-11, 'gamma': 1e-13, 'lambda': 1e-13, 'max_depth': 7, 'min_child_weight': 1e-15, 'objective': 'reg:squarederror'}\n",
      "0.7078875852783633 {'alpha': 1e-15, 'booster': 'gbtree', 'eta': 1e-11, 'gamma': 1e-13, 'lambda': 1e-13, 'max_depth': 7, 'min_child_weight': 1e-13, 'objective': 'reg:squarederror'}\n",
      "0.7078875852783633 {'alpha': 1e-15, 'booster': 'gbtree', 'eta': 1e-11, 'gamma': 1e-13, 'lambda': 1e-13, 'max_depth': 7, 'min_child_weight': 1e-11, 'objective': 'reg:squarederror'}\n",
      "0.7171411017018149 {'alpha': 1e-15, 'booster': 'gbtree', 'eta': 1e-11, 'gamma': 1e-13, 'lambda': 1e-13, 'max_depth': 8, 'min_child_weight': 1e-15, 'objective': 'reg:squarederror'}\n",
      "0.7171411017018149 {'alpha': 1e-15, 'booster': 'gbtree', 'eta': 1e-11, 'gamma': 1e-13, 'lambda': 1e-13, 'max_depth': 8, 'min_child_weight': 1e-13, 'objective': 'reg:squarederror'}\n",
      "0.7171411017018149 {'alpha': 1e-15, 'booster': 'gbtree', 'eta': 1e-11, 'gamma': 1e-13, 'lambda': 1e-13, 'max_depth': 8, 'min_child_weight': 1e-11, 'objective': 'reg:squarederror'}\n",
      "0.723207921612296 {'alpha': 1e-15, 'booster': 'gbtree', 'eta': 1e-11, 'gamma': 1e-13, 'lambda': 1e-11, 'max_depth': 6, 'min_child_weight': 1e-15, 'objective': 'reg:squarederror'}\n",
      "0.723207921612296 {'alpha': 1e-15, 'booster': 'gbtree', 'eta': 1e-11, 'gamma': 1e-13, 'lambda': 1e-11, 'max_depth': 6, 'min_child_weight': 1e-13, 'objective': 'reg:squarederror'}\n",
      "0.723207921612296 {'alpha': 1e-15, 'booster': 'gbtree', 'eta': 1e-11, 'gamma': 1e-13, 'lambda': 1e-11, 'max_depth': 6, 'min_child_weight': 1e-11, 'objective': 'reg:squarederror'}\n",
      "0.7078875852783633 {'alpha': 1e-15, 'booster': 'gbtree', 'eta': 1e-11, 'gamma': 1e-13, 'lambda': 1e-11, 'max_depth': 7, 'min_child_weight': 1e-15, 'objective': 'reg:squarederror'}\n",
      "0.7078875852783633 {'alpha': 1e-15, 'booster': 'gbtree', 'eta': 1e-11, 'gamma': 1e-13, 'lambda': 1e-11, 'max_depth': 7, 'min_child_weight': 1e-13, 'objective': 'reg:squarederror'}\n",
      "0.7078875852783633 {'alpha': 1e-15, 'booster': 'gbtree', 'eta': 1e-11, 'gamma': 1e-13, 'lambda': 1e-11, 'max_depth': 7, 'min_child_weight': 1e-11, 'objective': 'reg:squarederror'}\n",
      "0.7171411017018149 {'alpha': 1e-15, 'booster': 'gbtree', 'eta': 1e-11, 'gamma': 1e-13, 'lambda': 1e-11, 'max_depth': 8, 'min_child_weight': 1e-15, 'objective': 'reg:squarederror'}\n",
      "0.7171411017018149 {'alpha': 1e-15, 'booster': 'gbtree', 'eta': 1e-11, 'gamma': 1e-13, 'lambda': 1e-11, 'max_depth': 8, 'min_child_weight': 1e-13, 'objective': 'reg:squarederror'}\n",
      "0.7171411017018149 {'alpha': 1e-15, 'booster': 'gbtree', 'eta': 1e-11, 'gamma': 1e-13, 'lambda': 1e-11, 'max_depth': 8, 'min_child_weight': 1e-11, 'objective': 'reg:squarederror'}\n",
      "0.723207921612296 {'alpha': 1e-15, 'booster': 'gbtree', 'eta': 1e-11, 'gamma': 1e-11, 'lambda': 1e-15, 'max_depth': 6, 'min_child_weight': 1e-15, 'objective': 'reg:squarederror'}\n",
      "0.723207921612296 {'alpha': 1e-15, 'booster': 'gbtree', 'eta': 1e-11, 'gamma': 1e-11, 'lambda': 1e-15, 'max_depth': 6, 'min_child_weight': 1e-13, 'objective': 'reg:squarederror'}\n",
      "0.723207921612296 {'alpha': 1e-15, 'booster': 'gbtree', 'eta': 1e-11, 'gamma': 1e-11, 'lambda': 1e-15, 'max_depth': 6, 'min_child_weight': 1e-11, 'objective': 'reg:squarederror'}\n",
      "0.7078875852783633 {'alpha': 1e-15, 'booster': 'gbtree', 'eta': 1e-11, 'gamma': 1e-11, 'lambda': 1e-15, 'max_depth': 7, 'min_child_weight': 1e-15, 'objective': 'reg:squarederror'}\n",
      "0.7078875852783633 {'alpha': 1e-15, 'booster': 'gbtree', 'eta': 1e-11, 'gamma': 1e-11, 'lambda': 1e-15, 'max_depth': 7, 'min_child_weight': 1e-13, 'objective': 'reg:squarederror'}\n",
      "0.7078875852783633 {'alpha': 1e-15, 'booster': 'gbtree', 'eta': 1e-11, 'gamma': 1e-11, 'lambda': 1e-15, 'max_depth': 7, 'min_child_weight': 1e-11, 'objective': 'reg:squarederror'}\n",
      "0.7171411017018149 {'alpha': 1e-15, 'booster': 'gbtree', 'eta': 1e-11, 'gamma': 1e-11, 'lambda': 1e-15, 'max_depth': 8, 'min_child_weight': 1e-15, 'objective': 'reg:squarederror'}\n",
      "0.7171411017018149 {'alpha': 1e-15, 'booster': 'gbtree', 'eta': 1e-11, 'gamma': 1e-11, 'lambda': 1e-15, 'max_depth': 8, 'min_child_weight': 1e-13, 'objective': 'reg:squarederror'}\n",
      "0.7171411017018149 {'alpha': 1e-15, 'booster': 'gbtree', 'eta': 1e-11, 'gamma': 1e-11, 'lambda': 1e-15, 'max_depth': 8, 'min_child_weight': 1e-11, 'objective': 'reg:squarederror'}\n",
      "0.723207921612296 {'alpha': 1e-15, 'booster': 'gbtree', 'eta': 1e-11, 'gamma': 1e-11, 'lambda': 1e-13, 'max_depth': 6, 'min_child_weight': 1e-15, 'objective': 'reg:squarederror'}\n",
      "0.723207921612296 {'alpha': 1e-15, 'booster': 'gbtree', 'eta': 1e-11, 'gamma': 1e-11, 'lambda': 1e-13, 'max_depth': 6, 'min_child_weight': 1e-13, 'objective': 'reg:squarederror'}\n",
      "0.723207921612296 {'alpha': 1e-15, 'booster': 'gbtree', 'eta': 1e-11, 'gamma': 1e-11, 'lambda': 1e-13, 'max_depth': 6, 'min_child_weight': 1e-11, 'objective': 'reg:squarederror'}\n",
      "0.7078875852783633 {'alpha': 1e-15, 'booster': 'gbtree', 'eta': 1e-11, 'gamma': 1e-11, 'lambda': 1e-13, 'max_depth': 7, 'min_child_weight': 1e-15, 'objective': 'reg:squarederror'}\n",
      "0.7078875852783633 {'alpha': 1e-15, 'booster': 'gbtree', 'eta': 1e-11, 'gamma': 1e-11, 'lambda': 1e-13, 'max_depth': 7, 'min_child_weight': 1e-13, 'objective': 'reg:squarederror'}\n",
      "0.7078875852783633 {'alpha': 1e-15, 'booster': 'gbtree', 'eta': 1e-11, 'gamma': 1e-11, 'lambda': 1e-13, 'max_depth': 7, 'min_child_weight': 1e-11, 'objective': 'reg:squarederror'}\n",
      "0.7171411017018149 {'alpha': 1e-15, 'booster': 'gbtree', 'eta': 1e-11, 'gamma': 1e-11, 'lambda': 1e-13, 'max_depth': 8, 'min_child_weight': 1e-15, 'objective': 'reg:squarederror'}\n",
      "0.7171411017018149 {'alpha': 1e-15, 'booster': 'gbtree', 'eta': 1e-11, 'gamma': 1e-11, 'lambda': 1e-13, 'max_depth': 8, 'min_child_weight': 1e-13, 'objective': 'reg:squarederror'}\n",
      "0.7171411017018149 {'alpha': 1e-15, 'booster': 'gbtree', 'eta': 1e-11, 'gamma': 1e-11, 'lambda': 1e-13, 'max_depth': 8, 'min_child_weight': 1e-11, 'objective': 'reg:squarederror'}\n",
      "0.723207921612296 {'alpha': 1e-15, 'booster': 'gbtree', 'eta': 1e-11, 'gamma': 1e-11, 'lambda': 1e-11, 'max_depth': 6, 'min_child_weight': 1e-15, 'objective': 'reg:squarederror'}\n",
      "0.723207921612296 {'alpha': 1e-15, 'booster': 'gbtree', 'eta': 1e-11, 'gamma': 1e-11, 'lambda': 1e-11, 'max_depth': 6, 'min_child_weight': 1e-13, 'objective': 'reg:squarederror'}\n",
      "0.723207921612296 {'alpha': 1e-15, 'booster': 'gbtree', 'eta': 1e-11, 'gamma': 1e-11, 'lambda': 1e-11, 'max_depth': 6, 'min_child_weight': 1e-11, 'objective': 'reg:squarederror'}\n",
      "0.7078875852783633 {'alpha': 1e-15, 'booster': 'gbtree', 'eta': 1e-11, 'gamma': 1e-11, 'lambda': 1e-11, 'max_depth': 7, 'min_child_weight': 1e-15, 'objective': 'reg:squarederror'}\n",
      "0.7078875852783633 {'alpha': 1e-15, 'booster': 'gbtree', 'eta': 1e-11, 'gamma': 1e-11, 'lambda': 1e-11, 'max_depth': 7, 'min_child_weight': 1e-13, 'objective': 'reg:squarederror'}\n",
      "0.7078875852783633 {'alpha': 1e-15, 'booster': 'gbtree', 'eta': 1e-11, 'gamma': 1e-11, 'lambda': 1e-11, 'max_depth': 7, 'min_child_weight': 1e-11, 'objective': 'reg:squarederror'}\n",
      "0.7171411017018149 {'alpha': 1e-15, 'booster': 'gbtree', 'eta': 1e-11, 'gamma': 1e-11, 'lambda': 1e-11, 'max_depth': 8, 'min_child_weight': 1e-15, 'objective': 'reg:squarederror'}\n",
      "0.7171411017018149 {'alpha': 1e-15, 'booster': 'gbtree', 'eta': 1e-11, 'gamma': 1e-11, 'lambda': 1e-11, 'max_depth': 8, 'min_child_weight': 1e-13, 'objective': 'reg:squarederror'}\n",
      "0.7171411017018149 {'alpha': 1e-15, 'booster': 'gbtree', 'eta': 1e-11, 'gamma': 1e-11, 'lambda': 1e-11, 'max_depth': 8, 'min_child_weight': 1e-11, 'objective': 'reg:squarederror'}\n",
      "0.723207921612296 {'alpha': 1e-13, 'booster': 'gbtree', 'eta': 1e-15, 'gamma': 1e-15, 'lambda': 1e-15, 'max_depth': 6, 'min_child_weight': 1e-15, 'objective': 'reg:squarederror'}\n",
      "0.723207921612296 {'alpha': 1e-13, 'booster': 'gbtree', 'eta': 1e-15, 'gamma': 1e-15, 'lambda': 1e-15, 'max_depth': 6, 'min_child_weight': 1e-13, 'objective': 'reg:squarederror'}\n",
      "0.723207921612296 {'alpha': 1e-13, 'booster': 'gbtree', 'eta': 1e-15, 'gamma': 1e-15, 'lambda': 1e-15, 'max_depth': 6, 'min_child_weight': 1e-11, 'objective': 'reg:squarederror'}\n",
      "0.7078875852783633 {'alpha': 1e-13, 'booster': 'gbtree', 'eta': 1e-15, 'gamma': 1e-15, 'lambda': 1e-15, 'max_depth': 7, 'min_child_weight': 1e-15, 'objective': 'reg:squarederror'}\n",
      "0.7078875852783633 {'alpha': 1e-13, 'booster': 'gbtree', 'eta': 1e-15, 'gamma': 1e-15, 'lambda': 1e-15, 'max_depth': 7, 'min_child_weight': 1e-13, 'objective': 'reg:squarederror'}\n",
      "0.7078875852783633 {'alpha': 1e-13, 'booster': 'gbtree', 'eta': 1e-15, 'gamma': 1e-15, 'lambda': 1e-15, 'max_depth': 7, 'min_child_weight': 1e-11, 'objective': 'reg:squarederror'}\n",
      "0.7171411017018149 {'alpha': 1e-13, 'booster': 'gbtree', 'eta': 1e-15, 'gamma': 1e-15, 'lambda': 1e-15, 'max_depth': 8, 'min_child_weight': 1e-15, 'objective': 'reg:squarederror'}\n",
      "0.7171411017018149 {'alpha': 1e-13, 'booster': 'gbtree', 'eta': 1e-15, 'gamma': 1e-15, 'lambda': 1e-15, 'max_depth': 8, 'min_child_weight': 1e-13, 'objective': 'reg:squarederror'}\n",
      "0.7171411017018149 {'alpha': 1e-13, 'booster': 'gbtree', 'eta': 1e-15, 'gamma': 1e-15, 'lambda': 1e-15, 'max_depth': 8, 'min_child_weight': 1e-11, 'objective': 'reg:squarederror'}\n",
      "0.723207921612296 {'alpha': 1e-13, 'booster': 'gbtree', 'eta': 1e-15, 'gamma': 1e-15, 'lambda': 1e-13, 'max_depth': 6, 'min_child_weight': 1e-15, 'objective': 'reg:squarederror'}\n",
      "0.723207921612296 {'alpha': 1e-13, 'booster': 'gbtree', 'eta': 1e-15, 'gamma': 1e-15, 'lambda': 1e-13, 'max_depth': 6, 'min_child_weight': 1e-13, 'objective': 'reg:squarederror'}\n",
      "0.723207921612296 {'alpha': 1e-13, 'booster': 'gbtree', 'eta': 1e-15, 'gamma': 1e-15, 'lambda': 1e-13, 'max_depth': 6, 'min_child_weight': 1e-11, 'objective': 'reg:squarederror'}\n",
      "0.7078875852783633 {'alpha': 1e-13, 'booster': 'gbtree', 'eta': 1e-15, 'gamma': 1e-15, 'lambda': 1e-13, 'max_depth': 7, 'min_child_weight': 1e-15, 'objective': 'reg:squarederror'}\n",
      "0.7078875852783633 {'alpha': 1e-13, 'booster': 'gbtree', 'eta': 1e-15, 'gamma': 1e-15, 'lambda': 1e-13, 'max_depth': 7, 'min_child_weight': 1e-13, 'objective': 'reg:squarederror'}\n",
      "0.7078875852783633 {'alpha': 1e-13, 'booster': 'gbtree', 'eta': 1e-15, 'gamma': 1e-15, 'lambda': 1e-13, 'max_depth': 7, 'min_child_weight': 1e-11, 'objective': 'reg:squarederror'}\n",
      "0.7171411017018149 {'alpha': 1e-13, 'booster': 'gbtree', 'eta': 1e-15, 'gamma': 1e-15, 'lambda': 1e-13, 'max_depth': 8, 'min_child_weight': 1e-15, 'objective': 'reg:squarederror'}\n",
      "0.7171411017018149 {'alpha': 1e-13, 'booster': 'gbtree', 'eta': 1e-15, 'gamma': 1e-15, 'lambda': 1e-13, 'max_depth': 8, 'min_child_weight': 1e-13, 'objective': 'reg:squarederror'}\n",
      "0.7171411017018149 {'alpha': 1e-13, 'booster': 'gbtree', 'eta': 1e-15, 'gamma': 1e-15, 'lambda': 1e-13, 'max_depth': 8, 'min_child_weight': 1e-11, 'objective': 'reg:squarederror'}\n",
      "0.723207921612296 {'alpha': 1e-13, 'booster': 'gbtree', 'eta': 1e-15, 'gamma': 1e-15, 'lambda': 1e-11, 'max_depth': 6, 'min_child_weight': 1e-15, 'objective': 'reg:squarederror'}\n",
      "0.723207921612296 {'alpha': 1e-13, 'booster': 'gbtree', 'eta': 1e-15, 'gamma': 1e-15, 'lambda': 1e-11, 'max_depth': 6, 'min_child_weight': 1e-13, 'objective': 'reg:squarederror'}\n",
      "0.723207921612296 {'alpha': 1e-13, 'booster': 'gbtree', 'eta': 1e-15, 'gamma': 1e-15, 'lambda': 1e-11, 'max_depth': 6, 'min_child_weight': 1e-11, 'objective': 'reg:squarederror'}\n",
      "0.7078875852783633 {'alpha': 1e-13, 'booster': 'gbtree', 'eta': 1e-15, 'gamma': 1e-15, 'lambda': 1e-11, 'max_depth': 7, 'min_child_weight': 1e-15, 'objective': 'reg:squarederror'}\n",
      "0.7078875852783633 {'alpha': 1e-13, 'booster': 'gbtree', 'eta': 1e-15, 'gamma': 1e-15, 'lambda': 1e-11, 'max_depth': 7, 'min_child_weight': 1e-13, 'objective': 'reg:squarederror'}\n",
      "0.7078875852783633 {'alpha': 1e-13, 'booster': 'gbtree', 'eta': 1e-15, 'gamma': 1e-15, 'lambda': 1e-11, 'max_depth': 7, 'min_child_weight': 1e-11, 'objective': 'reg:squarederror'}\n",
      "0.7171411017018149 {'alpha': 1e-13, 'booster': 'gbtree', 'eta': 1e-15, 'gamma': 1e-15, 'lambda': 1e-11, 'max_depth': 8, 'min_child_weight': 1e-15, 'objective': 'reg:squarederror'}\n",
      "0.7171411017018149 {'alpha': 1e-13, 'booster': 'gbtree', 'eta': 1e-15, 'gamma': 1e-15, 'lambda': 1e-11, 'max_depth': 8, 'min_child_weight': 1e-13, 'objective': 'reg:squarederror'}\n",
      "0.7171411017018149 {'alpha': 1e-13, 'booster': 'gbtree', 'eta': 1e-15, 'gamma': 1e-15, 'lambda': 1e-11, 'max_depth': 8, 'min_child_weight': 1e-11, 'objective': 'reg:squarederror'}\n",
      "0.723207921612296 {'alpha': 1e-13, 'booster': 'gbtree', 'eta': 1e-15, 'gamma': 1e-13, 'lambda': 1e-15, 'max_depth': 6, 'min_child_weight': 1e-15, 'objective': 'reg:squarederror'}\n",
      "0.723207921612296 {'alpha': 1e-13, 'booster': 'gbtree', 'eta': 1e-15, 'gamma': 1e-13, 'lambda': 1e-15, 'max_depth': 6, 'min_child_weight': 1e-13, 'objective': 'reg:squarederror'}\n",
      "0.723207921612296 {'alpha': 1e-13, 'booster': 'gbtree', 'eta': 1e-15, 'gamma': 1e-13, 'lambda': 1e-15, 'max_depth': 6, 'min_child_weight': 1e-11, 'objective': 'reg:squarederror'}\n",
      "0.7078875852783633 {'alpha': 1e-13, 'booster': 'gbtree', 'eta': 1e-15, 'gamma': 1e-13, 'lambda': 1e-15, 'max_depth': 7, 'min_child_weight': 1e-15, 'objective': 'reg:squarederror'}\n",
      "0.7078875852783633 {'alpha': 1e-13, 'booster': 'gbtree', 'eta': 1e-15, 'gamma': 1e-13, 'lambda': 1e-15, 'max_depth': 7, 'min_child_weight': 1e-13, 'objective': 'reg:squarederror'}\n",
      "0.7078875852783633 {'alpha': 1e-13, 'booster': 'gbtree', 'eta': 1e-15, 'gamma': 1e-13, 'lambda': 1e-15, 'max_depth': 7, 'min_child_weight': 1e-11, 'objective': 'reg:squarederror'}\n",
      "0.7171411017018149 {'alpha': 1e-13, 'booster': 'gbtree', 'eta': 1e-15, 'gamma': 1e-13, 'lambda': 1e-15, 'max_depth': 8, 'min_child_weight': 1e-15, 'objective': 'reg:squarederror'}\n",
      "0.7171411017018149 {'alpha': 1e-13, 'booster': 'gbtree', 'eta': 1e-15, 'gamma': 1e-13, 'lambda': 1e-15, 'max_depth': 8, 'min_child_weight': 1e-13, 'objective': 'reg:squarederror'}\n",
      "0.7171411017018149 {'alpha': 1e-13, 'booster': 'gbtree', 'eta': 1e-15, 'gamma': 1e-13, 'lambda': 1e-15, 'max_depth': 8, 'min_child_weight': 1e-11, 'objective': 'reg:squarederror'}\n",
      "0.723207921612296 {'alpha': 1e-13, 'booster': 'gbtree', 'eta': 1e-15, 'gamma': 1e-13, 'lambda': 1e-13, 'max_depth': 6, 'min_child_weight': 1e-15, 'objective': 'reg:squarederror'}\n",
      "0.723207921612296 {'alpha': 1e-13, 'booster': 'gbtree', 'eta': 1e-15, 'gamma': 1e-13, 'lambda': 1e-13, 'max_depth': 6, 'min_child_weight': 1e-13, 'objective': 'reg:squarederror'}\n",
      "0.723207921612296 {'alpha': 1e-13, 'booster': 'gbtree', 'eta': 1e-15, 'gamma': 1e-13, 'lambda': 1e-13, 'max_depth': 6, 'min_child_weight': 1e-11, 'objective': 'reg:squarederror'}\n",
      "0.7078875852783633 {'alpha': 1e-13, 'booster': 'gbtree', 'eta': 1e-15, 'gamma': 1e-13, 'lambda': 1e-13, 'max_depth': 7, 'min_child_weight': 1e-15, 'objective': 'reg:squarederror'}\n",
      "0.7078875852783633 {'alpha': 1e-13, 'booster': 'gbtree', 'eta': 1e-15, 'gamma': 1e-13, 'lambda': 1e-13, 'max_depth': 7, 'min_child_weight': 1e-13, 'objective': 'reg:squarederror'}\n",
      "0.7078875852783633 {'alpha': 1e-13, 'booster': 'gbtree', 'eta': 1e-15, 'gamma': 1e-13, 'lambda': 1e-13, 'max_depth': 7, 'min_child_weight': 1e-11, 'objective': 'reg:squarederror'}\n",
      "0.7171411017018149 {'alpha': 1e-13, 'booster': 'gbtree', 'eta': 1e-15, 'gamma': 1e-13, 'lambda': 1e-13, 'max_depth': 8, 'min_child_weight': 1e-15, 'objective': 'reg:squarederror'}\n",
      "0.7171411017018149 {'alpha': 1e-13, 'booster': 'gbtree', 'eta': 1e-15, 'gamma': 1e-13, 'lambda': 1e-13, 'max_depth': 8, 'min_child_weight': 1e-13, 'objective': 'reg:squarederror'}\n",
      "0.7171411017018149 {'alpha': 1e-13, 'booster': 'gbtree', 'eta': 1e-15, 'gamma': 1e-13, 'lambda': 1e-13, 'max_depth': 8, 'min_child_weight': 1e-11, 'objective': 'reg:squarederror'}\n",
      "0.723207921612296 {'alpha': 1e-13, 'booster': 'gbtree', 'eta': 1e-15, 'gamma': 1e-13, 'lambda': 1e-11, 'max_depth': 6, 'min_child_weight': 1e-15, 'objective': 'reg:squarederror'}\n",
      "0.723207921612296 {'alpha': 1e-13, 'booster': 'gbtree', 'eta': 1e-15, 'gamma': 1e-13, 'lambda': 1e-11, 'max_depth': 6, 'min_child_weight': 1e-13, 'objective': 'reg:squarederror'}\n",
      "0.723207921612296 {'alpha': 1e-13, 'booster': 'gbtree', 'eta': 1e-15, 'gamma': 1e-13, 'lambda': 1e-11, 'max_depth': 6, 'min_child_weight': 1e-11, 'objective': 'reg:squarederror'}\n",
      "0.7078875852783633 {'alpha': 1e-13, 'booster': 'gbtree', 'eta': 1e-15, 'gamma': 1e-13, 'lambda': 1e-11, 'max_depth': 7, 'min_child_weight': 1e-15, 'objective': 'reg:squarederror'}\n",
      "0.7078875852783633 {'alpha': 1e-13, 'booster': 'gbtree', 'eta': 1e-15, 'gamma': 1e-13, 'lambda': 1e-11, 'max_depth': 7, 'min_child_weight': 1e-13, 'objective': 'reg:squarederror'}\n",
      "0.7078875852783633 {'alpha': 1e-13, 'booster': 'gbtree', 'eta': 1e-15, 'gamma': 1e-13, 'lambda': 1e-11, 'max_depth': 7, 'min_child_weight': 1e-11, 'objective': 'reg:squarederror'}\n",
      "0.7171411017018149 {'alpha': 1e-13, 'booster': 'gbtree', 'eta': 1e-15, 'gamma': 1e-13, 'lambda': 1e-11, 'max_depth': 8, 'min_child_weight': 1e-15, 'objective': 'reg:squarederror'}\n",
      "0.7171411017018149 {'alpha': 1e-13, 'booster': 'gbtree', 'eta': 1e-15, 'gamma': 1e-13, 'lambda': 1e-11, 'max_depth': 8, 'min_child_weight': 1e-13, 'objective': 'reg:squarederror'}\n",
      "0.7171411017018149 {'alpha': 1e-13, 'booster': 'gbtree', 'eta': 1e-15, 'gamma': 1e-13, 'lambda': 1e-11, 'max_depth': 8, 'min_child_weight': 1e-11, 'objective': 'reg:squarederror'}\n",
      "0.723207921612296 {'alpha': 1e-13, 'booster': 'gbtree', 'eta': 1e-15, 'gamma': 1e-11, 'lambda': 1e-15, 'max_depth': 6, 'min_child_weight': 1e-15, 'objective': 'reg:squarederror'}\n",
      "0.723207921612296 {'alpha': 1e-13, 'booster': 'gbtree', 'eta': 1e-15, 'gamma': 1e-11, 'lambda': 1e-15, 'max_depth': 6, 'min_child_weight': 1e-13, 'objective': 'reg:squarederror'}\n",
      "0.723207921612296 {'alpha': 1e-13, 'booster': 'gbtree', 'eta': 1e-15, 'gamma': 1e-11, 'lambda': 1e-15, 'max_depth': 6, 'min_child_weight': 1e-11, 'objective': 'reg:squarederror'}\n",
      "0.7078875852783633 {'alpha': 1e-13, 'booster': 'gbtree', 'eta': 1e-15, 'gamma': 1e-11, 'lambda': 1e-15, 'max_depth': 7, 'min_child_weight': 1e-15, 'objective': 'reg:squarederror'}\n",
      "0.7078875852783633 {'alpha': 1e-13, 'booster': 'gbtree', 'eta': 1e-15, 'gamma': 1e-11, 'lambda': 1e-15, 'max_depth': 7, 'min_child_weight': 1e-13, 'objective': 'reg:squarederror'}\n",
      "0.7078875852783633 {'alpha': 1e-13, 'booster': 'gbtree', 'eta': 1e-15, 'gamma': 1e-11, 'lambda': 1e-15, 'max_depth': 7, 'min_child_weight': 1e-11, 'objective': 'reg:squarederror'}\n",
      "0.7171411017018149 {'alpha': 1e-13, 'booster': 'gbtree', 'eta': 1e-15, 'gamma': 1e-11, 'lambda': 1e-15, 'max_depth': 8, 'min_child_weight': 1e-15, 'objective': 'reg:squarederror'}\n",
      "0.7171411017018149 {'alpha': 1e-13, 'booster': 'gbtree', 'eta': 1e-15, 'gamma': 1e-11, 'lambda': 1e-15, 'max_depth': 8, 'min_child_weight': 1e-13, 'objective': 'reg:squarederror'}\n",
      "0.7171411017018149 {'alpha': 1e-13, 'booster': 'gbtree', 'eta': 1e-15, 'gamma': 1e-11, 'lambda': 1e-15, 'max_depth': 8, 'min_child_weight': 1e-11, 'objective': 'reg:squarederror'}\n",
      "0.723207921612296 {'alpha': 1e-13, 'booster': 'gbtree', 'eta': 1e-15, 'gamma': 1e-11, 'lambda': 1e-13, 'max_depth': 6, 'min_child_weight': 1e-15, 'objective': 'reg:squarederror'}\n",
      "0.723207921612296 {'alpha': 1e-13, 'booster': 'gbtree', 'eta': 1e-15, 'gamma': 1e-11, 'lambda': 1e-13, 'max_depth': 6, 'min_child_weight': 1e-13, 'objective': 'reg:squarederror'}\n",
      "0.723207921612296 {'alpha': 1e-13, 'booster': 'gbtree', 'eta': 1e-15, 'gamma': 1e-11, 'lambda': 1e-13, 'max_depth': 6, 'min_child_weight': 1e-11, 'objective': 'reg:squarederror'}\n",
      "0.7078875852783633 {'alpha': 1e-13, 'booster': 'gbtree', 'eta': 1e-15, 'gamma': 1e-11, 'lambda': 1e-13, 'max_depth': 7, 'min_child_weight': 1e-15, 'objective': 'reg:squarederror'}\n",
      "0.7078875852783633 {'alpha': 1e-13, 'booster': 'gbtree', 'eta': 1e-15, 'gamma': 1e-11, 'lambda': 1e-13, 'max_depth': 7, 'min_child_weight': 1e-13, 'objective': 'reg:squarederror'}\n",
      "0.7078875852783633 {'alpha': 1e-13, 'booster': 'gbtree', 'eta': 1e-15, 'gamma': 1e-11, 'lambda': 1e-13, 'max_depth': 7, 'min_child_weight': 1e-11, 'objective': 'reg:squarederror'}\n",
      "0.7171411017018149 {'alpha': 1e-13, 'booster': 'gbtree', 'eta': 1e-15, 'gamma': 1e-11, 'lambda': 1e-13, 'max_depth': 8, 'min_child_weight': 1e-15, 'objective': 'reg:squarederror'}\n",
      "0.7171411017018149 {'alpha': 1e-13, 'booster': 'gbtree', 'eta': 1e-15, 'gamma': 1e-11, 'lambda': 1e-13, 'max_depth': 8, 'min_child_weight': 1e-13, 'objective': 'reg:squarederror'}\n",
      "0.7171411017018149 {'alpha': 1e-13, 'booster': 'gbtree', 'eta': 1e-15, 'gamma': 1e-11, 'lambda': 1e-13, 'max_depth': 8, 'min_child_weight': 1e-11, 'objective': 'reg:squarederror'}\n",
      "0.723207921612296 {'alpha': 1e-13, 'booster': 'gbtree', 'eta': 1e-15, 'gamma': 1e-11, 'lambda': 1e-11, 'max_depth': 6, 'min_child_weight': 1e-15, 'objective': 'reg:squarederror'}\n",
      "0.723207921612296 {'alpha': 1e-13, 'booster': 'gbtree', 'eta': 1e-15, 'gamma': 1e-11, 'lambda': 1e-11, 'max_depth': 6, 'min_child_weight': 1e-13, 'objective': 'reg:squarederror'}\n",
      "0.723207921612296 {'alpha': 1e-13, 'booster': 'gbtree', 'eta': 1e-15, 'gamma': 1e-11, 'lambda': 1e-11, 'max_depth': 6, 'min_child_weight': 1e-11, 'objective': 'reg:squarederror'}\n",
      "0.7078875852783633 {'alpha': 1e-13, 'booster': 'gbtree', 'eta': 1e-15, 'gamma': 1e-11, 'lambda': 1e-11, 'max_depth': 7, 'min_child_weight': 1e-15, 'objective': 'reg:squarederror'}\n",
      "0.7078875852783633 {'alpha': 1e-13, 'booster': 'gbtree', 'eta': 1e-15, 'gamma': 1e-11, 'lambda': 1e-11, 'max_depth': 7, 'min_child_weight': 1e-13, 'objective': 'reg:squarederror'}\n",
      "0.7078875852783633 {'alpha': 1e-13, 'booster': 'gbtree', 'eta': 1e-15, 'gamma': 1e-11, 'lambda': 1e-11, 'max_depth': 7, 'min_child_weight': 1e-11, 'objective': 'reg:squarederror'}\n",
      "0.7171411017018149 {'alpha': 1e-13, 'booster': 'gbtree', 'eta': 1e-15, 'gamma': 1e-11, 'lambda': 1e-11, 'max_depth': 8, 'min_child_weight': 1e-15, 'objective': 'reg:squarederror'}\n",
      "0.7171411017018149 {'alpha': 1e-13, 'booster': 'gbtree', 'eta': 1e-15, 'gamma': 1e-11, 'lambda': 1e-11, 'max_depth': 8, 'min_child_weight': 1e-13, 'objective': 'reg:squarederror'}\n",
      "0.7171411017018149 {'alpha': 1e-13, 'booster': 'gbtree', 'eta': 1e-15, 'gamma': 1e-11, 'lambda': 1e-11, 'max_depth': 8, 'min_child_weight': 1e-11, 'objective': 'reg:squarederror'}\n",
      "0.723207921612296 {'alpha': 1e-13, 'booster': 'gbtree', 'eta': 1e-13, 'gamma': 1e-15, 'lambda': 1e-15, 'max_depth': 6, 'min_child_weight': 1e-15, 'objective': 'reg:squarederror'}\n",
      "0.723207921612296 {'alpha': 1e-13, 'booster': 'gbtree', 'eta': 1e-13, 'gamma': 1e-15, 'lambda': 1e-15, 'max_depth': 6, 'min_child_weight': 1e-13, 'objective': 'reg:squarederror'}\n",
      "0.723207921612296 {'alpha': 1e-13, 'booster': 'gbtree', 'eta': 1e-13, 'gamma': 1e-15, 'lambda': 1e-15, 'max_depth': 6, 'min_child_weight': 1e-11, 'objective': 'reg:squarederror'}\n",
      "0.7078875852783633 {'alpha': 1e-13, 'booster': 'gbtree', 'eta': 1e-13, 'gamma': 1e-15, 'lambda': 1e-15, 'max_depth': 7, 'min_child_weight': 1e-15, 'objective': 'reg:squarederror'}\n",
      "0.7078875852783633 {'alpha': 1e-13, 'booster': 'gbtree', 'eta': 1e-13, 'gamma': 1e-15, 'lambda': 1e-15, 'max_depth': 7, 'min_child_weight': 1e-13, 'objective': 'reg:squarederror'}\n",
      "0.7078875852783633 {'alpha': 1e-13, 'booster': 'gbtree', 'eta': 1e-13, 'gamma': 1e-15, 'lambda': 1e-15, 'max_depth': 7, 'min_child_weight': 1e-11, 'objective': 'reg:squarederror'}\n",
      "0.7171411017018149 {'alpha': 1e-13, 'booster': 'gbtree', 'eta': 1e-13, 'gamma': 1e-15, 'lambda': 1e-15, 'max_depth': 8, 'min_child_weight': 1e-15, 'objective': 'reg:squarederror'}\n",
      "0.7171411017018149 {'alpha': 1e-13, 'booster': 'gbtree', 'eta': 1e-13, 'gamma': 1e-15, 'lambda': 1e-15, 'max_depth': 8, 'min_child_weight': 1e-13, 'objective': 'reg:squarederror'}\n",
      "0.7171411017018149 {'alpha': 1e-13, 'booster': 'gbtree', 'eta': 1e-13, 'gamma': 1e-15, 'lambda': 1e-15, 'max_depth': 8, 'min_child_weight': 1e-11, 'objective': 'reg:squarederror'}\n",
      "0.723207921612296 {'alpha': 1e-13, 'booster': 'gbtree', 'eta': 1e-13, 'gamma': 1e-15, 'lambda': 1e-13, 'max_depth': 6, 'min_child_weight': 1e-15, 'objective': 'reg:squarederror'}\n",
      "0.723207921612296 {'alpha': 1e-13, 'booster': 'gbtree', 'eta': 1e-13, 'gamma': 1e-15, 'lambda': 1e-13, 'max_depth': 6, 'min_child_weight': 1e-13, 'objective': 'reg:squarederror'}\n",
      "0.723207921612296 {'alpha': 1e-13, 'booster': 'gbtree', 'eta': 1e-13, 'gamma': 1e-15, 'lambda': 1e-13, 'max_depth': 6, 'min_child_weight': 1e-11, 'objective': 'reg:squarederror'}\n",
      "0.7078875852783633 {'alpha': 1e-13, 'booster': 'gbtree', 'eta': 1e-13, 'gamma': 1e-15, 'lambda': 1e-13, 'max_depth': 7, 'min_child_weight': 1e-15, 'objective': 'reg:squarederror'}\n",
      "0.7078875852783633 {'alpha': 1e-13, 'booster': 'gbtree', 'eta': 1e-13, 'gamma': 1e-15, 'lambda': 1e-13, 'max_depth': 7, 'min_child_weight': 1e-13, 'objective': 'reg:squarederror'}\n",
      "0.7078875852783633 {'alpha': 1e-13, 'booster': 'gbtree', 'eta': 1e-13, 'gamma': 1e-15, 'lambda': 1e-13, 'max_depth': 7, 'min_child_weight': 1e-11, 'objective': 'reg:squarederror'}\n",
      "0.7171411017018149 {'alpha': 1e-13, 'booster': 'gbtree', 'eta': 1e-13, 'gamma': 1e-15, 'lambda': 1e-13, 'max_depth': 8, 'min_child_weight': 1e-15, 'objective': 'reg:squarederror'}\n",
      "0.7171411017018149 {'alpha': 1e-13, 'booster': 'gbtree', 'eta': 1e-13, 'gamma': 1e-15, 'lambda': 1e-13, 'max_depth': 8, 'min_child_weight': 1e-13, 'objective': 'reg:squarederror'}\n",
      "0.7171411017018149 {'alpha': 1e-13, 'booster': 'gbtree', 'eta': 1e-13, 'gamma': 1e-15, 'lambda': 1e-13, 'max_depth': 8, 'min_child_weight': 1e-11, 'objective': 'reg:squarederror'}\n",
      "0.723207921612296 {'alpha': 1e-13, 'booster': 'gbtree', 'eta': 1e-13, 'gamma': 1e-15, 'lambda': 1e-11, 'max_depth': 6, 'min_child_weight': 1e-15, 'objective': 'reg:squarederror'}\n",
      "0.723207921612296 {'alpha': 1e-13, 'booster': 'gbtree', 'eta': 1e-13, 'gamma': 1e-15, 'lambda': 1e-11, 'max_depth': 6, 'min_child_weight': 1e-13, 'objective': 'reg:squarederror'}\n",
      "0.723207921612296 {'alpha': 1e-13, 'booster': 'gbtree', 'eta': 1e-13, 'gamma': 1e-15, 'lambda': 1e-11, 'max_depth': 6, 'min_child_weight': 1e-11, 'objective': 'reg:squarederror'}\n",
      "0.7078875852783633 {'alpha': 1e-13, 'booster': 'gbtree', 'eta': 1e-13, 'gamma': 1e-15, 'lambda': 1e-11, 'max_depth': 7, 'min_child_weight': 1e-15, 'objective': 'reg:squarederror'}\n",
      "0.7078875852783633 {'alpha': 1e-13, 'booster': 'gbtree', 'eta': 1e-13, 'gamma': 1e-15, 'lambda': 1e-11, 'max_depth': 7, 'min_child_weight': 1e-13, 'objective': 'reg:squarederror'}\n",
      "0.7078875852783633 {'alpha': 1e-13, 'booster': 'gbtree', 'eta': 1e-13, 'gamma': 1e-15, 'lambda': 1e-11, 'max_depth': 7, 'min_child_weight': 1e-11, 'objective': 'reg:squarederror'}\n",
      "0.7171411017018149 {'alpha': 1e-13, 'booster': 'gbtree', 'eta': 1e-13, 'gamma': 1e-15, 'lambda': 1e-11, 'max_depth': 8, 'min_child_weight': 1e-15, 'objective': 'reg:squarederror'}\n",
      "0.7171411017018149 {'alpha': 1e-13, 'booster': 'gbtree', 'eta': 1e-13, 'gamma': 1e-15, 'lambda': 1e-11, 'max_depth': 8, 'min_child_weight': 1e-13, 'objective': 'reg:squarederror'}\n",
      "0.7171411017018149 {'alpha': 1e-13, 'booster': 'gbtree', 'eta': 1e-13, 'gamma': 1e-15, 'lambda': 1e-11, 'max_depth': 8, 'min_child_weight': 1e-11, 'objective': 'reg:squarederror'}\n",
      "0.723207921612296 {'alpha': 1e-13, 'booster': 'gbtree', 'eta': 1e-13, 'gamma': 1e-13, 'lambda': 1e-15, 'max_depth': 6, 'min_child_weight': 1e-15, 'objective': 'reg:squarederror'}\n",
      "0.723207921612296 {'alpha': 1e-13, 'booster': 'gbtree', 'eta': 1e-13, 'gamma': 1e-13, 'lambda': 1e-15, 'max_depth': 6, 'min_child_weight': 1e-13, 'objective': 'reg:squarederror'}\n",
      "0.723207921612296 {'alpha': 1e-13, 'booster': 'gbtree', 'eta': 1e-13, 'gamma': 1e-13, 'lambda': 1e-15, 'max_depth': 6, 'min_child_weight': 1e-11, 'objective': 'reg:squarederror'}\n",
      "0.7078875852783633 {'alpha': 1e-13, 'booster': 'gbtree', 'eta': 1e-13, 'gamma': 1e-13, 'lambda': 1e-15, 'max_depth': 7, 'min_child_weight': 1e-15, 'objective': 'reg:squarederror'}\n",
      "0.7078875852783633 {'alpha': 1e-13, 'booster': 'gbtree', 'eta': 1e-13, 'gamma': 1e-13, 'lambda': 1e-15, 'max_depth': 7, 'min_child_weight': 1e-13, 'objective': 'reg:squarederror'}\n",
      "0.7078875852783633 {'alpha': 1e-13, 'booster': 'gbtree', 'eta': 1e-13, 'gamma': 1e-13, 'lambda': 1e-15, 'max_depth': 7, 'min_child_weight': 1e-11, 'objective': 'reg:squarederror'}\n",
      "0.7171411017018149 {'alpha': 1e-13, 'booster': 'gbtree', 'eta': 1e-13, 'gamma': 1e-13, 'lambda': 1e-15, 'max_depth': 8, 'min_child_weight': 1e-15, 'objective': 'reg:squarederror'}\n",
      "0.7171411017018149 {'alpha': 1e-13, 'booster': 'gbtree', 'eta': 1e-13, 'gamma': 1e-13, 'lambda': 1e-15, 'max_depth': 8, 'min_child_weight': 1e-13, 'objective': 'reg:squarederror'}\n",
      "0.7171411017018149 {'alpha': 1e-13, 'booster': 'gbtree', 'eta': 1e-13, 'gamma': 1e-13, 'lambda': 1e-15, 'max_depth': 8, 'min_child_weight': 1e-11, 'objective': 'reg:squarederror'}\n",
      "0.723207921612296 {'alpha': 1e-13, 'booster': 'gbtree', 'eta': 1e-13, 'gamma': 1e-13, 'lambda': 1e-13, 'max_depth': 6, 'min_child_weight': 1e-15, 'objective': 'reg:squarederror'}\n",
      "0.723207921612296 {'alpha': 1e-13, 'booster': 'gbtree', 'eta': 1e-13, 'gamma': 1e-13, 'lambda': 1e-13, 'max_depth': 6, 'min_child_weight': 1e-13, 'objective': 'reg:squarederror'}\n",
      "0.723207921612296 {'alpha': 1e-13, 'booster': 'gbtree', 'eta': 1e-13, 'gamma': 1e-13, 'lambda': 1e-13, 'max_depth': 6, 'min_child_weight': 1e-11, 'objective': 'reg:squarederror'}\n",
      "0.7078875852783633 {'alpha': 1e-13, 'booster': 'gbtree', 'eta': 1e-13, 'gamma': 1e-13, 'lambda': 1e-13, 'max_depth': 7, 'min_child_weight': 1e-15, 'objective': 'reg:squarederror'}\n",
      "0.7078875852783633 {'alpha': 1e-13, 'booster': 'gbtree', 'eta': 1e-13, 'gamma': 1e-13, 'lambda': 1e-13, 'max_depth': 7, 'min_child_weight': 1e-13, 'objective': 'reg:squarederror'}\n",
      "0.7078875852783633 {'alpha': 1e-13, 'booster': 'gbtree', 'eta': 1e-13, 'gamma': 1e-13, 'lambda': 1e-13, 'max_depth': 7, 'min_child_weight': 1e-11, 'objective': 'reg:squarederror'}\n",
      "0.7171411017018149 {'alpha': 1e-13, 'booster': 'gbtree', 'eta': 1e-13, 'gamma': 1e-13, 'lambda': 1e-13, 'max_depth': 8, 'min_child_weight': 1e-15, 'objective': 'reg:squarederror'}\n",
      "0.7171411017018149 {'alpha': 1e-13, 'booster': 'gbtree', 'eta': 1e-13, 'gamma': 1e-13, 'lambda': 1e-13, 'max_depth': 8, 'min_child_weight': 1e-13, 'objective': 'reg:squarederror'}\n",
      "0.7171411017018149 {'alpha': 1e-13, 'booster': 'gbtree', 'eta': 1e-13, 'gamma': 1e-13, 'lambda': 1e-13, 'max_depth': 8, 'min_child_weight': 1e-11, 'objective': 'reg:squarederror'}\n",
      "0.723207921612296 {'alpha': 1e-13, 'booster': 'gbtree', 'eta': 1e-13, 'gamma': 1e-13, 'lambda': 1e-11, 'max_depth': 6, 'min_child_weight': 1e-15, 'objective': 'reg:squarederror'}\n",
      "0.723207921612296 {'alpha': 1e-13, 'booster': 'gbtree', 'eta': 1e-13, 'gamma': 1e-13, 'lambda': 1e-11, 'max_depth': 6, 'min_child_weight': 1e-13, 'objective': 'reg:squarederror'}\n",
      "0.723207921612296 {'alpha': 1e-13, 'booster': 'gbtree', 'eta': 1e-13, 'gamma': 1e-13, 'lambda': 1e-11, 'max_depth': 6, 'min_child_weight': 1e-11, 'objective': 'reg:squarederror'}\n",
      "0.7078875852783633 {'alpha': 1e-13, 'booster': 'gbtree', 'eta': 1e-13, 'gamma': 1e-13, 'lambda': 1e-11, 'max_depth': 7, 'min_child_weight': 1e-15, 'objective': 'reg:squarederror'}\n",
      "0.7078875852783633 {'alpha': 1e-13, 'booster': 'gbtree', 'eta': 1e-13, 'gamma': 1e-13, 'lambda': 1e-11, 'max_depth': 7, 'min_child_weight': 1e-13, 'objective': 'reg:squarederror'}\n",
      "0.7078875852783633 {'alpha': 1e-13, 'booster': 'gbtree', 'eta': 1e-13, 'gamma': 1e-13, 'lambda': 1e-11, 'max_depth': 7, 'min_child_weight': 1e-11, 'objective': 'reg:squarederror'}\n",
      "0.7171411017018149 {'alpha': 1e-13, 'booster': 'gbtree', 'eta': 1e-13, 'gamma': 1e-13, 'lambda': 1e-11, 'max_depth': 8, 'min_child_weight': 1e-15, 'objective': 'reg:squarederror'}\n",
      "0.7171411017018149 {'alpha': 1e-13, 'booster': 'gbtree', 'eta': 1e-13, 'gamma': 1e-13, 'lambda': 1e-11, 'max_depth': 8, 'min_child_weight': 1e-13, 'objective': 'reg:squarederror'}\n",
      "0.7171411017018149 {'alpha': 1e-13, 'booster': 'gbtree', 'eta': 1e-13, 'gamma': 1e-13, 'lambda': 1e-11, 'max_depth': 8, 'min_child_weight': 1e-11, 'objective': 'reg:squarederror'}\n",
      "0.723207921612296 {'alpha': 1e-13, 'booster': 'gbtree', 'eta': 1e-13, 'gamma': 1e-11, 'lambda': 1e-15, 'max_depth': 6, 'min_child_weight': 1e-15, 'objective': 'reg:squarederror'}\n",
      "0.723207921612296 {'alpha': 1e-13, 'booster': 'gbtree', 'eta': 1e-13, 'gamma': 1e-11, 'lambda': 1e-15, 'max_depth': 6, 'min_child_weight': 1e-13, 'objective': 'reg:squarederror'}\n",
      "0.723207921612296 {'alpha': 1e-13, 'booster': 'gbtree', 'eta': 1e-13, 'gamma': 1e-11, 'lambda': 1e-15, 'max_depth': 6, 'min_child_weight': 1e-11, 'objective': 'reg:squarederror'}\n",
      "0.7078875852783633 {'alpha': 1e-13, 'booster': 'gbtree', 'eta': 1e-13, 'gamma': 1e-11, 'lambda': 1e-15, 'max_depth': 7, 'min_child_weight': 1e-15, 'objective': 'reg:squarederror'}\n",
      "0.7078875852783633 {'alpha': 1e-13, 'booster': 'gbtree', 'eta': 1e-13, 'gamma': 1e-11, 'lambda': 1e-15, 'max_depth': 7, 'min_child_weight': 1e-13, 'objective': 'reg:squarederror'}\n",
      "0.7078875852783633 {'alpha': 1e-13, 'booster': 'gbtree', 'eta': 1e-13, 'gamma': 1e-11, 'lambda': 1e-15, 'max_depth': 7, 'min_child_weight': 1e-11, 'objective': 'reg:squarederror'}\n",
      "0.7171411017018149 {'alpha': 1e-13, 'booster': 'gbtree', 'eta': 1e-13, 'gamma': 1e-11, 'lambda': 1e-15, 'max_depth': 8, 'min_child_weight': 1e-15, 'objective': 'reg:squarederror'}\n",
      "0.7171411017018149 {'alpha': 1e-13, 'booster': 'gbtree', 'eta': 1e-13, 'gamma': 1e-11, 'lambda': 1e-15, 'max_depth': 8, 'min_child_weight': 1e-13, 'objective': 'reg:squarederror'}\n",
      "0.7171411017018149 {'alpha': 1e-13, 'booster': 'gbtree', 'eta': 1e-13, 'gamma': 1e-11, 'lambda': 1e-15, 'max_depth': 8, 'min_child_weight': 1e-11, 'objective': 'reg:squarederror'}\n",
      "0.723207921612296 {'alpha': 1e-13, 'booster': 'gbtree', 'eta': 1e-13, 'gamma': 1e-11, 'lambda': 1e-13, 'max_depth': 6, 'min_child_weight': 1e-15, 'objective': 'reg:squarederror'}\n",
      "0.723207921612296 {'alpha': 1e-13, 'booster': 'gbtree', 'eta': 1e-13, 'gamma': 1e-11, 'lambda': 1e-13, 'max_depth': 6, 'min_child_weight': 1e-13, 'objective': 'reg:squarederror'}\n",
      "0.723207921612296 {'alpha': 1e-13, 'booster': 'gbtree', 'eta': 1e-13, 'gamma': 1e-11, 'lambda': 1e-13, 'max_depth': 6, 'min_child_weight': 1e-11, 'objective': 'reg:squarederror'}\n",
      "0.7078875852783633 {'alpha': 1e-13, 'booster': 'gbtree', 'eta': 1e-13, 'gamma': 1e-11, 'lambda': 1e-13, 'max_depth': 7, 'min_child_weight': 1e-15, 'objective': 'reg:squarederror'}\n",
      "0.7078875852783633 {'alpha': 1e-13, 'booster': 'gbtree', 'eta': 1e-13, 'gamma': 1e-11, 'lambda': 1e-13, 'max_depth': 7, 'min_child_weight': 1e-13, 'objective': 'reg:squarederror'}\n",
      "0.7078875852783633 {'alpha': 1e-13, 'booster': 'gbtree', 'eta': 1e-13, 'gamma': 1e-11, 'lambda': 1e-13, 'max_depth': 7, 'min_child_weight': 1e-11, 'objective': 'reg:squarederror'}\n",
      "0.7171411017018149 {'alpha': 1e-13, 'booster': 'gbtree', 'eta': 1e-13, 'gamma': 1e-11, 'lambda': 1e-13, 'max_depth': 8, 'min_child_weight': 1e-15, 'objective': 'reg:squarederror'}\n",
      "0.7171411017018149 {'alpha': 1e-13, 'booster': 'gbtree', 'eta': 1e-13, 'gamma': 1e-11, 'lambda': 1e-13, 'max_depth': 8, 'min_child_weight': 1e-13, 'objective': 'reg:squarederror'}\n",
      "0.7171411017018149 {'alpha': 1e-13, 'booster': 'gbtree', 'eta': 1e-13, 'gamma': 1e-11, 'lambda': 1e-13, 'max_depth': 8, 'min_child_weight': 1e-11, 'objective': 'reg:squarederror'}\n",
      "0.723207921612296 {'alpha': 1e-13, 'booster': 'gbtree', 'eta': 1e-13, 'gamma': 1e-11, 'lambda': 1e-11, 'max_depth': 6, 'min_child_weight': 1e-15, 'objective': 'reg:squarederror'}\n",
      "0.723207921612296 {'alpha': 1e-13, 'booster': 'gbtree', 'eta': 1e-13, 'gamma': 1e-11, 'lambda': 1e-11, 'max_depth': 6, 'min_child_weight': 1e-13, 'objective': 'reg:squarederror'}\n",
      "0.723207921612296 {'alpha': 1e-13, 'booster': 'gbtree', 'eta': 1e-13, 'gamma': 1e-11, 'lambda': 1e-11, 'max_depth': 6, 'min_child_weight': 1e-11, 'objective': 'reg:squarederror'}\n",
      "0.7078875852783633 {'alpha': 1e-13, 'booster': 'gbtree', 'eta': 1e-13, 'gamma': 1e-11, 'lambda': 1e-11, 'max_depth': 7, 'min_child_weight': 1e-15, 'objective': 'reg:squarederror'}\n",
      "0.7078875852783633 {'alpha': 1e-13, 'booster': 'gbtree', 'eta': 1e-13, 'gamma': 1e-11, 'lambda': 1e-11, 'max_depth': 7, 'min_child_weight': 1e-13, 'objective': 'reg:squarederror'}\n",
      "0.7078875852783633 {'alpha': 1e-13, 'booster': 'gbtree', 'eta': 1e-13, 'gamma': 1e-11, 'lambda': 1e-11, 'max_depth': 7, 'min_child_weight': 1e-11, 'objective': 'reg:squarederror'}\n",
      "0.7171411017018149 {'alpha': 1e-13, 'booster': 'gbtree', 'eta': 1e-13, 'gamma': 1e-11, 'lambda': 1e-11, 'max_depth': 8, 'min_child_weight': 1e-15, 'objective': 'reg:squarederror'}\n",
      "0.7171411017018149 {'alpha': 1e-13, 'booster': 'gbtree', 'eta': 1e-13, 'gamma': 1e-11, 'lambda': 1e-11, 'max_depth': 8, 'min_child_weight': 1e-13, 'objective': 'reg:squarederror'}\n",
      "0.7171411017018149 {'alpha': 1e-13, 'booster': 'gbtree', 'eta': 1e-13, 'gamma': 1e-11, 'lambda': 1e-11, 'max_depth': 8, 'min_child_weight': 1e-11, 'objective': 'reg:squarederror'}\n",
      "0.723207921612296 {'alpha': 1e-13, 'booster': 'gbtree', 'eta': 1e-11, 'gamma': 1e-15, 'lambda': 1e-15, 'max_depth': 6, 'min_child_weight': 1e-15, 'objective': 'reg:squarederror'}\n",
      "0.723207921612296 {'alpha': 1e-13, 'booster': 'gbtree', 'eta': 1e-11, 'gamma': 1e-15, 'lambda': 1e-15, 'max_depth': 6, 'min_child_weight': 1e-13, 'objective': 'reg:squarederror'}\n",
      "0.723207921612296 {'alpha': 1e-13, 'booster': 'gbtree', 'eta': 1e-11, 'gamma': 1e-15, 'lambda': 1e-15, 'max_depth': 6, 'min_child_weight': 1e-11, 'objective': 'reg:squarederror'}\n",
      "0.7078875852783633 {'alpha': 1e-13, 'booster': 'gbtree', 'eta': 1e-11, 'gamma': 1e-15, 'lambda': 1e-15, 'max_depth': 7, 'min_child_weight': 1e-15, 'objective': 'reg:squarederror'}\n",
      "0.7078875852783633 {'alpha': 1e-13, 'booster': 'gbtree', 'eta': 1e-11, 'gamma': 1e-15, 'lambda': 1e-15, 'max_depth': 7, 'min_child_weight': 1e-13, 'objective': 'reg:squarederror'}\n",
      "0.7078875852783633 {'alpha': 1e-13, 'booster': 'gbtree', 'eta': 1e-11, 'gamma': 1e-15, 'lambda': 1e-15, 'max_depth': 7, 'min_child_weight': 1e-11, 'objective': 'reg:squarederror'}\n",
      "0.7171411017018149 {'alpha': 1e-13, 'booster': 'gbtree', 'eta': 1e-11, 'gamma': 1e-15, 'lambda': 1e-15, 'max_depth': 8, 'min_child_weight': 1e-15, 'objective': 'reg:squarederror'}\n",
      "0.7171411017018149 {'alpha': 1e-13, 'booster': 'gbtree', 'eta': 1e-11, 'gamma': 1e-15, 'lambda': 1e-15, 'max_depth': 8, 'min_child_weight': 1e-13, 'objective': 'reg:squarederror'}\n",
      "0.7171411017018149 {'alpha': 1e-13, 'booster': 'gbtree', 'eta': 1e-11, 'gamma': 1e-15, 'lambda': 1e-15, 'max_depth': 8, 'min_child_weight': 1e-11, 'objective': 'reg:squarederror'}\n",
      "0.723207921612296 {'alpha': 1e-13, 'booster': 'gbtree', 'eta': 1e-11, 'gamma': 1e-15, 'lambda': 1e-13, 'max_depth': 6, 'min_child_weight': 1e-15, 'objective': 'reg:squarederror'}\n",
      "0.723207921612296 {'alpha': 1e-13, 'booster': 'gbtree', 'eta': 1e-11, 'gamma': 1e-15, 'lambda': 1e-13, 'max_depth': 6, 'min_child_weight': 1e-13, 'objective': 'reg:squarederror'}\n",
      "0.723207921612296 {'alpha': 1e-13, 'booster': 'gbtree', 'eta': 1e-11, 'gamma': 1e-15, 'lambda': 1e-13, 'max_depth': 6, 'min_child_weight': 1e-11, 'objective': 'reg:squarederror'}\n",
      "0.7078875852783633 {'alpha': 1e-13, 'booster': 'gbtree', 'eta': 1e-11, 'gamma': 1e-15, 'lambda': 1e-13, 'max_depth': 7, 'min_child_weight': 1e-15, 'objective': 'reg:squarederror'}\n",
      "0.7078875852783633 {'alpha': 1e-13, 'booster': 'gbtree', 'eta': 1e-11, 'gamma': 1e-15, 'lambda': 1e-13, 'max_depth': 7, 'min_child_weight': 1e-13, 'objective': 'reg:squarederror'}\n",
      "0.7078875852783633 {'alpha': 1e-13, 'booster': 'gbtree', 'eta': 1e-11, 'gamma': 1e-15, 'lambda': 1e-13, 'max_depth': 7, 'min_child_weight': 1e-11, 'objective': 'reg:squarederror'}\n",
      "0.7171411017018149 {'alpha': 1e-13, 'booster': 'gbtree', 'eta': 1e-11, 'gamma': 1e-15, 'lambda': 1e-13, 'max_depth': 8, 'min_child_weight': 1e-15, 'objective': 'reg:squarederror'}\n",
      "0.7171411017018149 {'alpha': 1e-13, 'booster': 'gbtree', 'eta': 1e-11, 'gamma': 1e-15, 'lambda': 1e-13, 'max_depth': 8, 'min_child_weight': 1e-13, 'objective': 'reg:squarederror'}\n",
      "0.7171411017018149 {'alpha': 1e-13, 'booster': 'gbtree', 'eta': 1e-11, 'gamma': 1e-15, 'lambda': 1e-13, 'max_depth': 8, 'min_child_weight': 1e-11, 'objective': 'reg:squarederror'}\n",
      "0.723207921612296 {'alpha': 1e-13, 'booster': 'gbtree', 'eta': 1e-11, 'gamma': 1e-15, 'lambda': 1e-11, 'max_depth': 6, 'min_child_weight': 1e-15, 'objective': 'reg:squarederror'}\n",
      "0.723207921612296 {'alpha': 1e-13, 'booster': 'gbtree', 'eta': 1e-11, 'gamma': 1e-15, 'lambda': 1e-11, 'max_depth': 6, 'min_child_weight': 1e-13, 'objective': 'reg:squarederror'}\n",
      "0.723207921612296 {'alpha': 1e-13, 'booster': 'gbtree', 'eta': 1e-11, 'gamma': 1e-15, 'lambda': 1e-11, 'max_depth': 6, 'min_child_weight': 1e-11, 'objective': 'reg:squarederror'}\n",
      "0.7078875852783633 {'alpha': 1e-13, 'booster': 'gbtree', 'eta': 1e-11, 'gamma': 1e-15, 'lambda': 1e-11, 'max_depth': 7, 'min_child_weight': 1e-15, 'objective': 'reg:squarederror'}\n",
      "0.7078875852783633 {'alpha': 1e-13, 'booster': 'gbtree', 'eta': 1e-11, 'gamma': 1e-15, 'lambda': 1e-11, 'max_depth': 7, 'min_child_weight': 1e-13, 'objective': 'reg:squarederror'}\n",
      "0.7078875852783633 {'alpha': 1e-13, 'booster': 'gbtree', 'eta': 1e-11, 'gamma': 1e-15, 'lambda': 1e-11, 'max_depth': 7, 'min_child_weight': 1e-11, 'objective': 'reg:squarederror'}\n",
      "0.7171411017018149 {'alpha': 1e-13, 'booster': 'gbtree', 'eta': 1e-11, 'gamma': 1e-15, 'lambda': 1e-11, 'max_depth': 8, 'min_child_weight': 1e-15, 'objective': 'reg:squarederror'}\n",
      "0.7171411017018149 {'alpha': 1e-13, 'booster': 'gbtree', 'eta': 1e-11, 'gamma': 1e-15, 'lambda': 1e-11, 'max_depth': 8, 'min_child_weight': 1e-13, 'objective': 'reg:squarederror'}\n",
      "0.7171411017018149 {'alpha': 1e-13, 'booster': 'gbtree', 'eta': 1e-11, 'gamma': 1e-15, 'lambda': 1e-11, 'max_depth': 8, 'min_child_weight': 1e-11, 'objective': 'reg:squarederror'}\n",
      "0.723207921612296 {'alpha': 1e-13, 'booster': 'gbtree', 'eta': 1e-11, 'gamma': 1e-13, 'lambda': 1e-15, 'max_depth': 6, 'min_child_weight': 1e-15, 'objective': 'reg:squarederror'}\n",
      "0.723207921612296 {'alpha': 1e-13, 'booster': 'gbtree', 'eta': 1e-11, 'gamma': 1e-13, 'lambda': 1e-15, 'max_depth': 6, 'min_child_weight': 1e-13, 'objective': 'reg:squarederror'}\n",
      "0.723207921612296 {'alpha': 1e-13, 'booster': 'gbtree', 'eta': 1e-11, 'gamma': 1e-13, 'lambda': 1e-15, 'max_depth': 6, 'min_child_weight': 1e-11, 'objective': 'reg:squarederror'}\n",
      "0.7078875852783633 {'alpha': 1e-13, 'booster': 'gbtree', 'eta': 1e-11, 'gamma': 1e-13, 'lambda': 1e-15, 'max_depth': 7, 'min_child_weight': 1e-15, 'objective': 'reg:squarederror'}\n",
      "0.7078875852783633 {'alpha': 1e-13, 'booster': 'gbtree', 'eta': 1e-11, 'gamma': 1e-13, 'lambda': 1e-15, 'max_depth': 7, 'min_child_weight': 1e-13, 'objective': 'reg:squarederror'}\n",
      "0.7078875852783633 {'alpha': 1e-13, 'booster': 'gbtree', 'eta': 1e-11, 'gamma': 1e-13, 'lambda': 1e-15, 'max_depth': 7, 'min_child_weight': 1e-11, 'objective': 'reg:squarederror'}\n",
      "0.7171411017018149 {'alpha': 1e-13, 'booster': 'gbtree', 'eta': 1e-11, 'gamma': 1e-13, 'lambda': 1e-15, 'max_depth': 8, 'min_child_weight': 1e-15, 'objective': 'reg:squarederror'}\n",
      "0.7171411017018149 {'alpha': 1e-13, 'booster': 'gbtree', 'eta': 1e-11, 'gamma': 1e-13, 'lambda': 1e-15, 'max_depth': 8, 'min_child_weight': 1e-13, 'objective': 'reg:squarederror'}\n",
      "0.7171411017018149 {'alpha': 1e-13, 'booster': 'gbtree', 'eta': 1e-11, 'gamma': 1e-13, 'lambda': 1e-15, 'max_depth': 8, 'min_child_weight': 1e-11, 'objective': 'reg:squarederror'}\n",
      "0.723207921612296 {'alpha': 1e-13, 'booster': 'gbtree', 'eta': 1e-11, 'gamma': 1e-13, 'lambda': 1e-13, 'max_depth': 6, 'min_child_weight': 1e-15, 'objective': 'reg:squarederror'}\n",
      "0.723207921612296 {'alpha': 1e-13, 'booster': 'gbtree', 'eta': 1e-11, 'gamma': 1e-13, 'lambda': 1e-13, 'max_depth': 6, 'min_child_weight': 1e-13, 'objective': 'reg:squarederror'}\n",
      "0.723207921612296 {'alpha': 1e-13, 'booster': 'gbtree', 'eta': 1e-11, 'gamma': 1e-13, 'lambda': 1e-13, 'max_depth': 6, 'min_child_weight': 1e-11, 'objective': 'reg:squarederror'}\n",
      "0.7078875852783633 {'alpha': 1e-13, 'booster': 'gbtree', 'eta': 1e-11, 'gamma': 1e-13, 'lambda': 1e-13, 'max_depth': 7, 'min_child_weight': 1e-15, 'objective': 'reg:squarederror'}\n",
      "0.7078875852783633 {'alpha': 1e-13, 'booster': 'gbtree', 'eta': 1e-11, 'gamma': 1e-13, 'lambda': 1e-13, 'max_depth': 7, 'min_child_weight': 1e-13, 'objective': 'reg:squarederror'}\n",
      "0.7078875852783633 {'alpha': 1e-13, 'booster': 'gbtree', 'eta': 1e-11, 'gamma': 1e-13, 'lambda': 1e-13, 'max_depth': 7, 'min_child_weight': 1e-11, 'objective': 'reg:squarederror'}\n",
      "0.7171411017018149 {'alpha': 1e-13, 'booster': 'gbtree', 'eta': 1e-11, 'gamma': 1e-13, 'lambda': 1e-13, 'max_depth': 8, 'min_child_weight': 1e-15, 'objective': 'reg:squarederror'}\n",
      "0.7171411017018149 {'alpha': 1e-13, 'booster': 'gbtree', 'eta': 1e-11, 'gamma': 1e-13, 'lambda': 1e-13, 'max_depth': 8, 'min_child_weight': 1e-13, 'objective': 'reg:squarederror'}\n",
      "0.7171411017018149 {'alpha': 1e-13, 'booster': 'gbtree', 'eta': 1e-11, 'gamma': 1e-13, 'lambda': 1e-13, 'max_depth': 8, 'min_child_weight': 1e-11, 'objective': 'reg:squarederror'}\n",
      "0.723207921612296 {'alpha': 1e-13, 'booster': 'gbtree', 'eta': 1e-11, 'gamma': 1e-13, 'lambda': 1e-11, 'max_depth': 6, 'min_child_weight': 1e-15, 'objective': 'reg:squarederror'}\n",
      "0.723207921612296 {'alpha': 1e-13, 'booster': 'gbtree', 'eta': 1e-11, 'gamma': 1e-13, 'lambda': 1e-11, 'max_depth': 6, 'min_child_weight': 1e-13, 'objective': 'reg:squarederror'}\n",
      "0.723207921612296 {'alpha': 1e-13, 'booster': 'gbtree', 'eta': 1e-11, 'gamma': 1e-13, 'lambda': 1e-11, 'max_depth': 6, 'min_child_weight': 1e-11, 'objective': 'reg:squarederror'}\n",
      "0.7078875852783633 {'alpha': 1e-13, 'booster': 'gbtree', 'eta': 1e-11, 'gamma': 1e-13, 'lambda': 1e-11, 'max_depth': 7, 'min_child_weight': 1e-15, 'objective': 'reg:squarederror'}\n",
      "0.7078875852783633 {'alpha': 1e-13, 'booster': 'gbtree', 'eta': 1e-11, 'gamma': 1e-13, 'lambda': 1e-11, 'max_depth': 7, 'min_child_weight': 1e-13, 'objective': 'reg:squarederror'}\n",
      "0.7078875852783633 {'alpha': 1e-13, 'booster': 'gbtree', 'eta': 1e-11, 'gamma': 1e-13, 'lambda': 1e-11, 'max_depth': 7, 'min_child_weight': 1e-11, 'objective': 'reg:squarederror'}\n",
      "0.7171411017018149 {'alpha': 1e-13, 'booster': 'gbtree', 'eta': 1e-11, 'gamma': 1e-13, 'lambda': 1e-11, 'max_depth': 8, 'min_child_weight': 1e-15, 'objective': 'reg:squarederror'}\n",
      "0.7171411017018149 {'alpha': 1e-13, 'booster': 'gbtree', 'eta': 1e-11, 'gamma': 1e-13, 'lambda': 1e-11, 'max_depth': 8, 'min_child_weight': 1e-13, 'objective': 'reg:squarederror'}\n",
      "0.7171411017018149 {'alpha': 1e-13, 'booster': 'gbtree', 'eta': 1e-11, 'gamma': 1e-13, 'lambda': 1e-11, 'max_depth': 8, 'min_child_weight': 1e-11, 'objective': 'reg:squarederror'}\n",
      "0.723207921612296 {'alpha': 1e-13, 'booster': 'gbtree', 'eta': 1e-11, 'gamma': 1e-11, 'lambda': 1e-15, 'max_depth': 6, 'min_child_weight': 1e-15, 'objective': 'reg:squarederror'}\n",
      "0.723207921612296 {'alpha': 1e-13, 'booster': 'gbtree', 'eta': 1e-11, 'gamma': 1e-11, 'lambda': 1e-15, 'max_depth': 6, 'min_child_weight': 1e-13, 'objective': 'reg:squarederror'}\n",
      "0.723207921612296 {'alpha': 1e-13, 'booster': 'gbtree', 'eta': 1e-11, 'gamma': 1e-11, 'lambda': 1e-15, 'max_depth': 6, 'min_child_weight': 1e-11, 'objective': 'reg:squarederror'}\n",
      "0.7078875852783633 {'alpha': 1e-13, 'booster': 'gbtree', 'eta': 1e-11, 'gamma': 1e-11, 'lambda': 1e-15, 'max_depth': 7, 'min_child_weight': 1e-15, 'objective': 'reg:squarederror'}\n",
      "0.7078875852783633 {'alpha': 1e-13, 'booster': 'gbtree', 'eta': 1e-11, 'gamma': 1e-11, 'lambda': 1e-15, 'max_depth': 7, 'min_child_weight': 1e-13, 'objective': 'reg:squarederror'}\n",
      "0.7078875852783633 {'alpha': 1e-13, 'booster': 'gbtree', 'eta': 1e-11, 'gamma': 1e-11, 'lambda': 1e-15, 'max_depth': 7, 'min_child_weight': 1e-11, 'objective': 'reg:squarederror'}\n",
      "0.7171411017018149 {'alpha': 1e-13, 'booster': 'gbtree', 'eta': 1e-11, 'gamma': 1e-11, 'lambda': 1e-15, 'max_depth': 8, 'min_child_weight': 1e-15, 'objective': 'reg:squarederror'}\n",
      "0.7171411017018149 {'alpha': 1e-13, 'booster': 'gbtree', 'eta': 1e-11, 'gamma': 1e-11, 'lambda': 1e-15, 'max_depth': 8, 'min_child_weight': 1e-13, 'objective': 'reg:squarederror'}\n",
      "0.7171411017018149 {'alpha': 1e-13, 'booster': 'gbtree', 'eta': 1e-11, 'gamma': 1e-11, 'lambda': 1e-15, 'max_depth': 8, 'min_child_weight': 1e-11, 'objective': 'reg:squarederror'}\n",
      "0.723207921612296 {'alpha': 1e-13, 'booster': 'gbtree', 'eta': 1e-11, 'gamma': 1e-11, 'lambda': 1e-13, 'max_depth': 6, 'min_child_weight': 1e-15, 'objective': 'reg:squarederror'}\n",
      "0.723207921612296 {'alpha': 1e-13, 'booster': 'gbtree', 'eta': 1e-11, 'gamma': 1e-11, 'lambda': 1e-13, 'max_depth': 6, 'min_child_weight': 1e-13, 'objective': 'reg:squarederror'}\n",
      "0.723207921612296 {'alpha': 1e-13, 'booster': 'gbtree', 'eta': 1e-11, 'gamma': 1e-11, 'lambda': 1e-13, 'max_depth': 6, 'min_child_weight': 1e-11, 'objective': 'reg:squarederror'}\n",
      "0.7078875852783633 {'alpha': 1e-13, 'booster': 'gbtree', 'eta': 1e-11, 'gamma': 1e-11, 'lambda': 1e-13, 'max_depth': 7, 'min_child_weight': 1e-15, 'objective': 'reg:squarederror'}\n",
      "0.7078875852783633 {'alpha': 1e-13, 'booster': 'gbtree', 'eta': 1e-11, 'gamma': 1e-11, 'lambda': 1e-13, 'max_depth': 7, 'min_child_weight': 1e-13, 'objective': 'reg:squarederror'}\n",
      "0.7078875852783633 {'alpha': 1e-13, 'booster': 'gbtree', 'eta': 1e-11, 'gamma': 1e-11, 'lambda': 1e-13, 'max_depth': 7, 'min_child_weight': 1e-11, 'objective': 'reg:squarederror'}\n",
      "0.7171411017018149 {'alpha': 1e-13, 'booster': 'gbtree', 'eta': 1e-11, 'gamma': 1e-11, 'lambda': 1e-13, 'max_depth': 8, 'min_child_weight': 1e-15, 'objective': 'reg:squarederror'}\n",
      "0.7171411017018149 {'alpha': 1e-13, 'booster': 'gbtree', 'eta': 1e-11, 'gamma': 1e-11, 'lambda': 1e-13, 'max_depth': 8, 'min_child_weight': 1e-13, 'objective': 'reg:squarederror'}\n",
      "0.7171411017018149 {'alpha': 1e-13, 'booster': 'gbtree', 'eta': 1e-11, 'gamma': 1e-11, 'lambda': 1e-13, 'max_depth': 8, 'min_child_weight': 1e-11, 'objective': 'reg:squarederror'}\n",
      "0.723207921612296 {'alpha': 1e-13, 'booster': 'gbtree', 'eta': 1e-11, 'gamma': 1e-11, 'lambda': 1e-11, 'max_depth': 6, 'min_child_weight': 1e-15, 'objective': 'reg:squarederror'}\n",
      "0.723207921612296 {'alpha': 1e-13, 'booster': 'gbtree', 'eta': 1e-11, 'gamma': 1e-11, 'lambda': 1e-11, 'max_depth': 6, 'min_child_weight': 1e-13, 'objective': 'reg:squarederror'}\n",
      "0.723207921612296 {'alpha': 1e-13, 'booster': 'gbtree', 'eta': 1e-11, 'gamma': 1e-11, 'lambda': 1e-11, 'max_depth': 6, 'min_child_weight': 1e-11, 'objective': 'reg:squarederror'}\n",
      "0.7078875852783633 {'alpha': 1e-13, 'booster': 'gbtree', 'eta': 1e-11, 'gamma': 1e-11, 'lambda': 1e-11, 'max_depth': 7, 'min_child_weight': 1e-15, 'objective': 'reg:squarederror'}\n",
      "0.7078875852783633 {'alpha': 1e-13, 'booster': 'gbtree', 'eta': 1e-11, 'gamma': 1e-11, 'lambda': 1e-11, 'max_depth': 7, 'min_child_weight': 1e-13, 'objective': 'reg:squarederror'}\n",
      "0.7078875852783633 {'alpha': 1e-13, 'booster': 'gbtree', 'eta': 1e-11, 'gamma': 1e-11, 'lambda': 1e-11, 'max_depth': 7, 'min_child_weight': 1e-11, 'objective': 'reg:squarederror'}\n",
      "0.7171411017018149 {'alpha': 1e-13, 'booster': 'gbtree', 'eta': 1e-11, 'gamma': 1e-11, 'lambda': 1e-11, 'max_depth': 8, 'min_child_weight': 1e-15, 'objective': 'reg:squarederror'}\n",
      "0.7171411017018149 {'alpha': 1e-13, 'booster': 'gbtree', 'eta': 1e-11, 'gamma': 1e-11, 'lambda': 1e-11, 'max_depth': 8, 'min_child_weight': 1e-13, 'objective': 'reg:squarederror'}\n",
      "0.7171411017018149 {'alpha': 1e-13, 'booster': 'gbtree', 'eta': 1e-11, 'gamma': 1e-11, 'lambda': 1e-11, 'max_depth': 8, 'min_child_weight': 1e-11, 'objective': 'reg:squarederror'}\n",
      "0.723207921612296 {'alpha': 1e-11, 'booster': 'gbtree', 'eta': 1e-15, 'gamma': 1e-15, 'lambda': 1e-15, 'max_depth': 6, 'min_child_weight': 1e-15, 'objective': 'reg:squarederror'}\n",
      "0.723207921612296 {'alpha': 1e-11, 'booster': 'gbtree', 'eta': 1e-15, 'gamma': 1e-15, 'lambda': 1e-15, 'max_depth': 6, 'min_child_weight': 1e-13, 'objective': 'reg:squarederror'}\n",
      "0.723207921612296 {'alpha': 1e-11, 'booster': 'gbtree', 'eta': 1e-15, 'gamma': 1e-15, 'lambda': 1e-15, 'max_depth': 6, 'min_child_weight': 1e-11, 'objective': 'reg:squarederror'}\n",
      "0.7078875852783633 {'alpha': 1e-11, 'booster': 'gbtree', 'eta': 1e-15, 'gamma': 1e-15, 'lambda': 1e-15, 'max_depth': 7, 'min_child_weight': 1e-15, 'objective': 'reg:squarederror'}\n",
      "0.7078875852783633 {'alpha': 1e-11, 'booster': 'gbtree', 'eta': 1e-15, 'gamma': 1e-15, 'lambda': 1e-15, 'max_depth': 7, 'min_child_weight': 1e-13, 'objective': 'reg:squarederror'}\n",
      "0.7078875852783633 {'alpha': 1e-11, 'booster': 'gbtree', 'eta': 1e-15, 'gamma': 1e-15, 'lambda': 1e-15, 'max_depth': 7, 'min_child_weight': 1e-11, 'objective': 'reg:squarederror'}\n",
      "0.7171411017018149 {'alpha': 1e-11, 'booster': 'gbtree', 'eta': 1e-15, 'gamma': 1e-15, 'lambda': 1e-15, 'max_depth': 8, 'min_child_weight': 1e-15, 'objective': 'reg:squarederror'}\n",
      "0.7171411017018149 {'alpha': 1e-11, 'booster': 'gbtree', 'eta': 1e-15, 'gamma': 1e-15, 'lambda': 1e-15, 'max_depth': 8, 'min_child_weight': 1e-13, 'objective': 'reg:squarederror'}\n",
      "0.7171411017018149 {'alpha': 1e-11, 'booster': 'gbtree', 'eta': 1e-15, 'gamma': 1e-15, 'lambda': 1e-15, 'max_depth': 8, 'min_child_weight': 1e-11, 'objective': 'reg:squarederror'}\n",
      "0.723207921612296 {'alpha': 1e-11, 'booster': 'gbtree', 'eta': 1e-15, 'gamma': 1e-15, 'lambda': 1e-13, 'max_depth': 6, 'min_child_weight': 1e-15, 'objective': 'reg:squarederror'}\n",
      "0.723207921612296 {'alpha': 1e-11, 'booster': 'gbtree', 'eta': 1e-15, 'gamma': 1e-15, 'lambda': 1e-13, 'max_depth': 6, 'min_child_weight': 1e-13, 'objective': 'reg:squarederror'}\n",
      "0.723207921612296 {'alpha': 1e-11, 'booster': 'gbtree', 'eta': 1e-15, 'gamma': 1e-15, 'lambda': 1e-13, 'max_depth': 6, 'min_child_weight': 1e-11, 'objective': 'reg:squarederror'}\n",
      "0.7078875852783633 {'alpha': 1e-11, 'booster': 'gbtree', 'eta': 1e-15, 'gamma': 1e-15, 'lambda': 1e-13, 'max_depth': 7, 'min_child_weight': 1e-15, 'objective': 'reg:squarederror'}\n",
      "0.7078875852783633 {'alpha': 1e-11, 'booster': 'gbtree', 'eta': 1e-15, 'gamma': 1e-15, 'lambda': 1e-13, 'max_depth': 7, 'min_child_weight': 1e-13, 'objective': 'reg:squarederror'}\n",
      "0.7078875852783633 {'alpha': 1e-11, 'booster': 'gbtree', 'eta': 1e-15, 'gamma': 1e-15, 'lambda': 1e-13, 'max_depth': 7, 'min_child_weight': 1e-11, 'objective': 'reg:squarederror'}\n",
      "0.7171411017018149 {'alpha': 1e-11, 'booster': 'gbtree', 'eta': 1e-15, 'gamma': 1e-15, 'lambda': 1e-13, 'max_depth': 8, 'min_child_weight': 1e-15, 'objective': 'reg:squarederror'}\n",
      "0.7171411017018149 {'alpha': 1e-11, 'booster': 'gbtree', 'eta': 1e-15, 'gamma': 1e-15, 'lambda': 1e-13, 'max_depth': 8, 'min_child_weight': 1e-13, 'objective': 'reg:squarederror'}\n",
      "0.7171411017018149 {'alpha': 1e-11, 'booster': 'gbtree', 'eta': 1e-15, 'gamma': 1e-15, 'lambda': 1e-13, 'max_depth': 8, 'min_child_weight': 1e-11, 'objective': 'reg:squarederror'}\n",
      "0.723207921612296 {'alpha': 1e-11, 'booster': 'gbtree', 'eta': 1e-15, 'gamma': 1e-15, 'lambda': 1e-11, 'max_depth': 6, 'min_child_weight': 1e-15, 'objective': 'reg:squarederror'}\n",
      "0.723207921612296 {'alpha': 1e-11, 'booster': 'gbtree', 'eta': 1e-15, 'gamma': 1e-15, 'lambda': 1e-11, 'max_depth': 6, 'min_child_weight': 1e-13, 'objective': 'reg:squarederror'}\n",
      "0.723207921612296 {'alpha': 1e-11, 'booster': 'gbtree', 'eta': 1e-15, 'gamma': 1e-15, 'lambda': 1e-11, 'max_depth': 6, 'min_child_weight': 1e-11, 'objective': 'reg:squarederror'}\n",
      "0.7078875852783633 {'alpha': 1e-11, 'booster': 'gbtree', 'eta': 1e-15, 'gamma': 1e-15, 'lambda': 1e-11, 'max_depth': 7, 'min_child_weight': 1e-15, 'objective': 'reg:squarederror'}\n",
      "0.7078875852783633 {'alpha': 1e-11, 'booster': 'gbtree', 'eta': 1e-15, 'gamma': 1e-15, 'lambda': 1e-11, 'max_depth': 7, 'min_child_weight': 1e-13, 'objective': 'reg:squarederror'}\n",
      "0.7078875852783633 {'alpha': 1e-11, 'booster': 'gbtree', 'eta': 1e-15, 'gamma': 1e-15, 'lambda': 1e-11, 'max_depth': 7, 'min_child_weight': 1e-11, 'objective': 'reg:squarederror'}\n",
      "0.7171411017018149 {'alpha': 1e-11, 'booster': 'gbtree', 'eta': 1e-15, 'gamma': 1e-15, 'lambda': 1e-11, 'max_depth': 8, 'min_child_weight': 1e-15, 'objective': 'reg:squarederror'}\n",
      "0.7171411017018149 {'alpha': 1e-11, 'booster': 'gbtree', 'eta': 1e-15, 'gamma': 1e-15, 'lambda': 1e-11, 'max_depth': 8, 'min_child_weight': 1e-13, 'objective': 'reg:squarederror'}\n",
      "0.7171411017018149 {'alpha': 1e-11, 'booster': 'gbtree', 'eta': 1e-15, 'gamma': 1e-15, 'lambda': 1e-11, 'max_depth': 8, 'min_child_weight': 1e-11, 'objective': 'reg:squarederror'}\n",
      "0.723207921612296 {'alpha': 1e-11, 'booster': 'gbtree', 'eta': 1e-15, 'gamma': 1e-13, 'lambda': 1e-15, 'max_depth': 6, 'min_child_weight': 1e-15, 'objective': 'reg:squarederror'}\n",
      "0.723207921612296 {'alpha': 1e-11, 'booster': 'gbtree', 'eta': 1e-15, 'gamma': 1e-13, 'lambda': 1e-15, 'max_depth': 6, 'min_child_weight': 1e-13, 'objective': 'reg:squarederror'}\n",
      "0.723207921612296 {'alpha': 1e-11, 'booster': 'gbtree', 'eta': 1e-15, 'gamma': 1e-13, 'lambda': 1e-15, 'max_depth': 6, 'min_child_weight': 1e-11, 'objective': 'reg:squarederror'}\n",
      "0.7078875852783633 {'alpha': 1e-11, 'booster': 'gbtree', 'eta': 1e-15, 'gamma': 1e-13, 'lambda': 1e-15, 'max_depth': 7, 'min_child_weight': 1e-15, 'objective': 'reg:squarederror'}\n",
      "0.7078875852783633 {'alpha': 1e-11, 'booster': 'gbtree', 'eta': 1e-15, 'gamma': 1e-13, 'lambda': 1e-15, 'max_depth': 7, 'min_child_weight': 1e-13, 'objective': 'reg:squarederror'}\n",
      "0.7078875852783633 {'alpha': 1e-11, 'booster': 'gbtree', 'eta': 1e-15, 'gamma': 1e-13, 'lambda': 1e-15, 'max_depth': 7, 'min_child_weight': 1e-11, 'objective': 'reg:squarederror'}\n",
      "0.7171411017018149 {'alpha': 1e-11, 'booster': 'gbtree', 'eta': 1e-15, 'gamma': 1e-13, 'lambda': 1e-15, 'max_depth': 8, 'min_child_weight': 1e-15, 'objective': 'reg:squarederror'}\n",
      "0.7171411017018149 {'alpha': 1e-11, 'booster': 'gbtree', 'eta': 1e-15, 'gamma': 1e-13, 'lambda': 1e-15, 'max_depth': 8, 'min_child_weight': 1e-13, 'objective': 'reg:squarederror'}\n",
      "0.7171411017018149 {'alpha': 1e-11, 'booster': 'gbtree', 'eta': 1e-15, 'gamma': 1e-13, 'lambda': 1e-15, 'max_depth': 8, 'min_child_weight': 1e-11, 'objective': 'reg:squarederror'}\n",
      "0.723207921612296 {'alpha': 1e-11, 'booster': 'gbtree', 'eta': 1e-15, 'gamma': 1e-13, 'lambda': 1e-13, 'max_depth': 6, 'min_child_weight': 1e-15, 'objective': 'reg:squarederror'}\n",
      "0.723207921612296 {'alpha': 1e-11, 'booster': 'gbtree', 'eta': 1e-15, 'gamma': 1e-13, 'lambda': 1e-13, 'max_depth': 6, 'min_child_weight': 1e-13, 'objective': 'reg:squarederror'}\n",
      "0.723207921612296 {'alpha': 1e-11, 'booster': 'gbtree', 'eta': 1e-15, 'gamma': 1e-13, 'lambda': 1e-13, 'max_depth': 6, 'min_child_weight': 1e-11, 'objective': 'reg:squarederror'}\n",
      "0.7078875852783633 {'alpha': 1e-11, 'booster': 'gbtree', 'eta': 1e-15, 'gamma': 1e-13, 'lambda': 1e-13, 'max_depth': 7, 'min_child_weight': 1e-15, 'objective': 'reg:squarederror'}\n",
      "0.7078875852783633 {'alpha': 1e-11, 'booster': 'gbtree', 'eta': 1e-15, 'gamma': 1e-13, 'lambda': 1e-13, 'max_depth': 7, 'min_child_weight': 1e-13, 'objective': 'reg:squarederror'}\n",
      "0.7078875852783633 {'alpha': 1e-11, 'booster': 'gbtree', 'eta': 1e-15, 'gamma': 1e-13, 'lambda': 1e-13, 'max_depth': 7, 'min_child_weight': 1e-11, 'objective': 'reg:squarederror'}\n",
      "0.7171411017018149 {'alpha': 1e-11, 'booster': 'gbtree', 'eta': 1e-15, 'gamma': 1e-13, 'lambda': 1e-13, 'max_depth': 8, 'min_child_weight': 1e-15, 'objective': 'reg:squarederror'}\n",
      "0.7171411017018149 {'alpha': 1e-11, 'booster': 'gbtree', 'eta': 1e-15, 'gamma': 1e-13, 'lambda': 1e-13, 'max_depth': 8, 'min_child_weight': 1e-13, 'objective': 'reg:squarederror'}\n",
      "0.7171411017018149 {'alpha': 1e-11, 'booster': 'gbtree', 'eta': 1e-15, 'gamma': 1e-13, 'lambda': 1e-13, 'max_depth': 8, 'min_child_weight': 1e-11, 'objective': 'reg:squarederror'}\n",
      "0.723207921612296 {'alpha': 1e-11, 'booster': 'gbtree', 'eta': 1e-15, 'gamma': 1e-13, 'lambda': 1e-11, 'max_depth': 6, 'min_child_weight': 1e-15, 'objective': 'reg:squarederror'}\n",
      "0.723207921612296 {'alpha': 1e-11, 'booster': 'gbtree', 'eta': 1e-15, 'gamma': 1e-13, 'lambda': 1e-11, 'max_depth': 6, 'min_child_weight': 1e-13, 'objective': 'reg:squarederror'}\n",
      "0.723207921612296 {'alpha': 1e-11, 'booster': 'gbtree', 'eta': 1e-15, 'gamma': 1e-13, 'lambda': 1e-11, 'max_depth': 6, 'min_child_weight': 1e-11, 'objective': 'reg:squarederror'}\n",
      "0.7078875852783633 {'alpha': 1e-11, 'booster': 'gbtree', 'eta': 1e-15, 'gamma': 1e-13, 'lambda': 1e-11, 'max_depth': 7, 'min_child_weight': 1e-15, 'objective': 'reg:squarederror'}\n",
      "0.7078875852783633 {'alpha': 1e-11, 'booster': 'gbtree', 'eta': 1e-15, 'gamma': 1e-13, 'lambda': 1e-11, 'max_depth': 7, 'min_child_weight': 1e-13, 'objective': 'reg:squarederror'}\n",
      "0.7078875852783633 {'alpha': 1e-11, 'booster': 'gbtree', 'eta': 1e-15, 'gamma': 1e-13, 'lambda': 1e-11, 'max_depth': 7, 'min_child_weight': 1e-11, 'objective': 'reg:squarederror'}\n",
      "0.7171411017018149 {'alpha': 1e-11, 'booster': 'gbtree', 'eta': 1e-15, 'gamma': 1e-13, 'lambda': 1e-11, 'max_depth': 8, 'min_child_weight': 1e-15, 'objective': 'reg:squarederror'}\n",
      "0.7171411017018149 {'alpha': 1e-11, 'booster': 'gbtree', 'eta': 1e-15, 'gamma': 1e-13, 'lambda': 1e-11, 'max_depth': 8, 'min_child_weight': 1e-13, 'objective': 'reg:squarederror'}\n",
      "0.7171411017018149 {'alpha': 1e-11, 'booster': 'gbtree', 'eta': 1e-15, 'gamma': 1e-13, 'lambda': 1e-11, 'max_depth': 8, 'min_child_weight': 1e-11, 'objective': 'reg:squarederror'}\n",
      "0.723207921612296 {'alpha': 1e-11, 'booster': 'gbtree', 'eta': 1e-15, 'gamma': 1e-11, 'lambda': 1e-15, 'max_depth': 6, 'min_child_weight': 1e-15, 'objective': 'reg:squarederror'}\n",
      "0.723207921612296 {'alpha': 1e-11, 'booster': 'gbtree', 'eta': 1e-15, 'gamma': 1e-11, 'lambda': 1e-15, 'max_depth': 6, 'min_child_weight': 1e-13, 'objective': 'reg:squarederror'}\n",
      "0.723207921612296 {'alpha': 1e-11, 'booster': 'gbtree', 'eta': 1e-15, 'gamma': 1e-11, 'lambda': 1e-15, 'max_depth': 6, 'min_child_weight': 1e-11, 'objective': 'reg:squarederror'}\n",
      "0.7078875852783633 {'alpha': 1e-11, 'booster': 'gbtree', 'eta': 1e-15, 'gamma': 1e-11, 'lambda': 1e-15, 'max_depth': 7, 'min_child_weight': 1e-15, 'objective': 'reg:squarederror'}\n",
      "0.7078875852783633 {'alpha': 1e-11, 'booster': 'gbtree', 'eta': 1e-15, 'gamma': 1e-11, 'lambda': 1e-15, 'max_depth': 7, 'min_child_weight': 1e-13, 'objective': 'reg:squarederror'}\n",
      "0.7078875852783633 {'alpha': 1e-11, 'booster': 'gbtree', 'eta': 1e-15, 'gamma': 1e-11, 'lambda': 1e-15, 'max_depth': 7, 'min_child_weight': 1e-11, 'objective': 'reg:squarederror'}\n",
      "0.7171411017018149 {'alpha': 1e-11, 'booster': 'gbtree', 'eta': 1e-15, 'gamma': 1e-11, 'lambda': 1e-15, 'max_depth': 8, 'min_child_weight': 1e-15, 'objective': 'reg:squarederror'}\n",
      "0.7171411017018149 {'alpha': 1e-11, 'booster': 'gbtree', 'eta': 1e-15, 'gamma': 1e-11, 'lambda': 1e-15, 'max_depth': 8, 'min_child_weight': 1e-13, 'objective': 'reg:squarederror'}\n",
      "0.7171411017018149 {'alpha': 1e-11, 'booster': 'gbtree', 'eta': 1e-15, 'gamma': 1e-11, 'lambda': 1e-15, 'max_depth': 8, 'min_child_weight': 1e-11, 'objective': 'reg:squarederror'}\n",
      "0.723207921612296 {'alpha': 1e-11, 'booster': 'gbtree', 'eta': 1e-15, 'gamma': 1e-11, 'lambda': 1e-13, 'max_depth': 6, 'min_child_weight': 1e-15, 'objective': 'reg:squarederror'}\n",
      "0.723207921612296 {'alpha': 1e-11, 'booster': 'gbtree', 'eta': 1e-15, 'gamma': 1e-11, 'lambda': 1e-13, 'max_depth': 6, 'min_child_weight': 1e-13, 'objective': 'reg:squarederror'}\n",
      "0.723207921612296 {'alpha': 1e-11, 'booster': 'gbtree', 'eta': 1e-15, 'gamma': 1e-11, 'lambda': 1e-13, 'max_depth': 6, 'min_child_weight': 1e-11, 'objective': 'reg:squarederror'}\n",
      "0.7078875852783633 {'alpha': 1e-11, 'booster': 'gbtree', 'eta': 1e-15, 'gamma': 1e-11, 'lambda': 1e-13, 'max_depth': 7, 'min_child_weight': 1e-15, 'objective': 'reg:squarederror'}\n",
      "0.7078875852783633 {'alpha': 1e-11, 'booster': 'gbtree', 'eta': 1e-15, 'gamma': 1e-11, 'lambda': 1e-13, 'max_depth': 7, 'min_child_weight': 1e-13, 'objective': 'reg:squarederror'}\n",
      "0.7078875852783633 {'alpha': 1e-11, 'booster': 'gbtree', 'eta': 1e-15, 'gamma': 1e-11, 'lambda': 1e-13, 'max_depth': 7, 'min_child_weight': 1e-11, 'objective': 'reg:squarederror'}\n",
      "0.7171411017018149 {'alpha': 1e-11, 'booster': 'gbtree', 'eta': 1e-15, 'gamma': 1e-11, 'lambda': 1e-13, 'max_depth': 8, 'min_child_weight': 1e-15, 'objective': 'reg:squarederror'}\n",
      "0.7171411017018149 {'alpha': 1e-11, 'booster': 'gbtree', 'eta': 1e-15, 'gamma': 1e-11, 'lambda': 1e-13, 'max_depth': 8, 'min_child_weight': 1e-13, 'objective': 'reg:squarederror'}\n",
      "0.7171411017018149 {'alpha': 1e-11, 'booster': 'gbtree', 'eta': 1e-15, 'gamma': 1e-11, 'lambda': 1e-13, 'max_depth': 8, 'min_child_weight': 1e-11, 'objective': 'reg:squarederror'}\n",
      "0.723207921612296 {'alpha': 1e-11, 'booster': 'gbtree', 'eta': 1e-15, 'gamma': 1e-11, 'lambda': 1e-11, 'max_depth': 6, 'min_child_weight': 1e-15, 'objective': 'reg:squarederror'}\n",
      "0.723207921612296 {'alpha': 1e-11, 'booster': 'gbtree', 'eta': 1e-15, 'gamma': 1e-11, 'lambda': 1e-11, 'max_depth': 6, 'min_child_weight': 1e-13, 'objective': 'reg:squarederror'}\n",
      "0.723207921612296 {'alpha': 1e-11, 'booster': 'gbtree', 'eta': 1e-15, 'gamma': 1e-11, 'lambda': 1e-11, 'max_depth': 6, 'min_child_weight': 1e-11, 'objective': 'reg:squarederror'}\n",
      "0.7078875852783633 {'alpha': 1e-11, 'booster': 'gbtree', 'eta': 1e-15, 'gamma': 1e-11, 'lambda': 1e-11, 'max_depth': 7, 'min_child_weight': 1e-15, 'objective': 'reg:squarederror'}\n",
      "0.7078875852783633 {'alpha': 1e-11, 'booster': 'gbtree', 'eta': 1e-15, 'gamma': 1e-11, 'lambda': 1e-11, 'max_depth': 7, 'min_child_weight': 1e-13, 'objective': 'reg:squarederror'}\n",
      "0.7078875852783633 {'alpha': 1e-11, 'booster': 'gbtree', 'eta': 1e-15, 'gamma': 1e-11, 'lambda': 1e-11, 'max_depth': 7, 'min_child_weight': 1e-11, 'objective': 'reg:squarederror'}\n",
      "0.7171411017018149 {'alpha': 1e-11, 'booster': 'gbtree', 'eta': 1e-15, 'gamma': 1e-11, 'lambda': 1e-11, 'max_depth': 8, 'min_child_weight': 1e-15, 'objective': 'reg:squarederror'}\n",
      "0.7171411017018149 {'alpha': 1e-11, 'booster': 'gbtree', 'eta': 1e-15, 'gamma': 1e-11, 'lambda': 1e-11, 'max_depth': 8, 'min_child_weight': 1e-13, 'objective': 'reg:squarederror'}\n",
      "0.7171411017018149 {'alpha': 1e-11, 'booster': 'gbtree', 'eta': 1e-15, 'gamma': 1e-11, 'lambda': 1e-11, 'max_depth': 8, 'min_child_weight': 1e-11, 'objective': 'reg:squarederror'}\n",
      "0.723207921612296 {'alpha': 1e-11, 'booster': 'gbtree', 'eta': 1e-13, 'gamma': 1e-15, 'lambda': 1e-15, 'max_depth': 6, 'min_child_weight': 1e-15, 'objective': 'reg:squarederror'}\n",
      "0.723207921612296 {'alpha': 1e-11, 'booster': 'gbtree', 'eta': 1e-13, 'gamma': 1e-15, 'lambda': 1e-15, 'max_depth': 6, 'min_child_weight': 1e-13, 'objective': 'reg:squarederror'}\n",
      "0.723207921612296 {'alpha': 1e-11, 'booster': 'gbtree', 'eta': 1e-13, 'gamma': 1e-15, 'lambda': 1e-15, 'max_depth': 6, 'min_child_weight': 1e-11, 'objective': 'reg:squarederror'}\n",
      "0.7078875852783633 {'alpha': 1e-11, 'booster': 'gbtree', 'eta': 1e-13, 'gamma': 1e-15, 'lambda': 1e-15, 'max_depth': 7, 'min_child_weight': 1e-15, 'objective': 'reg:squarederror'}\n",
      "0.7078875852783633 {'alpha': 1e-11, 'booster': 'gbtree', 'eta': 1e-13, 'gamma': 1e-15, 'lambda': 1e-15, 'max_depth': 7, 'min_child_weight': 1e-13, 'objective': 'reg:squarederror'}\n",
      "0.7078875852783633 {'alpha': 1e-11, 'booster': 'gbtree', 'eta': 1e-13, 'gamma': 1e-15, 'lambda': 1e-15, 'max_depth': 7, 'min_child_weight': 1e-11, 'objective': 'reg:squarederror'}\n",
      "0.7171411017018149 {'alpha': 1e-11, 'booster': 'gbtree', 'eta': 1e-13, 'gamma': 1e-15, 'lambda': 1e-15, 'max_depth': 8, 'min_child_weight': 1e-15, 'objective': 'reg:squarederror'}\n",
      "0.7171411017018149 {'alpha': 1e-11, 'booster': 'gbtree', 'eta': 1e-13, 'gamma': 1e-15, 'lambda': 1e-15, 'max_depth': 8, 'min_child_weight': 1e-13, 'objective': 'reg:squarederror'}\n",
      "0.7171411017018149 {'alpha': 1e-11, 'booster': 'gbtree', 'eta': 1e-13, 'gamma': 1e-15, 'lambda': 1e-15, 'max_depth': 8, 'min_child_weight': 1e-11, 'objective': 'reg:squarederror'}\n",
      "0.723207921612296 {'alpha': 1e-11, 'booster': 'gbtree', 'eta': 1e-13, 'gamma': 1e-15, 'lambda': 1e-13, 'max_depth': 6, 'min_child_weight': 1e-15, 'objective': 'reg:squarederror'}\n",
      "0.723207921612296 {'alpha': 1e-11, 'booster': 'gbtree', 'eta': 1e-13, 'gamma': 1e-15, 'lambda': 1e-13, 'max_depth': 6, 'min_child_weight': 1e-13, 'objective': 'reg:squarederror'}\n",
      "0.723207921612296 {'alpha': 1e-11, 'booster': 'gbtree', 'eta': 1e-13, 'gamma': 1e-15, 'lambda': 1e-13, 'max_depth': 6, 'min_child_weight': 1e-11, 'objective': 'reg:squarederror'}\n",
      "0.7078875852783633 {'alpha': 1e-11, 'booster': 'gbtree', 'eta': 1e-13, 'gamma': 1e-15, 'lambda': 1e-13, 'max_depth': 7, 'min_child_weight': 1e-15, 'objective': 'reg:squarederror'}\n",
      "0.7078875852783633 {'alpha': 1e-11, 'booster': 'gbtree', 'eta': 1e-13, 'gamma': 1e-15, 'lambda': 1e-13, 'max_depth': 7, 'min_child_weight': 1e-13, 'objective': 'reg:squarederror'}\n",
      "0.7078875852783633 {'alpha': 1e-11, 'booster': 'gbtree', 'eta': 1e-13, 'gamma': 1e-15, 'lambda': 1e-13, 'max_depth': 7, 'min_child_weight': 1e-11, 'objective': 'reg:squarederror'}\n",
      "0.7171411017018149 {'alpha': 1e-11, 'booster': 'gbtree', 'eta': 1e-13, 'gamma': 1e-15, 'lambda': 1e-13, 'max_depth': 8, 'min_child_weight': 1e-15, 'objective': 'reg:squarederror'}\n",
      "0.7171411017018149 {'alpha': 1e-11, 'booster': 'gbtree', 'eta': 1e-13, 'gamma': 1e-15, 'lambda': 1e-13, 'max_depth': 8, 'min_child_weight': 1e-13, 'objective': 'reg:squarederror'}\n",
      "0.7171411017018149 {'alpha': 1e-11, 'booster': 'gbtree', 'eta': 1e-13, 'gamma': 1e-15, 'lambda': 1e-13, 'max_depth': 8, 'min_child_weight': 1e-11, 'objective': 'reg:squarederror'}\n",
      "0.723207921612296 {'alpha': 1e-11, 'booster': 'gbtree', 'eta': 1e-13, 'gamma': 1e-15, 'lambda': 1e-11, 'max_depth': 6, 'min_child_weight': 1e-15, 'objective': 'reg:squarederror'}\n",
      "0.723207921612296 {'alpha': 1e-11, 'booster': 'gbtree', 'eta': 1e-13, 'gamma': 1e-15, 'lambda': 1e-11, 'max_depth': 6, 'min_child_weight': 1e-13, 'objective': 'reg:squarederror'}\n",
      "0.723207921612296 {'alpha': 1e-11, 'booster': 'gbtree', 'eta': 1e-13, 'gamma': 1e-15, 'lambda': 1e-11, 'max_depth': 6, 'min_child_weight': 1e-11, 'objective': 'reg:squarederror'}\n",
      "0.7078875852783633 {'alpha': 1e-11, 'booster': 'gbtree', 'eta': 1e-13, 'gamma': 1e-15, 'lambda': 1e-11, 'max_depth': 7, 'min_child_weight': 1e-15, 'objective': 'reg:squarederror'}\n",
      "0.7078875852783633 {'alpha': 1e-11, 'booster': 'gbtree', 'eta': 1e-13, 'gamma': 1e-15, 'lambda': 1e-11, 'max_depth': 7, 'min_child_weight': 1e-13, 'objective': 'reg:squarederror'}\n",
      "0.7078875852783633 {'alpha': 1e-11, 'booster': 'gbtree', 'eta': 1e-13, 'gamma': 1e-15, 'lambda': 1e-11, 'max_depth': 7, 'min_child_weight': 1e-11, 'objective': 'reg:squarederror'}\n",
      "0.7171411017018149 {'alpha': 1e-11, 'booster': 'gbtree', 'eta': 1e-13, 'gamma': 1e-15, 'lambda': 1e-11, 'max_depth': 8, 'min_child_weight': 1e-15, 'objective': 'reg:squarederror'}\n",
      "0.7171411017018149 {'alpha': 1e-11, 'booster': 'gbtree', 'eta': 1e-13, 'gamma': 1e-15, 'lambda': 1e-11, 'max_depth': 8, 'min_child_weight': 1e-13, 'objective': 'reg:squarederror'}\n",
      "0.7171411017018149 {'alpha': 1e-11, 'booster': 'gbtree', 'eta': 1e-13, 'gamma': 1e-15, 'lambda': 1e-11, 'max_depth': 8, 'min_child_weight': 1e-11, 'objective': 'reg:squarederror'}\n",
      "0.723207921612296 {'alpha': 1e-11, 'booster': 'gbtree', 'eta': 1e-13, 'gamma': 1e-13, 'lambda': 1e-15, 'max_depth': 6, 'min_child_weight': 1e-15, 'objective': 'reg:squarederror'}\n",
      "0.723207921612296 {'alpha': 1e-11, 'booster': 'gbtree', 'eta': 1e-13, 'gamma': 1e-13, 'lambda': 1e-15, 'max_depth': 6, 'min_child_weight': 1e-13, 'objective': 'reg:squarederror'}\n",
      "0.723207921612296 {'alpha': 1e-11, 'booster': 'gbtree', 'eta': 1e-13, 'gamma': 1e-13, 'lambda': 1e-15, 'max_depth': 6, 'min_child_weight': 1e-11, 'objective': 'reg:squarederror'}\n",
      "0.7078875852783633 {'alpha': 1e-11, 'booster': 'gbtree', 'eta': 1e-13, 'gamma': 1e-13, 'lambda': 1e-15, 'max_depth': 7, 'min_child_weight': 1e-15, 'objective': 'reg:squarederror'}\n",
      "0.7078875852783633 {'alpha': 1e-11, 'booster': 'gbtree', 'eta': 1e-13, 'gamma': 1e-13, 'lambda': 1e-15, 'max_depth': 7, 'min_child_weight': 1e-13, 'objective': 'reg:squarederror'}\n",
      "0.7078875852783633 {'alpha': 1e-11, 'booster': 'gbtree', 'eta': 1e-13, 'gamma': 1e-13, 'lambda': 1e-15, 'max_depth': 7, 'min_child_weight': 1e-11, 'objective': 'reg:squarederror'}\n",
      "0.7171411017018149 {'alpha': 1e-11, 'booster': 'gbtree', 'eta': 1e-13, 'gamma': 1e-13, 'lambda': 1e-15, 'max_depth': 8, 'min_child_weight': 1e-15, 'objective': 'reg:squarederror'}\n",
      "0.7171411017018149 {'alpha': 1e-11, 'booster': 'gbtree', 'eta': 1e-13, 'gamma': 1e-13, 'lambda': 1e-15, 'max_depth': 8, 'min_child_weight': 1e-13, 'objective': 'reg:squarederror'}\n",
      "0.7171411017018149 {'alpha': 1e-11, 'booster': 'gbtree', 'eta': 1e-13, 'gamma': 1e-13, 'lambda': 1e-15, 'max_depth': 8, 'min_child_weight': 1e-11, 'objective': 'reg:squarederror'}\n",
      "0.723207921612296 {'alpha': 1e-11, 'booster': 'gbtree', 'eta': 1e-13, 'gamma': 1e-13, 'lambda': 1e-13, 'max_depth': 6, 'min_child_weight': 1e-15, 'objective': 'reg:squarederror'}\n",
      "0.723207921612296 {'alpha': 1e-11, 'booster': 'gbtree', 'eta': 1e-13, 'gamma': 1e-13, 'lambda': 1e-13, 'max_depth': 6, 'min_child_weight': 1e-13, 'objective': 'reg:squarederror'}\n",
      "0.723207921612296 {'alpha': 1e-11, 'booster': 'gbtree', 'eta': 1e-13, 'gamma': 1e-13, 'lambda': 1e-13, 'max_depth': 6, 'min_child_weight': 1e-11, 'objective': 'reg:squarederror'}\n",
      "0.7078875852783633 {'alpha': 1e-11, 'booster': 'gbtree', 'eta': 1e-13, 'gamma': 1e-13, 'lambda': 1e-13, 'max_depth': 7, 'min_child_weight': 1e-15, 'objective': 'reg:squarederror'}\n",
      "0.7078875852783633 {'alpha': 1e-11, 'booster': 'gbtree', 'eta': 1e-13, 'gamma': 1e-13, 'lambda': 1e-13, 'max_depth': 7, 'min_child_weight': 1e-13, 'objective': 'reg:squarederror'}\n",
      "0.7078875852783633 {'alpha': 1e-11, 'booster': 'gbtree', 'eta': 1e-13, 'gamma': 1e-13, 'lambda': 1e-13, 'max_depth': 7, 'min_child_weight': 1e-11, 'objective': 'reg:squarederror'}\n",
      "0.7171411017018149 {'alpha': 1e-11, 'booster': 'gbtree', 'eta': 1e-13, 'gamma': 1e-13, 'lambda': 1e-13, 'max_depth': 8, 'min_child_weight': 1e-15, 'objective': 'reg:squarederror'}\n",
      "0.7171411017018149 {'alpha': 1e-11, 'booster': 'gbtree', 'eta': 1e-13, 'gamma': 1e-13, 'lambda': 1e-13, 'max_depth': 8, 'min_child_weight': 1e-13, 'objective': 'reg:squarederror'}\n",
      "0.7171411017018149 {'alpha': 1e-11, 'booster': 'gbtree', 'eta': 1e-13, 'gamma': 1e-13, 'lambda': 1e-13, 'max_depth': 8, 'min_child_weight': 1e-11, 'objective': 'reg:squarederror'}\n",
      "0.723207921612296 {'alpha': 1e-11, 'booster': 'gbtree', 'eta': 1e-13, 'gamma': 1e-13, 'lambda': 1e-11, 'max_depth': 6, 'min_child_weight': 1e-15, 'objective': 'reg:squarederror'}\n",
      "0.723207921612296 {'alpha': 1e-11, 'booster': 'gbtree', 'eta': 1e-13, 'gamma': 1e-13, 'lambda': 1e-11, 'max_depth': 6, 'min_child_weight': 1e-13, 'objective': 'reg:squarederror'}\n",
      "0.723207921612296 {'alpha': 1e-11, 'booster': 'gbtree', 'eta': 1e-13, 'gamma': 1e-13, 'lambda': 1e-11, 'max_depth': 6, 'min_child_weight': 1e-11, 'objective': 'reg:squarederror'}\n",
      "0.7078875852783633 {'alpha': 1e-11, 'booster': 'gbtree', 'eta': 1e-13, 'gamma': 1e-13, 'lambda': 1e-11, 'max_depth': 7, 'min_child_weight': 1e-15, 'objective': 'reg:squarederror'}\n",
      "0.7078875852783633 {'alpha': 1e-11, 'booster': 'gbtree', 'eta': 1e-13, 'gamma': 1e-13, 'lambda': 1e-11, 'max_depth': 7, 'min_child_weight': 1e-13, 'objective': 'reg:squarederror'}\n",
      "0.7078875852783633 {'alpha': 1e-11, 'booster': 'gbtree', 'eta': 1e-13, 'gamma': 1e-13, 'lambda': 1e-11, 'max_depth': 7, 'min_child_weight': 1e-11, 'objective': 'reg:squarederror'}\n",
      "0.7171411017018149 {'alpha': 1e-11, 'booster': 'gbtree', 'eta': 1e-13, 'gamma': 1e-13, 'lambda': 1e-11, 'max_depth': 8, 'min_child_weight': 1e-15, 'objective': 'reg:squarederror'}\n",
      "0.7171411017018149 {'alpha': 1e-11, 'booster': 'gbtree', 'eta': 1e-13, 'gamma': 1e-13, 'lambda': 1e-11, 'max_depth': 8, 'min_child_weight': 1e-13, 'objective': 'reg:squarederror'}\n",
      "0.7171411017018149 {'alpha': 1e-11, 'booster': 'gbtree', 'eta': 1e-13, 'gamma': 1e-13, 'lambda': 1e-11, 'max_depth': 8, 'min_child_weight': 1e-11, 'objective': 'reg:squarederror'}\n",
      "0.723207921612296 {'alpha': 1e-11, 'booster': 'gbtree', 'eta': 1e-13, 'gamma': 1e-11, 'lambda': 1e-15, 'max_depth': 6, 'min_child_weight': 1e-15, 'objective': 'reg:squarederror'}\n",
      "0.723207921612296 {'alpha': 1e-11, 'booster': 'gbtree', 'eta': 1e-13, 'gamma': 1e-11, 'lambda': 1e-15, 'max_depth': 6, 'min_child_weight': 1e-13, 'objective': 'reg:squarederror'}\n",
      "0.723207921612296 {'alpha': 1e-11, 'booster': 'gbtree', 'eta': 1e-13, 'gamma': 1e-11, 'lambda': 1e-15, 'max_depth': 6, 'min_child_weight': 1e-11, 'objective': 'reg:squarederror'}\n",
      "0.7078875852783633 {'alpha': 1e-11, 'booster': 'gbtree', 'eta': 1e-13, 'gamma': 1e-11, 'lambda': 1e-15, 'max_depth': 7, 'min_child_weight': 1e-15, 'objective': 'reg:squarederror'}\n",
      "0.7078875852783633 {'alpha': 1e-11, 'booster': 'gbtree', 'eta': 1e-13, 'gamma': 1e-11, 'lambda': 1e-15, 'max_depth': 7, 'min_child_weight': 1e-13, 'objective': 'reg:squarederror'}\n",
      "0.7078875852783633 {'alpha': 1e-11, 'booster': 'gbtree', 'eta': 1e-13, 'gamma': 1e-11, 'lambda': 1e-15, 'max_depth': 7, 'min_child_weight': 1e-11, 'objective': 'reg:squarederror'}\n",
      "0.7171411017018149 {'alpha': 1e-11, 'booster': 'gbtree', 'eta': 1e-13, 'gamma': 1e-11, 'lambda': 1e-15, 'max_depth': 8, 'min_child_weight': 1e-15, 'objective': 'reg:squarederror'}\n",
      "0.7171411017018149 {'alpha': 1e-11, 'booster': 'gbtree', 'eta': 1e-13, 'gamma': 1e-11, 'lambda': 1e-15, 'max_depth': 8, 'min_child_weight': 1e-13, 'objective': 'reg:squarederror'}\n",
      "0.7171411017018149 {'alpha': 1e-11, 'booster': 'gbtree', 'eta': 1e-13, 'gamma': 1e-11, 'lambda': 1e-15, 'max_depth': 8, 'min_child_weight': 1e-11, 'objective': 'reg:squarederror'}\n",
      "0.723207921612296 {'alpha': 1e-11, 'booster': 'gbtree', 'eta': 1e-13, 'gamma': 1e-11, 'lambda': 1e-13, 'max_depth': 6, 'min_child_weight': 1e-15, 'objective': 'reg:squarederror'}\n"
     ]
    },
    {
     "name": "stdout",
     "output_type": "stream",
     "text": [
      "0.723207921612296 {'alpha': 1e-11, 'booster': 'gbtree', 'eta': 1e-13, 'gamma': 1e-11, 'lambda': 1e-13, 'max_depth': 6, 'min_child_weight': 1e-13, 'objective': 'reg:squarederror'}\n",
      "0.723207921612296 {'alpha': 1e-11, 'booster': 'gbtree', 'eta': 1e-13, 'gamma': 1e-11, 'lambda': 1e-13, 'max_depth': 6, 'min_child_weight': 1e-11, 'objective': 'reg:squarederror'}\n",
      "0.7078875852783633 {'alpha': 1e-11, 'booster': 'gbtree', 'eta': 1e-13, 'gamma': 1e-11, 'lambda': 1e-13, 'max_depth': 7, 'min_child_weight': 1e-15, 'objective': 'reg:squarederror'}\n",
      "0.7078875852783633 {'alpha': 1e-11, 'booster': 'gbtree', 'eta': 1e-13, 'gamma': 1e-11, 'lambda': 1e-13, 'max_depth': 7, 'min_child_weight': 1e-13, 'objective': 'reg:squarederror'}\n",
      "0.7078875852783633 {'alpha': 1e-11, 'booster': 'gbtree', 'eta': 1e-13, 'gamma': 1e-11, 'lambda': 1e-13, 'max_depth': 7, 'min_child_weight': 1e-11, 'objective': 'reg:squarederror'}\n",
      "0.7171411017018149 {'alpha': 1e-11, 'booster': 'gbtree', 'eta': 1e-13, 'gamma': 1e-11, 'lambda': 1e-13, 'max_depth': 8, 'min_child_weight': 1e-15, 'objective': 'reg:squarederror'}\n",
      "0.7171411017018149 {'alpha': 1e-11, 'booster': 'gbtree', 'eta': 1e-13, 'gamma': 1e-11, 'lambda': 1e-13, 'max_depth': 8, 'min_child_weight': 1e-13, 'objective': 'reg:squarederror'}\n",
      "0.7171411017018149 {'alpha': 1e-11, 'booster': 'gbtree', 'eta': 1e-13, 'gamma': 1e-11, 'lambda': 1e-13, 'max_depth': 8, 'min_child_weight': 1e-11, 'objective': 'reg:squarederror'}\n",
      "0.723207921612296 {'alpha': 1e-11, 'booster': 'gbtree', 'eta': 1e-13, 'gamma': 1e-11, 'lambda': 1e-11, 'max_depth': 6, 'min_child_weight': 1e-15, 'objective': 'reg:squarederror'}\n",
      "0.723207921612296 {'alpha': 1e-11, 'booster': 'gbtree', 'eta': 1e-13, 'gamma': 1e-11, 'lambda': 1e-11, 'max_depth': 6, 'min_child_weight': 1e-13, 'objective': 'reg:squarederror'}\n",
      "0.723207921612296 {'alpha': 1e-11, 'booster': 'gbtree', 'eta': 1e-13, 'gamma': 1e-11, 'lambda': 1e-11, 'max_depth': 6, 'min_child_weight': 1e-11, 'objective': 'reg:squarederror'}\n",
      "0.7078875852783633 {'alpha': 1e-11, 'booster': 'gbtree', 'eta': 1e-13, 'gamma': 1e-11, 'lambda': 1e-11, 'max_depth': 7, 'min_child_weight': 1e-15, 'objective': 'reg:squarederror'}\n",
      "0.7078875852783633 {'alpha': 1e-11, 'booster': 'gbtree', 'eta': 1e-13, 'gamma': 1e-11, 'lambda': 1e-11, 'max_depth': 7, 'min_child_weight': 1e-13, 'objective': 'reg:squarederror'}\n",
      "0.7078875852783633 {'alpha': 1e-11, 'booster': 'gbtree', 'eta': 1e-13, 'gamma': 1e-11, 'lambda': 1e-11, 'max_depth': 7, 'min_child_weight': 1e-11, 'objective': 'reg:squarederror'}\n",
      "0.7171411017018149 {'alpha': 1e-11, 'booster': 'gbtree', 'eta': 1e-13, 'gamma': 1e-11, 'lambda': 1e-11, 'max_depth': 8, 'min_child_weight': 1e-15, 'objective': 'reg:squarederror'}\n",
      "0.7171411017018149 {'alpha': 1e-11, 'booster': 'gbtree', 'eta': 1e-13, 'gamma': 1e-11, 'lambda': 1e-11, 'max_depth': 8, 'min_child_weight': 1e-13, 'objective': 'reg:squarederror'}\n",
      "0.7171411017018149 {'alpha': 1e-11, 'booster': 'gbtree', 'eta': 1e-13, 'gamma': 1e-11, 'lambda': 1e-11, 'max_depth': 8, 'min_child_weight': 1e-11, 'objective': 'reg:squarederror'}\n",
      "0.723207921612296 {'alpha': 1e-11, 'booster': 'gbtree', 'eta': 1e-11, 'gamma': 1e-15, 'lambda': 1e-15, 'max_depth': 6, 'min_child_weight': 1e-15, 'objective': 'reg:squarederror'}\n",
      "0.723207921612296 {'alpha': 1e-11, 'booster': 'gbtree', 'eta': 1e-11, 'gamma': 1e-15, 'lambda': 1e-15, 'max_depth': 6, 'min_child_weight': 1e-13, 'objective': 'reg:squarederror'}\n",
      "0.723207921612296 {'alpha': 1e-11, 'booster': 'gbtree', 'eta': 1e-11, 'gamma': 1e-15, 'lambda': 1e-15, 'max_depth': 6, 'min_child_weight': 1e-11, 'objective': 'reg:squarederror'}\n",
      "0.7078875852783633 {'alpha': 1e-11, 'booster': 'gbtree', 'eta': 1e-11, 'gamma': 1e-15, 'lambda': 1e-15, 'max_depth': 7, 'min_child_weight': 1e-15, 'objective': 'reg:squarederror'}\n",
      "0.7078875852783633 {'alpha': 1e-11, 'booster': 'gbtree', 'eta': 1e-11, 'gamma': 1e-15, 'lambda': 1e-15, 'max_depth': 7, 'min_child_weight': 1e-13, 'objective': 'reg:squarederror'}\n",
      "0.7078875852783633 {'alpha': 1e-11, 'booster': 'gbtree', 'eta': 1e-11, 'gamma': 1e-15, 'lambda': 1e-15, 'max_depth': 7, 'min_child_weight': 1e-11, 'objective': 'reg:squarederror'}\n",
      "0.7171411017018149 {'alpha': 1e-11, 'booster': 'gbtree', 'eta': 1e-11, 'gamma': 1e-15, 'lambda': 1e-15, 'max_depth': 8, 'min_child_weight': 1e-15, 'objective': 'reg:squarederror'}\n",
      "0.7171411017018149 {'alpha': 1e-11, 'booster': 'gbtree', 'eta': 1e-11, 'gamma': 1e-15, 'lambda': 1e-15, 'max_depth': 8, 'min_child_weight': 1e-13, 'objective': 'reg:squarederror'}\n",
      "0.7171411017018149 {'alpha': 1e-11, 'booster': 'gbtree', 'eta': 1e-11, 'gamma': 1e-15, 'lambda': 1e-15, 'max_depth': 8, 'min_child_weight': 1e-11, 'objective': 'reg:squarederror'}\n",
      "0.723207921612296 {'alpha': 1e-11, 'booster': 'gbtree', 'eta': 1e-11, 'gamma': 1e-15, 'lambda': 1e-13, 'max_depth': 6, 'min_child_weight': 1e-15, 'objective': 'reg:squarederror'}\n",
      "0.723207921612296 {'alpha': 1e-11, 'booster': 'gbtree', 'eta': 1e-11, 'gamma': 1e-15, 'lambda': 1e-13, 'max_depth': 6, 'min_child_weight': 1e-13, 'objective': 'reg:squarederror'}\n",
      "0.723207921612296 {'alpha': 1e-11, 'booster': 'gbtree', 'eta': 1e-11, 'gamma': 1e-15, 'lambda': 1e-13, 'max_depth': 6, 'min_child_weight': 1e-11, 'objective': 'reg:squarederror'}\n",
      "0.7078875852783633 {'alpha': 1e-11, 'booster': 'gbtree', 'eta': 1e-11, 'gamma': 1e-15, 'lambda': 1e-13, 'max_depth': 7, 'min_child_weight': 1e-15, 'objective': 'reg:squarederror'}\n",
      "0.7078875852783633 {'alpha': 1e-11, 'booster': 'gbtree', 'eta': 1e-11, 'gamma': 1e-15, 'lambda': 1e-13, 'max_depth': 7, 'min_child_weight': 1e-13, 'objective': 'reg:squarederror'}\n",
      "0.7078875852783633 {'alpha': 1e-11, 'booster': 'gbtree', 'eta': 1e-11, 'gamma': 1e-15, 'lambda': 1e-13, 'max_depth': 7, 'min_child_weight': 1e-11, 'objective': 'reg:squarederror'}\n",
      "0.7171411017018149 {'alpha': 1e-11, 'booster': 'gbtree', 'eta': 1e-11, 'gamma': 1e-15, 'lambda': 1e-13, 'max_depth': 8, 'min_child_weight': 1e-15, 'objective': 'reg:squarederror'}\n",
      "0.7171411017018149 {'alpha': 1e-11, 'booster': 'gbtree', 'eta': 1e-11, 'gamma': 1e-15, 'lambda': 1e-13, 'max_depth': 8, 'min_child_weight': 1e-13, 'objective': 'reg:squarederror'}\n",
      "0.7171411017018149 {'alpha': 1e-11, 'booster': 'gbtree', 'eta': 1e-11, 'gamma': 1e-15, 'lambda': 1e-13, 'max_depth': 8, 'min_child_weight': 1e-11, 'objective': 'reg:squarederror'}\n",
      "0.723207921612296 {'alpha': 1e-11, 'booster': 'gbtree', 'eta': 1e-11, 'gamma': 1e-15, 'lambda': 1e-11, 'max_depth': 6, 'min_child_weight': 1e-15, 'objective': 'reg:squarederror'}\n",
      "0.723207921612296 {'alpha': 1e-11, 'booster': 'gbtree', 'eta': 1e-11, 'gamma': 1e-15, 'lambda': 1e-11, 'max_depth': 6, 'min_child_weight': 1e-13, 'objective': 'reg:squarederror'}\n",
      "0.723207921612296 {'alpha': 1e-11, 'booster': 'gbtree', 'eta': 1e-11, 'gamma': 1e-15, 'lambda': 1e-11, 'max_depth': 6, 'min_child_weight': 1e-11, 'objective': 'reg:squarederror'}\n",
      "0.7078875852783633 {'alpha': 1e-11, 'booster': 'gbtree', 'eta': 1e-11, 'gamma': 1e-15, 'lambda': 1e-11, 'max_depth': 7, 'min_child_weight': 1e-15, 'objective': 'reg:squarederror'}\n",
      "0.7078875852783633 {'alpha': 1e-11, 'booster': 'gbtree', 'eta': 1e-11, 'gamma': 1e-15, 'lambda': 1e-11, 'max_depth': 7, 'min_child_weight': 1e-13, 'objective': 'reg:squarederror'}\n",
      "0.7078875852783633 {'alpha': 1e-11, 'booster': 'gbtree', 'eta': 1e-11, 'gamma': 1e-15, 'lambda': 1e-11, 'max_depth': 7, 'min_child_weight': 1e-11, 'objective': 'reg:squarederror'}\n",
      "0.7171411017018149 {'alpha': 1e-11, 'booster': 'gbtree', 'eta': 1e-11, 'gamma': 1e-15, 'lambda': 1e-11, 'max_depth': 8, 'min_child_weight': 1e-15, 'objective': 'reg:squarederror'}\n",
      "0.7171411017018149 {'alpha': 1e-11, 'booster': 'gbtree', 'eta': 1e-11, 'gamma': 1e-15, 'lambda': 1e-11, 'max_depth': 8, 'min_child_weight': 1e-13, 'objective': 'reg:squarederror'}\n",
      "0.7171411017018149 {'alpha': 1e-11, 'booster': 'gbtree', 'eta': 1e-11, 'gamma': 1e-15, 'lambda': 1e-11, 'max_depth': 8, 'min_child_weight': 1e-11, 'objective': 'reg:squarederror'}\n",
      "0.723207921612296 {'alpha': 1e-11, 'booster': 'gbtree', 'eta': 1e-11, 'gamma': 1e-13, 'lambda': 1e-15, 'max_depth': 6, 'min_child_weight': 1e-15, 'objective': 'reg:squarederror'}\n",
      "0.723207921612296 {'alpha': 1e-11, 'booster': 'gbtree', 'eta': 1e-11, 'gamma': 1e-13, 'lambda': 1e-15, 'max_depth': 6, 'min_child_weight': 1e-13, 'objective': 'reg:squarederror'}\n",
      "0.723207921612296 {'alpha': 1e-11, 'booster': 'gbtree', 'eta': 1e-11, 'gamma': 1e-13, 'lambda': 1e-15, 'max_depth': 6, 'min_child_weight': 1e-11, 'objective': 'reg:squarederror'}\n",
      "0.7078875852783633 {'alpha': 1e-11, 'booster': 'gbtree', 'eta': 1e-11, 'gamma': 1e-13, 'lambda': 1e-15, 'max_depth': 7, 'min_child_weight': 1e-15, 'objective': 'reg:squarederror'}\n",
      "0.7078875852783633 {'alpha': 1e-11, 'booster': 'gbtree', 'eta': 1e-11, 'gamma': 1e-13, 'lambda': 1e-15, 'max_depth': 7, 'min_child_weight': 1e-13, 'objective': 'reg:squarederror'}\n",
      "0.7078875852783633 {'alpha': 1e-11, 'booster': 'gbtree', 'eta': 1e-11, 'gamma': 1e-13, 'lambda': 1e-15, 'max_depth': 7, 'min_child_weight': 1e-11, 'objective': 'reg:squarederror'}\n",
      "0.7171411017018149 {'alpha': 1e-11, 'booster': 'gbtree', 'eta': 1e-11, 'gamma': 1e-13, 'lambda': 1e-15, 'max_depth': 8, 'min_child_weight': 1e-15, 'objective': 'reg:squarederror'}\n",
      "0.7171411017018149 {'alpha': 1e-11, 'booster': 'gbtree', 'eta': 1e-11, 'gamma': 1e-13, 'lambda': 1e-15, 'max_depth': 8, 'min_child_weight': 1e-13, 'objective': 'reg:squarederror'}\n",
      "0.7171411017018149 {'alpha': 1e-11, 'booster': 'gbtree', 'eta': 1e-11, 'gamma': 1e-13, 'lambda': 1e-15, 'max_depth': 8, 'min_child_weight': 1e-11, 'objective': 'reg:squarederror'}\n",
      "0.723207921612296 {'alpha': 1e-11, 'booster': 'gbtree', 'eta': 1e-11, 'gamma': 1e-13, 'lambda': 1e-13, 'max_depth': 6, 'min_child_weight': 1e-15, 'objective': 'reg:squarederror'}\n",
      "0.723207921612296 {'alpha': 1e-11, 'booster': 'gbtree', 'eta': 1e-11, 'gamma': 1e-13, 'lambda': 1e-13, 'max_depth': 6, 'min_child_weight': 1e-13, 'objective': 'reg:squarederror'}\n",
      "0.723207921612296 {'alpha': 1e-11, 'booster': 'gbtree', 'eta': 1e-11, 'gamma': 1e-13, 'lambda': 1e-13, 'max_depth': 6, 'min_child_weight': 1e-11, 'objective': 'reg:squarederror'}\n",
      "0.7078875852783633 {'alpha': 1e-11, 'booster': 'gbtree', 'eta': 1e-11, 'gamma': 1e-13, 'lambda': 1e-13, 'max_depth': 7, 'min_child_weight': 1e-15, 'objective': 'reg:squarederror'}\n",
      "0.7078875852783633 {'alpha': 1e-11, 'booster': 'gbtree', 'eta': 1e-11, 'gamma': 1e-13, 'lambda': 1e-13, 'max_depth': 7, 'min_child_weight': 1e-13, 'objective': 'reg:squarederror'}\n",
      "0.7078875852783633 {'alpha': 1e-11, 'booster': 'gbtree', 'eta': 1e-11, 'gamma': 1e-13, 'lambda': 1e-13, 'max_depth': 7, 'min_child_weight': 1e-11, 'objective': 'reg:squarederror'}\n",
      "0.7171411017018149 {'alpha': 1e-11, 'booster': 'gbtree', 'eta': 1e-11, 'gamma': 1e-13, 'lambda': 1e-13, 'max_depth': 8, 'min_child_weight': 1e-15, 'objective': 'reg:squarederror'}\n",
      "0.7171411017018149 {'alpha': 1e-11, 'booster': 'gbtree', 'eta': 1e-11, 'gamma': 1e-13, 'lambda': 1e-13, 'max_depth': 8, 'min_child_weight': 1e-13, 'objective': 'reg:squarederror'}\n",
      "0.7171411017018149 {'alpha': 1e-11, 'booster': 'gbtree', 'eta': 1e-11, 'gamma': 1e-13, 'lambda': 1e-13, 'max_depth': 8, 'min_child_weight': 1e-11, 'objective': 'reg:squarederror'}\n",
      "0.723207921612296 {'alpha': 1e-11, 'booster': 'gbtree', 'eta': 1e-11, 'gamma': 1e-13, 'lambda': 1e-11, 'max_depth': 6, 'min_child_weight': 1e-15, 'objective': 'reg:squarederror'}\n",
      "0.723207921612296 {'alpha': 1e-11, 'booster': 'gbtree', 'eta': 1e-11, 'gamma': 1e-13, 'lambda': 1e-11, 'max_depth': 6, 'min_child_weight': 1e-13, 'objective': 'reg:squarederror'}\n",
      "0.723207921612296 {'alpha': 1e-11, 'booster': 'gbtree', 'eta': 1e-11, 'gamma': 1e-13, 'lambda': 1e-11, 'max_depth': 6, 'min_child_weight': 1e-11, 'objective': 'reg:squarederror'}\n",
      "0.7078875852783633 {'alpha': 1e-11, 'booster': 'gbtree', 'eta': 1e-11, 'gamma': 1e-13, 'lambda': 1e-11, 'max_depth': 7, 'min_child_weight': 1e-15, 'objective': 'reg:squarederror'}\n",
      "0.7078875852783633 {'alpha': 1e-11, 'booster': 'gbtree', 'eta': 1e-11, 'gamma': 1e-13, 'lambda': 1e-11, 'max_depth': 7, 'min_child_weight': 1e-13, 'objective': 'reg:squarederror'}\n",
      "0.7078875852783633 {'alpha': 1e-11, 'booster': 'gbtree', 'eta': 1e-11, 'gamma': 1e-13, 'lambda': 1e-11, 'max_depth': 7, 'min_child_weight': 1e-11, 'objective': 'reg:squarederror'}\n",
      "0.7171411017018149 {'alpha': 1e-11, 'booster': 'gbtree', 'eta': 1e-11, 'gamma': 1e-13, 'lambda': 1e-11, 'max_depth': 8, 'min_child_weight': 1e-15, 'objective': 'reg:squarederror'}\n",
      "0.7171411017018149 {'alpha': 1e-11, 'booster': 'gbtree', 'eta': 1e-11, 'gamma': 1e-13, 'lambda': 1e-11, 'max_depth': 8, 'min_child_weight': 1e-13, 'objective': 'reg:squarederror'}\n",
      "0.7171411017018149 {'alpha': 1e-11, 'booster': 'gbtree', 'eta': 1e-11, 'gamma': 1e-13, 'lambda': 1e-11, 'max_depth': 8, 'min_child_weight': 1e-11, 'objective': 'reg:squarederror'}\n",
      "0.723207921612296 {'alpha': 1e-11, 'booster': 'gbtree', 'eta': 1e-11, 'gamma': 1e-11, 'lambda': 1e-15, 'max_depth': 6, 'min_child_weight': 1e-15, 'objective': 'reg:squarederror'}\n",
      "0.723207921612296 {'alpha': 1e-11, 'booster': 'gbtree', 'eta': 1e-11, 'gamma': 1e-11, 'lambda': 1e-15, 'max_depth': 6, 'min_child_weight': 1e-13, 'objective': 'reg:squarederror'}\n",
      "0.723207921612296 {'alpha': 1e-11, 'booster': 'gbtree', 'eta': 1e-11, 'gamma': 1e-11, 'lambda': 1e-15, 'max_depth': 6, 'min_child_weight': 1e-11, 'objective': 'reg:squarederror'}\n",
      "0.7078875852783633 {'alpha': 1e-11, 'booster': 'gbtree', 'eta': 1e-11, 'gamma': 1e-11, 'lambda': 1e-15, 'max_depth': 7, 'min_child_weight': 1e-15, 'objective': 'reg:squarederror'}\n",
      "0.7078875852783633 {'alpha': 1e-11, 'booster': 'gbtree', 'eta': 1e-11, 'gamma': 1e-11, 'lambda': 1e-15, 'max_depth': 7, 'min_child_weight': 1e-13, 'objective': 'reg:squarederror'}\n",
      "0.7078875852783633 {'alpha': 1e-11, 'booster': 'gbtree', 'eta': 1e-11, 'gamma': 1e-11, 'lambda': 1e-15, 'max_depth': 7, 'min_child_weight': 1e-11, 'objective': 'reg:squarederror'}\n",
      "0.7171411017018149 {'alpha': 1e-11, 'booster': 'gbtree', 'eta': 1e-11, 'gamma': 1e-11, 'lambda': 1e-15, 'max_depth': 8, 'min_child_weight': 1e-15, 'objective': 'reg:squarederror'}\n",
      "0.7171411017018149 {'alpha': 1e-11, 'booster': 'gbtree', 'eta': 1e-11, 'gamma': 1e-11, 'lambda': 1e-15, 'max_depth': 8, 'min_child_weight': 1e-13, 'objective': 'reg:squarederror'}\n",
      "0.7171411017018149 {'alpha': 1e-11, 'booster': 'gbtree', 'eta': 1e-11, 'gamma': 1e-11, 'lambda': 1e-15, 'max_depth': 8, 'min_child_weight': 1e-11, 'objective': 'reg:squarederror'}\n",
      "0.723207921612296 {'alpha': 1e-11, 'booster': 'gbtree', 'eta': 1e-11, 'gamma': 1e-11, 'lambda': 1e-13, 'max_depth': 6, 'min_child_weight': 1e-15, 'objective': 'reg:squarederror'}\n",
      "0.723207921612296 {'alpha': 1e-11, 'booster': 'gbtree', 'eta': 1e-11, 'gamma': 1e-11, 'lambda': 1e-13, 'max_depth': 6, 'min_child_weight': 1e-13, 'objective': 'reg:squarederror'}\n",
      "0.723207921612296 {'alpha': 1e-11, 'booster': 'gbtree', 'eta': 1e-11, 'gamma': 1e-11, 'lambda': 1e-13, 'max_depth': 6, 'min_child_weight': 1e-11, 'objective': 'reg:squarederror'}\n",
      "0.7078875852783633 {'alpha': 1e-11, 'booster': 'gbtree', 'eta': 1e-11, 'gamma': 1e-11, 'lambda': 1e-13, 'max_depth': 7, 'min_child_weight': 1e-15, 'objective': 'reg:squarederror'}\n",
      "0.7078875852783633 {'alpha': 1e-11, 'booster': 'gbtree', 'eta': 1e-11, 'gamma': 1e-11, 'lambda': 1e-13, 'max_depth': 7, 'min_child_weight': 1e-13, 'objective': 'reg:squarederror'}\n",
      "0.7078875852783633 {'alpha': 1e-11, 'booster': 'gbtree', 'eta': 1e-11, 'gamma': 1e-11, 'lambda': 1e-13, 'max_depth': 7, 'min_child_weight': 1e-11, 'objective': 'reg:squarederror'}\n",
      "0.7171411017018149 {'alpha': 1e-11, 'booster': 'gbtree', 'eta': 1e-11, 'gamma': 1e-11, 'lambda': 1e-13, 'max_depth': 8, 'min_child_weight': 1e-15, 'objective': 'reg:squarederror'}\n",
      "0.7171411017018149 {'alpha': 1e-11, 'booster': 'gbtree', 'eta': 1e-11, 'gamma': 1e-11, 'lambda': 1e-13, 'max_depth': 8, 'min_child_weight': 1e-13, 'objective': 'reg:squarederror'}\n",
      "0.7171411017018149 {'alpha': 1e-11, 'booster': 'gbtree', 'eta': 1e-11, 'gamma': 1e-11, 'lambda': 1e-13, 'max_depth': 8, 'min_child_weight': 1e-11, 'objective': 'reg:squarederror'}\n",
      "0.723207921612296 {'alpha': 1e-11, 'booster': 'gbtree', 'eta': 1e-11, 'gamma': 1e-11, 'lambda': 1e-11, 'max_depth': 6, 'min_child_weight': 1e-15, 'objective': 'reg:squarederror'}\n",
      "0.723207921612296 {'alpha': 1e-11, 'booster': 'gbtree', 'eta': 1e-11, 'gamma': 1e-11, 'lambda': 1e-11, 'max_depth': 6, 'min_child_weight': 1e-13, 'objective': 'reg:squarederror'}\n",
      "0.723207921612296 {'alpha': 1e-11, 'booster': 'gbtree', 'eta': 1e-11, 'gamma': 1e-11, 'lambda': 1e-11, 'max_depth': 6, 'min_child_weight': 1e-11, 'objective': 'reg:squarederror'}\n",
      "0.7078875852783633 {'alpha': 1e-11, 'booster': 'gbtree', 'eta': 1e-11, 'gamma': 1e-11, 'lambda': 1e-11, 'max_depth': 7, 'min_child_weight': 1e-15, 'objective': 'reg:squarederror'}\n",
      "0.7078875852783633 {'alpha': 1e-11, 'booster': 'gbtree', 'eta': 1e-11, 'gamma': 1e-11, 'lambda': 1e-11, 'max_depth': 7, 'min_child_weight': 1e-13, 'objective': 'reg:squarederror'}\n",
      "0.7078875852783633 {'alpha': 1e-11, 'booster': 'gbtree', 'eta': 1e-11, 'gamma': 1e-11, 'lambda': 1e-11, 'max_depth': 7, 'min_child_weight': 1e-11, 'objective': 'reg:squarederror'}\n",
      "0.7171411017018149 {'alpha': 1e-11, 'booster': 'gbtree', 'eta': 1e-11, 'gamma': 1e-11, 'lambda': 1e-11, 'max_depth': 8, 'min_child_weight': 1e-15, 'objective': 'reg:squarederror'}\n",
      "0.7171411017018149 {'alpha': 1e-11, 'booster': 'gbtree', 'eta': 1e-11, 'gamma': 1e-11, 'lambda': 1e-11, 'max_depth': 8, 'min_child_weight': 1e-13, 'objective': 'reg:squarederror'}\n",
      "0.7171411017018149 {'alpha': 1e-11, 'booster': 'gbtree', 'eta': 1e-11, 'gamma': 1e-11, 'lambda': 1e-11, 'max_depth': 8, 'min_child_weight': 1e-11, 'objective': 'reg:squarederror'}\n"
     ]
    }
   ],
   "source": [
    "cvres = grid_search.cv_results_\n",
    "for mean_score, params in zip(cvres[\"mean_test_score\"], cvres[\"params\"]):\n",
    "    print(np.sqrt(-mean_score), params)"
   ]
  },
  {
   "cell_type": "code",
   "execution_count": 33,
   "metadata": {
    "colab": {},
    "colab_type": "code",
    "id": "EBmgw-Y02fod"
   },
   "outputs": [],
   "source": [
    "ts_xgb_final_model =  grid_search.best_estimator_"
   ]
  },
  {
   "cell_type": "code",
   "execution_count": 34,
   "metadata": {
    "colab": {
     "base_uri": "https://localhost:8080/",
     "height": 35
    },
    "colab_type": "code",
    "executionInfo": {
     "elapsed": 620016,
     "status": "ok",
     "timestamp": 1571661850574,
     "user": {
      "displayName": "Kyung Min Lee",
      "photoUrl": "",
      "userId": "04331676426637755655"
     },
     "user_tz": -540
    },
    "id": "0pvJw2UT2fok",
    "outputId": "2fdcaf8f-be15-43b5-c54c-fbdd480e49fb"
   },
   "outputs": [
    {
     "data": {
      "text/plain": [
       "66.13248677659668"
      ]
     },
     "execution_count": 34,
     "metadata": {},
     "output_type": "execute_result"
    }
   ],
   "source": [
    "ts_xgb_train_predictions = ts_xgb_final_model.predict(X_train_std) * np.std(ts_train) + np.mean(ts_train)\n",
    "ts_xgb_train_mse = mean_squared_error(ts_train, ts_xgb_train_predictions)\n",
    "ts_xgb_train_rmse = np.sqrt(ts_xgb_train_mse)\n",
    "ts_xgb_train_rmse"
   ]
  },
  {
   "cell_type": "code",
   "execution_count": 35,
   "metadata": {},
   "outputs": [
    {
     "name": "stdout",
     "output_type": "stream",
     "text": [
      "ts_xgb_train_err:  [3.34125934] %\n"
     ]
    }
   ],
   "source": [
    "ts_train_sum = np.zeros(1)\n",
    "\n",
    "for i in range(1, len(ts_train)):\n",
    "    ts_train_sum +=  ts_train[i]\n",
    "    \n",
    "ts_train_avg = ts_train_sum / len(ts_train)\n",
    "ts_xgb_train_err = ts_xgb_train_rmse / ts_train_avg * 100\n",
    "print(\"ts_xgb_train_err: \", ts_xgb_train_err, '%')"
   ]
  },
  {
   "cell_type": "code",
   "execution_count": 36,
   "metadata": {
    "colab": {
     "base_uri": "https://localhost:8080/",
     "height": 35
    },
    "colab_type": "code",
    "executionInfo": {
     "elapsed": 618937,
     "status": "ok",
     "timestamp": 1571661850575,
     "user": {
      "displayName": "Kyung Min Lee",
      "photoUrl": "",
      "userId": "04331676426637755655"
     },
     "user_tz": -540
    },
    "id": "Kc4B6Liq2foh",
    "outputId": "5d73dc08-dd5c-4088-d416-91a89c1721fc"
   },
   "outputs": [
    {
     "data": {
      "text/plain": [
       "299.26220601390725"
      ]
     },
     "execution_count": 36,
     "metadata": {},
     "output_type": "execute_result"
    }
   ],
   "source": [
    "ts_xgb_test_predictions = ts_xgb_final_model.predict(X_test_std) * np.std(ts_test) + np.mean(ts_test)\n",
    "ts_xgb_test_mse = mean_squared_error(ts_test,ts_xgb_test_predictions)\n",
    "ts_xgb_test_rmse = np.sqrt(ts_xgb_test_mse)\n",
    "ts_xgb_test_rmse"
   ]
  },
  {
   "cell_type": "code",
   "execution_count": 37,
   "metadata": {},
   "outputs": [
    {
     "name": "stdout",
     "output_type": "stream",
     "text": [
      "ts_xgb_test_err:  [15.02571746] %\n"
     ]
    }
   ],
   "source": [
    "ts_test_sum = np.zeros(1)\n",
    "\n",
    "for i in range(1, len(ts_test)):\n",
    "    ts_test_sum +=  ts_test[i]\n",
    "    \n",
    "ts_test_avg = ts_test_sum / len(ts_test)\n",
    "ts_xgb_test_err = ts_xgb_test_rmse / ts_test_avg * 100\n",
    "print(\"ts_xgb_test_err: \", ts_xgb_test_err, '%')"
   ]
  },
  {
   "cell_type": "markdown",
   "metadata": {
    "colab_type": "text",
    "id": "YzQRWTSErZs-"
   },
   "source": [
    "### Feature importances"
   ]
  },
  {
   "cell_type": "code",
   "execution_count": 407,
   "metadata": {
    "colab": {
     "base_uri": "https://localhost:8080/",
     "height": 35
    },
    "colab_type": "code",
    "executionInfo": {
     "elapsed": 615933,
     "status": "ok",
     "timestamp": 1571661850576,
     "user": {
      "displayName": "Kyung Min Lee",
      "photoUrl": "",
      "userId": "04331676426637755655"
     },
     "user_tz": -540
    },
    "id": "cpqA1uMvrZ3n",
    "outputId": "cedbbcc3-8cf1-40ff-8615-0a94c4125483"
   },
   "outputs": [
    {
     "data": {
      "text/plain": [
       "(4,)"
      ]
     },
     "execution_count": 407,
     "metadata": {},
     "output_type": "execute_result"
    }
   ],
   "source": [
    "feature_importances = ts_xgb_final_model.feature_importances_\n",
    "feature_importances.shape"
   ]
  },
  {
   "cell_type": "code",
   "execution_count": 408,
   "metadata": {
    "colab": {
     "base_uri": "https://localhost:8080/",
     "height": 143
    },
    "colab_type": "code",
    "executionInfo": {
     "elapsed": 615096,
     "status": "ok",
     "timestamp": 1571661850577,
     "user": {
      "displayName": "Kyung Min Lee",
      "photoUrl": "",
      "userId": "04331676426637755655"
     },
     "user_tz": -540
    },
    "id": "qXtajhXTrqmu",
    "outputId": "c5a54407-fc68-4e66-8d53-9394f3d8c4cc"
   },
   "outputs": [
    {
     "name": "stdout",
     "output_type": "stream",
     "text": [
      "Feature importances\n",
      "layer_height 0.16914637\n",
      "infill_density 0.23110959\n",
      "wall-_thickness 0.2479369\n",
      "nozzle_temperature 0.35180718\n"
     ]
    }
   ],
   "source": [
    "print(\"Feature importances\")\n",
    "print(\"layer_height\", feature_importances[0])\n",
    "print(\"infill_density\", feature_importances[1])\n",
    "print(\"wall-_thickness\", feature_importances[2])\n",
    "print(\"nozzle_temperature\", feature_importances[3])\n"
   ]
  },
  {
   "cell_type": "markdown",
   "metadata": {
    "colab_type": "text",
    "id": "vCAAeQRNBtAi"
   },
   "source": [
    "## Central Limit Theorem"
   ]
  },
  {
   "cell_type": "code",
   "execution_count": 302,
   "metadata": {
    "colab": {
     "base_uri": "https://localhost:8080/",
     "height": 53
    },
    "colab_type": "code",
    "executionInfo": {
     "elapsed": 614148,
     "status": "ok",
     "timestamp": 1571661850577,
     "user": {
      "displayName": "Kyung Min Lee",
      "photoUrl": "",
      "userId": "04331676426637755655"
     },
     "user_tz": -540
    },
    "id": "zdoNRjOjS505",
    "outputId": "d5153db1-0566-41ec-aa5c-8e3392cb3140"
   },
   "outputs": [
    {
     "name": "stdout",
     "output_type": "stream",
     "text": [
      "(729,)\n",
      "Combinations\n"
     ]
    }
   ],
   "source": [
    "print(cvres['mean_train_score'].shape)\n",
    "print('Combinations')"
   ]
  },
  {
   "cell_type": "code",
   "execution_count": 303,
   "metadata": {
    "colab": {
     "base_uri": "https://localhost:8080/",
     "height": 53
    },
    "colab_type": "code",
    "executionInfo": {
     "elapsed": 613817,
     "status": "ok",
     "timestamp": 1571661850577,
     "user": {
      "displayName": "Kyung Min Lee",
      "photoUrl": "",
      "userId": "04331676426637755655"
     },
     "user_tz": -540
    },
    "id": "TkhRQuiBBtRQ",
    "outputId": "6bff36c8-ee3b-44b5-87c7-1f9d285e62a1"
   },
   "outputs": [
    {
     "name": "stdout",
     "output_type": "stream",
     "text": [
      "[-0.1496858  -0.1496858  -0.1496858  -0.03018177 -0.03018177 -0.03018177\n",
      " -0.00303934 -0.00303934 -0.00303934 -0.1496858  -0.1496858  -0.1496858\n",
      " -0.03018177 -0.03018177 -0.03018177 -0.00303934 -0.00303934 -0.00303934\n",
      " -0.1496858  -0.1496858  -0.1496858  -0.03018177 -0.03018177 -0.03018177\n",
      " -0.00303934 -0.00303934 -0.00303934 -0.1496858  -0.1496858  -0.1496858\n",
      " -0.03018177 -0.03018177 -0.03018177 -0.00303934 -0.00303934 -0.00303934\n",
      " -0.1496858  -0.1496858  -0.1496858  -0.03018177 -0.03018177 -0.03018177\n",
      " -0.00303934 -0.00303934 -0.00303934 -0.1496858  -0.1496858  -0.1496858\n",
      " -0.03018177 -0.03018177 -0.03018177 -0.00303934 -0.00303934 -0.00303934\n",
      " -0.1496858  -0.1496858  -0.1496858  -0.03018177 -0.03018177 -0.03018177\n",
      " -0.00303934 -0.00303934 -0.00303934 -0.1496858  -0.1496858  -0.1496858\n",
      " -0.03018177 -0.03018177 -0.03018177 -0.00303934 -0.00303934 -0.00303934\n",
      " -0.1496858  -0.1496858  -0.1496858  -0.03018177 -0.03018177 -0.03018177\n",
      " -0.00303934 -0.00303934 -0.00303934 -0.1496858  -0.1496858  -0.1496858\n",
      " -0.03018177 -0.03018177 -0.03018177 -0.00303934 -0.00303934 -0.00303934\n",
      " -0.1496858  -0.1496858  -0.1496858  -0.03018177 -0.03018177 -0.03018177\n",
      " -0.00303934 -0.00303934 -0.00303934 -0.1496858  -0.1496858  -0.1496858\n",
      " -0.03018177 -0.03018177 -0.03018177 -0.00303934 -0.00303934 -0.00303934\n",
      " -0.1496858  -0.1496858  -0.1496858  -0.03018177 -0.03018177 -0.03018177\n",
      " -0.00303934 -0.00303934 -0.00303934 -0.1496858  -0.1496858  -0.1496858\n",
      " -0.03018177 -0.03018177 -0.03018177 -0.00303934 -0.00303934 -0.00303934\n",
      " -0.1496858  -0.1496858  -0.1496858  -0.03018177 -0.03018177 -0.03018177\n",
      " -0.00303934 -0.00303934 -0.00303934 -0.1496858  -0.1496858  -0.1496858\n",
      " -0.03018177 -0.03018177 -0.03018177 -0.00303934 -0.00303934 -0.00303934\n",
      " -0.1496858  -0.1496858  -0.1496858  -0.03018177 -0.03018177 -0.03018177\n",
      " -0.00303934 -0.00303934 -0.00303934 -0.1496858  -0.1496858  -0.1496858\n",
      " -0.03018177 -0.03018177 -0.03018177 -0.00303934 -0.00303934 -0.00303934\n",
      " -0.1496858  -0.1496858  -0.1496858  -0.03018177 -0.03018177 -0.03018177\n",
      " -0.00303934 -0.00303934 -0.00303934 -0.1496858  -0.1496858  -0.1496858\n",
      " -0.03018177 -0.03018177 -0.03018177 -0.00303934 -0.00303934 -0.00303934\n",
      " -0.1496858  -0.1496858  -0.1496858  -0.03018177 -0.03018177 -0.03018177\n",
      " -0.00303934 -0.00303934 -0.00303934 -0.1496858  -0.1496858  -0.1496858\n",
      " -0.03018177 -0.03018177 -0.03018177 -0.00303934 -0.00303934 -0.00303934\n",
      " -0.1496858  -0.1496858  -0.1496858  -0.03018177 -0.03018177 -0.03018177\n",
      " -0.00303934 -0.00303934 -0.00303934 -0.1496858  -0.1496858  -0.1496858\n",
      " -0.03018177 -0.03018177 -0.03018177 -0.00303934 -0.00303934 -0.00303934\n",
      " -0.1496858  -0.1496858  -0.1496858  -0.03018177 -0.03018177 -0.03018177\n",
      " -0.00303934 -0.00303934 -0.00303934 -0.1496858  -0.1496858  -0.1496858\n",
      " -0.03018177 -0.03018177 -0.03018177 -0.00303934 -0.00303934 -0.00303934\n",
      " -0.1496858  -0.1496858  -0.1496858  -0.03018177 -0.03018177 -0.03018177\n",
      " -0.00303934 -0.00303934 -0.00303934 -0.1496858  -0.1496858  -0.1496858\n",
      " -0.03018177 -0.03018177 -0.03018177 -0.00303934 -0.00303934 -0.00303934\n",
      " -0.1496858  -0.1496858  -0.1496858  -0.03018177 -0.03018177 -0.03018177\n",
      " -0.00303934 -0.00303934 -0.00303934 -0.1496858  -0.1496858  -0.1496858\n",
      " -0.03018177 -0.03018177 -0.03018177 -0.00303934 -0.00303934 -0.00303934\n",
      " -0.1496858  -0.1496858  -0.1496858  -0.03018177 -0.03018177 -0.03018177\n",
      " -0.00303934 -0.00303934 -0.00303934 -0.1496858  -0.1496858  -0.1496858\n",
      " -0.03018177 -0.03018177 -0.03018177 -0.00303934 -0.00303934 -0.00303934\n",
      " -0.1496858  -0.1496858  -0.1496858  -0.03018177 -0.03018177 -0.03018177\n",
      " -0.00303934 -0.00303934 -0.00303934 -0.1496858  -0.1496858  -0.1496858\n",
      " -0.03018177 -0.03018177 -0.03018177 -0.00303934 -0.00303934 -0.00303934\n",
      " -0.1496858  -0.1496858  -0.1496858  -0.03018177 -0.03018177 -0.03018177\n",
      " -0.00303934 -0.00303934 -0.00303934 -0.1496858  -0.1496858  -0.1496858\n",
      " -0.03018177 -0.03018177 -0.03018177 -0.00303934 -0.00303934 -0.00303934\n",
      " -0.1496858  -0.1496858  -0.1496858  -0.03018177 -0.03018177 -0.03018177\n",
      " -0.00303934 -0.00303934 -0.00303934 -0.1496858  -0.1496858  -0.1496858\n",
      " -0.03018177 -0.03018177 -0.03018177 -0.00303934 -0.00303934 -0.00303934\n",
      " -0.1496858  -0.1496858  -0.1496858  -0.03018177 -0.03018177 -0.03018177\n",
      " -0.00303934 -0.00303934 -0.00303934 -0.1496858  -0.1496858  -0.1496858\n",
      " -0.03018177 -0.03018177 -0.03018177 -0.00303934 -0.00303934 -0.00303934\n",
      " -0.1496858  -0.1496858  -0.1496858  -0.03018177 -0.03018177 -0.03018177\n",
      " -0.00303934 -0.00303934 -0.00303934 -0.1496858  -0.1496858  -0.1496858\n",
      " -0.03018177 -0.03018177 -0.03018177 -0.00303934 -0.00303934 -0.00303934\n",
      " -0.1496858  -0.1496858  -0.1496858  -0.03018177 -0.03018177 -0.03018177\n",
      " -0.00303934 -0.00303934 -0.00303934 -0.1496858  -0.1496858  -0.1496858\n",
      " -0.03018177 -0.03018177 -0.03018177 -0.00303934 -0.00303934 -0.00303934\n",
      " -0.1496858  -0.1496858  -0.1496858  -0.03018177 -0.03018177 -0.03018177\n",
      " -0.00303934 -0.00303934 -0.00303934 -0.1496858  -0.1496858  -0.1496858\n",
      " -0.03018177 -0.03018177 -0.03018177 -0.00303934 -0.00303934 -0.00303934\n",
      " -0.1496858  -0.1496858  -0.1496858  -0.03018177 -0.03018177 -0.03018177\n",
      " -0.00303934 -0.00303934 -0.00303934 -0.1496858  -0.1496858  -0.1496858\n",
      " -0.03018177 -0.03018177 -0.03018177 -0.00303934 -0.00303934 -0.00303934\n",
      " -0.1496858  -0.1496858  -0.1496858  -0.03018177 -0.03018177 -0.03018177\n",
      " -0.00303934 -0.00303934 -0.00303934 -0.1496858  -0.1496858  -0.1496858\n",
      " -0.03018177 -0.03018177 -0.03018177 -0.00303934 -0.00303934 -0.00303934\n",
      " -0.1496858  -0.1496858  -0.1496858  -0.03018177 -0.03018177 -0.03018177\n",
      " -0.00303934 -0.00303934 -0.00303934 -0.1496858  -0.1496858  -0.1496858\n",
      " -0.03018177 -0.03018177 -0.03018177 -0.00303934 -0.00303934 -0.00303934\n",
      " -0.1496858  -0.1496858  -0.1496858  -0.03018177 -0.03018177 -0.03018177\n",
      " -0.00303934 -0.00303934 -0.00303934 -0.1496858  -0.1496858  -0.1496858\n",
      " -0.03018177 -0.03018177 -0.03018177 -0.00303934 -0.00303934 -0.00303934\n",
      " -0.1496858  -0.1496858  -0.1496858  -0.03018177 -0.03018177 -0.03018177\n",
      " -0.00303934 -0.00303934 -0.00303934 -0.1496858  -0.1496858  -0.1496858\n",
      " -0.03018177 -0.03018177 -0.03018177 -0.00303934 -0.00303934 -0.00303934\n",
      " -0.1496858  -0.1496858  -0.1496858  -0.03018177 -0.03018177 -0.03018177\n",
      " -0.00303934 -0.00303934 -0.00303934 -0.1496858  -0.1496858  -0.1496858\n",
      " -0.03018177 -0.03018177 -0.03018177 -0.00303934 -0.00303934 -0.00303934\n",
      " -0.1496858  -0.1496858  -0.1496858  -0.03018177 -0.03018177 -0.03018177\n",
      " -0.00303934 -0.00303934 -0.00303934 -0.1496858  -0.1496858  -0.1496858\n",
      " -0.03018177 -0.03018177 -0.03018177 -0.00303934 -0.00303934 -0.00303934\n",
      " -0.1496858  -0.1496858  -0.1496858  -0.03018177 -0.03018177 -0.03018177\n",
      " -0.00303934 -0.00303934 -0.00303934 -0.1496858  -0.1496858  -0.1496858\n",
      " -0.03018177 -0.03018177 -0.03018177 -0.00303934 -0.00303934 -0.00303934\n",
      " -0.1496858  -0.1496858  -0.1496858  -0.03018177 -0.03018177 -0.03018177\n",
      " -0.00303934 -0.00303934 -0.00303934 -0.1496858  -0.1496858  -0.1496858\n",
      " -0.03018177 -0.03018177 -0.03018177 -0.00303934 -0.00303934 -0.00303934\n",
      " -0.1496858  -0.1496858  -0.1496858  -0.03018177 -0.03018177 -0.03018177\n",
      " -0.00303934 -0.00303934 -0.00303934 -0.1496858  -0.1496858  -0.1496858\n",
      " -0.03018177 -0.03018177 -0.03018177 -0.00303934 -0.00303934 -0.00303934\n",
      " -0.1496858  -0.1496858  -0.1496858  -0.03018177 -0.03018177 -0.03018177\n",
      " -0.00303934 -0.00303934 -0.00303934 -0.1496858  -0.1496858  -0.1496858\n",
      " -0.03018177 -0.03018177 -0.03018177 -0.00303934 -0.00303934 -0.00303934\n",
      " -0.1496858  -0.1496858  -0.1496858  -0.03018177 -0.03018177 -0.03018177\n",
      " -0.00303934 -0.00303934 -0.00303934 -0.1496858  -0.1496858  -0.1496858\n",
      " -0.03018177 -0.03018177 -0.03018177 -0.00303934 -0.00303934 -0.00303934\n",
      " -0.1496858  -0.1496858  -0.1496858  -0.03018177 -0.03018177 -0.03018177\n",
      " -0.00303934 -0.00303934 -0.00303934 -0.1496858  -0.1496858  -0.1496858\n",
      " -0.03018177 -0.03018177 -0.03018177 -0.00303934 -0.00303934 -0.00303934\n",
      " -0.1496858  -0.1496858  -0.1496858  -0.03018177 -0.03018177 -0.03018177\n",
      " -0.00303934 -0.00303934 -0.00303934 -0.1496858  -0.1496858  -0.1496858\n",
      " -0.03018177 -0.03018177 -0.03018177 -0.00303934 -0.00303934 -0.00303934\n",
      " -0.1496858  -0.1496858  -0.1496858  -0.03018177 -0.03018177 -0.03018177\n",
      " -0.00303934 -0.00303934 -0.00303934 -0.1496858  -0.1496858  -0.1496858\n",
      " -0.03018177 -0.03018177 -0.03018177 -0.00303934 -0.00303934 -0.00303934\n",
      " -0.1496858  -0.1496858  -0.1496858  -0.03018177 -0.03018177 -0.03018177\n",
      " -0.00303934 -0.00303934 -0.00303934 -0.1496858  -0.1496858  -0.1496858\n",
      " -0.03018177 -0.03018177 -0.03018177 -0.00303934 -0.00303934 -0.00303934\n",
      " -0.1496858  -0.1496858  -0.1496858  -0.03018177 -0.03018177 -0.03018177\n",
      " -0.00303934 -0.00303934 -0.00303934 -0.1496858  -0.1496858  -0.1496858\n",
      " -0.03018177 -0.03018177 -0.03018177 -0.00303934 -0.00303934 -0.00303934\n",
      " -0.1496858  -0.1496858  -0.1496858  -0.03018177 -0.03018177 -0.03018177\n",
      " -0.00303934 -0.00303934 -0.00303934]\n"
     ]
    }
   ],
   "source": [
    "mean_train_score = cvres['mean_train_score']\n",
    "print(mean_train_score)"
   ]
  },
  {
   "cell_type": "code",
   "execution_count": 304,
   "metadata": {
    "colab": {
     "base_uri": "https://localhost:8080/",
     "height": 53
    },
    "colab_type": "code",
    "executionInfo": {
     "elapsed": 613558,
     "status": "ok",
     "timestamp": 1571661850578,
     "user": {
      "displayName": "Kyung Min Lee",
      "photoUrl": "",
      "userId": "04331676426637755655"
     },
     "user_tz": -540
    },
    "id": "Al1QpWI0BtbV",
    "outputId": "ed0af335-63bc-45b0-bd55-d8ae33ab98fa"
   },
   "outputs": [
    {
     "name": "stdout",
     "output_type": "stream",
     "text": [
      "[-0.28151505 -0.28151505 -0.28151505 -0.21263254 -0.21263254 -0.21263254\n",
      " -0.25541192 -0.25541192 -0.25541192 -0.28151505 -0.28151505 -0.28151505\n",
      " -0.21263254 -0.21263254 -0.21263254 -0.25541192 -0.25541192 -0.25541192\n",
      " -0.28151505 -0.28151505 -0.28151505 -0.21263254 -0.21263254 -0.21263254\n",
      " -0.25541192 -0.25541192 -0.25541192 -0.28151505 -0.28151505 -0.28151505\n",
      " -0.21263254 -0.21263254 -0.21263254 -0.25541192 -0.25541192 -0.25541192\n",
      " -0.28151505 -0.28151505 -0.28151505 -0.21263254 -0.21263254 -0.21263254\n",
      " -0.25541192 -0.25541192 -0.25541192 -0.28151505 -0.28151505 -0.28151505\n",
      " -0.21263254 -0.21263254 -0.21263254 -0.25541192 -0.25541192 -0.25541192\n",
      " -0.28151505 -0.28151505 -0.28151505 -0.21263254 -0.21263254 -0.21263254\n",
      " -0.25541192 -0.25541192 -0.25541192 -0.28151505 -0.28151505 -0.28151505\n",
      " -0.21263254 -0.21263254 -0.21263254 -0.25541192 -0.25541192 -0.25541192\n",
      " -0.28151505 -0.28151505 -0.28151505 -0.21263254 -0.21263254 -0.21263254\n",
      " -0.25541192 -0.25541192 -0.25541192 -0.28151505 -0.28151505 -0.28151505\n",
      " -0.21263254 -0.21263254 -0.21263254 -0.25541192 -0.25541192 -0.25541192\n",
      " -0.28151505 -0.28151505 -0.28151505 -0.21263254 -0.21263254 -0.21263254\n",
      " -0.25541192 -0.25541192 -0.25541192 -0.28151505 -0.28151505 -0.28151505\n",
      " -0.21263254 -0.21263254 -0.21263254 -0.25541192 -0.25541192 -0.25541192\n",
      " -0.28151505 -0.28151505 -0.28151505 -0.21263254 -0.21263254 -0.21263254\n",
      " -0.25541192 -0.25541192 -0.25541192 -0.28151505 -0.28151505 -0.28151505\n",
      " -0.21263254 -0.21263254 -0.21263254 -0.25541192 -0.25541192 -0.25541192\n",
      " -0.28151505 -0.28151505 -0.28151505 -0.21263254 -0.21263254 -0.21263254\n",
      " -0.25541192 -0.25541192 -0.25541192 -0.28151505 -0.28151505 -0.28151505\n",
      " -0.21263254 -0.21263254 -0.21263254 -0.25541192 -0.25541192 -0.25541192\n",
      " -0.28151505 -0.28151505 -0.28151505 -0.21263254 -0.21263254 -0.21263254\n",
      " -0.25541192 -0.25541192 -0.25541192 -0.28151505 -0.28151505 -0.28151505\n",
      " -0.21263254 -0.21263254 -0.21263254 -0.25541192 -0.25541192 -0.25541192\n",
      " -0.28151505 -0.28151505 -0.28151505 -0.21263254 -0.21263254 -0.21263254\n",
      " -0.25541192 -0.25541192 -0.25541192 -0.28151505 -0.28151505 -0.28151505\n",
      " -0.21263254 -0.21263254 -0.21263254 -0.25541192 -0.25541192 -0.25541192\n",
      " -0.28151505 -0.28151505 -0.28151505 -0.21263254 -0.21263254 -0.21263254\n",
      " -0.25541192 -0.25541192 -0.25541192 -0.28151505 -0.28151505 -0.28151505\n",
      " -0.21263254 -0.21263254 -0.21263254 -0.25541192 -0.25541192 -0.25541192\n",
      " -0.28151505 -0.28151505 -0.28151505 -0.21263254 -0.21263254 -0.21263254\n",
      " -0.25541192 -0.25541192 -0.25541192 -0.28151505 -0.28151505 -0.28151505\n",
      " -0.21263254 -0.21263254 -0.21263254 -0.25541192 -0.25541192 -0.25541192\n",
      " -0.28151505 -0.28151505 -0.28151505 -0.21263254 -0.21263254 -0.21263254\n",
      " -0.25541192 -0.25541192 -0.25541192 -0.28151505 -0.28151505 -0.28151505\n",
      " -0.21263254 -0.21263254 -0.21263254 -0.25541192 -0.25541192 -0.25541192\n",
      " -0.28151505 -0.28151505 -0.28151505 -0.21263254 -0.21263254 -0.21263254\n",
      " -0.25541192 -0.25541192 -0.25541192 -0.28151505 -0.28151505 -0.28151505\n",
      " -0.21263254 -0.21263254 -0.21263254 -0.25541192 -0.25541192 -0.25541192\n",
      " -0.28151505 -0.28151505 -0.28151505 -0.21263254 -0.21263254 -0.21263254\n",
      " -0.25541192 -0.25541192 -0.25541192 -0.28151505 -0.28151505 -0.28151505\n",
      " -0.21263254 -0.21263254 -0.21263254 -0.25541192 -0.25541192 -0.25541192\n",
      " -0.28151505 -0.28151505 -0.28151505 -0.21263254 -0.21263254 -0.21263254\n",
      " -0.25541192 -0.25541192 -0.25541192 -0.28151505 -0.28151505 -0.28151505\n",
      " -0.21263254 -0.21263254 -0.21263254 -0.25541192 -0.25541192 -0.25541192\n",
      " -0.28151505 -0.28151505 -0.28151505 -0.21263254 -0.21263254 -0.21263254\n",
      " -0.25541192 -0.25541192 -0.25541192 -0.28151505 -0.28151505 -0.28151505\n",
      " -0.21263254 -0.21263254 -0.21263254 -0.25541192 -0.25541192 -0.25541192\n",
      " -0.28151505 -0.28151505 -0.28151505 -0.21263254 -0.21263254 -0.21263254\n",
      " -0.25541192 -0.25541192 -0.25541192 -0.28151505 -0.28151505 -0.28151505\n",
      " -0.21263254 -0.21263254 -0.21263254 -0.25541192 -0.25541192 -0.25541192\n",
      " -0.28151505 -0.28151505 -0.28151505 -0.21263254 -0.21263254 -0.21263254\n",
      " -0.25541192 -0.25541192 -0.25541192 -0.28151505 -0.28151505 -0.28151505\n",
      " -0.21263254 -0.21263254 -0.21263254 -0.25541192 -0.25541192 -0.25541192\n",
      " -0.28151505 -0.28151505 -0.28151505 -0.21263254 -0.21263254 -0.21263254\n",
      " -0.25541192 -0.25541192 -0.25541192 -0.28151505 -0.28151505 -0.28151505\n",
      " -0.21263254 -0.21263254 -0.21263254 -0.25541192 -0.25541192 -0.25541192\n",
      " -0.28151505 -0.28151505 -0.28151505 -0.21263254 -0.21263254 -0.21263254\n",
      " -0.25541192 -0.25541192 -0.25541192 -0.28151505 -0.28151505 -0.28151505\n",
      " -0.21263254 -0.21263254 -0.21263254 -0.25541192 -0.25541192 -0.25541192\n",
      " -0.28151505 -0.28151505 -0.28151505 -0.21263254 -0.21263254 -0.21263254\n",
      " -0.25541192 -0.25541192 -0.25541192 -0.28151505 -0.28151505 -0.28151505\n",
      " -0.21263254 -0.21263254 -0.21263254 -0.25541192 -0.25541192 -0.25541192\n",
      " -0.28151505 -0.28151505 -0.28151505 -0.21263254 -0.21263254 -0.21263254\n",
      " -0.25541192 -0.25541192 -0.25541192 -0.28151505 -0.28151505 -0.28151505\n",
      " -0.21263254 -0.21263254 -0.21263254 -0.25541192 -0.25541192 -0.25541192\n",
      " -0.28151505 -0.28151505 -0.28151505 -0.21263254 -0.21263254 -0.21263254\n",
      " -0.25541192 -0.25541192 -0.25541192 -0.28151505 -0.28151505 -0.28151505\n",
      " -0.21263254 -0.21263254 -0.21263254 -0.25541192 -0.25541192 -0.25541192\n",
      " -0.28151505 -0.28151505 -0.28151505 -0.21263254 -0.21263254 -0.21263254\n",
      " -0.25541192 -0.25541192 -0.25541192 -0.28151505 -0.28151505 -0.28151505\n",
      " -0.21263254 -0.21263254 -0.21263254 -0.25541192 -0.25541192 -0.25541192\n",
      " -0.28151505 -0.28151505 -0.28151505 -0.21263254 -0.21263254 -0.21263254\n",
      " -0.25541192 -0.25541192 -0.25541192 -0.28151505 -0.28151505 -0.28151505\n",
      " -0.21263254 -0.21263254 -0.21263254 -0.25541192 -0.25541192 -0.25541192\n",
      " -0.28151505 -0.28151505 -0.28151505 -0.21263254 -0.21263254 -0.21263254\n",
      " -0.25541192 -0.25541192 -0.25541192 -0.28151505 -0.28151505 -0.28151505\n",
      " -0.21263254 -0.21263254 -0.21263254 -0.25541192 -0.25541192 -0.25541192\n",
      " -0.28151505 -0.28151505 -0.28151505 -0.21263254 -0.21263254 -0.21263254\n",
      " -0.25541192 -0.25541192 -0.25541192 -0.28151505 -0.28151505 -0.28151505\n",
      " -0.21263254 -0.21263254 -0.21263254 -0.25541192 -0.25541192 -0.25541192\n",
      " -0.28151505 -0.28151505 -0.28151505 -0.21263254 -0.21263254 -0.21263254\n",
      " -0.25541192 -0.25541192 -0.25541192 -0.28151505 -0.28151505 -0.28151505\n",
      " -0.21263254 -0.21263254 -0.21263254 -0.25541192 -0.25541192 -0.25541192\n",
      " -0.28151505 -0.28151505 -0.28151505 -0.21263254 -0.21263254 -0.21263254\n",
      " -0.25541192 -0.25541192 -0.25541192 -0.28151505 -0.28151505 -0.28151505\n",
      " -0.21263254 -0.21263254 -0.21263254 -0.25541192 -0.25541192 -0.25541192\n",
      " -0.28151505 -0.28151505 -0.28151505 -0.21263254 -0.21263254 -0.21263254\n",
      " -0.25541192 -0.25541192 -0.25541192 -0.28151505 -0.28151505 -0.28151505\n",
      " -0.21263254 -0.21263254 -0.21263254 -0.25541192 -0.25541192 -0.25541192\n",
      " -0.28151505 -0.28151505 -0.28151505 -0.21263254 -0.21263254 -0.21263254\n",
      " -0.25541192 -0.25541192 -0.25541192 -0.28151505 -0.28151505 -0.28151505\n",
      " -0.21263254 -0.21263254 -0.21263254 -0.25541192 -0.25541192 -0.25541192\n",
      " -0.28151505 -0.28151505 -0.28151505 -0.21263254 -0.21263254 -0.21263254\n",
      " -0.25541192 -0.25541192 -0.25541192 -0.28151505 -0.28151505 -0.28151505\n",
      " -0.21263254 -0.21263254 -0.21263254 -0.25541192 -0.25541192 -0.25541192\n",
      " -0.28151505 -0.28151505 -0.28151505 -0.21263254 -0.21263254 -0.21263254\n",
      " -0.25541192 -0.25541192 -0.25541192 -0.28151505 -0.28151505 -0.28151505\n",
      " -0.21263254 -0.21263254 -0.21263254 -0.25541192 -0.25541192 -0.25541192\n",
      " -0.28151505 -0.28151505 -0.28151505 -0.21263254 -0.21263254 -0.21263254\n",
      " -0.25541192 -0.25541192 -0.25541192 -0.28151505 -0.28151505 -0.28151505\n",
      " -0.21263254 -0.21263254 -0.21263254 -0.25541192 -0.25541192 -0.25541192\n",
      " -0.28151505 -0.28151505 -0.28151505 -0.21263254 -0.21263254 -0.21263254\n",
      " -0.25541192 -0.25541192 -0.25541192 -0.28151505 -0.28151505 -0.28151505\n",
      " -0.21263254 -0.21263254 -0.21263254 -0.25541192 -0.25541192 -0.25541192\n",
      " -0.28151505 -0.28151505 -0.28151505 -0.21263254 -0.21263254 -0.21263254\n",
      " -0.25541192 -0.25541192 -0.25541192 -0.28151505 -0.28151505 -0.28151505\n",
      " -0.21263254 -0.21263254 -0.21263254 -0.25541192 -0.25541192 -0.25541192\n",
      " -0.28151505 -0.28151505 -0.28151505 -0.21263254 -0.21263254 -0.21263254\n",
      " -0.25541192 -0.25541192 -0.25541192 -0.28151505 -0.28151505 -0.28151505\n",
      " -0.21263254 -0.21263254 -0.21263254 -0.25541192 -0.25541192 -0.25541192\n",
      " -0.28151505 -0.28151505 -0.28151505 -0.21263254 -0.21263254 -0.21263254\n",
      " -0.25541192 -0.25541192 -0.25541192 -0.28151505 -0.28151505 -0.28151505\n",
      " -0.21263254 -0.21263254 -0.21263254 -0.25541192 -0.25541192 -0.25541192\n",
      " -0.28151505 -0.28151505 -0.28151505 -0.21263254 -0.21263254 -0.21263254\n",
      " -0.25541192 -0.25541192 -0.25541192 -0.28151505 -0.28151505 -0.28151505\n",
      " -0.21263254 -0.21263254 -0.21263254 -0.25541192 -0.25541192 -0.25541192\n",
      " -0.28151505 -0.28151505 -0.28151505 -0.21263254 -0.21263254 -0.21263254\n",
      " -0.25541192 -0.25541192 -0.25541192]\n"
     ]
    }
   ],
   "source": [
    "mean_test_score = cvres['mean_test_score']\n",
    "print(mean_test_score)"
   ]
  },
  {
   "cell_type": "code",
   "execution_count": 305,
   "metadata": {
    "colab": {
     "base_uri": "https://localhost:8080/",
     "height": 53
    },
    "colab_type": "code",
    "executionInfo": {
     "elapsed": 613305,
     "status": "ok",
     "timestamp": 1571661850578,
     "user": {
      "displayName": "Kyung Min Lee",
      "photoUrl": "",
      "userId": "04331676426637755655"
     },
     "user_tz": -540
    },
    "id": "yhJvqaqBBtZg",
    "outputId": "a1f62fba-5224-4e4e-d232-fab275b59838"
   },
   "outputs": [
    {
     "name": "stdout",
     "output_type": "stream",
     "text": [
      "[0.02786356 0.02786356 0.02786356 0.01512416 0.01512416 0.01512416\n",
      " 0.00084282 0.00084282 0.00084282 0.02786356 0.02786356 0.02786356\n",
      " 0.01512416 0.01512416 0.01512416 0.00084282 0.00084282 0.00084282\n",
      " 0.02786356 0.02786356 0.02786356 0.01512416 0.01512416 0.01512416\n",
      " 0.00084282 0.00084282 0.00084282 0.02786356 0.02786356 0.02786356\n",
      " 0.01512416 0.01512416 0.01512416 0.00084282 0.00084282 0.00084282\n",
      " 0.02786356 0.02786356 0.02786356 0.01512416 0.01512416 0.01512416\n",
      " 0.00084282 0.00084282 0.00084282 0.02786356 0.02786356 0.02786356\n",
      " 0.01512416 0.01512416 0.01512416 0.00084282 0.00084282 0.00084282\n",
      " 0.02786356 0.02786356 0.02786356 0.01512416 0.01512416 0.01512416\n",
      " 0.00084282 0.00084282 0.00084282 0.02786356 0.02786356 0.02786356\n",
      " 0.01512416 0.01512416 0.01512416 0.00084282 0.00084282 0.00084282\n",
      " 0.02786356 0.02786356 0.02786356 0.01512416 0.01512416 0.01512416\n",
      " 0.00084282 0.00084282 0.00084282 0.02786356 0.02786356 0.02786356\n",
      " 0.01512416 0.01512416 0.01512416 0.00084282 0.00084282 0.00084282\n",
      " 0.02786356 0.02786356 0.02786356 0.01512416 0.01512416 0.01512416\n",
      " 0.00084282 0.00084282 0.00084282 0.02786356 0.02786356 0.02786356\n",
      " 0.01512416 0.01512416 0.01512416 0.00084282 0.00084282 0.00084282\n",
      " 0.02786356 0.02786356 0.02786356 0.01512416 0.01512416 0.01512416\n",
      " 0.00084282 0.00084282 0.00084282 0.02786356 0.02786356 0.02786356\n",
      " 0.01512416 0.01512416 0.01512416 0.00084282 0.00084282 0.00084282\n",
      " 0.02786356 0.02786356 0.02786356 0.01512416 0.01512416 0.01512416\n",
      " 0.00084282 0.00084282 0.00084282 0.02786356 0.02786356 0.02786356\n",
      " 0.01512416 0.01512416 0.01512416 0.00084282 0.00084282 0.00084282\n",
      " 0.02786356 0.02786356 0.02786356 0.01512416 0.01512416 0.01512416\n",
      " 0.00084282 0.00084282 0.00084282 0.02786356 0.02786356 0.02786356\n",
      " 0.01512416 0.01512416 0.01512416 0.00084282 0.00084282 0.00084282\n",
      " 0.02786356 0.02786356 0.02786356 0.01512416 0.01512416 0.01512416\n",
      " 0.00084282 0.00084282 0.00084282 0.02786356 0.02786356 0.02786356\n",
      " 0.01512416 0.01512416 0.01512416 0.00084282 0.00084282 0.00084282\n",
      " 0.02786356 0.02786356 0.02786356 0.01512416 0.01512416 0.01512416\n",
      " 0.00084282 0.00084282 0.00084282 0.02786356 0.02786356 0.02786356\n",
      " 0.01512416 0.01512416 0.01512416 0.00084282 0.00084282 0.00084282\n",
      " 0.02786356 0.02786356 0.02786356 0.01512416 0.01512416 0.01512416\n",
      " 0.00084282 0.00084282 0.00084282 0.02786356 0.02786356 0.02786356\n",
      " 0.01512416 0.01512416 0.01512416 0.00084282 0.00084282 0.00084282\n",
      " 0.02786356 0.02786356 0.02786356 0.01512416 0.01512416 0.01512416\n",
      " 0.00084282 0.00084282 0.00084282 0.02786356 0.02786356 0.02786356\n",
      " 0.01512416 0.01512416 0.01512416 0.00084282 0.00084282 0.00084282\n",
      " 0.02786356 0.02786356 0.02786356 0.01512416 0.01512416 0.01512416\n",
      " 0.00084282 0.00084282 0.00084282 0.02786356 0.02786356 0.02786356\n",
      " 0.01512416 0.01512416 0.01512416 0.00084282 0.00084282 0.00084282\n",
      " 0.02786356 0.02786356 0.02786356 0.01512416 0.01512416 0.01512416\n",
      " 0.00084282 0.00084282 0.00084282 0.02786356 0.02786356 0.02786356\n",
      " 0.01512416 0.01512416 0.01512416 0.00084282 0.00084282 0.00084282\n",
      " 0.02786356 0.02786356 0.02786356 0.01512416 0.01512416 0.01512416\n",
      " 0.00084282 0.00084282 0.00084282 0.02786356 0.02786356 0.02786356\n",
      " 0.01512416 0.01512416 0.01512416 0.00084282 0.00084282 0.00084282\n",
      " 0.02786356 0.02786356 0.02786356 0.01512416 0.01512416 0.01512416\n",
      " 0.00084282 0.00084282 0.00084282 0.02786356 0.02786356 0.02786356\n",
      " 0.01512416 0.01512416 0.01512416 0.00084282 0.00084282 0.00084282\n",
      " 0.02786356 0.02786356 0.02786356 0.01512416 0.01512416 0.01512416\n",
      " 0.00084282 0.00084282 0.00084282 0.02786356 0.02786356 0.02786356\n",
      " 0.01512416 0.01512416 0.01512416 0.00084282 0.00084282 0.00084282\n",
      " 0.02786356 0.02786356 0.02786356 0.01512416 0.01512416 0.01512416\n",
      " 0.00084282 0.00084282 0.00084282 0.02786356 0.02786356 0.02786356\n",
      " 0.01512416 0.01512416 0.01512416 0.00084282 0.00084282 0.00084282\n",
      " 0.02786356 0.02786356 0.02786356 0.01512416 0.01512416 0.01512416\n",
      " 0.00084282 0.00084282 0.00084282 0.02786356 0.02786356 0.02786356\n",
      " 0.01512416 0.01512416 0.01512416 0.00084282 0.00084282 0.00084282\n",
      " 0.02786356 0.02786356 0.02786356 0.01512416 0.01512416 0.01512416\n",
      " 0.00084282 0.00084282 0.00084282 0.02786356 0.02786356 0.02786356\n",
      " 0.01512416 0.01512416 0.01512416 0.00084282 0.00084282 0.00084282\n",
      " 0.02786356 0.02786356 0.02786356 0.01512416 0.01512416 0.01512416\n",
      " 0.00084282 0.00084282 0.00084282 0.02786356 0.02786356 0.02786356\n",
      " 0.01512416 0.01512416 0.01512416 0.00084282 0.00084282 0.00084282\n",
      " 0.02786356 0.02786356 0.02786356 0.01512416 0.01512416 0.01512416\n",
      " 0.00084282 0.00084282 0.00084282 0.02786356 0.02786356 0.02786356\n",
      " 0.01512416 0.01512416 0.01512416 0.00084282 0.00084282 0.00084282\n",
      " 0.02786356 0.02786356 0.02786356 0.01512416 0.01512416 0.01512416\n",
      " 0.00084282 0.00084282 0.00084282 0.02786356 0.02786356 0.02786356\n",
      " 0.01512416 0.01512416 0.01512416 0.00084282 0.00084282 0.00084282\n",
      " 0.02786356 0.02786356 0.02786356 0.01512416 0.01512416 0.01512416\n",
      " 0.00084282 0.00084282 0.00084282 0.02786356 0.02786356 0.02786356\n",
      " 0.01512416 0.01512416 0.01512416 0.00084282 0.00084282 0.00084282\n",
      " 0.02786356 0.02786356 0.02786356 0.01512416 0.01512416 0.01512416\n",
      " 0.00084282 0.00084282 0.00084282 0.02786356 0.02786356 0.02786356\n",
      " 0.01512416 0.01512416 0.01512416 0.00084282 0.00084282 0.00084282\n",
      " 0.02786356 0.02786356 0.02786356 0.01512416 0.01512416 0.01512416\n",
      " 0.00084282 0.00084282 0.00084282 0.02786356 0.02786356 0.02786356\n",
      " 0.01512416 0.01512416 0.01512416 0.00084282 0.00084282 0.00084282\n",
      " 0.02786356 0.02786356 0.02786356 0.01512416 0.01512416 0.01512416\n",
      " 0.00084282 0.00084282 0.00084282 0.02786356 0.02786356 0.02786356\n",
      " 0.01512416 0.01512416 0.01512416 0.00084282 0.00084282 0.00084282\n",
      " 0.02786356 0.02786356 0.02786356 0.01512416 0.01512416 0.01512416\n",
      " 0.00084282 0.00084282 0.00084282 0.02786356 0.02786356 0.02786356\n",
      " 0.01512416 0.01512416 0.01512416 0.00084282 0.00084282 0.00084282\n",
      " 0.02786356 0.02786356 0.02786356 0.01512416 0.01512416 0.01512416\n",
      " 0.00084282 0.00084282 0.00084282 0.02786356 0.02786356 0.02786356\n",
      " 0.01512416 0.01512416 0.01512416 0.00084282 0.00084282 0.00084282\n",
      " 0.02786356 0.02786356 0.02786356 0.01512416 0.01512416 0.01512416\n",
      " 0.00084282 0.00084282 0.00084282 0.02786356 0.02786356 0.02786356\n",
      " 0.01512416 0.01512416 0.01512416 0.00084282 0.00084282 0.00084282\n",
      " 0.02786356 0.02786356 0.02786356 0.01512416 0.01512416 0.01512416\n",
      " 0.00084282 0.00084282 0.00084282 0.02786356 0.02786356 0.02786356\n",
      " 0.01512416 0.01512416 0.01512416 0.00084282 0.00084282 0.00084282\n",
      " 0.02786356 0.02786356 0.02786356 0.01512416 0.01512416 0.01512416\n",
      " 0.00084282 0.00084282 0.00084282 0.02786356 0.02786356 0.02786356\n",
      " 0.01512416 0.01512416 0.01512416 0.00084282 0.00084282 0.00084282\n",
      " 0.02786356 0.02786356 0.02786356 0.01512416 0.01512416 0.01512416\n",
      " 0.00084282 0.00084282 0.00084282 0.02786356 0.02786356 0.02786356\n",
      " 0.01512416 0.01512416 0.01512416 0.00084282 0.00084282 0.00084282\n",
      " 0.02786356 0.02786356 0.02786356 0.01512416 0.01512416 0.01512416\n",
      " 0.00084282 0.00084282 0.00084282 0.02786356 0.02786356 0.02786356\n",
      " 0.01512416 0.01512416 0.01512416 0.00084282 0.00084282 0.00084282\n",
      " 0.02786356 0.02786356 0.02786356 0.01512416 0.01512416 0.01512416\n",
      " 0.00084282 0.00084282 0.00084282 0.02786356 0.02786356 0.02786356\n",
      " 0.01512416 0.01512416 0.01512416 0.00084282 0.00084282 0.00084282\n",
      " 0.02786356 0.02786356 0.02786356 0.01512416 0.01512416 0.01512416\n",
      " 0.00084282 0.00084282 0.00084282 0.02786356 0.02786356 0.02786356\n",
      " 0.01512416 0.01512416 0.01512416 0.00084282 0.00084282 0.00084282\n",
      " 0.02786356 0.02786356 0.02786356 0.01512416 0.01512416 0.01512416\n",
      " 0.00084282 0.00084282 0.00084282 0.02786356 0.02786356 0.02786356\n",
      " 0.01512416 0.01512416 0.01512416 0.00084282 0.00084282 0.00084282\n",
      " 0.02786356 0.02786356 0.02786356 0.01512416 0.01512416 0.01512416\n",
      " 0.00084282 0.00084282 0.00084282 0.02786356 0.02786356 0.02786356\n",
      " 0.01512416 0.01512416 0.01512416 0.00084282 0.00084282 0.00084282\n",
      " 0.02786356 0.02786356 0.02786356 0.01512416 0.01512416 0.01512416\n",
      " 0.00084282 0.00084282 0.00084282 0.02786356 0.02786356 0.02786356\n",
      " 0.01512416 0.01512416 0.01512416 0.00084282 0.00084282 0.00084282\n",
      " 0.02786356 0.02786356 0.02786356 0.01512416 0.01512416 0.01512416\n",
      " 0.00084282 0.00084282 0.00084282]\n"
     ]
    }
   ],
   "source": [
    "std_train_score = cvres['std_train_score']\n",
    "print(std_train_score)"
   ]
  },
  {
   "cell_type": "code",
   "execution_count": 306,
   "metadata": {
    "colab": {
     "base_uri": "https://localhost:8080/",
     "height": 35
    },
    "colab_type": "code",
    "executionInfo": {
     "elapsed": 613039,
     "status": "ok",
     "timestamp": 1571661850579,
     "user": {
      "displayName": "Kyung Min Lee",
      "photoUrl": "",
      "userId": "04331676426637755655"
     },
     "user_tz": -540
    },
    "id": "PFMFHYa6BtV3",
    "outputId": "1edf9706-f76f-4129-9fe8-76096785cf79"
   },
   "outputs": [
    {
     "name": "stdout",
     "output_type": "stream",
     "text": [
      "[0.00469437 0.00469437 0.00469437 0.06294379 0.06294379 0.06294379\n",
      " 0.08698775 0.08698775 0.08698775 0.00469437 0.00469437 0.00469437\n",
      " 0.06294379 0.06294379 0.06294379 0.08698775 0.08698775 0.08698775\n",
      " 0.00469437 0.00469437 0.00469437 0.06294379 0.06294379 0.06294379\n",
      " 0.08698775 0.08698775 0.08698775 0.00469437 0.00469437 0.00469437\n",
      " 0.06294379 0.06294379 0.06294379 0.08698775 0.08698775 0.08698775\n",
      " 0.00469437 0.00469437 0.00469437 0.06294379 0.06294379 0.06294379\n",
      " 0.08698775 0.08698775 0.08698775 0.00469437 0.00469437 0.00469437\n",
      " 0.06294379 0.06294379 0.06294379 0.08698775 0.08698775 0.08698775\n",
      " 0.00469437 0.00469437 0.00469437 0.06294379 0.06294379 0.06294379\n",
      " 0.08698775 0.08698775 0.08698775 0.00469437 0.00469437 0.00469437\n",
      " 0.06294379 0.06294379 0.06294379 0.08698775 0.08698775 0.08698775\n",
      " 0.00469437 0.00469437 0.00469437 0.06294379 0.06294379 0.06294379\n",
      " 0.08698775 0.08698775 0.08698775 0.00469437 0.00469437 0.00469437\n",
      " 0.06294379 0.06294379 0.06294379 0.08698775 0.08698775 0.08698775\n",
      " 0.00469437 0.00469437 0.00469437 0.06294379 0.06294379 0.06294379\n",
      " 0.08698775 0.08698775 0.08698775 0.00469437 0.00469437 0.00469437\n",
      " 0.06294379 0.06294379 0.06294379 0.08698775 0.08698775 0.08698775\n",
      " 0.00469437 0.00469437 0.00469437 0.06294379 0.06294379 0.06294379\n",
      " 0.08698775 0.08698775 0.08698775 0.00469437 0.00469437 0.00469437\n",
      " 0.06294379 0.06294379 0.06294379 0.08698775 0.08698775 0.08698775\n",
      " 0.00469437 0.00469437 0.00469437 0.06294379 0.06294379 0.06294379\n",
      " 0.08698775 0.08698775 0.08698775 0.00469437 0.00469437 0.00469437\n",
      " 0.06294379 0.06294379 0.06294379 0.08698775 0.08698775 0.08698775\n",
      " 0.00469437 0.00469437 0.00469437 0.06294379 0.06294379 0.06294379\n",
      " 0.08698775 0.08698775 0.08698775 0.00469437 0.00469437 0.00469437\n",
      " 0.06294379 0.06294379 0.06294379 0.08698775 0.08698775 0.08698775\n",
      " 0.00469437 0.00469437 0.00469437 0.06294379 0.06294379 0.06294379\n",
      " 0.08698775 0.08698775 0.08698775 0.00469437 0.00469437 0.00469437\n",
      " 0.06294379 0.06294379 0.06294379 0.08698775 0.08698775 0.08698775\n",
      " 0.00469437 0.00469437 0.00469437 0.06294379 0.06294379 0.06294379\n",
      " 0.08698775 0.08698775 0.08698775 0.00469437 0.00469437 0.00469437\n",
      " 0.06294379 0.06294379 0.06294379 0.08698775 0.08698775 0.08698775\n",
      " 0.00469437 0.00469437 0.00469437 0.06294379 0.06294379 0.06294379\n",
      " 0.08698775 0.08698775 0.08698775 0.00469437 0.00469437 0.00469437\n",
      " 0.06294379 0.06294379 0.06294379 0.08698775 0.08698775 0.08698775\n",
      " 0.00469437 0.00469437 0.00469437 0.06294379 0.06294379 0.06294379\n",
      " 0.08698775 0.08698775 0.08698775 0.00469437 0.00469437 0.00469437\n",
      " 0.06294379 0.06294379 0.06294379 0.08698775 0.08698775 0.08698775\n",
      " 0.00469437 0.00469437 0.00469437 0.06294379 0.06294379 0.06294379\n",
      " 0.08698775 0.08698775 0.08698775 0.00469437 0.00469437 0.00469437\n",
      " 0.06294379 0.06294379 0.06294379 0.08698775 0.08698775 0.08698775\n",
      " 0.00469437 0.00469437 0.00469437 0.06294379 0.06294379 0.06294379\n",
      " 0.08698775 0.08698775 0.08698775 0.00469437 0.00469437 0.00469437\n",
      " 0.06294379 0.06294379 0.06294379 0.08698775 0.08698775 0.08698775\n",
      " 0.00469437 0.00469437 0.00469437 0.06294379 0.06294379 0.06294379\n",
      " 0.08698775 0.08698775 0.08698775 0.00469437 0.00469437 0.00469437\n",
      " 0.06294379 0.06294379 0.06294379 0.08698775 0.08698775 0.08698775\n",
      " 0.00469437 0.00469437 0.00469437 0.06294379 0.06294379 0.06294379\n",
      " 0.08698775 0.08698775 0.08698775 0.00469437 0.00469437 0.00469437\n",
      " 0.06294379 0.06294379 0.06294379 0.08698775 0.08698775 0.08698775\n",
      " 0.00469437 0.00469437 0.00469437 0.06294379 0.06294379 0.06294379\n",
      " 0.08698775 0.08698775 0.08698775 0.00469437 0.00469437 0.00469437\n",
      " 0.06294379 0.06294379 0.06294379 0.08698775 0.08698775 0.08698775\n",
      " 0.00469437 0.00469437 0.00469437 0.06294379 0.06294379 0.06294379\n",
      " 0.08698775 0.08698775 0.08698775 0.00469437 0.00469437 0.00469437\n",
      " 0.06294379 0.06294379 0.06294379 0.08698775 0.08698775 0.08698775\n",
      " 0.00469437 0.00469437 0.00469437 0.06294379 0.06294379 0.06294379\n",
      " 0.08698775 0.08698775 0.08698775 0.00469437 0.00469437 0.00469437\n",
      " 0.06294379 0.06294379 0.06294379 0.08698775 0.08698775 0.08698775\n",
      " 0.00469437 0.00469437 0.00469437 0.06294379 0.06294379 0.06294379\n",
      " 0.08698775 0.08698775 0.08698775 0.00469437 0.00469437 0.00469437\n",
      " 0.06294379 0.06294379 0.06294379 0.08698775 0.08698775 0.08698775\n",
      " 0.00469437 0.00469437 0.00469437 0.06294379 0.06294379 0.06294379\n",
      " 0.08698775 0.08698775 0.08698775 0.00469437 0.00469437 0.00469437\n",
      " 0.06294379 0.06294379 0.06294379 0.08698775 0.08698775 0.08698775\n",
      " 0.00469437 0.00469437 0.00469437 0.06294379 0.06294379 0.06294379\n",
      " 0.08698775 0.08698775 0.08698775 0.00469437 0.00469437 0.00469437\n",
      " 0.06294379 0.06294379 0.06294379 0.08698775 0.08698775 0.08698775\n",
      " 0.00469437 0.00469437 0.00469437 0.06294379 0.06294379 0.06294379\n",
      " 0.08698775 0.08698775 0.08698775 0.00469437 0.00469437 0.00469437\n",
      " 0.06294379 0.06294379 0.06294379 0.08698775 0.08698775 0.08698775\n",
      " 0.00469437 0.00469437 0.00469437 0.06294379 0.06294379 0.06294379\n",
      " 0.08698775 0.08698775 0.08698775 0.00469437 0.00469437 0.00469437\n",
      " 0.06294379 0.06294379 0.06294379 0.08698775 0.08698775 0.08698775\n",
      " 0.00469437 0.00469437 0.00469437 0.06294379 0.06294379 0.06294379\n",
      " 0.08698775 0.08698775 0.08698775 0.00469437 0.00469437 0.00469437\n",
      " 0.06294379 0.06294379 0.06294379 0.08698775 0.08698775 0.08698775\n",
      " 0.00469437 0.00469437 0.00469437 0.06294379 0.06294379 0.06294379\n",
      " 0.08698775 0.08698775 0.08698775 0.00469437 0.00469437 0.00469437\n",
      " 0.06294379 0.06294379 0.06294379 0.08698775 0.08698775 0.08698775\n",
      " 0.00469437 0.00469437 0.00469437 0.06294379 0.06294379 0.06294379\n",
      " 0.08698775 0.08698775 0.08698775 0.00469437 0.00469437 0.00469437\n",
      " 0.06294379 0.06294379 0.06294379 0.08698775 0.08698775 0.08698775\n",
      " 0.00469437 0.00469437 0.00469437 0.06294379 0.06294379 0.06294379\n",
      " 0.08698775 0.08698775 0.08698775 0.00469437 0.00469437 0.00469437\n",
      " 0.06294379 0.06294379 0.06294379 0.08698775 0.08698775 0.08698775\n",
      " 0.00469437 0.00469437 0.00469437 0.06294379 0.06294379 0.06294379\n",
      " 0.08698775 0.08698775 0.08698775 0.00469437 0.00469437 0.00469437\n",
      " 0.06294379 0.06294379 0.06294379 0.08698775 0.08698775 0.08698775\n",
      " 0.00469437 0.00469437 0.00469437 0.06294379 0.06294379 0.06294379\n",
      " 0.08698775 0.08698775 0.08698775 0.00469437 0.00469437 0.00469437\n",
      " 0.06294379 0.06294379 0.06294379 0.08698775 0.08698775 0.08698775\n",
      " 0.00469437 0.00469437 0.00469437 0.06294379 0.06294379 0.06294379\n",
      " 0.08698775 0.08698775 0.08698775 0.00469437 0.00469437 0.00469437\n",
      " 0.06294379 0.06294379 0.06294379 0.08698775 0.08698775 0.08698775\n",
      " 0.00469437 0.00469437 0.00469437 0.06294379 0.06294379 0.06294379\n",
      " 0.08698775 0.08698775 0.08698775 0.00469437 0.00469437 0.00469437\n",
      " 0.06294379 0.06294379 0.06294379 0.08698775 0.08698775 0.08698775\n",
      " 0.00469437 0.00469437 0.00469437 0.06294379 0.06294379 0.06294379\n",
      " 0.08698775 0.08698775 0.08698775 0.00469437 0.00469437 0.00469437\n",
      " 0.06294379 0.06294379 0.06294379 0.08698775 0.08698775 0.08698775\n",
      " 0.00469437 0.00469437 0.00469437 0.06294379 0.06294379 0.06294379\n",
      " 0.08698775 0.08698775 0.08698775 0.00469437 0.00469437 0.00469437\n",
      " 0.06294379 0.06294379 0.06294379 0.08698775 0.08698775 0.08698775\n",
      " 0.00469437 0.00469437 0.00469437 0.06294379 0.06294379 0.06294379\n",
      " 0.08698775 0.08698775 0.08698775 0.00469437 0.00469437 0.00469437\n",
      " 0.06294379 0.06294379 0.06294379 0.08698775 0.08698775 0.08698775\n",
      " 0.00469437 0.00469437 0.00469437 0.06294379 0.06294379 0.06294379\n",
      " 0.08698775 0.08698775 0.08698775 0.00469437 0.00469437 0.00469437\n",
      " 0.06294379 0.06294379 0.06294379 0.08698775 0.08698775 0.08698775\n",
      " 0.00469437 0.00469437 0.00469437 0.06294379 0.06294379 0.06294379\n",
      " 0.08698775 0.08698775 0.08698775 0.00469437 0.00469437 0.00469437\n",
      " 0.06294379 0.06294379 0.06294379 0.08698775 0.08698775 0.08698775\n",
      " 0.00469437 0.00469437 0.00469437 0.06294379 0.06294379 0.06294379\n",
      " 0.08698775 0.08698775 0.08698775 0.00469437 0.00469437 0.00469437\n",
      " 0.06294379 0.06294379 0.06294379 0.08698775 0.08698775 0.08698775\n",
      " 0.00469437 0.00469437 0.00469437 0.06294379 0.06294379 0.06294379\n",
      " 0.08698775 0.08698775 0.08698775 0.00469437 0.00469437 0.00469437\n",
      " 0.06294379 0.06294379 0.06294379 0.08698775 0.08698775 0.08698775\n",
      " 0.00469437 0.00469437 0.00469437 0.06294379 0.06294379 0.06294379\n",
      " 0.08698775 0.08698775 0.08698775]\n"
     ]
    }
   ],
   "source": [
    "std_test_score = cvres['std_test_score']\n",
    "print(std_test_score)"
   ]
  },
  {
   "cell_type": "code",
   "execution_count": 307,
   "metadata": {
    "colab": {
     "base_uri": "https://localhost:8080/",
     "height": 35
    },
    "colab_type": "code",
    "executionInfo": {
     "elapsed": 615771,
     "status": "ok",
     "timestamp": 1571661853597,
     "user": {
      "displayName": "Kyung Min Lee",
      "photoUrl": "",
      "userId": "04331676426637755655"
     },
     "user_tz": -540
    },
    "id": "MEw6e5IhavEm",
    "outputId": "ba3d5c53-2f03-4c82-d9b6-7257168805a9"
   },
   "outputs": [
    {
     "name": "stderr",
     "output_type": "stream",
     "text": [
      "'ls'은(는) 내부 또는 외부 명령, 실행할 수 있는 프로그램, 또는\n",
      "배치 파일이 아닙니다.\n"
     ]
    }
   ],
   "source": [
    "!ls /content/gdrive/My\\ Drive/validation"
   ]
  },
  {
   "cell_type": "code",
   "execution_count": 308,
   "metadata": {
    "colab": {
     "base_uri": "https://localhost:8080/",
     "height": 1000
    },
    "colab_type": "code",
    "executionInfo": {
     "elapsed": 618995,
     "status": "ok",
     "timestamp": 1571661857177,
     "user": {
      "displayName": "Kyung Min Lee",
      "photoUrl": "",
      "userId": "04331676426637755655"
     },
     "user_tz": -540
    },
    "id": "HmFB_7RwS51C",
    "outputId": "6f091367-b9b9-4358-f76c-772023115f27"
   },
   "outputs": [
    {
     "ename": "FileNotFoundError",
     "evalue": "[Errno 2] No such file or directory: '/content/gdrive/My Drive/validation/cvscores/XGB/yield_stress/XGB_6V.txt'",
     "output_type": "error",
     "traceback": [
      "\u001b[1;31m---------------------------------------------------------------------------\u001b[0m",
      "\u001b[1;31mFileNotFoundError\u001b[0m                         Traceback (most recent call last)",
      "\u001b[1;32m<ipython-input-308-e31119b6f46b>\u001b[0m in \u001b[0;36m<module>\u001b[1;34m\u001b[0m\n\u001b[1;32m----> 1\u001b[1;33m \u001b[1;32mwith\u001b[0m \u001b[0mopen\u001b[0m\u001b[1;33m(\u001b[0m\u001b[1;34m'/content/gdrive/My Drive/validation/cvscores/XGB/yield_stress/XGB_6V.txt'\u001b[0m\u001b[1;33m,\u001b[0m \u001b[1;34m'w'\u001b[0m\u001b[1;33m)\u001b[0m \u001b[1;32mas\u001b[0m \u001b[0mf\u001b[0m\u001b[1;33m:\u001b[0m\u001b[1;33m\u001b[0m\u001b[1;33m\u001b[0m\u001b[0m\n\u001b[0m\u001b[0;32m      2\u001b[0m   \u001b[1;32mfor\u001b[0m \u001b[0mkey\u001b[0m \u001b[1;32min\u001b[0m \u001b[0mcvres\u001b[0m\u001b[1;33m.\u001b[0m\u001b[0mkeys\u001b[0m\u001b[1;33m(\u001b[0m\u001b[1;33m)\u001b[0m\u001b[1;33m:\u001b[0m\u001b[1;33m\u001b[0m\u001b[1;33m\u001b[0m\u001b[0m\n\u001b[0;32m      3\u001b[0m     \u001b[0mf\u001b[0m\u001b[1;33m.\u001b[0m\u001b[0mwrite\u001b[0m\u001b[1;33m(\u001b[0m\u001b[1;34m\"\\n\"\u001b[0m\u001b[1;33m)\u001b[0m\u001b[1;33m\u001b[0m\u001b[1;33m\u001b[0m\u001b[0m\n\u001b[0;32m      4\u001b[0m     \u001b[0mf\u001b[0m\u001b[1;33m.\u001b[0m\u001b[0mwrite\u001b[0m\u001b[1;33m(\u001b[0m\u001b[0mkey\u001b[0m\u001b[1;33m)\u001b[0m\u001b[1;33m\u001b[0m\u001b[1;33m\u001b[0m\u001b[0m\n\u001b[0;32m      5\u001b[0m     \u001b[0mf\u001b[0m\u001b[1;33m.\u001b[0m\u001b[0mwrite\u001b[0m\u001b[1;33m(\u001b[0m\u001b[1;34m\": \"\u001b[0m\u001b[1;33m)\u001b[0m\u001b[1;33m\u001b[0m\u001b[1;33m\u001b[0m\u001b[0m\n",
      "\u001b[1;31mFileNotFoundError\u001b[0m: [Errno 2] No such file or directory: '/content/gdrive/My Drive/validation/cvscores/XGB/yield_stress/XGB_6V.txt'"
     ]
    }
   ],
   "source": [
    "with open('/content/gdrive/My Drive/validation/cvscores/XGB/yield_stress/XGB_6V.txt', 'w') as f:\n",
    "  for key in cvres.keys():\n",
    "    f.write(\"\\n\")\n",
    "    f.write(key)\n",
    "    f.write(\": \")\n",
    "    f.write(np.str(cvres[key]))\n",
    "    f.write(\"\\n\")\n",
    "\n",
    "\n",
    "!cat /content/gdrive/My\\ Drive/validation/cvscores/XGB/yield_stress/XGB_6V.txt\n"
   ]
  },
  {
   "cell_type": "markdown",
   "metadata": {
    "colab_type": "text",
    "id": "nuu3gZJF2fol"
   },
   "source": [
    "Train data plotting\n",
    "---"
   ]
  },
  {
   "cell_type": "code",
   "execution_count": 6,
   "metadata": {
    "colab": {},
    "colab_type": "code",
    "id": "tw6q9a7N2fn7"
   },
   "outputs": [],
   "source": [
    "# Where to save the figures\n",
    "PROJECT_ROOT_DIR = \".\"\n",
    "CHAPTER_ID = \"BestHyperParameter/XGD_Regression/\"\n",
    "IMAGES_PATH = os.path.join(PROJECT_ROOT_DIR, \"images\", CHAPTER_ID)\n",
    "os.makedirs(IMAGES_PATH, exist_ok=True)"
   ]
  },
  {
   "cell_type": "code",
   "execution_count": 311,
   "metadata": {
    "colab": {
     "base_uri": "https://localhost:8080/",
     "height": 315
    },
    "colab_type": "code",
    "executionInfo": {
     "elapsed": 618988,
     "status": "ok",
     "timestamp": 1571661858211,
     "user": {
      "displayName": "Kyung Min Lee",
      "photoUrl": "",
      "userId": "04331676426637755655"
     },
     "user_tz": -540
    },
    "id": "QjhIV5N-2fom",
    "outputId": "ed8ae514-bd94-49b8-a7d7-02d3068c139c"
   },
   "outputs": [
    {
     "name": "stdout",
     "output_type": "stream",
     "text": [
      "Saving figure TrainPrediction_with_XGB_ParamFitted\n"
     ]
    },
    {
     "data": {
      "image/png": "[encoded data removed]",
      "text/plain": [
       "<Figure size 432x288 with 1 Axes>"
      ]
     },
     "metadata": {
      "needs_background": "light"
     },
     "output_type": "display_data"
    }
   ],
   "source": [
    "# Difference of train data\n",
    "xx = np.linspace(0,len(X_train),len(X_train))\n",
    "plt.figure\n",
    "plt.grid()\n",
    "ts_train_sort = np.sort(ts_train, axis=None)\n",
    "ts_xgb_train_predictions_sort= np.sort(ts_xgb_train_predictions, axis=None)\n",
    "plt.plot(xx,ts_train_sort,\"b-\", xx, ts_xgb_train_predictions_sort,\"r--\")\n",
    "plt.title(\"Train data vs Train Prediction(XGB) Param Fitted\")\n",
    "plt.xlabel(\"Order of data\")\n",
    "plt.ylabel(\"tension strength\")\n",
    "save_fig(\"TrainPrediction_with_XGB_ParamFitted\")"
   ]
  },
  {
   "cell_type": "code",
   "execution_count": 312,
   "metadata": {
    "colab": {
     "base_uri": "https://localhost:8080/",
     "height": 315
    },
    "colab_type": "code",
    "executionInfo": {
     "elapsed": 619819,
     "status": "ok",
     "timestamp": 1571661859393,
     "user": {
      "displayName": "Kyung Min Lee",
      "photoUrl": "",
      "userId": "04331676426637755655"
     },
     "user_tz": -540
    },
    "id": "whxs_TlZ2foo",
    "outputId": "3d634c47-813e-490c-8c96-d225ddde5f87"
   },
   "outputs": [
    {
     "name": "stdout",
     "output_type": "stream",
     "text": [
      "Saving figure Difference_between_Train_data_vs_Prediction_XGB_ParamFitted\n"
     ]
    },
    {
     "data": {
      "image/png": "[encoded data removed]",
      "text/plain": [
       "<Figure size 432x288 with 1 Axes>"
      ]
     },
     "metadata": {
      "needs_background": "light"
     },
     "output_type": "display_data"
    }
   ],
   "source": [
    "# Difference of train data\n",
    "difference = ts_train_sort - ts_xgb_train_predictions_sort\n",
    "\n",
    "xx = np.linspace(0,len(difference),len(difference))\n",
    "y = np.zeros((len(difference),1))\n",
    "#y.reshape(1,len(difference))\n",
    "plt.figure\n",
    "plt.grid()\n",
    "plt.plot(xx,y,\"b-\", xx, difference,\"r--\")\n",
    "plt.title(\"Difference between Train data vs Prediction(XGB) Param Fitted\")\n",
    "#plt.ylim(-30, 30)\n",
    "plt.xlabel(\"Order of data\")\n",
    "plt.ylabel(\"tension strength\")\n",
    "\n",
    "save_fig(\"Difference_between_Train_data_vs_Prediction_XGB_ParamFitted\")\n"
   ]
  },
  {
   "cell_type": "markdown",
   "metadata": {
    "colab_type": "text",
    "id": "5-AzYgau2for"
   },
   "source": [
    "Test data plotting\n",
    "---"
   ]
  },
  {
   "cell_type": "code",
   "execution_count": 313,
   "metadata": {
    "colab": {
     "base_uri": "https://localhost:8080/",
     "height": 315
    },
    "colab_type": "code",
    "executionInfo": {
     "elapsed": 619360,
     "status": "ok",
     "timestamp": 1571661859908,
     "user": {
      "displayName": "Kyung Min Lee",
      "photoUrl": "",
      "userId": "04331676426637755655"
     },
     "user_tz": -540
    },
    "id": "xHyNd01U2fos",
    "outputId": "c09047ac-e976-4d92-b84e-0fad1d9569d6"
   },
   "outputs": [
    {
     "name": "stdout",
     "output_type": "stream",
     "text": [
      "Saving figure TestPrediction_with_XGB_ParamFitted\n"
     ]
    },
    {
     "data": {
      "image/png": "[encoded data removed]",
      "text/plain": [
       "<Figure size 432x288 with 1 Axes>"
      ]
     },
     "metadata": {
      "needs_background": "light"
     },
     "output_type": "display_data"
    }
   ],
   "source": [
    "# Difference of train data\n",
    "xx = np.linspace(0,len(X_test),len(X_test))\n",
    "plt.figure\n",
    "plt.grid()\n",
    "ts_test_sort = np.sort(ts_test, axis=None)\n",
    "ts_xgb_test_predictions_sort= np.sort(ts_xgb_test_predictions, axis=None)\n",
    "plt.plot(xx,ts_test_sort,\"b-\", xx, ts_xgb_test_predictions_sort,\"r--\")\n",
    "plt.title(\"Test data vs Test Prediction(XGB) Param Fitted\")\n",
    "plt.xlabel(\"Order of data\")\n",
    "plt.ylabel(\"tension strength\")\n",
    "save_fig(\"TestPrediction_with_XGB_ParamFitted\")"
   ]
  },
  {
   "cell_type": "code",
   "execution_count": 314,
   "metadata": {
    "colab": {
     "base_uri": "https://localhost:8080/",
     "height": 315
    },
    "colab_type": "code",
    "executionInfo": {
     "elapsed": 619621,
     "status": "ok",
     "timestamp": 1571661860514,
     "user": {
      "displayName": "Kyung Min Lee",
      "photoUrl": "",
      "userId": "04331676426637755655"
     },
     "user_tz": -540
    },
    "id": "4d0Ja1Ij2fot",
    "outputId": "9a398d5d-10c1-4c59-cada-4294e380b919"
   },
   "outputs": [
    {
     "name": "stdout",
     "output_type": "stream",
     "text": [
      "Saving figure Difference_between_Test_data_vs_Prediction_XGB_ParamFitted\n"
     ]
    },
    {
     "data": {
      "image/png": "[encoded data removed]",
      "text/plain": [
       "<Figure size 432x288 with 1 Axes>"
      ]
     },
     "metadata": {
      "needs_background": "light"
     },
     "output_type": "display_data"
    }
   ],
   "source": [
    "# Difference of train data\n",
    "difference = ts_test_sort - ts_xgb_test_predictions_sort\n",
    "\n",
    "xx = np.linspace(0,len(difference),len(difference))\n",
    "y = np.zeros((len(difference),1))\n",
    "#y.reshape(1,len(difference))\n",
    "plt.figure\n",
    "plt.grid()\n",
    "plt.plot(xx,y,\"b-\", xx, difference,\"r--\")\n",
    "plt.title(\"Difference between Test data vs Prediction(XGB) Param Fitted\")\n",
    "#plt.ylim(-30, 30)\n",
    "plt.xlabel(\"Order of data\")\n",
    "plt.ylabel(\"tension strength\")\n",
    "\n",
    "save_fig(\"Difference_between_Test_data_vs_Prediction_XGB_ParamFitted\")\n"
   ]
  },
  {
   "cell_type": "markdown",
   "metadata": {
    "colab_type": "text",
    "id": "RgpBQnO0S51O"
   },
   "source": [
    "## Extracting files"
   ]
  },
  {
   "cell_type": "code",
   "execution_count": 54,
   "metadata": {
    "colab": {
     "base_uri": "https://localhost:8080/",
     "height": 89
    },
    "colab_type": "code",
    "executionInfo": {
     "elapsed": 622063,
     "status": "ok",
     "timestamp": 1571661863729,
     "user": {
      "displayName": "Kyung Min Lee",
      "photoUrl": "",
      "userId": "04331676426637755655"
     },
     "user_tz": -540
    },
    "id": "7O_CCNdHS51P",
    "outputId": "c0e506a0-85dd-46ef-df44-2ba6f8c49eb9"
   },
   "outputs": [
    {
     "name": "stdout",
     "output_type": "stream",
     "text": [
      "Difference_between_Test_data_vs_Prediction_6V_XGB_ParamFitted.png\n",
      "Difference_between_Train_data_vs_Prediction_6V_XGB_ParamFitted.png\n",
      "TestPrediction_with_6V_XGB_ParamFitted.png\n",
      "TrainPrediction_with_6V_XGB_ParamFitted.png\n"
     ]
    }
   ],
   "source": [
    "!ls images/BestHyperParameter/XGB_Regression/yield_stress_6V/\n"
   ]
  },
  {
   "cell_type": "code",
   "execution_count": 0,
   "metadata": {
    "colab": {},
    "colab_type": "code",
    "id": "dcQmmcJDS51Q"
   },
   "outputs": [],
   "source": [
    "from google.colab import files\n",
    "# Upload local files to Colab VM\n",
    "#uploaded = files.upload()\n",
    "# Download Colab VM fiels to local\n",
    "files.download('images/BestHyperParameter/XGB_Regression/yield_stress_6V/TrainPrediction_with_6V_XGB_ParamFitted.png')\n"
   ]
  },
  {
   "cell_type": "code",
   "execution_count": 0,
   "metadata": {
    "colab": {},
    "colab_type": "code",
    "id": "b37-5re1S51R"
   },
   "outputs": [],
   "source": [
    "files.download('images/BestHyperParameter/XGB_Regression/yield_stress_6V/TestPrediction_with_6V_XGB_ParamFitted.png')"
   ]
  },
  {
   "cell_type": "code",
   "execution_count": 0,
   "metadata": {
    "colab": {},
    "colab_type": "code",
    "id": "ui0eRU-fS51S"
   },
   "outputs": [],
   "source": [
    "files.download('images/BestHyperParameter/XGB_Regression/yield_stress_6V/Difference_between_Train_data_vs_Prediction_6V_XGB_ParamFitted.png')"
   ]
  },
  {
   "cell_type": "code",
   "execution_count": 0,
   "metadata": {
    "colab": {},
    "colab_type": "code",
    "id": "CtXvGdLPS51V"
   },
   "outputs": [],
   "source": [
    "files.download('images/BestHyperParameter/XGB_Regression/yield_stress_6V/Difference_between_Test_data_vs_Prediction_6V_XGB_ParamFitted.png')"
   ]
  },
  {
   "cell_type": "code",
   "execution_count": 0,
   "metadata": {
    "colab": {},
    "colab_type": "code",
    "id": "Z7dvjQtoS51W"
   },
   "outputs": [],
   "source": [
    "files.download('/content/gdrive/My Drive/validation/cvscores/XGB/yield_stress/XGB_6V.txt')"
   ]
  },
  {
   "cell_type": "code",
   "execution_count": 0,
   "metadata": {
    "colab": {},
    "colab_type": "code",
    "id": "MT0vpfebS51Y"
   },
   "outputs": [],
   "source": [
    "`"
   ]
  },
  {
   "cell_type": "code",
   "execution_count": 0,
   "metadata": {
    "colab": {},
    "colab_type": "code",
    "id": "AVM8SxwpS51Z"
   },
   "outputs": [],
   "source": []
  },
  {
   "cell_type": "markdown",
   "metadata": {
    "colab_type": "text",
    "id": "6tWmDZ582fov"
   },
   "source": [
    "## elongation"
   ]
  },
  {
   "cell_type": "markdown",
   "metadata": {
    "colab_type": "text",
    "id": "X5Fa6kIaS50h"
   },
   "source": [
    "> class xgboost.XGBRegressor(max_depth=3, learning_rate=0.1, n_estimators=100, verbosity=1, objective='reg:squarederror', booster='gbtree', tree_method='auto', n_jobs=1, gamma=0, min_child_weight=1, max_delta_step=0, subsample=1, colsample_bytree=1, colsample_bylevel=1, colsample_bynode=1, reg_alpha=0, reg_lambda=1, scale_pos_weight=1, base_score=0.5, random_state=0, missing=None, num_parallel_tree=1, importance_type='gain', **kwargs)"
   ]
  },
  {
   "cell_type": "code",
   "execution_count": 13,
   "metadata": {
    "colab": {
     "base_uri": "https://localhost:8080/",
     "height": 53
    },
    "colab_type": "code",
    "executionInfo": {
     "elapsed": 1284,
     "status": "ok",
     "timestamp": 1571661216430,
     "user": {
      "displayName": "Kyung Min Lee",
      "photoUrl": "",
      "userId": "04331676426637755655"
     },
     "user_tz": -540
    },
    "id": "ExwthNkl2fn8",
    "outputId": "ee302738-5cb8-4e8d-8e68-a575435528cc"
   },
   "outputs": [
    {
     "name": "stdout",
     "output_type": "stream",
     "text": [
      "[15:25:56] WARNING: C:/Jenkins/workspace/xgboost-win64_release_0.90/src/objective/regression_obj.cu:152: reg:linear is now deprecated in favor of reg:squarederror.\n"
     ]
    },
    {
     "data": {
      "text/plain": [
       "0.11547632384465144"
      ]
     },
     "execution_count": 13,
     "metadata": {},
     "output_type": "execute_result"
    }
   ],
   "source": [
    "# XGBRegressor\n",
    "from sklearn.metrics import mean_squared_error\n",
    "\n",
    "xgb_reg = xgb.XGBRegressor(random_state=42)\n",
    "xgb_reg.fit(X_train_std, el_train_std)\n",
    "el_predictions_xgb= xgb_reg.predict(X_train_std) * np.std(el_train) + np.mean(el_train)\n",
    "xgb_mse = mean_squared_error(el_train, el_predictions_xgb)\n",
    "xgb_rmse = np.sqrt(xgb_mse)\n",
    "xgb_rmse\n"
   ]
  },
  {
   "cell_type": "markdown",
   "metadata": {
    "colab_type": "text",
    "id": "G9z-SpS42fn-"
   },
   "source": [
    "Hyper Parameters Tuning: GridSearch CV function\n",
    "---"
   ]
  },
  {
   "cell_type": "markdown",
   "metadata": {
    "colab_type": "text",
    "id": "yCWcPqx52fn-"
   },
   "source": [
    "GridSearchCV implements a “fit” and a “score” method. It also implements “predict”, “predict_proba”, “decision_function”, “transform” and “inverse_transform” if they are implemented in the estimator used.\n",
    "\n",
    "The parameters of the estimator used to apply these methods are optimized by cross-validated grid-search over a parameter grid."
   ]
  },
  {
   "cell_type": "code",
   "execution_count": 315,
   "metadata": {},
   "outputs": [
    {
     "name": "stdout",
     "output_type": "stream",
     "text": [
      "[1e-10, 1e-05, 0.1, 10, 100000, 10000000000]\n"
     ]
    }
   ],
   "source": [
    "range_1 = [-10, -5, -1, 1, 5, 10]\n",
    "for i in range(len(range_1)):\n",
    "    range_1[i] = 10 ** range_1[i]\n",
    "    \n",
    "print(range_1)"
   ]
  },
  {
   "cell_type": "code",
   "execution_count": 316,
   "metadata": {},
   "outputs": [
    {
     "name": "stdout",
     "output_type": "stream",
     "text": [
      "[1e-10, 1e-07, 1e-05, 0.001, 0.1, 1]\n"
     ]
    }
   ],
   "source": [
    "range_2 = [-10, -7,-5, -3, -1, 0]\n",
    "for i in range(len(range_2)):\n",
    "    range_2[i] = 10 ** range_2[i]\n",
    "    \n",
    "print(range_2)"
   ]
  },
  {
   "cell_type": "code",
   "execution_count": 317,
   "metadata": {},
   "outputs": [
    {
     "name": "stdout",
     "output_type": "stream",
     "text": [
      "[1, 10, 1000, 100000]\n"
     ]
    }
   ],
   "source": [
    "range_3 = [0, 1, 3, 5]\n",
    "for i in range(len(range_3)):\n",
    "    range_3[i] = 10 ** range_3[i]\n",
    "    \n",
    "print(range_3)"
   ]
  },
  {
   "cell_type": "code",
   "execution_count": 14,
   "metadata": {},
   "outputs": [],
   "source": [
    "range_1 =  [1e-22]"
   ]
  },
  {
   "cell_type": "code",
   "execution_count": 15,
   "metadata": {},
   "outputs": [],
   "source": [
    "range_2 = [1e-20]"
   ]
  },
  {
   "cell_type": "code",
   "execution_count": 16,
   "metadata": {},
   "outputs": [],
   "source": [
    "range_3 = [2]"
   ]
  },
  {
   "cell_type": "code",
   "execution_count": 476,
   "metadata": {},
   "outputs": [],
   "source": [
    "range_4 = [0.3,0.5,0.7]"
   ]
  },
  {
   "cell_type": "code",
   "execution_count": 477,
   "metadata": {},
   "outputs": [],
   "source": [
    "range_5=[0.2,0.4,0.6,0.8,1]"
   ]
  },
  {
   "cell_type": "code",
   "execution_count": 17,
   "metadata": {},
   "outputs": [
    {
     "data": {
      "text/plain": [
       "GridSearchCV(cv=2, error_score='raise-deprecating',\n",
       "             estimator=XGBRegressor(base_score=0.5, booster='gbtree',\n",
       "                                    colsample_bylevel=1, colsample_bynode=1,\n",
       "                                    colsample_bytree=1, gamma=0,\n",
       "                                    importance_type='gain', learning_rate=0.1,\n",
       "                                    max_delta_step=0, max_depth=3,\n",
       "                                    min_child_weight=1, missing=None,\n",
       "                                    n_estimators=100, n_jobs=1, nthread=None,\n",
       "                                    objective='reg:linear', random_state=0,...\n",
       "                                    scale_pos_weight=1, seed=None, silent=None,\n",
       "                                    subsample=1, verbosity=1),\n",
       "             iid='warn', n_jobs=None,\n",
       "             param_grid=[{'alpha': [1e-22], 'booster': ['gbtree'],\n",
       "                          'eta': [1e-20], 'gamma': [1e-22], 'lambda': [1e-22],\n",
       "                          'max_depth': [2], 'min_child_weight': [1e-22],\n",
       "                          'objective': ['reg:squarederror']}],\n",
       "             pre_dispatch='2*n_jobs', refit=True, return_train_score=True,\n",
       "             scoring='neg_mean_squared_error', verbose=0)"
      ]
     },
     "execution_count": 17,
     "metadata": {},
     "output_type": "execute_result"
    }
   ],
   "source": [
    "from sklearn.model_selection import GridSearchCV\n",
    "\n",
    "param_grid = [\n",
    "# tree-base model    \n",
    " {'booster': ['gbtree'], 'lambda': range_1, 'eta': range_2, 'gamma': range_1 , \n",
    "  'min_child_weight': range_1, 'alpha': range_1, 'max_depth': range_3, 'objective': ['reg:squarederror'],\n",
    "  #'subsample': range_4, 'colsample_bytree': range_5\n",
    " }\n",
    "\n",
    "]\n",
    "    \n",
    "xgb_reg = xgb.XGBRegressor()\n",
    "\n",
    "grid_search = GridSearchCV(xgb_reg, param_grid, cv=2,\n",
    "                           scoring='neg_mean_squared_error',\n",
    "                           return_train_score=True)\n",
    "grid_search.fit(X_train_std, el_train_std)"
   ]
  },
  {
   "cell_type": "code",
   "execution_count": 18,
   "metadata": {
    "colab": {
     "base_uri": "https://localhost:8080/",
     "height": 161
    },
    "colab_type": "code",
    "executionInfo": {
     "elapsed": 619304,
     "status": "ok",
     "timestamp": 1571661846985,
     "user": {
      "displayName": "Kyung Min Lee",
      "photoUrl": "",
      "userId": "04331676426637755655"
     },
     "user_tz": -540
    },
    "id": "y26AX5d8S50r",
    "outputId": "ae15076e-a828-4bb2-aa3d-722eb76840f3"
   },
   "outputs": [
    {
     "data": {
      "text/plain": [
       "XGBRegressor(alpha=1e-22, base_score=0.5, booster='gbtree', colsample_bylevel=1,\n",
       "             colsample_bynode=1, colsample_bytree=1, eta=1e-20, gamma=1e-22,\n",
       "             importance_type='gain', lambda=1e-22, learning_rate=0.1,\n",
       "             max_delta_step=0, max_depth=2, min_child_weight=1e-22,\n",
       "             missing=None, n_estimators=100, n_jobs=1, nthread=None,\n",
       "             objective='reg:squarederror', random_state=0, reg_alpha=0,\n",
       "             reg_lambda=1, scale_pos_weight=1, seed=None, silent=None,\n",
       "             subsample=1, verbosity=1)"
      ]
     },
     "execution_count": 18,
     "metadata": {},
     "output_type": "execute_result"
    }
   ],
   "source": [
    "grid_search.best_estimator_"
   ]
  },
  {
   "cell_type": "code",
   "execution_count": 19,
   "metadata": {
    "colab": {
     "base_uri": "https://localhost:8080/",
     "height": 197
    },
    "colab_type": "code",
    "executionInfo": {
     "elapsed": 619041,
     "status": "ok",
     "timestamp": 1571661846986,
     "user": {
      "displayName": "Kyung Min Lee",
      "photoUrl": "",
      "userId": "04331676426637755655"
     },
     "user_tz": -540
    },
    "id": "_xa8O3ZX2foY",
    "outputId": "a43c84bf-c085-4d28-aa70-bb927bbb9463"
   },
   "outputs": [
    {
     "data": {
      "text/plain": [
       "{'alpha': 1e-22,\n",
       " 'booster': 'gbtree',\n",
       " 'eta': 1e-20,\n",
       " 'gamma': 1e-22,\n",
       " 'lambda': 1e-22,\n",
       " 'max_depth': 2,\n",
       " 'min_child_weight': 1e-22,\n",
       " 'objective': 'reg:squarederror'}"
      ]
     },
     "execution_count": 19,
     "metadata": {},
     "output_type": "execute_result"
    }
   ],
   "source": [
    "grid_search.best_params_"
   ]
  },
  {
   "cell_type": "code",
   "execution_count": 20,
   "metadata": {
    "colab": {
     "base_uri": "https://localhost:8080/",
     "height": 1000
    },
    "colab_type": "code",
    "executionInfo": {
     "elapsed": 621672,
     "status": "ok",
     "timestamp": 1571661849881,
     "user": {
      "displayName": "Kyung Min Lee",
      "photoUrl": "",
      "userId": "04331676426637755655"
     },
     "user_tz": -540
    },
    "id": "NSoz4_do2foa",
    "outputId": "d69dd44c-adb7-4f23-f4e5-15063faff8f6"
   },
   "outputs": [
    {
     "name": "stdout",
     "output_type": "stream",
     "text": [
      "0.5035732618831474 {'alpha': 1e-22, 'booster': 'gbtree', 'eta': 1e-20, 'gamma': 1e-22, 'lambda': 1e-22, 'max_depth': 2, 'min_child_weight': 1e-22, 'objective': 'reg:squarederror'}\n"
     ]
    }
   ],
   "source": [
    "cvres = grid_search.cv_results_\n",
    "for mean_score, params in zip(cvres[\"mean_test_score\"], cvres[\"params\"]):\n",
    "    print(np.sqrt(-mean_score), params)"
   ]
  },
  {
   "cell_type": "code",
   "execution_count": 21,
   "metadata": {
    "colab": {},
    "colab_type": "code",
    "id": "EBmgw-Y02fod"
   },
   "outputs": [],
   "source": [
    "el_xgb_final_model =  grid_search.best_estimator_"
   ]
  },
  {
   "cell_type": "code",
   "execution_count": 22,
   "metadata": {
    "colab": {
     "base_uri": "https://localhost:8080/",
     "height": 35
    },
    "colab_type": "code",
    "executionInfo": {
     "elapsed": 620016,
     "status": "ok",
     "timestamp": 1571661850574,
     "user": {
      "displayName": "Kyung Min Lee",
      "photoUrl": "",
      "userId": "04331676426637755655"
     },
     "user_tz": -540
    },
    "id": "0pvJw2UT2fok",
    "outputId": "2fdcaf8f-be15-43b5-c54c-fbdd480e49fb"
   },
   "outputs": [
    {
     "data": {
      "text/plain": [
       "0.20716800636580346"
      ]
     },
     "execution_count": 22,
     "metadata": {},
     "output_type": "execute_result"
    }
   ],
   "source": [
    "el_xgb_train_predictions = el_xgb_final_model.predict(X_train_std) * np.std(el_train) + np.mean(el_train)\n",
    "el_xgb_train_mse = mean_squared_error(el_train, el_xgb_train_predictions)\n",
    "el_xgb_train_rmse = np.sqrt(el_xgb_train_mse)\n",
    "el_xgb_train_rmse"
   ]
  },
  {
   "cell_type": "code",
   "execution_count": 23,
   "metadata": {},
   "outputs": [
    {
     "name": "stdout",
     "output_type": "stream",
     "text": [
      "el_xgb_train_err:  [12.75358598] %\n"
     ]
    }
   ],
   "source": [
    "el_train_sum = np.zeros(1)\n",
    "\n",
    "for i in range(1, len(el_train)):\n",
    "    el_train_sum +=  el_train[i]\n",
    "    \n",
    "el_train_avg = el_train_sum / len(el_train)\n",
    "el_xgb_train_err = el_xgb_train_rmse / el_train_avg * 100\n",
    "print(\"el_xgb_train_err: \", el_xgb_train_err, '%')"
   ]
  },
  {
   "cell_type": "code",
   "execution_count": 24,
   "metadata": {
    "colab": {
     "base_uri": "https://localhost:8080/",
     "height": 35
    },
    "colab_type": "code",
    "executionInfo": {
     "elapsed": 618937,
     "status": "ok",
     "timestamp": 1571661850575,
     "user": {
      "displayName": "Kyung Min Lee",
      "photoUrl": "",
      "userId": "04331676426637755655"
     },
     "user_tz": -540
    },
    "id": "Kc4B6Liq2foh",
    "outputId": "5d73dc08-dd5c-4088-d416-91a89c1721fc"
   },
   "outputs": [
    {
     "data": {
      "text/plain": [
       "0.3476328620739586"
      ]
     },
     "execution_count": 24,
     "metadata": {},
     "output_type": "execute_result"
    }
   ],
   "source": [
    "el_xgb_test_predictions = el_xgb_final_model.predict(X_test_std) * np.std(el_test) + np.mean(el_test)\n",
    "el_xgb_test_mse = mean_squared_error(el_test,el_xgb_test_predictions)\n",
    "el_xgb_test_rmse = np.sqrt(el_xgb_test_mse)\n",
    "el_xgb_test_rmse"
   ]
  },
  {
   "cell_type": "code",
   "execution_count": 25,
   "metadata": {},
   "outputs": [
    {
     "name": "stdout",
     "output_type": "stream",
     "text": [
      "el_xgb_test_err:  [20.89279305] %\n"
     ]
    }
   ],
   "source": [
    "el_test_sum = np.zeros(1)\n",
    "\n",
    "for i in range(1, len(el_test)):\n",
    "    el_test_sum +=  el_test[i]\n",
    "    \n",
    "el_test_avg = el_test_sum / len(el_test)\n",
    "el_xgb_test_err = el_xgb_test_rmse / el_test_avg * 100\n",
    "print(\"el_xgb_test_err: \", el_xgb_test_err, '%')"
   ]
  },
  {
   "cell_type": "markdown",
   "metadata": {
    "colab_type": "text",
    "id": "YzQRWTSErZs-"
   },
   "source": [
    "### Feature importances"
   ]
  },
  {
   "cell_type": "code",
   "execution_count": 452,
   "metadata": {
    "colab": {
     "base_uri": "https://localhost:8080/",
     "height": 35
    },
    "colab_type": "code",
    "executionInfo": {
     "elapsed": 615933,
     "status": "ok",
     "timestamp": 1571661850576,
     "user": {
      "displayName": "Kyung Min Lee",
      "photoUrl": "",
      "userId": "04331676426637755655"
     },
     "user_tz": -540
    },
    "id": "cpqA1uMvrZ3n",
    "outputId": "cedbbcc3-8cf1-40ff-8615-0a94c4125483"
   },
   "outputs": [
    {
     "data": {
      "text/plain": [
       "(4,)"
      ]
     },
     "execution_count": 452,
     "metadata": {},
     "output_type": "execute_result"
    }
   ],
   "source": [
    "feature_importances = el_xgb_final_model.feature_importances_\n",
    "feature_importances.shape"
   ]
  },
  {
   "cell_type": "code",
   "execution_count": 487,
   "metadata": {
    "colab": {
     "base_uri": "https://localhost:8080/",
     "height": 143
    },
    "colab_type": "code",
    "executionInfo": {
     "elapsed": 615096,
     "status": "ok",
     "timestamp": 1571661850577,
     "user": {
      "displayName": "Kyung Min Lee",
      "photoUrl": "",
      "userId": "04331676426637755655"
     },
     "user_tz": -540
    },
    "id": "qXtajhXTrqmu",
    "outputId": "c5a54407-fc68-4e66-8d53-9394f3d8c4cc"
   },
   "outputs": [
    {
     "name": "stdout",
     "output_type": "stream",
     "text": [
      "Feature importances\n",
      "layer_height 0.31074816\n",
      "infill_density 0.13892731\n",
      "wall-_thickness 0.14847589\n",
      "nozzle_temperature 0.40184864\n"
     ]
    }
   ],
   "source": [
    "print(\"Feature importances\")\n",
    "print(\"layer_height\", feature_importances[0])\n",
    "print(\"infill_density\", feature_importances[1])\n",
    "print(\"wall-_thickness\", feature_importances[2])\n",
    "print(\"nozzle_temperature\", feature_importances[3])\n"
   ]
  },
  {
   "cell_type": "markdown",
   "metadata": {
    "colab_type": "text",
    "id": "vCAAeQRNBtAi"
   },
   "source": [
    "## Central Limit Theorem"
   ]
  },
  {
   "cell_type": "code",
   "execution_count": 371,
   "metadata": {
    "colab": {
     "base_uri": "https://localhost:8080/",
     "height": 53
    },
    "colab_type": "code",
    "executionInfo": {
     "elapsed": 614148,
     "status": "ok",
     "timestamp": 1571661850577,
     "user": {
      "displayName": "Kyung Min Lee",
      "photoUrl": "",
      "userId": "04331676426637755655"
     },
     "user_tz": -540
    },
    "id": "zdoNRjOjS505",
    "outputId": "d5153db1-0566-41ec-aa5c-8e3392cb3140"
   },
   "outputs": [
    {
     "name": "stdout",
     "output_type": "stream",
     "text": [
      "(9,)\n",
      "Combinations\n"
     ]
    }
   ],
   "source": [
    "print(cvres['mean_train_score'].shape)\n",
    "print('Combinations')"
   ]
  },
  {
   "cell_type": "code",
   "execution_count": 372,
   "metadata": {
    "colab": {
     "base_uri": "https://localhost:8080/",
     "height": 53
    },
    "colab_type": "code",
    "executionInfo": {
     "elapsed": 613817,
     "status": "ok",
     "timestamp": 1571661850577,
     "user": {
      "displayName": "Kyung Min Lee",
      "photoUrl": "",
      "userId": "04331676426637755655"
     },
     "user_tz": -540
    },
    "id": "TkhRQuiBBtRQ",
    "outputId": "6bff36c8-ee3b-44b5-87c7-1f9d285e62a1"
   },
   "outputs": [
    {
     "name": "stdout",
     "output_type": "stream",
     "text": [
      "[-0.07827388 -0.04770746 -0.0339404  -0.02939518 -0.02589092 -0.02351809\n",
      " -0.02544663 -0.02537704 -0.03018177]\n"
     ]
    }
   ],
   "source": [
    "mean_train_score = cvres['mean_train_score']\n",
    "print(mean_train_score)"
   ]
  },
  {
   "cell_type": "code",
   "execution_count": 373,
   "metadata": {
    "colab": {
     "base_uri": "https://localhost:8080/",
     "height": 53
    },
    "colab_type": "code",
    "executionInfo": {
     "elapsed": 613558,
     "status": "ok",
     "timestamp": 1571661850578,
     "user": {
      "displayName": "Kyung Min Lee",
      "photoUrl": "",
      "userId": "04331676426637755655"
     },
     "user_tz": -540
    },
    "id": "Al1QpWI0BtbV",
    "outputId": "ed0af335-63bc-45b0-bd55-d8ae33ab98fa"
   },
   "outputs": [
    {
     "name": "stdout",
     "output_type": "stream",
     "text": [
      "[-0.24743091 -0.22167849 -0.21461997 -0.17889419 -0.18588576 -0.21843891\n",
      " -0.23243802 -0.22673933 -0.21263254]\n"
     ]
    }
   ],
   "source": [
    "mean_test_score = cvres['mean_test_score']\n",
    "print(mean_test_score)"
   ]
  },
  {
   "cell_type": "code",
   "execution_count": 374,
   "metadata": {
    "colab": {
     "base_uri": "https://localhost:8080/",
     "height": 53
    },
    "colab_type": "code",
    "executionInfo": {
     "elapsed": 613305,
     "status": "ok",
     "timestamp": 1571661850578,
     "user": {
      "displayName": "Kyung Min Lee",
      "photoUrl": "",
      "userId": "04331676426637755655"
     },
     "user_tz": -540
    },
    "id": "yhJvqaqBBtZg",
    "outputId": "a1f62fba-5224-4e4e-d232-fab275b59838"
   },
   "outputs": [
    {
     "name": "stdout",
     "output_type": "stream",
     "text": [
      "[0.00697956 0.01069744 0.00985674 0.00986034 0.00952568 0.01120663\n",
      " 0.01295644 0.01211844 0.01512416]\n"
     ]
    }
   ],
   "source": [
    "std_train_score = cvres['std_train_score']\n",
    "print(std_train_score)"
   ]
  },
  {
   "cell_type": "code",
   "execution_count": 375,
   "metadata": {
    "colab": {
     "base_uri": "https://localhost:8080/",
     "height": 35
    },
    "colab_type": "code",
    "executionInfo": {
     "elapsed": 613039,
     "status": "ok",
     "timestamp": 1571661850579,
     "user": {
      "displayName": "Kyung Min Lee",
      "photoUrl": "",
      "userId": "04331676426637755655"
     },
     "user_tz": -540
    },
    "id": "PFMFHYa6BtV3",
    "outputId": "1edf9706-f76f-4129-9fe8-76096785cf79"
   },
   "outputs": [
    {
     "name": "stdout",
     "output_type": "stream",
     "text": [
      "[0.07776607 0.05074068 0.05212535 0.06991597 0.05889923 0.09362901\n",
      " 0.0793289  0.08294794 0.06294379]\n"
     ]
    }
   ],
   "source": [
    "std_test_score = cvres['std_test_score']\n",
    "print(std_test_score)"
   ]
  },
  {
   "cell_type": "code",
   "execution_count": 376,
   "metadata": {
    "colab": {
     "base_uri": "https://localhost:8080/",
     "height": 35
    },
    "colab_type": "code",
    "executionInfo": {
     "elapsed": 615771,
     "status": "ok",
     "timestamp": 1571661853597,
     "user": {
      "displayName": "Kyung Min Lee",
      "photoUrl": "",
      "userId": "04331676426637755655"
     },
     "user_tz": -540
    },
    "id": "MEw6e5IhavEm",
    "outputId": "ba3d5c53-2f03-4c82-d9b6-7257168805a9"
   },
   "outputs": [
    {
     "name": "stderr",
     "output_type": "stream",
     "text": [
      "'ls'은(는) 내부 또는 외부 명령, 실행할 수 있는 프로그램, 또는\n",
      "배치 파일이 아닙니다.\n"
     ]
    }
   ],
   "source": [
    "!ls /content/gdrive/My\\ Drive/validation"
   ]
  },
  {
   "cell_type": "code",
   "execution_count": 377,
   "metadata": {
    "colab": {
     "base_uri": "https://localhost:8080/",
     "height": 1000
    },
    "colab_type": "code",
    "executionInfo": {
     "elapsed": 618995,
     "status": "ok",
     "timestamp": 1571661857177,
     "user": {
      "displayName": "Kyung Min Lee",
      "photoUrl": "",
      "userId": "04331676426637755655"
     },
     "user_tz": -540
    },
    "id": "HmFB_7RwS51C",
    "outputId": "6f091367-b9b9-4358-f76c-772023115f27"
   },
   "outputs": [
    {
     "ename": "FileNotFoundError",
     "evalue": "[Errno 2] No such file or directory: '/content/gdrive/My Drive/validation/cvscores/XGB/yield_stress/XGB_6V.txt'",
     "output_type": "error",
     "traceback": [
      "\u001b[1;31m---------------------------------------------------------------------------\u001b[0m",
      "\u001b[1;31mFileNotFoundError\u001b[0m                         Traceback (most recent call last)",
      "\u001b[1;32m<ipython-input-377-e31119b6f46b>\u001b[0m in \u001b[0;36m<module>\u001b[1;34m\u001b[0m\n\u001b[1;32m----> 1\u001b[1;33m \u001b[1;32mwith\u001b[0m \u001b[0mopen\u001b[0m\u001b[1;33m(\u001b[0m\u001b[1;34m'/content/gdrive/My Drive/validation/cvscores/XGB/yield_stress/XGB_6V.txt'\u001b[0m\u001b[1;33m,\u001b[0m \u001b[1;34m'w'\u001b[0m\u001b[1;33m)\u001b[0m \u001b[1;32mas\u001b[0m \u001b[0mf\u001b[0m\u001b[1;33m:\u001b[0m\u001b[1;33m\u001b[0m\u001b[1;33m\u001b[0m\u001b[0m\n\u001b[0m\u001b[0;32m      2\u001b[0m   \u001b[1;32mfor\u001b[0m \u001b[0mkey\u001b[0m \u001b[1;32min\u001b[0m \u001b[0mcvres\u001b[0m\u001b[1;33m.\u001b[0m\u001b[0mkeys\u001b[0m\u001b[1;33m(\u001b[0m\u001b[1;33m)\u001b[0m\u001b[1;33m:\u001b[0m\u001b[1;33m\u001b[0m\u001b[1;33m\u001b[0m\u001b[0m\n\u001b[0;32m      3\u001b[0m     \u001b[0mf\u001b[0m\u001b[1;33m.\u001b[0m\u001b[0mwrite\u001b[0m\u001b[1;33m(\u001b[0m\u001b[1;34m\"\\n\"\u001b[0m\u001b[1;33m)\u001b[0m\u001b[1;33m\u001b[0m\u001b[1;33m\u001b[0m\u001b[0m\n\u001b[0;32m      4\u001b[0m     \u001b[0mf\u001b[0m\u001b[1;33m.\u001b[0m\u001b[0mwrite\u001b[0m\u001b[1;33m(\u001b[0m\u001b[0mkey\u001b[0m\u001b[1;33m)\u001b[0m\u001b[1;33m\u001b[0m\u001b[1;33m\u001b[0m\u001b[0m\n\u001b[0;32m      5\u001b[0m     \u001b[0mf\u001b[0m\u001b[1;33m.\u001b[0m\u001b[0mwrite\u001b[0m\u001b[1;33m(\u001b[0m\u001b[1;34m\": \"\u001b[0m\u001b[1;33m)\u001b[0m\u001b[1;33m\u001b[0m\u001b[1;33m\u001b[0m\u001b[0m\n",
      "\u001b[1;31mFileNotFoundError\u001b[0m: [Errno 2] No such file or directory: '/content/gdrive/My Drive/validation/cvscores/XGB/yield_stress/XGB_6V.txt'"
     ]
    }
   ],
   "source": [
    "with open('/content/gdrive/My Drive/validation/cvscores/XGB/yield_stress/XGB_6V.txt', 'w') as f:\n",
    "  for key in cvres.keys():\n",
    "    f.write(\"\\n\")\n",
    "    f.write(key)\n",
    "    f.write(\": \")\n",
    "    f.write(np.str(cvres[key]))\n",
    "    f.write(\"\\n\")\n",
    "\n",
    "\n",
    "!cat /content/gdrive/My\\ Drive/validation/cvscores/XGB/yield_stress/XGB_6V.txt\n"
   ]
  },
  {
   "cell_type": "markdown",
   "metadata": {
    "colab_type": "text",
    "id": "nuu3gZJF2fol"
   },
   "source": [
    "Train data plotting\n",
    "---"
   ]
  },
  {
   "cell_type": "code",
   "execution_count": 33,
   "metadata": {
    "colab": {},
    "colab_type": "code",
    "id": "tw6q9a7N2fn7"
   },
   "outputs": [],
   "source": [
    "# Where to save the figures\n",
    "PROJECT_ROOT_DIR = \".\"\n",
    "CHAPTER_ID = \"BestHyperParameter/XGD_Regression/elongation\"\n",
    "IMAGES_PATH = os.path.join(PROJECT_ROOT_DIR, \"images\", CHAPTER_ID)\n",
    "os.makedirs(IMAGES_PATH, exist_ok=True)"
   ]
  },
  {
   "cell_type": "code",
   "execution_count": 379,
   "metadata": {
    "colab": {
     "base_uri": "https://localhost:8080/",
     "height": 315
    },
    "colab_type": "code",
    "executionInfo": {
     "elapsed": 618988,
     "status": "ok",
     "timestamp": 1571661858211,
     "user": {
      "displayName": "Kyung Min Lee",
      "photoUrl": "",
      "userId": "04331676426637755655"
     },
     "user_tz": -540
    },
    "id": "QjhIV5N-2fom",
    "outputId": "ed8ae514-bd94-49b8-a7d7-02d3068c139c"
   },
   "outputs": [
    {
     "name": "stdout",
     "output_type": "stream",
     "text": [
      "Saving figure TrainPrediction_with_XGB_ParamFitted\n"
     ]
    },
    {
     "data": {
      "image/png": "[encoded data removed]",
      "text/plain": [
       "<Figure size 432x288 with 1 Axes>"
      ]
     },
     "metadata": {
      "needs_background": "light"
     },
     "output_type": "display_data"
    }
   ],
   "source": [
    "# Difference of train data\n",
    "xx = np.linspace(0,len(X_train),len(X_train))\n",
    "plt.figure\n",
    "plt.grid()\n",
    "el_train_sort = np.sort(el_train, axis=None)\n",
    "el_xgb_train_predictions_sort= np.sort(el_xgb_train_predictions, axis=None)\n",
    "plt.plot(xx,el_train_sort,\"b-\", xx, el_xgb_train_predictions_sort,\"r--\")\n",
    "plt.title(\"Train data vs Train Prediction(XGB) Param Fitted\")\n",
    "plt.xlabel(\"Order of data\")\n",
    "plt.ylabel(\"elongation\")\n",
    "save_fig(\"TrainPrediction_with_XGB_ParamFitted\")"
   ]
  },
  {
   "cell_type": "code",
   "execution_count": 380,
   "metadata": {
    "colab": {
     "base_uri": "https://localhost:8080/",
     "height": 315
    },
    "colab_type": "code",
    "executionInfo": {
     "elapsed": 619819,
     "status": "ok",
     "timestamp": 1571661859393,
     "user": {
      "displayName": "Kyung Min Lee",
      "photoUrl": "",
      "userId": "04331676426637755655"
     },
     "user_tz": -540
    },
    "id": "whxs_TlZ2foo",
    "outputId": "3d634c47-813e-490c-8c96-d225ddde5f87"
   },
   "outputs": [
    {
     "name": "stdout",
     "output_type": "stream",
     "text": [
      "Saving figure Difference_between_Train_data_vs_Prediction_XGB_ParamFitted\n"
     ]
    },
    {
     "data": {
      "image/png": "[encoded data removed]",
      "text/plain": [
       "<Figure size 432x288 with 1 Axes>"
      ]
     },
     "metadata": {
      "needs_background": "light"
     },
     "output_type": "display_data"
    }
   ],
   "source": [
    "# Difference of train data\n",
    "difference = el_train_sort - el_xgb_train_predictions_sort\n",
    "\n",
    "xx = np.linspace(0,len(difference),len(difference))\n",
    "y = np.zeros((len(difference),1))\n",
    "#y.reshape(1,len(difference))\n",
    "plt.figure\n",
    "plt.grid()\n",
    "plt.plot(xx,y,\"b-\", xx, difference,\"r--\")\n",
    "plt.title(\"Difference between Train data vs Prediction(XGB) Param Fitted\")\n",
    "#plt.ylim(-30, 30)\n",
    "plt.xlabel(\"Order of data\")\n",
    "plt.ylabel(\"elongation\")\n",
    "\n",
    "save_fig(\"Difference_between_Train_data_vs_Prediction_XGB_ParamFitted\")\n"
   ]
  },
  {
   "cell_type": "markdown",
   "metadata": {
    "colab_type": "text",
    "id": "5-AzYgau2for"
   },
   "source": [
    "Test data plotting\n",
    "---"
   ]
  },
  {
   "cell_type": "code",
   "execution_count": 381,
   "metadata": {
    "colab": {
     "base_uri": "https://localhost:8080/",
     "height": 315
    },
    "colab_type": "code",
    "executionInfo": {
     "elapsed": 619360,
     "status": "ok",
     "timestamp": 1571661859908,
     "user": {
      "displayName": "Kyung Min Lee",
      "photoUrl": "",
      "userId": "04331676426637755655"
     },
     "user_tz": -540
    },
    "id": "xHyNd01U2fos",
    "outputId": "c09047ac-e976-4d92-b84e-0fad1d9569d6"
   },
   "outputs": [
    {
     "name": "stdout",
     "output_type": "stream",
     "text": [
      "Saving figure TestPrediction_with_XGB_ParamFitted\n"
     ]
    },
    {
     "data": {
      "image/png": "[encoded data removed]",
      "text/plain": [
       "<Figure size 432x288 with 1 Axes>"
      ]
     },
     "metadata": {
      "needs_background": "light"
     },
     "output_type": "display_data"
    }
   ],
   "source": [
    "# Difference of train data\n",
    "xx = np.linspace(0,len(X_test),len(X_test))\n",
    "plt.figure\n",
    "plt.grid()\n",
    "el_test_sort = np.sort(el_test, axis=None)\n",
    "el_xgb_test_predictions_sort= np.sort(el_xgb_test_predictions, axis=None)\n",
    "plt.plot(xx,el_test_sort,\"b-\", xx, el_xgb_test_predictions_sort,\"r--\")\n",
    "plt.title(\"Test data vs Test Prediction(XGB) Param Fitted\")\n",
    "plt.xlabel(\"Order of data\")\n",
    "plt.ylabel(\"elongation\")\n",
    "save_fig(\"TestPrediction_with_XGB_ParamFitted\")"
   ]
  },
  {
   "cell_type": "code",
   "execution_count": 382,
   "metadata": {
    "colab": {
     "base_uri": "https://localhost:8080/",
     "height": 315
    },
    "colab_type": "code",
    "executionInfo": {
     "elapsed": 619621,
     "status": "ok",
     "timestamp": 1571661860514,
     "user": {
      "displayName": "Kyung Min Lee",
      "photoUrl": "",
      "userId": "04331676426637755655"
     },
     "user_tz": -540
    },
    "id": "4d0Ja1Ij2fot",
    "outputId": "9a398d5d-10c1-4c59-cada-4294e380b919"
   },
   "outputs": [
    {
     "name": "stdout",
     "output_type": "stream",
     "text": [
      "Saving figure Difference_between_Test_data_vs_Prediction_XGB_ParamFitted\n"
     ]
    },
    {
     "data": {
      "image/png": "[encoded data removed]",
      "text/plain": [
       "<Figure size 432x288 with 1 Axes>"
      ]
     },
     "metadata": {
      "needs_background": "light"
     },
     "output_type": "display_data"
    }
   ],
   "source": [
    "# Difference of train data\n",
    "difference = el_test_sort - el_xgb_test_predictions_sort\n",
    "\n",
    "xx = np.linspace(0,len(difference),len(difference))\n",
    "y = np.zeros((len(difference),1))\n",
    "#y.reshape(1,len(difference))\n",
    "plt.figure\n",
    "plt.grid()\n",
    "plt.plot(xx,y,\"b-\", xx, difference,\"r--\")\n",
    "plt.title(\"Difference between Test data vs Prediction(XGB) Param Fitted\")\n",
    "#plt.ylim(-30, 30)\n",
    "plt.xlabel(\"Order of data\")\n",
    "plt.ylabel(\"elongation\")\n",
    "\n",
    "save_fig(\"Difference_between_Test_data_vs_Prediction_XGB_ParamFitted\")\n"
   ]
  },
  {
   "cell_type": "code",
   "execution_count": 0,
   "metadata": {
    "colab": {},
    "colab_type": "code",
    "id": "dakALu072fow"
   },
   "outputs": [],
   "source": []
  },
  {
   "cell_type": "markdown",
   "metadata": {
    "colab": {},
    "colab_type": "code",
    "id": "3DeYrEB42foy"
   },
   "source": [
    "## Model Comparison"
   ]
  },
  {
   "cell_type": "code",
   "execution_count": 4,
   "metadata": {
    "colab": {},
    "colab_type": "code",
    "id": "AbGltMqD2foz"
   },
   "outputs": [],
   "source": [
    "sgd_ts = 29.033\n",
    "sgd_el =28.812\n",
    "\n",
    "svm_ts = 13.997\n",
    "svm_el = 15.535\n",
    "\n",
    "mlp_ts = 29.368\n",
    "mlp_el = 29.084\n",
    "\n",
    "rf_ts = 4.836\n",
    "rf_el = 9.974\n",
    "\n",
    "gb_ts = 7.82\n",
    "gb_el =15.192\n",
    "\n",
    "xgb_ts = 3.356\n",
    "xgb_el =15.945\n",
    "\n",
    "ts_result = [sgd_ts, svm_ts, mlp_ts, rf_ts, gb_ts, xgb_ts]\n",
    "el_result = [sgd_el, svm_el, mlp_el, rf_el, gb_el, xgb_el]\n",
    "results = [sgd_ts,sgd_el, svm_ts, svm_el, mlp_ts, mlp_el, rf_ts, rf_el, gb_ts, gb_el, xgb_ts,xgb_el]"
   ]
  },
  {
   "cell_type": "code",
   "execution_count": 7,
   "metadata": {
    "colab": {},
    "colab_type": "code",
    "id": "wRen3tW02fo1"
   },
   "outputs": [
    {
     "name": "stdout",
     "output_type": "stream",
     "text": [
      "Saving figure Comparison between Models\n"
     ]
    },
    {
     "data": {
      "image/png": "[encoded data removed]",
      "text/plain": [
       "<Figure size 432x288 with 1 Axes>"
      ]
     },
     "metadata": {
      "needs_background": "light"
     },
     "output_type": "display_data"
    }
   ],
   "source": [
    "x = ['SGD', 'rbfSVM', 'MLP', 'RF', 'GB', 'XGB']\n",
    "\n",
    "W_ = 0.3\n",
    "\n",
    "plt.figure\n",
    "plt.bar(x,ts_result, width=0.2)# x, el_result,'g')\n",
    "plt.bar([i+W_ for i in range(len(el_result))],el_result, width=0.2)\n",
    "plt.grid()\n",
    "plt.ylim(0,100)\n",
    "plt.xlabel('Models')\n",
    "plt.ylabel('Error rate [%]')\n",
    "plt.title('Comparison between Models')\n",
    "\n",
    "\n",
    "save_fig('Comparison between Models')"
   ]
  },
  {
   "cell_type": "code",
   "execution_count": 0,
   "metadata": {
    "colab": {},
    "colab_type": "code",
    "id": "Qb1JH13W2fo2"
   },
   "outputs": [],
   "source": [
    "()"
   ]
  },
  {
   "cell_type": "code",
   "execution_count": 0,
   "metadata": {
    "colab": {},
    "colab_type": "code",
    "id": "Oh84ODp12fo3"
   },
   "outputs": [],
   "source": []
  },
  {
   "cell_type": "code",
   "execution_count": 0,
   "metadata": {
    "colab": {},
    "colab_type": "code",
    "id": "CJZDJDJA2fo4"
   },
   "outputs": [],
   "source": []
  },
  {
   "cell_type": "code",
   "execution_count": 0,
   "metadata": {
    "colab": {},
    "colab_type": "code",
    "id": "h4H2dfBX2fo5"
   },
   "outputs": [],
   "source": []
  },
  {
   "cell_type": "code",
   "execution_count": 0,
   "metadata": {
    "colab": {},
    "colab_type": "code",
    "id": "RMzEBX9F2fo6"
   },
   "outputs": [],
   "source": []
  },
  {
   "cell_type": "code",
   "execution_count": 0,
   "metadata": {
    "colab": {},
    "colab_type": "code",
    "id": "-tXWvOsH2fo-"
   },
   "outputs": [],
   "source": []
  },
  {
   "cell_type": "code",
   "execution_count": 0,
   "metadata": {
    "colab": {},
    "colab_type": "code",
    "id": "1Rb0ZXOC2fpB"
   },
   "outputs": [],
   "source": []
  },
  {
   "cell_type": "code",
   "execution_count": 0,
   "metadata": {
    "colab": {},
    "colab_type": "code",
    "id": "ruWLpje82fpD"
   },
   "outputs": [],
   "source": []
  },
  {
   "cell_type": "code",
   "execution_count": 0,
   "metadata": {
    "colab": {},
    "colab_type": "code",
    "id": "VogsMNkV2fpI"
   },
   "outputs": [],
   "source": []
  }
 ],
 "metadata": {
  "accelerator": "GPU",
  "colab": {
   "collapsed_sections": [
    "6tWmDZ582fov"
   ],
   "name": "XGBoost Regressor for Property Prediction.ipynb",
   "provenance": []
  },
  "kernelspec": {
   "display_name": "Python 3",
   "language": "python",
   "name": "python3"
  },
  "language_info": {
   "codemirror_mode": {
    "name": "ipython",
    "version": 3
   },
   "file_extension": ".py",
   "mimetype": "text/x-python",
   "name": "python",
   "nbconvert_exporter": "python",
   "pygments_lexer": "ipython3",
   "version": "3.7.3"
  }
 },
 "nbformat": 4,
 "nbformat_minor": 1
}
