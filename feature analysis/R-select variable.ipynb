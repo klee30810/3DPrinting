{
 "cells": [
  {
   "cell_type": "markdown",
   "metadata": {},
   "source": [
    "# Select variable with R"
   ]
  },
  {
   "cell_type": "markdown",
   "metadata": {},
   "source": [
    "https://datascienceschool.net/view-notebook/bfe4438b46674c68a5ba6598147a5527/"
   ]
  },
  {
   "cell_type": "code",
   "execution_count": 1,
   "metadata": {},
   "outputs": [
    {
     "data": {
      "text/html": [
       "<table>\n",
       "<caption>A data.frame: 6 × 12</caption>\n",
       "<thead>\n",
       "\t<tr><th scope=col>layer_height</th><th scope=col>wall_thickness</th><th scope=col>infill_density</th><th scope=col>infill_pattern</th><th scope=col>nozzle_temperature</th><th scope=col>bed_temperature</th><th scope=col>print_speed</th><th scope=col>material</th><th scope=col>fan_speed</th><th scope=col>roughness</th><th scope=col>tension_strenght</th><th scope=col>elongation</th></tr>\n",
       "\t<tr><th scope=col>&lt;dbl&gt;</th><th scope=col>&lt;int&gt;</th><th scope=col>&lt;int&gt;</th><th scope=col>&lt;fct&gt;</th><th scope=col>&lt;int&gt;</th><th scope=col>&lt;int&gt;</th><th scope=col>&lt;int&gt;</th><th scope=col>&lt;fct&gt;</th><th scope=col>&lt;int&gt;</th><th scope=col>&lt;int&gt;</th><th scope=col>&lt;int&gt;</th><th scope=col>&lt;dbl&gt;</th></tr>\n",
       "</thead>\n",
       "<tbody>\n",
       "\t<tr><td>0.02</td><td> 8</td><td>90</td><td>grid     </td><td>220</td><td>60</td><td>40</td><td>abs</td><td>  0</td><td>25</td><td>18</td><td>1.2</td></tr>\n",
       "\t<tr><td>0.02</td><td> 7</td><td>90</td><td>honeycomb</td><td>225</td><td>65</td><td>40</td><td>abs</td><td> 25</td><td>32</td><td>16</td><td>1.4</td></tr>\n",
       "\t<tr><td>0.02</td><td> 1</td><td>80</td><td>grid     </td><td>230</td><td>70</td><td>40</td><td>abs</td><td> 50</td><td>40</td><td> 8</td><td>0.8</td></tr>\n",
       "\t<tr><td>0.02</td><td> 4</td><td>70</td><td>honeycomb</td><td>240</td><td>75</td><td>40</td><td>abs</td><td> 75</td><td>68</td><td>10</td><td>0.5</td></tr>\n",
       "\t<tr><td>0.02</td><td> 6</td><td>90</td><td>grid     </td><td>250</td><td>80</td><td>40</td><td>abs</td><td>100</td><td>92</td><td> 5</td><td>0.7</td></tr>\n",
       "\t<tr><td>0.02</td><td>10</td><td>40</td><td>honeycomb</td><td>200</td><td>60</td><td>40</td><td>pla</td><td>  0</td><td>60</td><td>24</td><td>1.1</td></tr>\n",
       "</tbody>\n",
       "</table>\n"
      ],
      "text/latex": [
       "A data.frame: 6 × 12\n",
       "\\begin{tabular}{r|llllllllllll}\n",
       " layer\\_height & wall\\_thickness & infill\\_density & infill\\_pattern & nozzle\\_temperature & bed\\_temperature & print\\_speed & material & fan\\_speed & roughness & tension\\_strenght & elongation\\\\\n",
       " <dbl> & <int> & <int> & <fct> & <int> & <int> & <int> & <fct> & <int> & <int> & <int> & <dbl>\\\\\n",
       "\\hline\n",
       "\t 0.02 &  8 & 90 & grid      & 220 & 60 & 40 & abs &   0 & 25 & 18 & 1.2\\\\\n",
       "\t 0.02 &  7 & 90 & honeycomb & 225 & 65 & 40 & abs &  25 & 32 & 16 & 1.4\\\\\n",
       "\t 0.02 &  1 & 80 & grid      & 230 & 70 & 40 & abs &  50 & 40 &  8 & 0.8\\\\\n",
       "\t 0.02 &  4 & 70 & honeycomb & 240 & 75 & 40 & abs &  75 & 68 & 10 & 0.5\\\\\n",
       "\t 0.02 &  6 & 90 & grid      & 250 & 80 & 40 & abs & 100 & 92 &  5 & 0.7\\\\\n",
       "\t 0.02 & 10 & 40 & honeycomb & 200 & 60 & 40 & pla &   0 & 60 & 24 & 1.1\\\\\n",
       "\\end{tabular}\n"
      ],
      "text/markdown": [
       "\n",
       "A data.frame: 6 × 12\n",
       "\n",
       "| layer_height &lt;dbl&gt; | wall_thickness &lt;int&gt; | infill_density &lt;int&gt; | infill_pattern &lt;fct&gt; | nozzle_temperature &lt;int&gt; | bed_temperature &lt;int&gt; | print_speed &lt;int&gt; | material &lt;fct&gt; | fan_speed &lt;int&gt; | roughness &lt;int&gt; | tension_strenght &lt;int&gt; | elongation &lt;dbl&gt; |\n",
       "|---|---|---|---|---|---|---|---|---|---|---|---|\n",
       "| 0.02 |  8 | 90 | grid      | 220 | 60 | 40 | abs |   0 | 25 | 18 | 1.2 |\n",
       "| 0.02 |  7 | 90 | honeycomb | 225 | 65 | 40 | abs |  25 | 32 | 16 | 1.4 |\n",
       "| 0.02 |  1 | 80 | grid      | 230 | 70 | 40 | abs |  50 | 40 |  8 | 0.8 |\n",
       "| 0.02 |  4 | 70 | honeycomb | 240 | 75 | 40 | abs |  75 | 68 | 10 | 0.5 |\n",
       "| 0.02 |  6 | 90 | grid      | 250 | 80 | 40 | abs | 100 | 92 |  5 | 0.7 |\n",
       "| 0.02 | 10 | 40 | honeycomb | 200 | 60 | 40 | pla |   0 | 60 | 24 | 1.1 |\n",
       "\n"
      ],
      "text/plain": [
       "  layer_height wall_thickness infill_density infill_pattern nozzle_temperature\n",
       "1 0.02          8             90             grid           220               \n",
       "2 0.02          7             90             honeycomb      225               \n",
       "3 0.02          1             80             grid           230               \n",
       "4 0.02          4             70             honeycomb      240               \n",
       "5 0.02          6             90             grid           250               \n",
       "6 0.02         10             40             honeycomb      200               \n",
       "  bed_temperature print_speed material fan_speed roughness tension_strenght\n",
       "1 60              40          abs        0       25        18              \n",
       "2 65              40          abs       25       32        16              \n",
       "3 70              40          abs       50       40         8              \n",
       "4 75              40          abs       75       68        10              \n",
       "5 80              40          abs      100       92         5              \n",
       "6 60              40          pla        0       60        24              \n",
       "  elongation\n",
       "1 1.2       \n",
       "2 1.4       \n",
       "3 0.8       \n",
       "4 0.5       \n",
       "5 0.7       \n",
       "6 1.1       "
      ]
     },
     "metadata": {},
     "output_type": "display_data"
    }
   ],
   "source": [
    "df <- read.csv(\"data.csv\")\n",
    "head(df)"
   ]
  },
  {
   "cell_type": "code",
   "execution_count": 3,
   "metadata": {},
   "outputs": [
    {
     "data": {
      "text/plain": [
       "  layer_height   wall_thickness  infill_density   infill_pattern\n",
       " Min.   :0.020   Min.   : 1.00   Min.   :10.0   grid     :25    \n",
       " 1st Qu.:0.060   1st Qu.: 3.00   1st Qu.:40.0   honeycomb:25    \n",
       " Median :0.100   Median : 5.00   Median :50.0                   \n",
       " Mean   :0.106   Mean   : 5.22   Mean   :53.4                   \n",
       " 3rd Qu.:0.150   3rd Qu.: 7.00   3rd Qu.:80.0                   \n",
       " Max.   :0.200   Max.   :10.00   Max.   :90.0                   \n",
       " nozzle_temperature bed_temperature  print_speed  material   fan_speed  \n",
       " Min.   :200.0      Min.   :60      Min.   : 40   abs:25   Min.   :  0  \n",
       " 1st Qu.:210.0      1st Qu.:65      1st Qu.: 40   pla:25   1st Qu.: 25  \n",
       " Median :220.0      Median :70      Median : 60            Median : 50  \n",
       " Mean   :221.5      Mean   :70      Mean   : 64            Mean   : 50  \n",
       " 3rd Qu.:230.0      3rd Qu.:75      3rd Qu.: 60            3rd Qu.: 75  \n",
       " Max.   :250.0      Max.   :80      Max.   :120            Max.   :100  \n",
       "   roughness     tension_strenght   elongation   \n",
       " Min.   : 21.0   Min.   : 4.00    Min.   :0.400  \n",
       " 1st Qu.: 92.0   1st Qu.:12.00    1st Qu.:1.100  \n",
       " Median :165.5   Median :19.00    Median :1.550  \n",
       " Mean   :170.6   Mean   :20.08    Mean   :1.672  \n",
       " 3rd Qu.:239.2   3rd Qu.:27.00    3rd Qu.:2.175  \n",
       " Max.   :368.0   Max.   :37.00    Max.   :3.300  "
      ]
     },
     "metadata": {},
     "output_type": "display_data"
    }
   ],
   "source": [
    "summary(df)"
   ]
  },
  {
   "cell_type": "code",
   "execution_count": 4,
   "metadata": {},
   "outputs": [
    {
     "data": {
      "text/plain": [
       "\n",
       "Call:\n",
       "lm(formula = elongation ~ layer_height + wall_thickness + infill_density + \n",
       "    infill_pattern + nozzle_temperature + bed_temperature + print_speed + \n",
       "    material + fan_speed, data = df)\n",
       "\n",
       "Coefficients:\n",
       "            (Intercept)             layer_height           wall_thickness  \n",
       "              18.435640                 6.382037                 0.030827  \n",
       "         infill_density  infill_patternhoneycomb       nozzle_temperature  \n",
       "               0.009890                -0.062282                -0.109642  \n",
       "        bed_temperature              print_speed              materialpla  \n",
       "               0.104223                -0.003375                -1.783730  \n",
       "              fan_speed  \n",
       "                     NA  \n"
      ]
     },
     "metadata": {},
     "output_type": "display_data"
    }
   ],
   "source": [
    "res <- lm(data = df, elongation ~ layer_height + wall_thickness + infill_density + infill_pattern + nozzle_temperature +  bed_temperature + print_speed + material + fan_speed )\n",
    "res"
   ]
  },
  {
   "cell_type": "code",
   "execution_count": 8,
   "metadata": {},
   "outputs": [
    {
     "data": {
      "text/html": [
       "<dl class=dl-horizontal>\n",
       "\t<dt>(Intercept)</dt>\n",
       "\t\t<dd>18.4356402178164</dd>\n",
       "\t<dt>layer_height</dt>\n",
       "\t\t<dd>6.38203658094887</dd>\n",
       "\t<dt>wall_thickness</dt>\n",
       "\t\t<dd>0.0308271633354059</dd>\n",
       "\t<dt>infill_density</dt>\n",
       "\t\t<dd>0.00989041339248014</dd>\n",
       "\t<dt>infill_patternhoneycomb</dt>\n",
       "\t\t<dd>-0.0622818061673565</dd>\n",
       "\t<dt>nozzle_temperature</dt>\n",
       "\t\t<dd>-0.109642480183055</dd>\n",
       "\t<dt>bed_temperature</dt>\n",
       "\t\t<dd>0.104223026188844</dd>\n",
       "\t<dt>print_speed</dt>\n",
       "\t\t<dd>-0.00337497943941831</dd>\n",
       "\t<dt>materialpla</dt>\n",
       "\t\t<dd>-1.78372969726414</dd>\n",
       "\t<dt>fan_speed</dt>\n",
       "\t\t<dd>&lt;NA&gt;</dd>\n",
       "</dl>\n"
      ],
      "text/latex": [
       "\\begin{description*}\n",
       "\\item[(Intercept)] 18.4356402178164\n",
       "\\item[layer\\textbackslash{}\\_height] 6.38203658094887\n",
       "\\item[wall\\textbackslash{}\\_thickness] 0.0308271633354059\n",
       "\\item[infill\\textbackslash{}\\_density] 0.00989041339248014\n",
       "\\item[infill\\textbackslash{}\\_patternhoneycomb] -0.0622818061673565\n",
       "\\item[nozzle\\textbackslash{}\\_temperature] -0.109642480183055\n",
       "\\item[bed\\textbackslash{}\\_temperature] 0.104223026188844\n",
       "\\item[print\\textbackslash{}\\_speed] -0.00337497943941831\n",
       "\\item[materialpla] -1.78372969726414\n",
       "\\item[fan\\textbackslash{}\\_speed] <NA>\n",
       "\\end{description*}\n"
      ],
      "text/markdown": [
       "(Intercept)\n",
       ":   18.4356402178164layer_height\n",
       ":   6.38203658094887wall_thickness\n",
       ":   0.0308271633354059infill_density\n",
       ":   0.00989041339248014infill_patternhoneycomb\n",
       ":   -0.0622818061673565nozzle_temperature\n",
       ":   -0.109642480183055bed_temperature\n",
       ":   0.104223026188844print_speed\n",
       ":   -0.00337497943941831materialpla\n",
       ":   -1.78372969726414fan_speed\n",
       ":   &lt;NA&gt;\n",
       "\n"
      ],
      "text/plain": [
       "            (Intercept)            layer_height          wall_thickness \n",
       "           18.435640218             6.382036581             0.030827163 \n",
       "         infill_density infill_patternhoneycomb      nozzle_temperature \n",
       "            0.009890413            -0.062281806            -0.109642480 \n",
       "        bed_temperature             print_speed             materialpla \n",
       "            0.104223026            -0.003374979            -1.783729697 \n",
       "              fan_speed \n",
       "                     NA "
      ]
     },
     "metadata": {},
     "output_type": "display_data"
    },
    {
     "data": {
      "text/html": [
       "<table>\n",
       "<caption>A matrix: 10 × 2 of type dbl</caption>\n",
       "<thead>\n",
       "\t<tr><th></th><th scope=col>2.5 %</th><th scope=col>97.5 %</th></tr>\n",
       "</thead>\n",
       "<tbody>\n",
       "\t<tr><th scope=row>(Intercept)</th><td> 9.414752489</td><td>27.456527946</td></tr>\n",
       "\t<tr><th scope=row>layer_height</th><td> 4.254386093</td><td> 8.509687069</td></tr>\n",
       "\t<tr><th scope=row>wall_thickness</th><td>-0.022319388</td><td> 0.083973714</td></tr>\n",
       "\t<tr><th scope=row>infill_density</th><td> 0.004208927</td><td> 0.015571900</td></tr>\n",
       "\t<tr><th scope=row>infill_patternhoneycomb</th><td>-0.336116047</td><td> 0.211552435</td></tr>\n",
       "\t<tr><th scope=row>nozzle_temperature</th><td>-0.171038527</td><td>-0.048246433</td></tr>\n",
       "\t<tr><th scope=row>bed_temperature</th><td> 0.025313996</td><td> 0.183132057</td></tr>\n",
       "\t<tr><th scope=row>print_speed</th><td>-0.008376622</td><td> 0.001626663</td></tr>\n",
       "\t<tr><th scope=row>materialpla</th><td>-3.200526693</td><td>-0.366932701</td></tr>\n",
       "\t<tr><th scope=row>fan_speed</th><td>          NA</td><td>          NA</td></tr>\n",
       "</tbody>\n",
       "</table>\n"
      ],
      "text/latex": [
       "A matrix: 10 × 2 of type dbl\n",
       "\\begin{tabular}{r|ll}\n",
       "  & 2.5 \\% & 97.5 \\%\\\\\n",
       "\\hline\n",
       "\t(Intercept) &  9.414752489 & 27.456527946\\\\\n",
       "\tlayer\\_height &  4.254386093 &  8.509687069\\\\\n",
       "\twall\\_thickness & -0.022319388 &  0.083973714\\\\\n",
       "\tinfill\\_density &  0.004208927 &  0.015571900\\\\\n",
       "\tinfill\\_patternhoneycomb & -0.336116047 &  0.211552435\\\\\n",
       "\tnozzle\\_temperature & -0.171038527 & -0.048246433\\\\\n",
       "\tbed\\_temperature &  0.025313996 &  0.183132057\\\\\n",
       "\tprint\\_speed & -0.008376622 &  0.001626663\\\\\n",
       "\tmaterialpla & -3.200526693 & -0.366932701\\\\\n",
       "\tfan\\_speed &           NA &           NA\\\\\n",
       "\\end{tabular}\n"
      ],
      "text/markdown": [
       "\n",
       "A matrix: 10 × 2 of type dbl\n",
       "\n",
       "| <!--/--> | 2.5 % | 97.5 % |\n",
       "|---|---|---|\n",
       "| (Intercept) |  9.414752489 | 27.456527946 |\n",
       "| layer_height |  4.254386093 |  8.509687069 |\n",
       "| wall_thickness | -0.022319388 |  0.083973714 |\n",
       "| infill_density |  0.004208927 |  0.015571900 |\n",
       "| infill_patternhoneycomb | -0.336116047 |  0.211552435 |\n",
       "| nozzle_temperature | -0.171038527 | -0.048246433 |\n",
       "| bed_temperature |  0.025313996 |  0.183132057 |\n",
       "| print_speed | -0.008376622 |  0.001626663 |\n",
       "| materialpla | -3.200526693 | -0.366932701 |\n",
       "| fan_speed |           NA |           NA |\n",
       "\n"
      ],
      "text/plain": [
       "                        2.5 %        97.5 %      \n",
       "(Intercept)              9.414752489 27.456527946\n",
       "layer_height             4.254386093  8.509687069\n",
       "wall_thickness          -0.022319388  0.083973714\n",
       "infill_density           0.004208927  0.015571900\n",
       "infill_patternhoneycomb -0.336116047  0.211552435\n",
       "nozzle_temperature      -0.171038527 -0.048246433\n",
       "bed_temperature          0.025313996  0.183132057\n",
       "print_speed             -0.008376622  0.001626663\n",
       "materialpla             -3.200526693 -0.366932701\n",
       "fan_speed                         NA           NA"
      ]
     },
     "metadata": {},
     "output_type": "display_data"
    }
   ],
   "source": [
    "res$coef #계수\n",
    "confint(res) #신뢰구간"
   ]
  },
  {
   "cell_type": "code",
   "execution_count": 7,
   "metadata": {},
   "outputs": [
    {
     "name": "stdout",
     "output_type": "stream",
     "text": [
      "package 'car' successfully unpacked and MD5 sums checked\n",
      "\n",
      "The downloaded binary packages are in\n",
      "\tC:\\Users\\kmlee\\AppData\\Local\\Temp\\RtmpcPdYYk\\downloaded_packages\n"
     ]
    },
    {
     "name": "stderr",
     "output_type": "stream",
     "text": [
      "Loading required package: carData\n",
      "\n"
     ]
    }
   ],
   "source": [
    "install.packages('car')\n",
    "library('car')"
   ]
  },
  {
   "cell_type": "code",
   "execution_count": 9,
   "metadata": {},
   "outputs": [
    {
     "data": {
      "text/plain": [
       "\n",
       "Call:\n",
       "lm(formula = elongation ~ layer_height + wall_thickness + infill_density + \n",
       "    infill_pattern + nozzle_temperature + bed_temperature + print_speed + \n",
       "    material + fan_speed, data = df)\n",
       "\n",
       "Residuals:\n",
       "     Min       1Q   Median       3Q      Max \n",
       "-0.99066 -0.37634  0.03137  0.26680  0.86971 \n",
       "\n",
       "Coefficients: (1 not defined because of singularities)\n",
       "                         Estimate Std. Error t value Pr(>|t|)    \n",
       "(Intercept)             18.435640   4.466801   4.127 0.000175 ***\n",
       "layer_height             6.382037   1.053532   6.058 3.58e-07 ***\n",
       "wall_thickness           0.030827   0.026316   1.171 0.248194    \n",
       "infill_density           0.009890   0.002813   3.516 0.001086 ** \n",
       "infill_patternhoneycomb -0.062282   0.135592  -0.459 0.648422    \n",
       "nozzle_temperature      -0.109642   0.030401  -3.607 0.000834 ***\n",
       "bed_temperature          0.104223   0.039073   2.667 0.010894 *  \n",
       "print_speed             -0.003375   0.002477  -1.363 0.180405    \n",
       "materialpla             -1.783730   0.701544  -2.543 0.014876 *  \n",
       "fan_speed                      NA         NA      NA       NA    \n",
       "---\n",
       "Signif. codes:  0 '***' 0.001 '**' 0.01 '*' 0.05 '.' 0.1 ' ' 1\n",
       "\n",
       "Residual standard error: 0.4597 on 41 degrees of freedom\n",
       "Multiple R-squared:  0.7154,\tAdjusted R-squared:  0.6598 \n",
       "F-statistic: 12.88 on 8 and 41 DF,  p-value: 4.765e-09\n"
      ]
     },
     "metadata": {},
     "output_type": "display_data"
    }
   ],
   "source": [
    "summary(res)"
   ]
  },
  {
   "cell_type": "code",
   "execution_count": 6,
   "metadata": {},
   "outputs": [
    {
     "data": {
      "text/plain": [
       "\n",
       "Call:\n",
       "lm(formula = elongation ~ layer_height + wall_thickness + infill_density + \n",
       "    infill_pattern + nozzle_temperature + bed_temperature + print_speed + \n",
       "    material, data = df)\n",
       "\n",
       "Residuals:\n",
       "     Min       1Q   Median       3Q      Max \n",
       "-0.99066 -0.37634  0.03137  0.26680  0.86971 \n",
       "\n",
       "Coefficients:\n",
       "                         Estimate Std. Error t value Pr(>|t|)    \n",
       "(Intercept)             18.435640   4.466801   4.127 0.000175 ***\n",
       "layer_height             6.382037   1.053532   6.058 3.58e-07 ***\n",
       "wall_thickness           0.030827   0.026316   1.171 0.248194    \n",
       "infill_density           0.009890   0.002813   3.516 0.001086 ** \n",
       "infill_patternhoneycomb -0.062282   0.135592  -0.459 0.648422    \n",
       "nozzle_temperature      -0.109642   0.030401  -3.607 0.000834 ***\n",
       "bed_temperature          0.104223   0.039073   2.667 0.010894 *  \n",
       "print_speed             -0.003375   0.002477  -1.363 0.180405    \n",
       "materialpla             -1.783730   0.701544  -2.543 0.014876 *  \n",
       "---\n",
       "Signif. codes:  0 '***' 0.001 '**' 0.01 '*' 0.05 '.' 0.1 ' ' 1\n",
       "\n",
       "Residual standard error: 0.4597 on 41 degrees of freedom\n",
       "Multiple R-squared:  0.7154,\tAdjusted R-squared:  0.6598 \n",
       "F-statistic: 12.88 on 8 and 41 DF,  p-value: 4.765e-09\n"
      ]
     },
     "metadata": {},
     "output_type": "display_data"
    },
    {
     "ename": "ERROR",
     "evalue": "Error in vif(result): 함수 \"vif\"를 찾을 수 없습니다\n",
     "output_type": "error",
     "traceback": [
      "Error in vif(result): 함수 \"vif\"를 찾을 수 없습니다\nTraceback:\n"
     ]
    },
    {
     "data": {
      "text/plain": [
       "\n",
       "Call:\n",
       "lm(formula = elongation ~ layer_height + wall_thickness + infill_density + \n",
       "    infill_pattern + nozzle_temperature + bed_temperature + print_speed + \n",
       "    material, data = df)\n",
       "\n",
       "Residuals:\n",
       "     Min       1Q   Median       3Q      Max \n",
       "-0.99066 -0.37634  0.03137  0.26680  0.86971 \n",
       "\n",
       "Coefficients:\n",
       "                         Estimate Std. Error t value Pr(>|t|)    \n",
       "(Intercept)             18.435640   4.466801   4.127 0.000175 ***\n",
       "layer_height             6.382037   1.053532   6.058 3.58e-07 ***\n",
       "wall_thickness           0.030827   0.026316   1.171 0.248194    \n",
       "infill_density           0.009890   0.002813   3.516 0.001086 ** \n",
       "infill_patternhoneycomb -0.062282   0.135592  -0.459 0.648422    \n",
       "nozzle_temperature      -0.109642   0.030401  -3.607 0.000834 ***\n",
       "bed_temperature          0.104223   0.039073   2.667 0.010894 *  \n",
       "print_speed             -0.003375   0.002477  -1.363 0.180405    \n",
       "materialpla             -1.783730   0.701544  -2.543 0.014876 *  \n",
       "---\n",
       "Signif. codes:  0 '***' 0.001 '**' 0.01 '*' 0.05 '.' 0.1 ' ' 1\n",
       "\n",
       "Residual standard error: 0.4597 on 41 degrees of freedom\n",
       "Multiple R-squared:  0.7154,\tAdjusted R-squared:  0.6598 \n",
       "F-statistic: 12.88 on 8 and 41 DF,  p-value: 4.765e-09\n"
      ]
     },
     "metadata": {},
     "output_type": "display_data"
    }
   ],
   "source": [
    "result <-lm(elongation ~ layer_height + wall_thickness + infill_density + \n",
    "    infill_pattern + nozzle_temperature + bed_temperature + print_speed  + material , data=df)\n",
    "\n",
    "summary(result); vif(result)"
   ]
  },
  {
   "cell_type": "code",
   "execution_count": 12,
   "metadata": {},
   "outputs": [
    {
     "name": "stdout",
     "output_type": "stream",
     "text": [
      "Start:  AIC=-69.64\n",
      "elongation ~ layer_height + wall_thickness + infill_density + \n",
      "    infill_pattern + nozzle_temperature + bed_temperature + print_speed + \n",
      "    material\n",
      "\n",
      "                     Df Sum of Sq     RSS     AIC\n",
      "- infill_pattern      1    0.0446  8.7088 -71.384\n",
      "- wall_thickness      1    0.2900  8.9542 -69.995\n",
      "<none>                             8.6643 -69.641\n",
      "- print_speed         1    0.3924  9.0567 -69.426\n",
      "- material            1    1.3661 10.0304 -64.320\n",
      "- bed_temperature     1    1.5036 10.1678 -63.640\n",
      "- infill_density      1    2.6119 11.2762 -58.467\n",
      "- nozzle_temperature  1    2.7487 11.4130 -57.864\n",
      "- layer_height        1    7.7548 16.4191 -39.679\n",
      "\n",
      "Step:  AIC=-71.38\n",
      "elongation ~ layer_height + wall_thickness + infill_density + \n",
      "    nozzle_temperature + bed_temperature + print_speed + material\n",
      "\n",
      "                     Df Sum of Sq     RSS     AIC\n",
      "- wall_thickness      1    0.2624  8.9713 -71.900\n",
      "<none>                             8.7088 -71.384\n",
      "- print_speed         1    0.4092  9.1180 -71.089\n",
      "+ infill_pattern      1    0.0446  8.6643 -69.641\n",
      "- material            1    1.3548 10.0636 -66.155\n",
      "- bed_temperature     1    1.4804 10.1893 -65.534\n",
      "- nozzle_temperature  1    2.7193 11.4281 -59.797\n",
      "- infill_density      1    2.7397 11.4485 -59.708\n",
      "- layer_height        1    7.7218 16.4306 -41.644\n",
      "\n",
      "Step:  AIC=-71.9\n",
      "elongation ~ layer_height + infill_density + nozzle_temperature + \n",
      "    bed_temperature + print_speed + material\n",
      "\n",
      "                     Df Sum of Sq     RSS     AIC\n",
      "<none>                             8.9713 -71.900\n",
      "+ wall_thickness      1    0.2624  8.7088 -71.384\n",
      "+ infill_pattern      1    0.0170  8.9542 -69.995\n",
      "- print_speed         1    0.9175  9.8887 -69.031\n",
      "- material            1    1.4352 10.4065 -66.480\n",
      "- bed_temperature     1    1.5981 10.5694 -65.703\n",
      "- nozzle_temperature  1    2.9072 11.8785 -59.865\n",
      "- infill_density      1    3.0158 11.9871 -59.410\n",
      "- layer_height        1    7.4871 16.4584 -43.559\n"
     ]
    },
    {
     "data": {
      "text/plain": [
       "\n",
       "Call:\n",
       "lm(formula = elongation ~ layer_height + infill_density + nozzle_temperature + \n",
       "    bed_temperature + print_speed + material, data = df)\n",
       "\n",
       "Residuals:\n",
       "     Min       1Q   Median       3Q      Max \n",
       "-1.12952 -0.32192  0.05021  0.30777  0.83809 \n",
       "\n",
       "Coefficients:\n",
       "                    Estimate Std. Error t value Pr(>|t|)    \n",
       "(Intercept)        19.023103   4.384019   4.339 8.51e-05 ***\n",
       "layer_height        6.079479   1.014849   5.991 3.77e-07 ***\n",
       "infill_density      0.010456   0.002750   3.802 0.000448 ***\n",
       "nozzle_temperature -0.112096   0.030029  -3.733 0.000551 ***\n",
       "bed_temperature     0.106920   0.038632   2.768 0.008295 ** \n",
       "print_speed        -0.004639   0.002212  -2.097 0.041909 *  \n",
       "materialpla        -1.824195   0.695511  -2.623 0.012016 *  \n",
       "---\n",
       "Signif. codes:  0 '***' 0.001 '**' 0.01 '*' 0.05 '.' 0.1 ' ' 1\n",
       "\n",
       "Residual standard error: 0.4568 on 43 degrees of freedom\n",
       "Multiple R-squared:  0.7053,\tAdjusted R-squared:  0.6642 \n",
       "F-statistic: 17.15 on 6 and 43 DF,  p-value: 5.335e-10\n"
      ]
     },
     "metadata": {},
     "output_type": "display_data"
    }
   ],
   "source": [
    "out<-step(result,direction=\"both\")\n",
    "summary(out)"
   ]
  },
  {
   "cell_type": "code",
   "execution_count": 5,
   "metadata": {},
   "outputs": [
    {
     "data": {
      "text/plain": [
       "\n",
       "Call:\n",
       "lm(formula = elongation ~ layer_height + infill_density + nozzle_temperature, \n",
       "    data = df)\n",
       "\n",
       "Residuals:\n",
       "     Min       1Q   Median       3Q      Max \n",
       "-0.88773 -0.38066  0.01919  0.42761  0.86313 \n",
       "\n",
       "Coefficients:\n",
       "                    Estimate Std. Error t value Pr(>|t|)    \n",
       "(Intercept)         7.573786   1.083720   6.989 9.48e-09 ***\n",
       "layer_height        6.199744   1.111254   5.579 1.23e-06 ***\n",
       "infill_density      0.009328   0.002905   3.211  0.00242 ** \n",
       "nozzle_temperature -0.031860   0.004972  -6.408 7.07e-08 ***\n",
       "---\n",
       "Signif. codes:  0 '***' 0.001 '**' 0.01 '*' 0.05 '.' 0.1 ' ' 1\n",
       "\n",
       "Residual standard error: 0.5009 on 46 degrees of freedom\n",
       "Multiple R-squared:  0.6208,\tAdjusted R-squared:  0.5961 \n",
       "F-statistic:  25.1 on 3 and 46 DF,  p-value: 9.03e-10\n"
      ]
     },
     "metadata": {},
     "output_type": "display_data"
    },
    {
     "ename": "ERROR",
     "evalue": "Error in vif(result): 함수 \"vif\"를 찾을 수 없습니다\n",
     "output_type": "error",
     "traceback": [
      "Error in vif(result): 함수 \"vif\"를 찾을 수 없습니다\nTraceback:\n"
     ]
    }
   ],
   "source": [
    "final_result <-lm(elongation ~ layer_height +  infill_density +  nozzle_temperature, data=df)\n",
    "summary(final_result);\n",
    "vif(result)"
   ]
  },
  {
   "cell_type": "code",
   "execution_count": null,
   "metadata": {},
   "outputs": [],
   "source": []
  },
  {
   "cell_type": "code",
   "execution_count": null,
   "metadata": {},
   "outputs": [],
   "source": []
  },
  {
   "cell_type": "code",
   "execution_count": null,
   "metadata": {},
   "outputs": [],
   "source": []
  },
  {
   "cell_type": "code",
   "execution_count": null,
   "metadata": {},
   "outputs": [],
   "source": []
  },
  {
   "cell_type": "code",
   "execution_count": null,
   "metadata": {},
   "outputs": [],
   "source": []
  },
  {
   "cell_type": "code",
   "execution_count": null,
   "metadata": {},
   "outputs": [],
   "source": []
  },
  {
   "cell_type": "code",
   "execution_count": null,
   "metadata": {},
   "outputs": [],
   "source": []
  },
  {
   "cell_type": "code",
   "execution_count": null,
   "metadata": {},
   "outputs": [],
   "source": []
  },
  {
   "cell_type": "code",
   "execution_count": null,
   "metadata": {},
   "outputs": [],
   "source": []
  }
 ],
 "metadata": {
  "kernelspec": {
   "display_name": "R",
   "language": "R",
   "name": "ir"
  },
  "language_info": {
   "codemirror_mode": "r",
   "file_extension": ".r",
   "mimetype": "text/x-r-source",
   "name": "R",
   "pygments_lexer": "r",
   "version": "3.6.1"
  }
 },
 "nbformat": 4,
 "nbformat_minor": 2
}
